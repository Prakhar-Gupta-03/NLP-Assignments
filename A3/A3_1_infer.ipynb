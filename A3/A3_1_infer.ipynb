{
 "cells": [
  {
   "cell_type": "markdown",
   "metadata": {},
   "source": [
    "#### Loading libraries"
   ]
  },
  {
   "cell_type": "code",
   "execution_count": null,
   "metadata": {},
   "outputs": [],
   "source": [
    "! pip install torch\n",
    "! pip install transformers\n",
    "! pip install tqdm\n",
    "! pip install pandas\n",
    "! pip install torchmetrics\n",
    "! pip install -U sentence-transformers"
   ]
  },
  {
   "cell_type": "code",
   "execution_count": 4,
   "metadata": {},
   "outputs": [
    {
     "name": "stderr",
     "output_type": "stream",
     "text": [
      "c:\\Users\\saras\\miniconda3\\envs\\nlp\\Lib\\site-packages\\tqdm\\auto.py:21: TqdmWarning: IProgress not found. Please update jupyter and ipywidgets. See https://ipywidgets.readthedocs.io/en/stable/user_install.html\n",
      "  from .autonotebook import tqdm as notebook_tqdm\n"
     ]
    }
   ],
   "source": [
    "import torch\n",
    "from transformers import BertTokenizer, BertForSequenceClassification\n",
    "from tqdm import tqdm, trange\n",
    "import pandas as pd\n",
    "from torchmetrics.regression import PearsonCorrCoef\n",
    "from sentence_transformers import SentenceTransformer, util, InputExample, losses, models, evaluation\n",
    "from transformers import T5ForConditionalGeneration, T5Tokenizer, Trainer, TrainingArguments\n"
   ]
  },
  {
   "cell_type": "code",
   "execution_count": 5,
   "metadata": {},
   "outputs": [],
   "source": [
    "def load_data(file_path):\n",
    "    data = pd.read_table(file_path)\n",
    "    # check if any missing values\n",
    "    print(data.isnull().sum())\n",
    "    key = data.keys()\n",
    "    # some values were missing in sentence2 column, so did the below (sentence1 didnt split properly)\n",
    "    # iterate through the rows in dataframe which have missing values\n",
    "    for index, row in data[data.isnull().any(axis=1)].iterrows():\n",
    "        if pd.isnull(row[key[2]]):\n",
    "            if(len(row[key[1]].split('\\t')) > 2 or len(row[key[1]].split('\\t')) < 2):\n",
    "                data.drop(index, inplace=True)\n",
    "                continue\n",
    "            # split the sentence1 into words into 2 parts based on \\t and assign to sentence1 and sentence2\n",
    "            sentence1, sentence2 = row[key[1]].split('\\t')\n",
    "            sentenceid = row[key[0]]\n",
    "            # assign to the row\n",
    "            data.at[index, key[1]] = sentence1\n",
    "            data.at[index, key[2]] = sentence2\n",
    "            data.at[index, key[0]] = sentenceid\n",
    "    return data"
   ]
  },
  {
   "cell_type": "code",
   "execution_count": 6,
   "metadata": {},
   "outputs": [
    {
     "name": "stdout",
     "output_type": "stream",
     "text": [
      "id           0\n",
      "sentence1    0\n",
      "sentence2    0\n",
      "dtype: int64\n"
     ]
    }
   ],
   "source": [
    "test_data = load_data('test.csv')"
   ]
  },
  {
   "cell_type": "markdown",
   "metadata": {},
   "source": [
    "### Defining Device Variable"
   ]
  },
  {
   "cell_type": "code",
   "execution_count": 14,
   "metadata": {},
   "outputs": [
    {
     "name": "stdout",
     "output_type": "stream",
     "text": [
      "Using device: cuda:0\n"
     ]
    }
   ],
   "source": [
    "device = torch.device(\"cuda:0\" if torch.cuda.is_available() else \"cpu\")\n",
    "print(\"Using device:\", device)"
   ]
  },
  {
   "cell_type": "markdown",
   "metadata": {},
   "source": [
    "### Task 1C"
   ]
  },
  {
   "cell_type": "code",
   "execution_count": 81,
   "metadata": {},
   "outputs": [],
   "source": [
    "from sentence_transformers import SentenceTransformer, models\n",
    "# Create the Sentence Transformer model\n",
    "model = SentenceTransformer('distilbert-base-nli-mean-tokens')"
   ]
  },
  {
   "cell_type": "code",
   "execution_count": 82,
   "metadata": {},
   "outputs": [],
   "source": [
    "class ValidationDataset(torch.utils.data.Dataset):\n",
    "    def __init__(self, data):\n",
    "        self.data = data\n",
    "\n",
    "    def __len__(self):\n",
    "        return len(self.data)\n",
    "\n",
    "    def __getitem__(self, idx):\n",
    "        sentence1 = self.data.iloc[idx, 1]\n",
    "        sentence2 = self.data.iloc[idx, 2]\n",
    "        id = torch.tensor(self.data.iloc[idx, 0])\n",
    "        return [sentence1, sentence2], id\n",
    "\n",
    "test_dataset = ValidationDataset(test_data)\n",
    "\n",
    "test_loader = torch.utils.data.DataLoader(test_dataset, batch_size=8, shuffle=False)"
   ]
  },
  {
   "cell_type": "code",
   "execution_count": 83,
   "metadata": {},
   "outputs": [
    {
     "data": {
      "text/plain": [
       "SentenceTransformer(\n",
       "  (0): Transformer({'max_seq_length': 128, 'do_lower_case': False}) with Transformer model: DistilBertModel \n",
       "  (1): Pooling({'word_embedding_dimension': 768, 'pooling_mode_cls_token': False, 'pooling_mode_mean_tokens': True, 'pooling_mode_max_tokens': False, 'pooling_mode_mean_sqrt_len_tokens': False, 'pooling_mode_weightedmean_tokens': False, 'pooling_mode_lasttoken': False, 'include_prompt': True})\n",
       ")"
      ]
     },
     "execution_count": 83,
     "metadata": {},
     "output_type": "execute_result"
    }
   ],
   "source": [
    "model.to(device)"
   ]
  },
  {
   "cell_type": "code",
   "execution_count": 15,
   "metadata": {},
   "outputs": [],
   "source": [
    "scores = []\n",
    "#load checkpoint\n",
    "checkpoint = torch.load('/1C_model.pth')\n",
    "model.load_state_dict(checkpoint)\n",
    "def validation(model, valid_loader):\n",
    "    model.eval()\n",
    "    all_scores = []\n",
    "    with torch.no_grad():\n",
    "        for batch in tqdm(valid_loader):\n",
    "            sentences, targets = batch\n",
    "            for i in range(len(targets)):\n",
    "                sentence1_features = model.encode(sentences[0][i], convert_to_tensor=True).to(device)\n",
    "                sentence2_features = model.encode(sentences[1][i], convert_to_tensor=True).to(device)\n",
    "                score = util.pytorch_cos_sim(sentence1_features, sentence2_features)\n",
    "                all_scores.append(score.item())\n",
    "    return all_scores"
   ]
  },
  {
   "cell_type": "code",
   "execution_count": 80,
   "metadata": {},
   "outputs": [
    {
     "name": "stderr",
     "output_type": "stream",
     "text": [
      "100%|██████████| 1/1 [00:00<00:00,  3.16it/s]"
     ]
    },
    {
     "name": "stdout",
     "output_type": "stream",
     "text": [
      "[0.9926149845123291, 0.7718663811683655, 0.6741741299629211, 0.9912800788879395, 0.7612790465354919, 0.9965555667877197]\n"
     ]
    },
    {
     "name": "stderr",
     "output_type": "stream",
     "text": [
      "\n"
     ]
    }
   ],
   "source": [
    "output1c = validation(model, test_loader)"
   ]
  },
  {
   "cell_type": "code",
   "execution_count": 7,
   "metadata": {},
   "outputs": [],
   "source": [
    "scores = output1c\n",
    "scores = [i * 5 for i in scores]\n",
    "pearson = PearsonCorrCoef()\n",
    "print(torch.tensor(scores))\n",
    "print(torch.tensor([5.000, 4.750, 5.000, 2.400, 2.750, 2.615]))\n",
    "pearson(torch.tensor(scores), torch.tensor([5.000, 4.750, 5.000, 2.400, 2.750, 2.615]))"
   ]
  },
  {
   "cell_type": "code",
   "execution_count": 13,
   "metadata": {},
   "outputs": [],
   "source": [
    "#add scores to test_data\n",
    "test_data['scores'] = scores\n",
    "#make order as id, scores, sentence1, sentence2\n",
    "test_data = test_data[['id', 'scores', 'sentence1', 'sentence2']]\n",
    "test_data.to_csv('test_scores.csv', index=False, sep='\\t')"
   ]
  },
  {
   "cell_type": "markdown",
   "metadata": {},
   "source": [
    "## Task 2A"
   ]
  },
  {
   "cell_type": "markdown",
   "metadata": {},
   "source": [
    "#### Installations"
   ]
  },
  {
   "cell_type": "code",
   "execution_count": 1,
   "metadata": {},
   "outputs": [
    {
     "name": "stdout",
     "output_type": "stream",
     "text": [
      "Requirement already satisfied: nltk in c:\\users\\prakh\\anaconda3\\envs\\visiongpu\\lib\\site-packages (3.8.1)\n",
      "Requirement already satisfied: click in c:\\users\\prakh\\anaconda3\\envs\\visiongpu\\lib\\site-packages (from nltk) (8.1.7)\n",
      "Requirement already satisfied: joblib in c:\\users\\prakh\\anaconda3\\envs\\visiongpu\\lib\\site-packages (from nltk) (1.2.0)\n",
      "Requirement already satisfied: regex>=2021.8.3 in c:\\users\\prakh\\anaconda3\\envs\\visiongpu\\lib\\site-packages (from nltk) (2023.12.25)\n",
      "Requirement already satisfied: tqdm in c:\\users\\prakh\\anaconda3\\envs\\visiongpu\\lib\\site-packages (from nltk) (4.66.2)\n",
      "Requirement already satisfied: colorama in c:\\users\\prakh\\appdata\\roaming\\python\\python311\\site-packages (from click->nltk) (0.4.6)\n"
     ]
    },
    {
     "name": "stderr",
     "output_type": "stream",
     "text": [
      "\n",
      "[notice] A new release of pip is available: 23.3.1 -> 24.0\n",
      "[notice] To update, run: python.exe -m pip install --upgrade pip\n"
     ]
    },
    {
     "name": "stdout",
     "output_type": "stream",
     "text": [
      "Requirement already satisfied: bert_score in c:\\users\\prakh\\anaconda3\\envs\\visiongpu\\lib\\site-packages (0.3.13)\n",
      "Requirement already satisfied: torch>=1.0.0 in c:\\users\\prakh\\anaconda3\\envs\\visiongpu\\lib\\site-packages (from bert_score) (2.2.1)\n",
      "Requirement already satisfied: pandas>=1.0.1 in c:\\users\\prakh\\appdata\\roaming\\python\\python311\\site-packages (from bert_score) (2.1.3)\n",
      "Requirement already satisfied: transformers>=3.0.0 in c:\\users\\prakh\\anaconda3\\envs\\visiongpu\\lib\\site-packages (from bert_score) (4.39.1)\n",
      "Requirement already satisfied: numpy in c:\\users\\prakh\\appdata\\roaming\\python\\python311\\site-packages (from bert_score) (1.26.2)\n",
      "Requirement already satisfied: requests in c:\\users\\prakh\\anaconda3\\envs\\visiongpu\\lib\\site-packages (from bert_score) (2.31.0)\n",
      "Requirement already satisfied: tqdm>=4.31.1 in c:\\users\\prakh\\anaconda3\\envs\\visiongpu\\lib\\site-packages (from bert_score) (4.66.2)\n",
      "Requirement already satisfied: matplotlib in c:\\users\\prakh\\appdata\\roaming\\python\\python311\\site-packages (from bert_score) (3.8.2)\n",
      "Requirement already satisfied: packaging>=20.9 in c:\\users\\prakh\\appdata\\roaming\\python\\python311\\site-packages (from bert_score) (23.2)\n",
      "Requirement already satisfied: python-dateutil>=2.8.2 in c:\\users\\prakh\\appdata\\roaming\\python\\python311\\site-packages (from pandas>=1.0.1->bert_score) (2.8.2)\n",
      "Requirement already satisfied: pytz>=2020.1 in c:\\users\\prakh\\appdata\\roaming\\python\\python311\\site-packages (from pandas>=1.0.1->bert_score) (2023.3.post1)\n",
      "Requirement already satisfied: tzdata>=2022.1 in c:\\users\\prakh\\appdata\\roaming\\python\\python311\\site-packages (from pandas>=1.0.1->bert_score) (2023.3)\n",
      "Requirement already satisfied: filelock in c:\\users\\prakh\\anaconda3\\envs\\visiongpu\\lib\\site-packages (from torch>=1.0.0->bert_score) (3.13.1)\n",
      "Requirement already satisfied: typing-extensions>=4.8.0 in c:\\users\\prakh\\anaconda3\\envs\\visiongpu\\lib\\site-packages (from torch>=1.0.0->bert_score) (4.9.0)\n",
      "Requirement already satisfied: sympy in c:\\users\\prakh\\anaconda3\\envs\\visiongpu\\lib\\site-packages (from torch>=1.0.0->bert_score) (1.12)\n",
      "Requirement already satisfied: networkx in c:\\users\\prakh\\anaconda3\\envs\\visiongpu\\lib\\site-packages (from torch>=1.0.0->bert_score) (3.1)\n",
      "Requirement already satisfied: jinja2 in c:\\users\\prakh\\anaconda3\\envs\\visiongpu\\lib\\site-packages (from torch>=1.0.0->bert_score) (3.1.3)\n",
      "Requirement already satisfied: fsspec in c:\\users\\prakh\\anaconda3\\envs\\visiongpu\\lib\\site-packages (from torch>=1.0.0->bert_score) (2024.2.0)\n",
      "Requirement already satisfied: colorama in c:\\users\\prakh\\appdata\\roaming\\python\\python311\\site-packages (from tqdm>=4.31.1->bert_score) (0.4.6)\n",
      "Requirement already satisfied: huggingface-hub<1.0,>=0.19.3 in c:\\users\\prakh\\anaconda3\\envs\\visiongpu\\lib\\site-packages (from transformers>=3.0.0->bert_score) (0.22.1)\n",
      "Requirement already satisfied: pyyaml>=5.1 in c:\\users\\prakh\\anaconda3\\envs\\visiongpu\\lib\\site-packages (from transformers>=3.0.0->bert_score) (6.0.1)\n",
      "Requirement already satisfied: regex!=2019.12.17 in c:\\users\\prakh\\anaconda3\\envs\\visiongpu\\lib\\site-packages (from transformers>=3.0.0->bert_score) (2023.12.25)\n",
      "Requirement already satisfied: tokenizers<0.19,>=0.14 in c:\\users\\prakh\\anaconda3\\envs\\visiongpu\\lib\\site-packages (from transformers>=3.0.0->bert_score) (0.15.2)\n",
      "Requirement already satisfied: safetensors>=0.4.1 in c:\\users\\prakh\\anaconda3\\envs\\visiongpu\\lib\\site-packages (from transformers>=3.0.0->bert_score) (0.4.2)\n",
      "Requirement already satisfied: contourpy>=1.0.1 in c:\\users\\prakh\\appdata\\roaming\\python\\python311\\site-packages (from matplotlib->bert_score) (1.2.0)\n",
      "Requirement already satisfied: cycler>=0.10 in c:\\users\\prakh\\appdata\\roaming\\python\\python311\\site-packages (from matplotlib->bert_score) (0.12.1)\n",
      "Requirement already satisfied: fonttools>=4.22.0 in c:\\users\\prakh\\appdata\\roaming\\python\\python311\\site-packages (from matplotlib->bert_score) (4.45.1)\n",
      "Requirement already satisfied: kiwisolver>=1.3.1 in c:\\users\\prakh\\appdata\\roaming\\python\\python311\\site-packages (from matplotlib->bert_score) (1.4.5)\n",
      "Requirement already satisfied: pillow>=8 in c:\\users\\prakh\\appdata\\roaming\\python\\python311\\site-packages (from matplotlib->bert_score) (10.1.0)\n",
      "Requirement already satisfied: pyparsing>=2.3.1 in c:\\users\\prakh\\appdata\\roaming\\python\\python311\\site-packages (from matplotlib->bert_score) (3.1.1)\n",
      "Requirement already satisfied: charset-normalizer<4,>=2 in c:\\users\\prakh\\anaconda3\\envs\\visiongpu\\lib\\site-packages (from requests->bert_score) (2.0.4)\n",
      "Requirement already satisfied: idna<4,>=2.5 in c:\\users\\prakh\\anaconda3\\envs\\visiongpu\\lib\\site-packages (from requests->bert_score) (3.4)\n",
      "Requirement already satisfied: urllib3<3,>=1.21.1 in c:\\users\\prakh\\anaconda3\\envs\\visiongpu\\lib\\site-packages (from requests->bert_score) (2.1.0)\n",
      "Requirement already satisfied: certifi>=2017.4.17 in c:\\users\\prakh\\anaconda3\\envs\\visiongpu\\lib\\site-packages (from requests->bert_score) (2024.2.2)\n",
      "Requirement already satisfied: six>=1.5 in c:\\users\\prakh\\appdata\\roaming\\python\\python311\\site-packages (from python-dateutil>=2.8.2->pandas>=1.0.1->bert_score) (1.16.0)\n",
      "Requirement already satisfied: MarkupSafe>=2.0 in c:\\users\\prakh\\anaconda3\\envs\\visiongpu\\lib\\site-packages (from jinja2->torch>=1.0.0->bert_score) (2.1.3)\n",
      "Requirement already satisfied: mpmath>=0.19 in c:\\users\\prakh\\anaconda3\\envs\\visiongpu\\lib\\site-packages (from sympy->torch>=1.0.0->bert_score) (1.3.0)\n"
     ]
    },
    {
     "name": "stderr",
     "output_type": "stream",
     "text": [
      "\n",
      "[notice] A new release of pip is available: 23.3.1 -> 24.0\n",
      "[notice] To update, run: python.exe -m pip install --upgrade pip\n"
     ]
    },
    {
     "name": "stdout",
     "output_type": "stream",
     "text": [
      "Requirement already satisfied: datasets in c:\\users\\prakh\\anaconda3\\envs\\visiongpu\\lib\\site-packages (2.18.0)\n",
      "Requirement already satisfied: filelock in c:\\users\\prakh\\anaconda3\\envs\\visiongpu\\lib\\site-packages (from datasets) (3.13.1)\n",
      "Requirement already satisfied: numpy>=1.17 in c:\\users\\prakh\\appdata\\roaming\\python\\python311\\site-packages (from datasets) (1.26.2)\n",
      "Requirement already satisfied: pyarrow>=12.0.0 in c:\\users\\prakh\\anaconda3\\envs\\visiongpu\\lib\\site-packages (from datasets) (15.0.2)\n",
      "Requirement already satisfied: pyarrow-hotfix in c:\\users\\prakh\\anaconda3\\envs\\visiongpu\\lib\\site-packages (from datasets) (0.6)\n",
      "Requirement already satisfied: dill<0.3.9,>=0.3.0 in c:\\users\\prakh\\anaconda3\\envs\\visiongpu\\lib\\site-packages (from datasets) (0.3.8)\n",
      "Requirement already satisfied: pandas in c:\\users\\prakh\\appdata\\roaming\\python\\python311\\site-packages (from datasets) (2.1.3)\n",
      "Requirement already satisfied: requests>=2.19.0 in c:\\users\\prakh\\anaconda3\\envs\\visiongpu\\lib\\site-packages (from datasets) (2.31.0)\n",
      "Requirement already satisfied: tqdm>=4.62.1 in c:\\users\\prakh\\anaconda3\\envs\\visiongpu\\lib\\site-packages (from datasets) (4.66.2)\n",
      "Requirement already satisfied: xxhash in c:\\users\\prakh\\anaconda3\\envs\\visiongpu\\lib\\site-packages (from datasets) (3.4.1)\n",
      "Requirement already satisfied: multiprocess in c:\\users\\prakh\\anaconda3\\envs\\visiongpu\\lib\\site-packages (from datasets) (0.70.16)\n",
      "Requirement already satisfied: fsspec<=2024.2.0,>=2023.1.0 in c:\\users\\prakh\\anaconda3\\envs\\visiongpu\\lib\\site-packages (from fsspec[http]<=2024.2.0,>=2023.1.0->datasets) (2024.2.0)\n",
      "Requirement already satisfied: aiohttp in c:\\users\\prakh\\anaconda3\\envs\\visiongpu\\lib\\site-packages (from datasets) (3.9.3)\n",
      "Requirement already satisfied: huggingface-hub>=0.19.4 in c:\\users\\prakh\\anaconda3\\envs\\visiongpu\\lib\\site-packages (from datasets) (0.22.1)\n",
      "Requirement already satisfied: packaging in c:\\users\\prakh\\appdata\\roaming\\python\\python311\\site-packages (from datasets) (23.2)\n",
      "Requirement already satisfied: pyyaml>=5.1 in c:\\users\\prakh\\anaconda3\\envs\\visiongpu\\lib\\site-packages (from datasets) (6.0.1)\n",
      "Requirement already satisfied: aiosignal>=1.1.2 in c:\\users\\prakh\\anaconda3\\envs\\visiongpu\\lib\\site-packages (from aiohttp->datasets) (1.3.1)\n",
      "Requirement already satisfied: attrs>=17.3.0 in c:\\users\\prakh\\anaconda3\\envs\\visiongpu\\lib\\site-packages (from aiohttp->datasets) (23.1.0)\n",
      "Requirement already satisfied: frozenlist>=1.1.1 in c:\\users\\prakh\\anaconda3\\envs\\visiongpu\\lib\\site-packages (from aiohttp->datasets) (1.4.1)\n",
      "Requirement already satisfied: multidict<7.0,>=4.5 in c:\\users\\prakh\\anaconda3\\envs\\visiongpu\\lib\\site-packages (from aiohttp->datasets) (6.0.5)\n",
      "Requirement already satisfied: yarl<2.0,>=1.0 in c:\\users\\prakh\\anaconda3\\envs\\visiongpu\\lib\\site-packages (from aiohttp->datasets) (1.9.4)\n",
      "Requirement already satisfied: typing-extensions>=3.7.4.3 in c:\\users\\prakh\\anaconda3\\envs\\visiongpu\\lib\\site-packages (from huggingface-hub>=0.19.4->datasets) (4.9.0)\n",
      "Requirement already satisfied: charset-normalizer<4,>=2 in c:\\users\\prakh\\anaconda3\\envs\\visiongpu\\lib\\site-packages (from requests>=2.19.0->datasets) (2.0.4)\n",
      "Requirement already satisfied: idna<4,>=2.5 in c:\\users\\prakh\\anaconda3\\envs\\visiongpu\\lib\\site-packages (from requests>=2.19.0->datasets) (3.4)\n",
      "Requirement already satisfied: urllib3<3,>=1.21.1 in c:\\users\\prakh\\anaconda3\\envs\\visiongpu\\lib\\site-packages (from requests>=2.19.0->datasets) (2.1.0)\n",
      "Requirement already satisfied: certifi>=2017.4.17 in c:\\users\\prakh\\anaconda3\\envs\\visiongpu\\lib\\site-packages (from requests>=2.19.0->datasets) (2024.2.2)\n",
      "Requirement already satisfied: colorama in c:\\users\\prakh\\appdata\\roaming\\python\\python311\\site-packages (from tqdm>=4.62.1->datasets) (0.4.6)\n",
      "Requirement already satisfied: python-dateutil>=2.8.2 in c:\\users\\prakh\\appdata\\roaming\\python\\python311\\site-packages (from pandas->datasets) (2.8.2)\n",
      "Requirement already satisfied: pytz>=2020.1 in c:\\users\\prakh\\appdata\\roaming\\python\\python311\\site-packages (from pandas->datasets) (2023.3.post1)\n",
      "Requirement already satisfied: tzdata>=2022.1 in c:\\users\\prakh\\appdata\\roaming\\python\\python311\\site-packages (from pandas->datasets) (2023.3)\n",
      "Requirement already satisfied: six>=1.5 in c:\\users\\prakh\\appdata\\roaming\\python\\python311\\site-packages (from python-dateutil>=2.8.2->pandas->datasets) (1.16.0)\n"
     ]
    },
    {
     "name": "stderr",
     "output_type": "stream",
     "text": [
      "\n",
      "[notice] A new release of pip is available: 23.3.1 -> 24.0\n",
      "[notice] To update, run: python.exe -m pip install --upgrade pip\n"
     ]
    },
    {
     "name": "stdout",
     "output_type": "stream",
     "text": [
      "Requirement already satisfied: evaluate in c:\\users\\prakh\\anaconda3\\envs\\visiongpu\\lib\\site-packages (0.4.1)\n",
      "Requirement already satisfied: datasets>=2.0.0 in c:\\users\\prakh\\anaconda3\\envs\\visiongpu\\lib\\site-packages (from evaluate) (2.18.0)\n",
      "Requirement already satisfied: numpy>=1.17 in c:\\users\\prakh\\appdata\\roaming\\python\\python311\\site-packages (from evaluate) (1.26.2)\n",
      "Requirement already satisfied: dill in c:\\users\\prakh\\anaconda3\\envs\\visiongpu\\lib\\site-packages (from evaluate) (0.3.8)\n",
      "Requirement already satisfied: pandas in c:\\users\\prakh\\appdata\\roaming\\python\\python311\\site-packages (from evaluate) (2.1.3)\n",
      "Requirement already satisfied: requests>=2.19.0 in c:\\users\\prakh\\anaconda3\\envs\\visiongpu\\lib\\site-packages (from evaluate) (2.31.0)\n",
      "Requirement already satisfied: tqdm>=4.62.1 in c:\\users\\prakh\\anaconda3\\envs\\visiongpu\\lib\\site-packages (from evaluate) (4.66.2)\n",
      "Requirement already satisfied: xxhash in c:\\users\\prakh\\anaconda3\\envs\\visiongpu\\lib\\site-packages (from evaluate) (3.4.1)\n",
      "Requirement already satisfied: multiprocess in c:\\users\\prakh\\anaconda3\\envs\\visiongpu\\lib\\site-packages (from evaluate) (0.70.16)\n",
      "Requirement already satisfied: fsspec>=2021.05.0 in c:\\users\\prakh\\anaconda3\\envs\\visiongpu\\lib\\site-packages (from fsspec[http]>=2021.05.0->evaluate) (2024.2.0)\n",
      "Requirement already satisfied: huggingface-hub>=0.7.0 in c:\\users\\prakh\\anaconda3\\envs\\visiongpu\\lib\\site-packages (from evaluate) (0.22.1)\n",
      "Requirement already satisfied: packaging in c:\\users\\prakh\\appdata\\roaming\\python\\python311\\site-packages (from evaluate) (23.2)\n",
      "Requirement already satisfied: responses<0.19 in c:\\users\\prakh\\anaconda3\\envs\\visiongpu\\lib\\site-packages (from evaluate) (0.18.0)\n",
      "Requirement already satisfied: filelock in c:\\users\\prakh\\anaconda3\\envs\\visiongpu\\lib\\site-packages (from datasets>=2.0.0->evaluate) (3.13.1)\n",
      "Requirement already satisfied: pyarrow>=12.0.0 in c:\\users\\prakh\\anaconda3\\envs\\visiongpu\\lib\\site-packages (from datasets>=2.0.0->evaluate) (15.0.2)\n",
      "Requirement already satisfied: pyarrow-hotfix in c:\\users\\prakh\\anaconda3\\envs\\visiongpu\\lib\\site-packages (from datasets>=2.0.0->evaluate) (0.6)\n",
      "Requirement already satisfied: aiohttp in c:\\users\\prakh\\anaconda3\\envs\\visiongpu\\lib\\site-packages (from datasets>=2.0.0->evaluate) (3.9.3)\n",
      "Requirement already satisfied: pyyaml>=5.1 in c:\\users\\prakh\\anaconda3\\envs\\visiongpu\\lib\\site-packages (from datasets>=2.0.0->evaluate) (6.0.1)\n",
      "Requirement already satisfied: typing-extensions>=3.7.4.3 in c:\\users\\prakh\\anaconda3\\envs\\visiongpu\\lib\\site-packages (from huggingface-hub>=0.7.0->evaluate) (4.9.0)\n",
      "Requirement already satisfied: charset-normalizer<4,>=2 in c:\\users\\prakh\\anaconda3\\envs\\visiongpu\\lib\\site-packages (from requests>=2.19.0->evaluate) (2.0.4)\n",
      "Requirement already satisfied: idna<4,>=2.5 in c:\\users\\prakh\\anaconda3\\envs\\visiongpu\\lib\\site-packages (from requests>=2.19.0->evaluate) (3.4)\n",
      "Requirement already satisfied: urllib3<3,>=1.21.1 in c:\\users\\prakh\\anaconda3\\envs\\visiongpu\\lib\\site-packages (from requests>=2.19.0->evaluate) (2.1.0)\n",
      "Requirement already satisfied: certifi>=2017.4.17 in c:\\users\\prakh\\anaconda3\\envs\\visiongpu\\lib\\site-packages (from requests>=2.19.0->evaluate) (2024.2.2)\n",
      "Requirement already satisfied: colorama in c:\\users\\prakh\\appdata\\roaming\\python\\python311\\site-packages (from tqdm>=4.62.1->evaluate) (0.4.6)\n",
      "Requirement already satisfied: python-dateutil>=2.8.2 in c:\\users\\prakh\\appdata\\roaming\\python\\python311\\site-packages (from pandas->evaluate) (2.8.2)\n",
      "Requirement already satisfied: pytz>=2020.1 in c:\\users\\prakh\\appdata\\roaming\\python\\python311\\site-packages (from pandas->evaluate) (2023.3.post1)\n",
      "Requirement already satisfied: tzdata>=2022.1 in c:\\users\\prakh\\appdata\\roaming\\python\\python311\\site-packages (from pandas->evaluate) (2023.3)\n",
      "Requirement already satisfied: aiosignal>=1.1.2 in c:\\users\\prakh\\anaconda3\\envs\\visiongpu\\lib\\site-packages (from aiohttp->datasets>=2.0.0->evaluate) (1.3.1)\n",
      "Requirement already satisfied: attrs>=17.3.0 in c:\\users\\prakh\\anaconda3\\envs\\visiongpu\\lib\\site-packages (from aiohttp->datasets>=2.0.0->evaluate) (23.1.0)\n",
      "Requirement already satisfied: frozenlist>=1.1.1 in c:\\users\\prakh\\anaconda3\\envs\\visiongpu\\lib\\site-packages (from aiohttp->datasets>=2.0.0->evaluate) (1.4.1)\n",
      "Requirement already satisfied: multidict<7.0,>=4.5 in c:\\users\\prakh\\anaconda3\\envs\\visiongpu\\lib\\site-packages (from aiohttp->datasets>=2.0.0->evaluate) (6.0.5)\n",
      "Requirement already satisfied: yarl<2.0,>=1.0 in c:\\users\\prakh\\anaconda3\\envs\\visiongpu\\lib\\site-packages (from aiohttp->datasets>=2.0.0->evaluate) (1.9.4)\n",
      "Requirement already satisfied: six>=1.5 in c:\\users\\prakh\\appdata\\roaming\\python\\python311\\site-packages (from python-dateutil>=2.8.2->pandas->evaluate) (1.16.0)\n"
     ]
    },
    {
     "name": "stderr",
     "output_type": "stream",
     "text": [
      "\n",
      "[notice] A new release of pip is available: 23.3.1 -> 24.0\n",
      "[notice] To update, run: python.exe -m pip install --upgrade pip\n"
     ]
    },
    {
     "name": "stdout",
     "output_type": "stream",
     "text": [
      "Requirement already satisfied: torchdata in c:\\users\\prakh\\anaconda3\\envs\\visiongpu\\lib\\site-packages (0.7.1)\n",
      "Requirement already satisfied: urllib3>=1.25 in c:\\users\\prakh\\anaconda3\\envs\\visiongpu\\lib\\site-packages (from torchdata) (2.1.0)\n",
      "Requirement already satisfied: requests in c:\\users\\prakh\\anaconda3\\envs\\visiongpu\\lib\\site-packages (from torchdata) (2.31.0)\n",
      "Requirement already satisfied: torch>=2 in c:\\users\\prakh\\anaconda3\\envs\\visiongpu\\lib\\site-packages (from torchdata) (2.2.1)\n",
      "Requirement already satisfied: filelock in c:\\users\\prakh\\anaconda3\\envs\\visiongpu\\lib\\site-packages (from torch>=2->torchdata) (3.13.1)\n",
      "Requirement already satisfied: typing-extensions>=4.8.0 in c:\\users\\prakh\\anaconda3\\envs\\visiongpu\\lib\\site-packages (from torch>=2->torchdata) (4.9.0)\n",
      "Requirement already satisfied: sympy in c:\\users\\prakh\\anaconda3\\envs\\visiongpu\\lib\\site-packages (from torch>=2->torchdata) (1.12)\n",
      "Requirement already satisfied: networkx in c:\\users\\prakh\\anaconda3\\envs\\visiongpu\\lib\\site-packages (from torch>=2->torchdata) (3.1)\n",
      "Requirement already satisfied: jinja2 in c:\\users\\prakh\\anaconda3\\envs\\visiongpu\\lib\\site-packages (from torch>=2->torchdata) (3.1.3)\n",
      "Requirement already satisfied: fsspec in c:\\users\\prakh\\anaconda3\\envs\\visiongpu\\lib\\site-packages (from torch>=2->torchdata) (2024.2.0)\n",
      "Requirement already satisfied: charset-normalizer<4,>=2 in c:\\users\\prakh\\anaconda3\\envs\\visiongpu\\lib\\site-packages (from requests->torchdata) (2.0.4)\n",
      "Requirement already satisfied: idna<4,>=2.5 in c:\\users\\prakh\\anaconda3\\envs\\visiongpu\\lib\\site-packages (from requests->torchdata) (3.4)\n",
      "Requirement already satisfied: certifi>=2017.4.17 in c:\\users\\prakh\\anaconda3\\envs\\visiongpu\\lib\\site-packages (from requests->torchdata) (2024.2.2)\n",
      "Requirement already satisfied: MarkupSafe>=2.0 in c:\\users\\prakh\\anaconda3\\envs\\visiongpu\\lib\\site-packages (from jinja2->torch>=2->torchdata) (2.1.3)\n",
      "Requirement already satisfied: mpmath>=0.19 in c:\\users\\prakh\\anaconda3\\envs\\visiongpu\\lib\\site-packages (from sympy->torch>=2->torchdata) (1.3.0)\n"
     ]
    },
    {
     "name": "stderr",
     "output_type": "stream",
     "text": [
      "\n",
      "[notice] A new release of pip is available: 23.3.1 -> 24.0\n",
      "[notice] To update, run: python.exe -m pip install --upgrade pip\n"
     ]
    },
    {
     "name": "stdout",
     "output_type": "stream",
     "text": [
      "Requirement already satisfied: spacy in c:\\users\\prakh\\anaconda3\\envs\\visiongpu\\lib\\site-packages (3.7.4)\n",
      "Requirement already satisfied: spacy-legacy<3.1.0,>=3.0.11 in c:\\users\\prakh\\anaconda3\\envs\\visiongpu\\lib\\site-packages (from spacy) (3.0.12)\n",
      "Requirement already satisfied: spacy-loggers<2.0.0,>=1.0.0 in c:\\users\\prakh\\anaconda3\\envs\\visiongpu\\lib\\site-packages (from spacy) (1.0.5)\n",
      "Requirement already satisfied: murmurhash<1.1.0,>=0.28.0 in c:\\users\\prakh\\anaconda3\\envs\\visiongpu\\lib\\site-packages (from spacy) (1.0.10)\n",
      "Requirement already satisfied: cymem<2.1.0,>=2.0.2 in c:\\users\\prakh\\anaconda3\\envs\\visiongpu\\lib\\site-packages (from spacy) (2.0.8)\n",
      "Requirement already satisfied: preshed<3.1.0,>=3.0.2 in c:\\users\\prakh\\anaconda3\\envs\\visiongpu\\lib\\site-packages (from spacy) (3.0.9)\n",
      "Requirement already satisfied: thinc<8.3.0,>=8.2.2 in c:\\users\\prakh\\anaconda3\\envs\\visiongpu\\lib\\site-packages (from spacy) (8.2.3)\n",
      "Requirement already satisfied: wasabi<1.2.0,>=0.9.1 in c:\\users\\prakh\\anaconda3\\envs\\visiongpu\\lib\\site-packages (from spacy) (1.1.2)\n",
      "Requirement already satisfied: srsly<3.0.0,>=2.4.3 in c:\\users\\prakh\\anaconda3\\envs\\visiongpu\\lib\\site-packages (from spacy) (2.4.8)\n",
      "Requirement already satisfied: catalogue<2.1.0,>=2.0.6 in c:\\users\\prakh\\anaconda3\\envs\\visiongpu\\lib\\site-packages (from spacy) (2.0.10)\n",
      "Requirement already satisfied: weasel<0.4.0,>=0.1.0 in c:\\users\\prakh\\anaconda3\\envs\\visiongpu\\lib\\site-packages (from spacy) (0.3.4)\n",
      "Requirement already satisfied: typer<0.10.0,>=0.3.0 in c:\\users\\prakh\\anaconda3\\envs\\visiongpu\\lib\\site-packages (from spacy) (0.9.4)\n",
      "Requirement already satisfied: smart-open<7.0.0,>=5.2.1 in c:\\users\\prakh\\anaconda3\\envs\\visiongpu\\lib\\site-packages (from spacy) (6.4.0)\n",
      "Requirement already satisfied: tqdm<5.0.0,>=4.38.0 in c:\\users\\prakh\\anaconda3\\envs\\visiongpu\\lib\\site-packages (from spacy) (4.66.2)\n",
      "Requirement already satisfied: requests<3.0.0,>=2.13.0 in c:\\users\\prakh\\anaconda3\\envs\\visiongpu\\lib\\site-packages (from spacy) (2.31.0)\n",
      "Requirement already satisfied: pydantic!=1.8,!=1.8.1,<3.0.0,>=1.7.4 in c:\\users\\prakh\\anaconda3\\envs\\visiongpu\\lib\\site-packages (from spacy) (2.6.4)\n",
      "Requirement already satisfied: jinja2 in c:\\users\\prakh\\anaconda3\\envs\\visiongpu\\lib\\site-packages (from spacy) (3.1.3)\n",
      "Requirement already satisfied: setuptools in c:\\users\\prakh\\appdata\\roaming\\python\\python311\\site-packages (from spacy) (68.2.2)\n",
      "Requirement already satisfied: packaging>=20.0 in c:\\users\\prakh\\appdata\\roaming\\python\\python311\\site-packages (from spacy) (23.2)\n",
      "Requirement already satisfied: langcodes<4.0.0,>=3.2.0 in c:\\users\\prakh\\anaconda3\\envs\\visiongpu\\lib\\site-packages (from spacy) (3.3.0)\n",
      "Requirement already satisfied: numpy>=1.19.0 in c:\\users\\prakh\\appdata\\roaming\\python\\python311\\site-packages (from spacy) (1.26.2)\n",
      "Requirement already satisfied: annotated-types>=0.4.0 in c:\\users\\prakh\\anaconda3\\envs\\visiongpu\\lib\\site-packages (from pydantic!=1.8,!=1.8.1,<3.0.0,>=1.7.4->spacy) (0.6.0)\n",
      "Requirement already satisfied: pydantic-core==2.16.3 in c:\\users\\prakh\\anaconda3\\envs\\visiongpu\\lib\\site-packages (from pydantic!=1.8,!=1.8.1,<3.0.0,>=1.7.4->spacy) (2.16.3)\n",
      "Requirement already satisfied: typing-extensions>=4.6.1 in c:\\users\\prakh\\anaconda3\\envs\\visiongpu\\lib\\site-packages (from pydantic!=1.8,!=1.8.1,<3.0.0,>=1.7.4->spacy) (4.9.0)\n",
      "Requirement already satisfied: charset-normalizer<4,>=2 in c:\\users\\prakh\\anaconda3\\envs\\visiongpu\\lib\\site-packages (from requests<3.0.0,>=2.13.0->spacy) (2.0.4)\n",
      "Requirement already satisfied: idna<4,>=2.5 in c:\\users\\prakh\\anaconda3\\envs\\visiongpu\\lib\\site-packages (from requests<3.0.0,>=2.13.0->spacy) (3.4)\n",
      "Requirement already satisfied: urllib3<3,>=1.21.1 in c:\\users\\prakh\\anaconda3\\envs\\visiongpu\\lib\\site-packages (from requests<3.0.0,>=2.13.0->spacy) (2.1.0)\n",
      "Requirement already satisfied: certifi>=2017.4.17 in c:\\users\\prakh\\anaconda3\\envs\\visiongpu\\lib\\site-packages (from requests<3.0.0,>=2.13.0->spacy) (2024.2.2)\n",
      "Requirement already satisfied: blis<0.8.0,>=0.7.8 in c:\\users\\prakh\\anaconda3\\envs\\visiongpu\\lib\\site-packages (from thinc<8.3.0,>=8.2.2->spacy) (0.7.11)\n",
      "Requirement already satisfied: confection<1.0.0,>=0.0.1 in c:\\users\\prakh\\anaconda3\\envs\\visiongpu\\lib\\site-packages (from thinc<8.3.0,>=8.2.2->spacy) (0.1.4)\n",
      "Requirement already satisfied: colorama in c:\\users\\prakh\\appdata\\roaming\\python\\python311\\site-packages (from tqdm<5.0.0,>=4.38.0->spacy) (0.4.6)\n",
      "Requirement already satisfied: click<9.0.0,>=7.1.1 in c:\\users\\prakh\\anaconda3\\envs\\visiongpu\\lib\\site-packages (from typer<0.10.0,>=0.3.0->spacy) (8.1.7)\n",
      "Requirement already satisfied: cloudpathlib<0.17.0,>=0.7.0 in c:\\users\\prakh\\anaconda3\\envs\\visiongpu\\lib\\site-packages (from weasel<0.4.0,>=0.1.0->spacy) (0.16.0)\n",
      "Requirement already satisfied: MarkupSafe>=2.0 in c:\\users\\prakh\\anaconda3\\envs\\visiongpu\\lib\\site-packages (from jinja2->spacy) (2.1.3)\n"
     ]
    },
    {
     "name": "stderr",
     "output_type": "stream",
     "text": [
      "\n",
      "[notice] A new release of pip is available: 23.3.1 -> 24.0\n",
      "[notice] To update, run: python.exe -m pip install --upgrade pip\n"
     ]
    },
    {
     "name": "stdout",
     "output_type": "stream",
     "text": [
      "Collecting en-core-web-sm==3.7.1\n",
      "  Downloading https://github.com/explosion/spacy-models/releases/download/en_core_web_sm-3.7.1/en_core_web_sm-3.7.1-py3-none-any.whl (12.8 MB)\n",
      "     ---------------------------------------- 0.0/12.8 MB ? eta -:--:--\n",
      "     ---------------------------------------- 0.0/12.8 MB ? eta -:--:--\n",
      "     ---------------------------------------- 0.0/12.8 MB ? eta -:--:--\n",
      "     --------------------------------------- 0.1/12.8 MB 465.5 kB/s eta 0:00:28\n",
      "     - -------------------------------------- 0.4/12.8 MB 2.4 MB/s eta 0:00:06\n",
      "     - -------------------------------------- 0.4/12.8 MB 2.4 MB/s eta 0:00:06\n",
      "     -- ------------------------------------- 0.7/12.8 MB 2.8 MB/s eta 0:00:05\n",
      "     -- ------------------------------------- 0.8/12.8 MB 3.1 MB/s eta 0:00:04\n",
      "     --- ------------------------------------ 1.1/12.8 MB 3.3 MB/s eta 0:00:04\n",
      "     ---- ----------------------------------- 1.4/12.8 MB 3.8 MB/s eta 0:00:04\n",
      "     ---- ----------------------------------- 1.5/12.8 MB 3.5 MB/s eta 0:00:04\n",
      "     ----- ---------------------------------- 1.9/12.8 MB 4.1 MB/s eta 0:00:03\n",
      "     ------ --------------------------------- 2.1/12.8 MB 4.1 MB/s eta 0:00:03\n",
      "     --------- ------------------------------ 3.0/12.8 MB 5.2 MB/s eta 0:00:02\n",
      "     --------- ------------------------------ 3.1/12.8 MB 5.1 MB/s eta 0:00:02\n",
      "     ---------- ----------------------------- 3.4/12.8 MB 5.4 MB/s eta 0:00:02\n",
      "     ---------- ----------------------------- 3.4/12.8 MB 5.4 MB/s eta 0:00:02\n",
      "     ----------- ---------------------------- 3.7/12.8 MB 5.0 MB/s eta 0:00:02\n",
      "     ------------- -------------------------- 4.2/12.8 MB 5.4 MB/s eta 0:00:02\n",
      "     -------------- ------------------------- 4.5/12.8 MB 5.4 MB/s eta 0:00:02\n",
      "     ---------------- ----------------------- 5.2/12.8 MB 5.9 MB/s eta 0:00:02\n",
      "     ------------------ --------------------- 5.9/12.8 MB 6.3 MB/s eta 0:00:02\n",
      "     -------------------- ------------------- 6.6/12.8 MB 6.8 MB/s eta 0:00:01\n",
      "     --------------------- ------------------ 6.8/12.8 MB 7.0 MB/s eta 0:00:01\n",
      "     ----------------------- ---------------- 7.6/12.8 MB 7.1 MB/s eta 0:00:01\n",
      "     ------------------------- -------------- 8.2/12.8 MB 7.4 MB/s eta 0:00:01\n",
      "     ---------------------------- ----------- 9.2/12.8 MB 8.0 MB/s eta 0:00:01\n",
      "     ------------------------------ --------- 9.9/12.8 MB 8.3 MB/s eta 0:00:01\n",
      "     ------------------------------- -------- 10.1/12.8 MB 8.1 MB/s eta 0:00:01\n",
      "     --------------------------------- ------ 10.8/12.8 MB 9.9 MB/s eta 0:00:01\n",
      "     ---------------------------------- ---- 11.4/12.8 MB 10.4 MB/s eta 0:00:01\n",
      "     ------------------------------------- - 12.3/12.8 MB 11.7 MB/s eta 0:00:01\n",
      "     --------------------------------------  12.8/12.8 MB 11.7 MB/s eta 0:00:01\n",
      "     --------------------------------------- 12.8/12.8 MB 11.1 MB/s eta 0:00:00\n",
      "Requirement already satisfied: spacy<3.8.0,>=3.7.2 in c:\\users\\prakh\\anaconda3\\envs\\visiongpu\\lib\\site-packages (from en-core-web-sm==3.7.1) (3.7.4)\n",
      "Requirement already satisfied: spacy-legacy<3.1.0,>=3.0.11 in c:\\users\\prakh\\anaconda3\\envs\\visiongpu\\lib\\site-packages (from spacy<3.8.0,>=3.7.2->en-core-web-sm==3.7.1) (3.0.12)\n",
      "Requirement already satisfied: spacy-loggers<2.0.0,>=1.0.0 in c:\\users\\prakh\\anaconda3\\envs\\visiongpu\\lib\\site-packages (from spacy<3.8.0,>=3.7.2->en-core-web-sm==3.7.1) (1.0.5)\n",
      "Requirement already satisfied: murmurhash<1.1.0,>=0.28.0 in c:\\users\\prakh\\anaconda3\\envs\\visiongpu\\lib\\site-packages (from spacy<3.8.0,>=3.7.2->en-core-web-sm==3.7.1) (1.0.10)\n",
      "Requirement already satisfied: cymem<2.1.0,>=2.0.2 in c:\\users\\prakh\\anaconda3\\envs\\visiongpu\\lib\\site-packages (from spacy<3.8.0,>=3.7.2->en-core-web-sm==3.7.1) (2.0.8)\n",
      "Requirement already satisfied: preshed<3.1.0,>=3.0.2 in c:\\users\\prakh\\anaconda3\\envs\\visiongpu\\lib\\site-packages (from spacy<3.8.0,>=3.7.2->en-core-web-sm==3.7.1) (3.0.9)\n",
      "Requirement already satisfied: thinc<8.3.0,>=8.2.2 in c:\\users\\prakh\\anaconda3\\envs\\visiongpu\\lib\\site-packages (from spacy<3.8.0,>=3.7.2->en-core-web-sm==3.7.1) (8.2.3)\n",
      "Requirement already satisfied: wasabi<1.2.0,>=0.9.1 in c:\\users\\prakh\\anaconda3\\envs\\visiongpu\\lib\\site-packages (from spacy<3.8.0,>=3.7.2->en-core-web-sm==3.7.1) (1.1.2)\n",
      "Requirement already satisfied: srsly<3.0.0,>=2.4.3 in c:\\users\\prakh\\anaconda3\\envs\\visiongpu\\lib\\site-packages (from spacy<3.8.0,>=3.7.2->en-core-web-sm==3.7.1) (2.4.8)\n",
      "Requirement already satisfied: catalogue<2.1.0,>=2.0.6 in c:\\users\\prakh\\anaconda3\\envs\\visiongpu\\lib\\site-packages (from spacy<3.8.0,>=3.7.2->en-core-web-sm==3.7.1) (2.0.10)\n",
      "Requirement already satisfied: weasel<0.4.0,>=0.1.0 in c:\\users\\prakh\\anaconda3\\envs\\visiongpu\\lib\\site-packages (from spacy<3.8.0,>=3.7.2->en-core-web-sm==3.7.1) (0.3.4)\n",
      "Requirement already satisfied: typer<0.10.0,>=0.3.0 in c:\\users\\prakh\\anaconda3\\envs\\visiongpu\\lib\\site-packages (from spacy<3.8.0,>=3.7.2->en-core-web-sm==3.7.1) (0.9.4)\n",
      "Requirement already satisfied: smart-open<7.0.0,>=5.2.1 in c:\\users\\prakh\\anaconda3\\envs\\visiongpu\\lib\\site-packages (from spacy<3.8.0,>=3.7.2->en-core-web-sm==3.7.1) (6.4.0)\n",
      "Requirement already satisfied: tqdm<5.0.0,>=4.38.0 in c:\\users\\prakh\\anaconda3\\envs\\visiongpu\\lib\\site-packages (from spacy<3.8.0,>=3.7.2->en-core-web-sm==3.7.1) (4.66.2)\n",
      "Requirement already satisfied: requests<3.0.0,>=2.13.0 in c:\\users\\prakh\\anaconda3\\envs\\visiongpu\\lib\\site-packages (from spacy<3.8.0,>=3.7.2->en-core-web-sm==3.7.1) (2.31.0)\n",
      "Requirement already satisfied: pydantic!=1.8,!=1.8.1,<3.0.0,>=1.7.4 in c:\\users\\prakh\\anaconda3\\envs\\visiongpu\\lib\\site-packages (from spacy<3.8.0,>=3.7.2->en-core-web-sm==3.7.1) (2.6.4)\n",
      "Requirement already satisfied: jinja2 in c:\\users\\prakh\\anaconda3\\envs\\visiongpu\\lib\\site-packages (from spacy<3.8.0,>=3.7.2->en-core-web-sm==3.7.1) (3.1.3)\n",
      "Requirement already satisfied: setuptools in c:\\users\\prakh\\appdata\\roaming\\python\\python311\\site-packages (from spacy<3.8.0,>=3.7.2->en-core-web-sm==3.7.1) (68.2.2)\n",
      "Requirement already satisfied: packaging>=20.0 in c:\\users\\prakh\\appdata\\roaming\\python\\python311\\site-packages (from spacy<3.8.0,>=3.7.2->en-core-web-sm==3.7.1) (23.2)\n",
      "Requirement already satisfied: langcodes<4.0.0,>=3.2.0 in c:\\users\\prakh\\anaconda3\\envs\\visiongpu\\lib\\site-packages (from spacy<3.8.0,>=3.7.2->en-core-web-sm==3.7.1) (3.3.0)\n",
      "Requirement already satisfied: numpy>=1.19.0 in c:\\users\\prakh\\appdata\\roaming\\python\\python311\\site-packages (from spacy<3.8.0,>=3.7.2->en-core-web-sm==3.7.1) (1.26.2)\n",
      "Requirement already satisfied: annotated-types>=0.4.0 in c:\\users\\prakh\\anaconda3\\envs\\visiongpu\\lib\\site-packages (from pydantic!=1.8,!=1.8.1,<3.0.0,>=1.7.4->spacy<3.8.0,>=3.7.2->en-core-web-sm==3.7.1) (0.6.0)\n",
      "Requirement already satisfied: pydantic-core==2.16.3 in c:\\users\\prakh\\anaconda3\\envs\\visiongpu\\lib\\site-packages (from pydantic!=1.8,!=1.8.1,<3.0.0,>=1.7.4->spacy<3.8.0,>=3.7.2->en-core-web-sm==3.7.1) (2.16.3)\n",
      "Requirement already satisfied: typing-extensions>=4.6.1 in c:\\users\\prakh\\anaconda3\\envs\\visiongpu\\lib\\site-packages (from pydantic!=1.8,!=1.8.1,<3.0.0,>=1.7.4->spacy<3.8.0,>=3.7.2->en-core-web-sm==3.7.1) (4.9.0)\n",
      "Requirement already satisfied: charset-normalizer<4,>=2 in c:\\users\\prakh\\anaconda3\\envs\\visiongpu\\lib\\site-packages (from requests<3.0.0,>=2.13.0->spacy<3.8.0,>=3.7.2->en-core-web-sm==3.7.1) (2.0.4)\n",
      "Requirement already satisfied: idna<4,>=2.5 in c:\\users\\prakh\\anaconda3\\envs\\visiongpu\\lib\\site-packages (from requests<3.0.0,>=2.13.0->spacy<3.8.0,>=3.7.2->en-core-web-sm==3.7.1) (3.4)\n",
      "Requirement already satisfied: urllib3<3,>=1.21.1 in c:\\users\\prakh\\anaconda3\\envs\\visiongpu\\lib\\site-packages (from requests<3.0.0,>=2.13.0->spacy<3.8.0,>=3.7.2->en-core-web-sm==3.7.1) (2.1.0)\n",
      "Requirement already satisfied: certifi>=2017.4.17 in c:\\users\\prakh\\anaconda3\\envs\\visiongpu\\lib\\site-packages (from requests<3.0.0,>=2.13.0->spacy<3.8.0,>=3.7.2->en-core-web-sm==3.7.1) (2024.2.2)\n",
      "Requirement already satisfied: blis<0.8.0,>=0.7.8 in c:\\users\\prakh\\anaconda3\\envs\\visiongpu\\lib\\site-packages (from thinc<8.3.0,>=8.2.2->spacy<3.8.0,>=3.7.2->en-core-web-sm==3.7.1) (0.7.11)\n",
      "Requirement already satisfied: confection<1.0.0,>=0.0.1 in c:\\users\\prakh\\anaconda3\\envs\\visiongpu\\lib\\site-packages (from thinc<8.3.0,>=8.2.2->spacy<3.8.0,>=3.7.2->en-core-web-sm==3.7.1) (0.1.4)\n",
      "Requirement already satisfied: colorama in c:\\users\\prakh\\appdata\\roaming\\python\\python311\\site-packages (from tqdm<5.0.0,>=4.38.0->spacy<3.8.0,>=3.7.2->en-core-web-sm==3.7.1) (0.4.6)\n",
      "Requirement already satisfied: click<9.0.0,>=7.1.1 in c:\\users\\prakh\\anaconda3\\envs\\visiongpu\\lib\\site-packages (from typer<0.10.0,>=0.3.0->spacy<3.8.0,>=3.7.2->en-core-web-sm==3.7.1) (8.1.7)\n",
      "Requirement already satisfied: cloudpathlib<0.17.0,>=0.7.0 in c:\\users\\prakh\\anaconda3\\envs\\visiongpu\\lib\\site-packages (from weasel<0.4.0,>=0.1.0->spacy<3.8.0,>=3.7.2->en-core-web-sm==3.7.1) (0.16.0)\n",
      "Requirement already satisfied: MarkupSafe>=2.0 in c:\\users\\prakh\\anaconda3\\envs\\visiongpu\\lib\\site-packages (from jinja2->spacy<3.8.0,>=3.7.2->en-core-web-sm==3.7.1) (2.1.3)\n",
      "\u001b[38;5;2m✔ Download and installation successful\u001b[0m\n",
      "You can now load the package via spacy.load('en_core_web_sm')\n"
     ]
    },
    {
     "name": "stderr",
     "output_type": "stream",
     "text": [
      "\n",
      "[notice] A new release of pip is available: 23.3.1 -> 24.0\n",
      "[notice] To update, run: python.exe -m pip install --upgrade pip\n"
     ]
    },
    {
     "name": "stdout",
     "output_type": "stream",
     "text": [
      "Collecting de-core-news-sm==3.7.0\n",
      "  Downloading https://github.com/explosion/spacy-models/releases/download/de_core_news_sm-3.7.0/de_core_news_sm-3.7.0-py3-none-any.whl (14.6 MB)\n",
      "     ---------------------------------------- 0.0/14.6 MB ? eta -:--:--\n",
      "     --------------------------------------- 0.0/14.6 MB 330.3 kB/s eta 0:00:45\n",
      "     --------------------------------------- 0.0/14.6 MB 330.3 kB/s eta 0:00:45\n",
      "     --------------------------------------- 0.1/14.6 MB 491.5 kB/s eta 0:00:30\n",
      "      --------------------------------------- 0.4/14.6 MB 2.2 MB/s eta 0:00:07\n",
      "     -- ------------------------------------- 0.8/14.6 MB 3.7 MB/s eta 0:00:04\n",
      "     --- ------------------------------------ 1.1/14.6 MB 4.5 MB/s eta 0:00:04\n",
      "     ---- ----------------------------------- 1.7/14.6 MB 5.1 MB/s eta 0:00:03\n",
      "     ----- ---------------------------------- 2.0/14.6 MB 5.7 MB/s eta 0:00:03\n",
      "     ------ --------------------------------- 2.3/14.6 MB 5.5 MB/s eta 0:00:03\n",
      "     ------- -------------------------------- 2.7/14.6 MB 5.9 MB/s eta 0:00:03\n",
      "     -------- ------------------------------- 3.2/14.6 MB 6.2 MB/s eta 0:00:02\n",
      "     --------- ------------------------------ 3.5/14.6 MB 6.2 MB/s eta 0:00:02\n",
      "     ---------- ----------------------------- 3.7/14.6 MB 5.9 MB/s eta 0:00:02\n",
      "     ----------- ---------------------------- 4.0/14.6 MB 6.1 MB/s eta 0:00:02\n",
      "     ------------ --------------------------- 4.7/14.6 MB 6.5 MB/s eta 0:00:02\n",
      "     -------------- ------------------------- 5.3/14.6 MB 6.9 MB/s eta 0:00:02\n",
      "     --------------- ------------------------ 5.7/14.6 MB 7.1 MB/s eta 0:00:02\n",
      "     ----------------- ---------------------- 6.4/14.6 MB 7.5 MB/s eta 0:00:02\n",
      "     ------------------ --------------------- 6.7/14.6 MB 7.8 MB/s eta 0:00:02\n",
      "     -------------------- ------------------- 7.3/14.6 MB 7.8 MB/s eta 0:00:01\n",
      "     ---------------------- ----------------- 8.3/14.6 MB 8.4 MB/s eta 0:00:01\n",
      "     ------------------------- -------------- 9.5/14.6 MB 9.2 MB/s eta 0:00:01\n",
      "     --------------------------- ------------ 10.2/14.6 MB 9.6 MB/s eta 0:00:01\n",
      "     ----------------------------- --------- 11.2/14.6 MB 11.3 MB/s eta 0:00:01\n",
      "     -------------------------------- ------ 12.1/14.6 MB 12.3 MB/s eta 0:00:01\n",
      "     ---------------------------------- ---- 12.9/14.6 MB 13.6 MB/s eta 0:00:01\n",
      "     --------------------------------------  14.4/14.6 MB 17.2 MB/s eta 0:00:01\n",
      "     --------------------------------------  14.6/14.6 MB 16.4 MB/s eta 0:00:01\n",
      "     --------------------------------------  14.6/14.6 MB 16.4 MB/s eta 0:00:01\n",
      "     --------------------------------------- 14.6/14.6 MB 14.9 MB/s eta 0:00:00\n",
      "Requirement already satisfied: spacy<3.8.0,>=3.7.0 in c:\\users\\prakh\\anaconda3\\envs\\visiongpu\\lib\\site-packages (from de-core-news-sm==3.7.0) (3.7.4)\n",
      "Requirement already satisfied: spacy-legacy<3.1.0,>=3.0.11 in c:\\users\\prakh\\anaconda3\\envs\\visiongpu\\lib\\site-packages (from spacy<3.8.0,>=3.7.0->de-core-news-sm==3.7.0) (3.0.12)\n",
      "Requirement already satisfied: spacy-loggers<2.0.0,>=1.0.0 in c:\\users\\prakh\\anaconda3\\envs\\visiongpu\\lib\\site-packages (from spacy<3.8.0,>=3.7.0->de-core-news-sm==3.7.0) (1.0.5)\n",
      "Requirement already satisfied: murmurhash<1.1.0,>=0.28.0 in c:\\users\\prakh\\anaconda3\\envs\\visiongpu\\lib\\site-packages (from spacy<3.8.0,>=3.7.0->de-core-news-sm==3.7.0) (1.0.10)\n",
      "Requirement already satisfied: cymem<2.1.0,>=2.0.2 in c:\\users\\prakh\\anaconda3\\envs\\visiongpu\\lib\\site-packages (from spacy<3.8.0,>=3.7.0->de-core-news-sm==3.7.0) (2.0.8)\n",
      "Requirement already satisfied: preshed<3.1.0,>=3.0.2 in c:\\users\\prakh\\anaconda3\\envs\\visiongpu\\lib\\site-packages (from spacy<3.8.0,>=3.7.0->de-core-news-sm==3.7.0) (3.0.9)\n",
      "Requirement already satisfied: thinc<8.3.0,>=8.2.2 in c:\\users\\prakh\\anaconda3\\envs\\visiongpu\\lib\\site-packages (from spacy<3.8.0,>=3.7.0->de-core-news-sm==3.7.0) (8.2.3)\n",
      "Requirement already satisfied: wasabi<1.2.0,>=0.9.1 in c:\\users\\prakh\\anaconda3\\envs\\visiongpu\\lib\\site-packages (from spacy<3.8.0,>=3.7.0->de-core-news-sm==3.7.0) (1.1.2)\n",
      "Requirement already satisfied: srsly<3.0.0,>=2.4.3 in c:\\users\\prakh\\anaconda3\\envs\\visiongpu\\lib\\site-packages (from spacy<3.8.0,>=3.7.0->de-core-news-sm==3.7.0) (2.4.8)\n",
      "Requirement already satisfied: catalogue<2.1.0,>=2.0.6 in c:\\users\\prakh\\anaconda3\\envs\\visiongpu\\lib\\site-packages (from spacy<3.8.0,>=3.7.0->de-core-news-sm==3.7.0) (2.0.10)\n",
      "Requirement already satisfied: weasel<0.4.0,>=0.1.0 in c:\\users\\prakh\\anaconda3\\envs\\visiongpu\\lib\\site-packages (from spacy<3.8.0,>=3.7.0->de-core-news-sm==3.7.0) (0.3.4)\n",
      "Requirement already satisfied: typer<0.10.0,>=0.3.0 in c:\\users\\prakh\\anaconda3\\envs\\visiongpu\\lib\\site-packages (from spacy<3.8.0,>=3.7.0->de-core-news-sm==3.7.0) (0.9.4)\n",
      "Requirement already satisfied: smart-open<7.0.0,>=5.2.1 in c:\\users\\prakh\\anaconda3\\envs\\visiongpu\\lib\\site-packages (from spacy<3.8.0,>=3.7.0->de-core-news-sm==3.7.0) (6.4.0)\n",
      "Requirement already satisfied: tqdm<5.0.0,>=4.38.0 in c:\\users\\prakh\\anaconda3\\envs\\visiongpu\\lib\\site-packages (from spacy<3.8.0,>=3.7.0->de-core-news-sm==3.7.0) (4.66.2)\n",
      "Requirement already satisfied: requests<3.0.0,>=2.13.0 in c:\\users\\prakh\\anaconda3\\envs\\visiongpu\\lib\\site-packages (from spacy<3.8.0,>=3.7.0->de-core-news-sm==3.7.0) (2.31.0)\n",
      "Requirement already satisfied: pydantic!=1.8,!=1.8.1,<3.0.0,>=1.7.4 in c:\\users\\prakh\\anaconda3\\envs\\visiongpu\\lib\\site-packages (from spacy<3.8.0,>=3.7.0->de-core-news-sm==3.7.0) (2.6.4)\n",
      "Requirement already satisfied: jinja2 in c:\\users\\prakh\\anaconda3\\envs\\visiongpu\\lib\\site-packages (from spacy<3.8.0,>=3.7.0->de-core-news-sm==3.7.0) (3.1.3)\n",
      "Requirement already satisfied: setuptools in c:\\users\\prakh\\appdata\\roaming\\python\\python311\\site-packages (from spacy<3.8.0,>=3.7.0->de-core-news-sm==3.7.0) (68.2.2)\n",
      "Requirement already satisfied: packaging>=20.0 in c:\\users\\prakh\\appdata\\roaming\\python\\python311\\site-packages (from spacy<3.8.0,>=3.7.0->de-core-news-sm==3.7.0) (23.2)\n",
      "Requirement already satisfied: langcodes<4.0.0,>=3.2.0 in c:\\users\\prakh\\anaconda3\\envs\\visiongpu\\lib\\site-packages (from spacy<3.8.0,>=3.7.0->de-core-news-sm==3.7.0) (3.3.0)\n",
      "Requirement already satisfied: numpy>=1.19.0 in c:\\users\\prakh\\appdata\\roaming\\python\\python311\\site-packages (from spacy<3.8.0,>=3.7.0->de-core-news-sm==3.7.0) (1.26.2)\n",
      "Requirement already satisfied: annotated-types>=0.4.0 in c:\\users\\prakh\\anaconda3\\envs\\visiongpu\\lib\\site-packages (from pydantic!=1.8,!=1.8.1,<3.0.0,>=1.7.4->spacy<3.8.0,>=3.7.0->de-core-news-sm==3.7.0) (0.6.0)\n",
      "Requirement already satisfied: pydantic-core==2.16.3 in c:\\users\\prakh\\anaconda3\\envs\\visiongpu\\lib\\site-packages (from pydantic!=1.8,!=1.8.1,<3.0.0,>=1.7.4->spacy<3.8.0,>=3.7.0->de-core-news-sm==3.7.0) (2.16.3)\n",
      "Requirement already satisfied: typing-extensions>=4.6.1 in c:\\users\\prakh\\anaconda3\\envs\\visiongpu\\lib\\site-packages (from pydantic!=1.8,!=1.8.1,<3.0.0,>=1.7.4->spacy<3.8.0,>=3.7.0->de-core-news-sm==3.7.0) (4.9.0)\n",
      "Requirement already satisfied: charset-normalizer<4,>=2 in c:\\users\\prakh\\anaconda3\\envs\\visiongpu\\lib\\site-packages (from requests<3.0.0,>=2.13.0->spacy<3.8.0,>=3.7.0->de-core-news-sm==3.7.0) (2.0.4)\n",
      "Requirement already satisfied: idna<4,>=2.5 in c:\\users\\prakh\\anaconda3\\envs\\visiongpu\\lib\\site-packages (from requests<3.0.0,>=2.13.0->spacy<3.8.0,>=3.7.0->de-core-news-sm==3.7.0) (3.4)\n",
      "Requirement already satisfied: urllib3<3,>=1.21.1 in c:\\users\\prakh\\anaconda3\\envs\\visiongpu\\lib\\site-packages (from requests<3.0.0,>=2.13.0->spacy<3.8.0,>=3.7.0->de-core-news-sm==3.7.0) (2.1.0)\n",
      "Requirement already satisfied: certifi>=2017.4.17 in c:\\users\\prakh\\anaconda3\\envs\\visiongpu\\lib\\site-packages (from requests<3.0.0,>=2.13.0->spacy<3.8.0,>=3.7.0->de-core-news-sm==3.7.0) (2024.2.2)\n",
      "Requirement already satisfied: blis<0.8.0,>=0.7.8 in c:\\users\\prakh\\anaconda3\\envs\\visiongpu\\lib\\site-packages (from thinc<8.3.0,>=8.2.2->spacy<3.8.0,>=3.7.0->de-core-news-sm==3.7.0) (0.7.11)\n",
      "Requirement already satisfied: confection<1.0.0,>=0.0.1 in c:\\users\\prakh\\anaconda3\\envs\\visiongpu\\lib\\site-packages (from thinc<8.3.0,>=8.2.2->spacy<3.8.0,>=3.7.0->de-core-news-sm==3.7.0) (0.1.4)\n",
      "Requirement already satisfied: colorama in c:\\users\\prakh\\appdata\\roaming\\python\\python311\\site-packages (from tqdm<5.0.0,>=4.38.0->spacy<3.8.0,>=3.7.0->de-core-news-sm==3.7.0) (0.4.6)\n",
      "Requirement already satisfied: click<9.0.0,>=7.1.1 in c:\\users\\prakh\\anaconda3\\envs\\visiongpu\\lib\\site-packages (from typer<0.10.0,>=0.3.0->spacy<3.8.0,>=3.7.0->de-core-news-sm==3.7.0) (8.1.7)\n",
      "Requirement already satisfied: cloudpathlib<0.17.0,>=0.7.0 in c:\\users\\prakh\\anaconda3\\envs\\visiongpu\\lib\\site-packages (from weasel<0.4.0,>=0.1.0->spacy<3.8.0,>=3.7.0->de-core-news-sm==3.7.0) (0.16.0)\n",
      "Requirement already satisfied: MarkupSafe>=2.0 in c:\\users\\prakh\\anaconda3\\envs\\visiongpu\\lib\\site-packages (from jinja2->spacy<3.8.0,>=3.7.0->de-core-news-sm==3.7.0) (2.1.3)\n",
      "\u001b[38;5;2m✔ Download and installation successful\u001b[0m\n",
      "You can now load the package via spacy.load('de_core_news_sm')\n"
     ]
    },
    {
     "name": "stderr",
     "output_type": "stream",
     "text": [
      "\n",
      "[notice] A new release of pip is available: 23.3.1 -> 24.0\n",
      "[notice] To update, run: python.exe -m pip install --upgrade pip\n"
     ]
    }
   ],
   "source": [
    "!pip install nltk\n",
    "!pip install bert_score\n",
    "!pip install datasets\n",
    "!pip install evaluate\n",
    "!pip install -U  torchdata\n",
    "!pip install -U spacy\n",
    "!python -m spacy download en_core_web_sm\n",
    "!python -m spacy download de_core_news_sm"
   ]
  },
  {
   "cell_type": "code",
   "execution_count": 2,
   "metadata": {},
   "outputs": [],
   "source": [
    "import numpy as np\n",
    "import matplotlib.pyplot as plt\n",
    "from datasets import load_dataset\n",
    "import tqdm\n",
    "from torchtext.data.utils import get_tokenizer\n",
    "from torchtext.vocab import build_vocab_from_iterator\n",
    "from torch.utils.data import DataLoader\n",
    "from typing import Iterable, List\n",
    "from torch import Tensor\n",
    "import torch\n",
    "import torch.nn as nn\n",
    "from torch.nn import Transformer\n",
    "import math\n",
    "from timeit import default_timer as timer\n",
    "import nltk \n",
    "from nltk.tokenize import word_tokenize\n",
    "import evaluate\n",
    "import bert_score\n",
    "import wandb"
   ]
  },
  {
   "cell_type": "code",
   "execution_count": 3,
   "metadata": {},
   "outputs": [],
   "source": [
    "DEVICE = torch.device('cuda' if torch.cuda.is_available() else 'cpu')"
   ]
  },
  {
   "cell_type": "markdown",
   "metadata": {},
   "source": [
    "#### Loading data and data visualization"
   ]
  },
  {
   "cell_type": "code",
   "execution_count": 4,
   "metadata": {},
   "outputs": [],
   "source": [
    "train_data = load_dataset(\"wmt16\", \"de-en\", split=\"train[:50000]\")\n",
    "val_data = load_dataset(\"wmt16\", \"de-en\", split=\"validation\")\n",
    "test_data = load_dataset(\"wmt16\", \"de-en\", split=\"test\")"
   ]
  },
  {
   "cell_type": "code",
   "execution_count": 5,
   "metadata": {},
   "outputs": [
    {
     "name": "stdout",
     "output_type": "stream",
     "text": [
      "Train data size: 50000, type: <class 'datasets.arrow_dataset.Dataset'>\n",
      "Validation data size: 2169, type: <class 'datasets.arrow_dataset.Dataset'>\n",
      "Test data size: 2999, type: <class 'datasets.arrow_dataset.Dataset'>\n"
     ]
    }
   ],
   "source": [
    "print(f\"Train data size: {len(train_data)}, type: {type(train_data)}\")\n",
    "print(f\"Validation data size: {len(val_data)}, type: {type(val_data)}\")\n",
    "print(f\"Test data size: {len(test_data)}, type: {type(test_data)}\")"
   ]
  },
  {
   "cell_type": "code",
   "execution_count": 6,
   "metadata": {},
   "outputs": [
    {
     "name": "stdout",
     "output_type": "stream",
     "text": [
      "German: Wiederaufnahme der Sitzungsperiode\n",
      "English: Resumption of the session\n",
      "German: Ich erkläre die am Freitag, dem 17. Dezember unterbrochene Sitzungsperiode des Europäischen Parlaments für wiederaufgenommen, wünsche Ihnen nochmals alles Gute zum Jahreswechsel und hoffe, daß Sie schöne Ferien hatten.\n",
      "English: I declare resumed the session of the European Parliament adjourned on Friday 17 December 1999, and I would like once again to wish you a happy new year in the hope that you enjoyed a pleasant festive period.\n",
      "German: Wie Sie feststellen konnten, ist der gefürchtete \"Millenium-Bug \" nicht eingetreten. Doch sind Bürger einiger unserer Mitgliedstaaten Opfer von schrecklichen Naturkatastrophen geworden.\n",
      "English: Although, as you will have seen, the dreaded 'millennium bug' failed to materialise, still the people in a number of countries suffered a series of natural disasters that truly were dreadful.\n",
      "German: Im Parlament besteht der Wunsch nach einer Aussprache im Verlauf dieser Sitzungsperiode in den nächsten Tagen.\n",
      "English: You have requested a debate on this subject in the course of the next few days, during this part-session.\n",
      "German: Heute möchte ich Sie bitten - das ist auch der Wunsch einiger Kolleginnen und Kollegen -, allen Opfern der Stürme, insbesondere in den verschiedenen Ländern der Europäischen Union, in einer Schweigeminute zu gedenken.\n",
      "English: In the meantime, I should like to observe a minute' s silence, as a number of Members have requested, on behalf of all the victims concerned, particularly those of the terrible storms, in the various countries of the European Union.\n"
     ]
    }
   ],
   "source": [
    "for i in range(5):\n",
    "    data = train_data[i]\n",
    "    german = data[\"translation\"][\"de\"]\n",
    "    english = data[\"translation\"][\"en\"]\n",
    "    print(f\"German: {german}\")\n",
    "    print(f\"English: {english}\")"
   ]
  },
  {
   "cell_type": "code",
   "execution_count": 7,
   "metadata": {},
   "outputs": [],
   "source": [
    "config = dict(\n",
    "    source_language = \"de\", \n",
    "    target_language = \"en\",\n",
    "    EMB_SIZE = 512,\n",
    "    NHEAD = 8,\n",
    "    FFN_HID_DIM = 512,\n",
    "    BATCH_SIZE = 64,\n",
    "    NUM_ENCODER_LAYERS = 3,\n",
    "    NUM_DECODER_LAYERS = 3,\n",
    "    NUM_EPOCHS = 8\n",
    ")"
   ]
  },
  {
   "cell_type": "code",
   "execution_count": 8,
   "metadata": {},
   "outputs": [],
   "source": [
    "source_language = config[\"source_language\"]\n",
    "target_language = config[\"target_language\"]"
   ]
  },
  {
   "cell_type": "markdown",
   "metadata": {},
   "source": [
    "#### Initialising tokenizer"
   ]
  },
  {
   "cell_type": "code",
   "execution_count": 9,
   "metadata": {},
   "outputs": [],
   "source": [
    "# Tokenization\n",
    "token_transform = {}\n",
    "token_transform[source_language] = get_tokenizer('spacy', language='de_core_news_sm')\n",
    "token_transform[target_language] = get_tokenizer('spacy', language='en_core_web_sm')"
   ]
  },
  {
   "cell_type": "code",
   "execution_count": 10,
   "metadata": {},
   "outputs": [
    {
     "name": "stdout",
     "output_type": "stream",
     "text": [
      "{'translation': {'de': 'Wiederaufnahme der Sitzungsperiode', 'en': 'Resumption of the session'}}\n",
      "German: Wiederaufnahme der Sitzungsperiode\n",
      "English: Resumption of the session\n",
      "Tokenized German: ['Wiederaufnahme', 'der', 'Sitzungsperiode']\n",
      "Tokenized English: ['Resumption', 'of', 'the', 'session']\n"
     ]
    }
   ],
   "source": [
    "for i in range(5): \n",
    "    print(train_data[i])\n",
    "    data_pt = train_data[i]\n",
    "    data_src = data_pt['translation'][source_language]\n",
    "    data_tgt = data_pt['translation'][target_language]\n",
    "    print(f\"German: {data_src}\")\n",
    "    print(f\"English: {data_tgt}\")\n",
    "    print(f\"Tokenized German: {token_transform[source_language](data_src)}\")\n",
    "    print(f\"Tokenized English: {token_transform[target_language](data_tgt)}\")\n",
    "    break\n",
    "    "
   ]
  },
  {
   "cell_type": "code",
   "execution_count": 11,
   "metadata": {},
   "outputs": [],
   "source": [
    "# helper function to yield list of tokens\n",
    "def yield_tokens(data_iter: Iterable, language: str) -> List[str]:\n",
    "    for data_sample in data_iter:\n",
    "        yield token_transform[language](data_sample['translation'][language])"
   ]
  },
  {
   "cell_type": "code",
   "execution_count": 12,
   "metadata": {},
   "outputs": [
    {
     "name": "stdout",
     "output_type": "stream",
     "text": [
      "['Wiederaufnahme', 'der', 'Sitzungsperiode']\n"
     ]
    }
   ],
   "source": [
    "tokens = yield_tokens(train_data, source_language)\n",
    "# Checking whether tokenization works or not\n",
    "for token in tokens: \n",
    "    print(token)\n",
    "    break"
   ]
  },
  {
   "cell_type": "markdown",
   "metadata": {},
   "source": [
    "#### Text pre-processing"
   ]
  },
  {
   "cell_type": "code",
   "execution_count": 13,
   "metadata": {},
   "outputs": [],
   "source": [
    "UNK_IDX, PAD_IDX, BOS_IDX, EOS_IDX = 0, 1, 2, 3\n",
    "special_symbols = ['<unk>', '<pad>', '<bos>', '<eos>']"
   ]
  },
  {
   "cell_type": "code",
   "execution_count": 14,
   "metadata": {},
   "outputs": [],
   "source": [
    "vocab_transform = {}   \n",
    "for ln in [source_language, target_language]:\n",
    "    # Create torchtext's Vocab object\n",
    "    vocab_transform[ln] = build_vocab_from_iterator(yield_tokens(train_data, ln), min_freq=1, specials=special_symbols)"
   ]
  },
  {
   "cell_type": "code",
   "execution_count": 15,
   "metadata": {},
   "outputs": [],
   "source": [
    "for ln in [source_language, target_language]:\n",
    "  vocab_transform[ln].set_default_index(UNK_IDX)"
   ]
  },
  {
   "cell_type": "code",
   "execution_count": 16,
   "metadata": {},
   "outputs": [],
   "source": [
    "SRC_VOCAB_SIZE = len(vocab_transform[source_language])\n",
    "TGT_VOCAB_SIZE = len(vocab_transform[target_language])"
   ]
  },
  {
   "cell_type": "code",
   "execution_count": 17,
   "metadata": {},
   "outputs": [],
   "source": [
    "def generate_square_subsequent_mask(sz):\n",
    "    mask = (torch.triu(torch.ones((sz, sz), device=DEVICE)) == 1).transpose(0, 1)\n",
    "    mask = mask.float().masked_fill(mask == 0, float('-inf')).masked_fill(mask == 1, float(0.0))\n",
    "    return mask"
   ]
  },
  {
   "cell_type": "code",
   "execution_count": 18,
   "metadata": {},
   "outputs": [],
   "source": [
    "def create_mask(src, tgt):\n",
    "    src_seq_len = src.shape[0]\n",
    "    tgt_seq_len = tgt.shape[0]\n",
    "\n",
    "    tgt_mask = generate_square_subsequent_mask(tgt_seq_len)\n",
    "    src_mask = torch.zeros((src_seq_len, src_seq_len),device=DEVICE).type(torch.bool)\n",
    "\n",
    "    src_padding_mask = (src == PAD_IDX).transpose(0, 1)\n",
    "    tgt_padding_mask = (tgt == PAD_IDX).transpose(0, 1)\n",
    "    return src_mask, tgt_mask, src_padding_mask, tgt_padding_mask"
   ]
  },
  {
   "cell_type": "code",
   "execution_count": 19,
   "metadata": {},
   "outputs": [],
   "source": [
    "def sequential_transforms(*transforms):\n",
    "    def func(txt_input):\n",
    "        for transform in transforms:\n",
    "            txt_input = transform(txt_input)\n",
    "        return txt_input\n",
    "    return func"
   ]
  },
  {
   "cell_type": "code",
   "execution_count": 20,
   "metadata": {},
   "outputs": [],
   "source": [
    "def tensor_transform(token_ids: List[int]):\n",
    "    return torch.cat((torch.tensor([BOS_IDX]), torch.tensor(token_ids), torch.tensor([EOS_IDX])))"
   ]
  },
  {
   "cell_type": "code",
   "execution_count": 21,
   "metadata": {},
   "outputs": [],
   "source": [
    "text_transform = {}\n",
    "for ln in [source_language, target_language]:\n",
    "    text_transform[ln] = sequential_transforms(token_transform[ln], #Tokenization\n",
    "                                               vocab_transform[ln], #Numericalization\n",
    "                                               tensor_transform) # Add BOS/EOS and create tensor"
   ]
  },
  {
   "cell_type": "markdown",
   "metadata": {},
   "source": [
    "#### Dataloaders"
   ]
  },
  {
   "cell_type": "code",
   "execution_count": 22,
   "metadata": {},
   "outputs": [],
   "source": [
    "def collate_fn(batch):\n",
    "    src_batch, tgt_batch = [], []\n",
    "    for element in batch: \n",
    "        src_ = element[\"translation\"][source_language]\n",
    "        tgt_ = element[\"translation\"][target_language]\n",
    "        src_batch.append(text_transform[source_language](src_))\n",
    "        tgt_batch.append(text_transform[target_language](tgt_))\n",
    "    src_batch = nn.utils.rnn.pad_sequence(src_batch, padding_value=PAD_IDX)\n",
    "    tgt_batch = nn.utils.rnn.pad_sequence(tgt_batch, padding_value=PAD_IDX)\n",
    "    element = {'src': src_batch, 'tgt': tgt_batch}\n",
    "    return element"
   ]
  },
  {
   "cell_type": "markdown",
   "metadata": {},
   "source": [
    "#### Model Architecture"
   ]
  },
  {
   "cell_type": "code",
   "execution_count": 23,
   "metadata": {},
   "outputs": [],
   "source": [
    "# helper Module that adds positional encoding to the token embedding to introduce a notion of word order.\n",
    "class PositionalEncoding(nn.Module):\n",
    "    def __init__(self, emb_size: int, dropout: float, maxlen: int = 5000):\n",
    "        super(PositionalEncoding, self).__init__()\n",
    "        den = torch.exp(- torch.arange(0, emb_size, 2)* math.log(10000) / emb_size)\n",
    "        pos = torch.arange(0, maxlen).reshape(maxlen, 1)\n",
    "        pos_embedding = torch.zeros((maxlen, emb_size))\n",
    "        pos_embedding[:, 0::2] = torch.sin(pos * den)\n",
    "        pos_embedding[:, 1::2] = torch.cos(pos * den)\n",
    "        pos_embedding = pos_embedding.unsqueeze(-2)\n",
    "\n",
    "        self.dropout = nn.Dropout(dropout)\n",
    "        self.register_buffer('pos_embedding', pos_embedding)\n",
    "\n",
    "    def forward(self, token_embedding: Tensor):\n",
    "        return self.dropout(token_embedding + self.pos_embedding[:token_embedding.size(0), :])"
   ]
  },
  {
   "cell_type": "code",
   "execution_count": 24,
   "metadata": {},
   "outputs": [],
   "source": [
    "# helper Module to convert tensor of input indices into corresponding tensor of token embeddings\n",
    "class TokenEmbedding(nn.Module):\n",
    "    def __init__(self, vocab_size: int, emb_size):\n",
    "        super(TokenEmbedding, self).__init__()\n",
    "        self.embedding = nn.Embedding(vocab_size, emb_size)\n",
    "        self.emb_size = emb_size\n",
    "\n",
    "    def forward(self, tokens: Tensor):\n",
    "        return self.embedding(tokens.long()) * math.sqrt(self.emb_size)"
   ]
  },
  {
   "cell_type": "code",
   "execution_count": 25,
   "metadata": {},
   "outputs": [],
   "source": [
    "# Seq2Seq Network\n",
    "class Seq2SeqTransformer(nn.Module):\n",
    "    def __init__(self, num_encoder_layers: int, num_decoder_layers: int, emb_size: int, nhead: int, src_vocab_size: int, tgt_vocab_size: int, dim_feedforward: int = 512, dropout: float = 0.1):\n",
    "        super(Seq2SeqTransformer, self).__init__()\n",
    "        self.transformer = Transformer(d_model=emb_size, nhead=nhead, num_encoder_layers=num_encoder_layers, num_decoder_layers=num_decoder_layers, dim_feedforward=dim_feedforward, dropout=dropout)\n",
    "        self.generator = nn.Linear(emb_size, tgt_vocab_size)\n",
    "        self.src_tok_emb = TokenEmbedding(src_vocab_size, emb_size)\n",
    "        self.tgt_tok_emb = TokenEmbedding(tgt_vocab_size, emb_size)\n",
    "        self.positional_encoding = PositionalEncoding(emb_size, dropout=dropout)\n",
    "\n",
    "    def forward(self, src: Tensor, trg: Tensor, src_mask: Tensor, tgt_mask: Tensor, src_padding_mask: Tensor, tgt_padding_mask: Tensor, memory_key_padding_mask: Tensor):\n",
    "        src_emb = self.positional_encoding(self.src_tok_emb(src))\n",
    "        tgt_emb = self.positional_encoding(self.tgt_tok_emb(trg))\n",
    "        outs = self.transformer(src_emb, tgt_emb, src_mask, tgt_mask, None, src_padding_mask, tgt_padding_mask, memory_key_padding_mask)\n",
    "        return self.generator(outs)\n",
    "\n",
    "    def encode(self, src: Tensor, src_mask: Tensor):\n",
    "        return self.transformer.encoder(self.positional_encoding(self.src_tok_emb(src)), src_mask)\n",
    "\n",
    "    def decode(self, tgt: Tensor, memory: Tensor, tgt_mask: Tensor):\n",
    "        return self.transformer.decoder(self.positional_encoding(self.tgt_tok_emb(tgt)), memory, tgt_mask)"
   ]
  },
  {
   "cell_type": "code",
   "execution_count": 26,
   "metadata": {},
   "outputs": [
    {
     "name": "stderr",
     "output_type": "stream",
     "text": [
      "c:\\Users\\prakh\\anaconda3\\envs\\visiongpu\\Lib\\site-packages\\torch\\nn\\modules\\transformer.py:286: UserWarning: enable_nested_tensor is True, but self.use_nested_tensor is False because encoder_layer.self_attn.batch_first was not True(use batch_first for better inference performance)\n",
      "  warnings.warn(f\"enable_nested_tensor is True, but self.use_nested_tensor is False because {why_not_sparsity_fast_path}\")\n"
     ]
    }
   ],
   "source": [
    "torch.manual_seed(0)\n",
    "\n",
    "transformer = Seq2SeqTransformer(config[\"NUM_ENCODER_LAYERS\"], config[\"NUM_DECODER_LAYERS\"], config[\"EMB_SIZE\"], config[\"NHEAD\"], SRC_VOCAB_SIZE, TGT_VOCAB_SIZE, config[\"FFN_HID_DIM\"])\n",
    "\n",
    "for p in transformer.parameters():\n",
    "    if p.dim() > 1:\n",
    "        nn.init.xavier_uniform_(p)\n",
    "\n",
    "transformer = transformer.to(DEVICE)\n",
    "\n",
    "loss_fn = torch.nn.CrossEntropyLoss(ignore_index=PAD_IDX)\n",
    "\n",
    "optimizer = torch.optim.Adam(transformer.parameters(), lr=0.0001, betas=(0.9, 0.98), eps=1e-9)"
   ]
  },
  {
   "cell_type": "code",
   "execution_count": 27,
   "metadata": {},
   "outputs": [],
   "source": [
    "def evaluate(model, dataloader):\n",
    "    model.eval()\n",
    "    losses = 0\n",
    "\n",
    "    for i, batch in enumerate(dataloader):\n",
    "        src = batch[\"src\"]\n",
    "        tgt = batch[\"tgt\"]\n",
    "        src = src.to(DEVICE)\n",
    "        tgt = tgt.to(DEVICE)\n",
    "\n",
    "        tgt_input = tgt[:-1, :]\n",
    "\n",
    "        src_mask, tgt_mask, src_padding_mask, tgt_padding_mask = create_mask(src, tgt_input)\n",
    "\n",
    "        logits = model(src, tgt_input, src_mask, tgt_mask,src_padding_mask, tgt_padding_mask, src_padding_mask)\n",
    "\n",
    "        tgt_out = tgt[1:, :]\n",
    "        loss = loss_fn(logits.reshape(-1, logits.shape[-1]), tgt_out.reshape(-1))\n",
    "        losses += loss.item()\n",
    "    return losses / len(list(dataloader))"
   ]
  },
  {
   "cell_type": "markdown",
   "metadata": {},
   "source": [
    "#### Evaluation"
   ]
  },
  {
   "cell_type": "code",
   "execution_count": 28,
   "metadata": {},
   "outputs": [],
   "source": [
    "# function to generate output sequence using greedy algorithm\n",
    "def greedy_decode(model, src, src_mask, max_len, start_symbol):\n",
    "    src = src.to(DEVICE)\n",
    "    src_mask = src_mask.to(DEVICE)\n",
    "\n",
    "    memory = model.encode(src, src_mask)\n",
    "    ys = torch.ones(1, 1).fill_(start_symbol).type(torch.long).to(DEVICE)\n",
    "    for i in range(max_len-1):\n",
    "        memory = memory.to(DEVICE)\n",
    "        tgt_mask = (generate_square_subsequent_mask(ys.size(0)).type(torch.bool)).to(DEVICE)\n",
    "        out = model.decode(ys, memory, tgt_mask)\n",
    "        out = out.transpose(0, 1)\n",
    "        prob = model.generator(out[:, -1])\n",
    "        _, next_word = torch.max(prob, dim=1)\n",
    "        next_word = next_word.item()\n",
    "\n",
    "        ys = torch.cat([ys, torch.ones(1, 1).type_as(src.data).fill_(next_word)], dim=0)\n",
    "        if next_word == EOS_IDX:\n",
    "            break\n",
    "    return ys"
   ]
  },
  {
   "cell_type": "code",
   "execution_count": 29,
   "metadata": {},
   "outputs": [],
   "source": [
    "# actual function to translate input sentence into target language\n",
    "def translate(model: torch.nn.Module, src_sentence: str):\n",
    "    model.eval()\n",
    "    src = text_transform[config[\"source_language\"]](src_sentence).view(-1, 1)\n",
    "    num_tokens = src.shape[0]\n",
    "    src_mask = (torch.zeros(num_tokens, num_tokens)).type(torch.bool)\n",
    "    tgt_tokens = greedy_decode(\n",
    "        model,  src, src_mask, max_len=num_tokens + 5, start_symbol=BOS_IDX).flatten()\n",
    "    return \" \".join(vocab_transform[config[\"target_language\"]].lookup_tokens(list(tgt_tokens.cpu().numpy()))).replace(\"<bos>\", \"\").replace(\"<eos>\", \"\")"
   ]
  },
  {
   "cell_type": "code",
   "execution_count": 30,
   "metadata": {},
   "outputs": [
    {
     "name": "stderr",
     "output_type": "stream",
     "text": [
      "c:\\Users\\prakh\\anaconda3\\envs\\visiongpu\\Lib\\site-packages\\torch\\nn\\modules\\transformer.py:286: UserWarning: enable_nested_tensor is True, but self.use_nested_tensor is False because encoder_layer.self_attn.batch_first was not True(use batch_first for better inference performance)\n",
      "  warnings.warn(f\"enable_nested_tensor is True, but self.use_nested_tensor is False because {why_not_sparsity_fast_path}\")\n"
     ]
    }
   ],
   "source": [
    "# load model\n",
    "transformer = Seq2SeqTransformer(config[\"NUM_ENCODER_LAYERS\"], config[\"NUM_DECODER_LAYERS\"], config[\"EMB_SIZE\"], config[\"NHEAD\"], SRC_VOCAB_SIZE, TGT_VOCAB_SIZE, config[\"FFN_HID_DIM\"])\n",
    "transformer.load_state_dict(torch.load(\"Task_2A/2A_transformer_run_3.pth\"))\n",
    "transformer = transformer.to(DEVICE)"
   ]
  },
  {
   "cell_type": "code",
   "execution_count": null,
   "metadata": {},
   "outputs": [],
   "source": [
    "# compute BLEU score using huggingface datasets library\n",
    "from datasets import load_metric\n",
    "metric = load_metric(\"bleu\")\n",
    "# compute actual BLEU score on validation dataset\n",
    "train_predictions = []\n",
    "train_references = []\n",
    "# generate predictions and references for all sentences in the train dataset\n",
    "for i in tqdm.tqdm(range(len(train_data))):\n",
    "    src = train_data[i][\"translation\"][config[\"source_language\"]]\n",
    "    prediction = translate(transformer, src)\n",
    "    reference = train_data[i][\"translation\"][config[\"target_language\"]]\n",
    "    train_predictions.append(prediction)\n",
    "    train_references.append([reference])\n",
    "train_reference = [r[0] for r in train_references]"
   ]
  },
  {
   "cell_type": "code",
   "execution_count": 31,
   "metadata": {},
   "outputs": [
    {
     "name": "stderr",
     "output_type": "stream",
     "text": [
      "  0%|          | 0/2169 [00:00<?, ?it/s]c:\\Users\\prakh\\anaconda3\\envs\\visiongpu\\Lib\\site-packages\\torch\\nn\\functional.py:5476: UserWarning: 1Torch was not compiled with flash attention. (Triggered internally at C:\\cb\\pytorch_1000000000000\\work\\aten\\src\\ATen\\native\\transformers\\cuda\\sdp_utils.cpp:263.)\n",
      "  attn_output = scaled_dot_product_attention(q, k, v, attn_mask, dropout_p, is_causal)\n",
      "100%|██████████| 2169/2169 [11:18<00:00,  3.20it/s]\n"
     ]
    }
   ],
   "source": [
    "val_predictions = []    \n",
    "val_references = []\n",
    "# generate predictions and references for all sentences in the validation dataset\n",
    "for i in tqdm.tqdm(range(len(val_data))):\n",
    "    src = val_data[i][\"translation\"][config[\"source_language\"]]\n",
    "    prediction = translate(transformer, src)\n",
    "    reference = val_data[i][\"translation\"][config[\"target_language\"]]\n",
    "    val_predictions.append(prediction)\n",
    "    val_references.append([reference])\n",
    "val_reference = [r[0] for r in val_references]"
   ]
  },
  {
   "cell_type": "code",
   "execution_count": null,
   "metadata": {},
   "outputs": [],
   "source": [
    "test_predictions = []\n",
    "test_references = []\n",
    "# generate predictions and references for all sentences in the test dataset\n",
    "for i in tqdm.tqdm(range(len(test_data))):\n",
    "    src = test_data[i][\"translation\"][config[\"source_language\"]]\n",
    "    prediction = translate(transformer, src)\n",
    "    reference = test_data[i][\"translation\"][config[\"target_language\"]]\n",
    "    test_predictions.append(prediction)\n",
    "    test_references.append([reference])\n",
    "test_reference = [r[0] for r in test_references]"
   ]
  },
  {
   "cell_type": "code",
   "execution_count": 34,
   "metadata": {},
   "outputs": [
    {
     "name": "stderr",
     "output_type": "stream",
     "text": [
      "[nltk_data] Downloading package wordnet to\n",
      "[nltk_data]     C:\\Users\\prakh\\AppData\\Roaming\\nltk_data...\n",
      "[nltk_data]   Package wordnet is already up-to-date!\n",
      "[nltk_data] Downloading package punkt to\n",
      "[nltk_data]     C:\\Users\\prakh\\AppData\\Roaming\\nltk_data...\n",
      "[nltk_data]   Package punkt is already up-to-date!\n",
      "[nltk_data] Downloading package omw-1.4 to\n",
      "[nltk_data]     C:\\Users\\prakh\\AppData\\Roaming\\nltk_data...\n",
      "[nltk_data]   Package omw-1.4 is already up-to-date!\n"
     ]
    },
    {
     "name": "stdout",
     "output_type": "stream",
     "text": [
      "Validation METEOR score: {'meteor': 0.23495087207185508}\n"
     ]
    }
   ],
   "source": [
    "from evaluate import load\n",
    "meteor = load('meteor')\n",
    "train_meteor = meteor.compute(predictions=train_predictions, references=train_references)\n",
    "val_meteor = meteor.compute(predictions=val_predictions, references=val_references)\n",
    "test_meteor = meteor.compute(predictions=test_predictions, references=test_references)\n",
    "print(f\"Train METEOR score: {train_meteor}\")\n",
    "print(f\"Validation METEOR score: {val_meteor}\")\n",
    "print(f\"Test METEOR score: {test_meteor}\")"
   ]
  },
  {
   "cell_type": "code",
   "execution_count": null,
   "metadata": {},
   "outputs": [],
   "source": [
    "bertScore = load(\"bertscore\")\n",
    "train_bert = bertScore.compute(predictions=train_predictions, references=train_references, lang=\"en\")\n",
    "train_precision = np.mean(train_bert[\"precision\"])\n",
    "train_recall = np.mean(train_bert[\"recall\"])\n",
    "train_f1 = np.mean(train_bert[\"f1\"])\n",
    "val_bert = bertScore.compute(predictions=val_predictions, references=val_references, lang=\"en\")\n",
    "val_precision = np.mean(val_bert[\"precision\"])\n",
    "val_recall = np.mean(val_bert[\"recall\"])\n",
    "val_f1 = np.mean(val_bert[\"f1\"])\n",
    "test_bert = bertScore.compute(predictions=test_predictions, references=test_references, lang=\"en\")\n",
    "test_precision = np.mean(test_bert[\"precision\"])\n",
    "test_recall = np.mean(test_bert[\"recall\"])\n",
    "test_f1 = np.mean(test_bert[\"f1\"])\n",
    "print(f\"Train data: Precision: {train_precision}, Recall: {train_recall}, F1: {train_f1}\")\n",
    "print(f\"Validation data: Precision: {val_precision}, Recall: {val_recall}, F1: {val_f1}\")\n",
    "print(f\"Test data: Precision: {test_precision}, Recall: {test_recall}, F1: {test_f1}\")"
   ]
  },
  {
   "cell_type": "code",
   "execution_count": 36,
   "metadata": {},
   "outputs": [
    {
     "name": "stdout",
     "output_type": "stream",
     "text": [
      "Validation Dataset: \n",
      "BLEU-1 score: 0.718031894381054\n",
      "BLEU-2 score: 0.5519852998864307\n",
      "BLEU-3 score: 0.41669291365055505\n",
      "BLEU-4 score: 0.32828448914569114\n"
     ]
    }
   ],
   "source": [
    "from nltk.translate.bleu_score import corpus_bleu\n",
    "def compute_bleu(reference_validation,translations_validation):\n",
    "    w1 = [1, 0, 0, 0]\n",
    "    w2 = [0.5, 0.5, 0, 0]\n",
    "    w3 = [1/3, 1/3, 1/3, 0]\n",
    "    w4 = [0.25, 0.25, 0.25, 0.25]\n",
    "    bleu1 = corpus_bleu([[ref] for ref in reference_validation], translations_validation, weights=w1)\n",
    "    bleu2 = corpus_bleu([[ref] for ref in reference_validation], translations_validation, weights=w2)\n",
    "    bleu3 = corpus_bleu([[ref] for ref in reference_validation], translations_validation, weights=w3)\n",
    "    bleu4 = corpus_bleu([[ref] for ref in reference_validation], translations_validation, weights=w4)\n",
    "    print(\"BLEU-1 score:\", bleu1)\n",
    "    print(\"BLEU-2 score:\", bleu2)\n",
    "    print(\"BLEU-3 score:\", bleu3)\n",
    "    print(\"BLEU-4 score:\", bleu4)\n",
    "# print(\"Training Dataset: \")\n",
    "# compute_bleu(train_reference, train_predictions)\n",
    "print(\"Validation Dataset: \")\n",
    "compute_bleu(val_reference, val_predictions)\n",
    "# print(\"Testing Dataset: \")\n",
    "# compute_bleu(test_reference, test_predictions)"
   ]
  },
  {
   "cell_type": "markdown",
   "metadata": {},
   "source": [
    "## TASK 2B"
   ]
  },
  {
   "cell_type": "code",
   "execution_count": null,
   "metadata": {},
   "outputs": [],
   "source": [
    "csv_2b = pd.read_csv(\"file_path\")\n",
    "\n",
    "sentences_de = csv_2b['en']"
   ]
  },
  {
   "cell_type": "code",
   "execution_count": null,
   "metadata": {},
   "outputs": [],
   "source": [
    "model_name = \"google-t5/t5-small\"\n",
    "tokenizer = T5Tokenizer.from_pretrained(model_name)\n",
    "model = T5ForConditionalGeneration.from_pretrained(model_name)\n",
    "tranlations_en = []\n",
    "\n",
    "# testing_data = test_Data\n",
    "print(device)\n",
    "model.to(device)\n",
    "\n",
    "# for data in [validation_data, testing_data]:\n",
    "for example in tqdm(sentences_de):\n",
    "    # Prepend the prefix for translation task\n",
    "    input_text = \"translate English to German: \" + example[\"translation\"][\"en\"]  # Modified here\n",
    "    # Tokenize the input text\n",
    "    input_ids = tokenizer.encode(input_text, return_tensors=\"pt\", max_length=512, truncation=True).to(device)\n",
    "    # Generate translation\n",
    "    translated_ids = model.generate(input_ids,  max_length=512, num_beams=4, early_stopping=True).to(device)\n",
    "    # Decode the translated ids\n",
    "    translated_text = tokenizer.decode(translated_ids[0], skip_special_tokens=True)\n",
    "    # if data == validation_data:\n",
    "    tranlations_en.append(translated_text)\n",
    "\n",
    "# make a new csv with columns id, de, en\n",
    "csv_2b['de'] = tranlations_en\n",
    "csv_2b.to_csv('en_de.csv', index=False, sep='\\t')\n"
   ]
  },
  {
   "cell_type": "code",
   "execution_count": null,
   "metadata": {},
   "outputs": [],
   "source": [
    "# compute BLEU score using huggingface datasets library\n",
    "from datasets import load_metric\n",
    "metric = load_metric(\"bleu\")\n",
    "# compute actual BLEU score on validation dataset\n",
    "train_predictions = []\n",
    "train_references = []\n",
    "# generate predictions and references for all sentences in the train dataset\n",
    "for i in tqdm.tqdm(range(len(train_data))):\n",
    "    src = train_data[i][\"translation\"][config[\"source_language\"]]\n",
    "    prediction = translate(transformer, src)\n",
    "    reference = train_data[i][\"translation\"][config[\"target_language\"]]\n",
    "    train_predictions.append(prediction)\n",
    "    train_references.append([reference])\n",
    "train_reference = [r[0] for r in train_references]"
   ]
  },
  {
   "cell_type": "code",
   "execution_count": null,
   "metadata": {},
   "outputs": [],
   "source": [
    "val_predictions = []    \n",
    "val_references = []\n",
    "# generate predictions and references for all sentences in the validation dataset\n",
    "for i in tqdm.tqdm(range(len(val_data))):\n",
    "    src = val_data[i][\"translation\"][config[\"source_language\"]]\n",
    "    prediction = translate(transformer, src)\n",
    "    reference = val_data[i][\"translation\"][config[\"target_language\"]]\n",
    "    val_predictions.append(prediction)\n",
    "    val_references.append([reference])\n",
    "val_reference = [r[0] for r in val_references]"
   ]
  },
  {
   "cell_type": "code",
   "execution_count": null,
   "metadata": {},
   "outputs": [],
   "source": [
    "test_predictions = []\n",
    "test_references = []\n",
    "# generate predictions and references for all sentences in the test dataset\n",
    "for i in tqdm.tqdm(range(len(test_data))):\n",
    "    src = test_data[i][\"translation\"][config[\"source_language\"]]\n",
    "    prediction = translate(transformer, src)\n",
    "    reference = test_data[i][\"translation\"][config[\"target_language\"]]\n",
    "    test_predictions.append(prediction)\n",
    "    test_references.append([reference])\n",
    "test_reference = [r[0] for r in test_references]"
   ]
  },
  {
   "cell_type": "code",
   "execution_count": null,
   "metadata": {},
   "outputs": [],
   "source": [
    "meteor = evaluate.load('meteor')\n",
    "# train_meteor = meteor.compute(predictions=train_predictions, references=train_references)\n",
    "val_meteor = meteor.compute(predictions=val_predictions, references=val_references)\n",
    "# test_meteor = meteor.compute(predictions=test_predictions, references=test_references)\n",
    "# print(f\"Train METEOR score: {train_meteor}\")\n",
    "print(f\"Validation METEOR score: {val_meteor}\")\n",
    "# print(f\"Test METEOR score: {test_meteor}\")"
   ]
  },
  {
   "cell_type": "code",
   "execution_count": null,
   "metadata": {},
   "outputs": [],
   "source": [
    "bertScore = load(\"bertscore\")\n",
    "# train_bert = bertScore.compute(predictions=train_predictions, references=train_references, lang=\"en\")\n",
    "# train_precision = np.mean(train_bert[\"precision\"])\n",
    "# train_recall = np.mean(train_bert[\"recall\"])\n",
    "# train_f1 = np.mean(train_bert[\"f1\"])\n",
    "val_bert = bertScore.compute(predictions=val_predictions, references=val_references, lang=\"en\")\n",
    "val_precision = np.mean(val_bert[\"precision\"])\n",
    "val_recall = np.mean(val_bert[\"recall\"])\n",
    "val_f1 = np.mean(val_bert[\"f1\"])\n",
    "# test_bert = bertScore.compute(predictions=test_predictions, references=test_references, lang=\"en\")\n",
    "# test_precision = np.mean(test_bert[\"precision\"])\n",
    "# test_recall = np.mean(test_bert[\"recall\"])\n",
    "# test_f1 = np.mean(test_bert[\"f1\"])\n",
    "# print(f\"Train data: Precision: {train_precision}, Recall: {train_recall}, F1: {train_f1}\")\n",
    "print(f\"Validation data: Precision: {val_precision}, Recall: {val_recall}, F1: {val_f1}\")\n",
    "# print(f\"Test data: Precision: {test_precision}, Recall: {test_recall}, F1: {test_f1}\")"
   ]
  },
  {
   "cell_type": "code",
   "execution_count": null,
   "metadata": {},
   "outputs": [],
   "source": [
    "from nltk.translate.bleu_score import corpus_bleu\n",
    "def compute_bleu(reference_validation,translations_validation):\n",
    "    w1 = [1, 0, 0, 0]\n",
    "    w2 = [0.5, 0.5, 0, 0]\n",
    "    w3 = [1/3, 1/3, 1/3, 0]\n",
    "    w4 = [0.25, 0.25, 0.25, 0.25]\n",
    "    bleu1 = corpus_bleu([[ref] for ref in reference_validation], translations_validation, weights=w1)\n",
    "    bleu2 = corpus_bleu([[ref] for ref in reference_validation], translations_validation, weights=w2)\n",
    "    bleu3 = corpus_bleu([[ref] for ref in reference_validation], translations_validation, weights=w3)\n",
    "    bleu4 = corpus_bleu([[ref] for ref in reference_validation], translations_validation, weights=w4)\n",
    "    print(\"BLEU-1 score:\", bleu1)\n",
    "    print(\"BLEU-2 score:\", bleu2)\n",
    "    print(\"BLEU-3 score:\", bleu3)\n",
    "    print(\"BLEU-4 score:\", bleu4)\n",
    "# print(\"Training Dataset: \")\n",
    "# compute_bleu(train_reference, train_predictions)\n",
    "print(\"Validation Dataset: \")\n",
    "compute_bleu(val_reference, val_predictions)\n",
    "# print(\"Testing Dataset: \")\n",
    "# compute_bleu(test_reference, test_predictions)"
   ]
  },
  {
   "cell_type": "markdown",
   "metadata": {},
   "source": [
    "## TASK 2C"
   ]
  },
  {
   "cell_type": "code",
   "execution_count": null,
   "metadata": {},
   "outputs": [],
   "source": [
    "csv_2c = pd.read_csv(\"file_path\")\n",
    "\n",
    "sentences_de = csv_2c['de']"
   ]
  },
  {
   "cell_type": "code",
   "execution_count": null,
   "metadata": {},
   "outputs": [],
   "source": [
    "import torch\n",
    "from transformers import T5ForConditionalGeneration, T5Tokenizer\n",
    "from datasets import load_dataset, load_metric\n",
    "from tqdm import tqdm\n",
    "\n",
    "# Load the fine-tuned model\n",
    "model_path = \"/content/drive/MyDrive/fine_tuned_t5_small_task2C\"  # Path to the saved fine-tuned model\n",
    "device = torch.device(\"cuda\" if torch.cuda.is_available() else \"cpu\")\n",
    "model = T5ForConditionalGeneration.from_pretrained(model_path).to(device)\n",
    "tokenizer = T5Tokenizer.from_pretrained(model_path)\n",
    "\n",
    "# Load the test dataset\n",
    "test_dataset = load_dataset(\"wmt16\", \"de-en\", split=\"test\")\n",
    "\n",
    "# Define the BLEU metric\n",
    "bleu_metric = load_metric(\"sacrebleu\")\n",
    "\n",
    "# Generate translations for the test dataset\n",
    "translations = []\n",
    "references = []\n",
    "for example in tqdm(sentences_de):\n",
    "    input_text = \"translate German to English: \" + example\n",
    "    input_ids = tokenizer.encode(input_text, return_tensors=\"pt\", max_length=128, truncation=True).to(device)\n",
    "    translated_ids = model.generate(input_ids, max_length=128, num_beams=4, early_stopping=True)\n",
    "    translated_text = tokenizer.decode(translated_ids[0], skip_special_tokens=True)\n",
    "    translations.append(translated_text)\n",
    "    references.append(example[\"translation\"][\"en\"])\n",
    "\n",
    "# make a new csv with columns id, de, en\n",
    "csv_2c['en'] = translations\n",
    "csv_2c.to_csv('de_en.csv', index=False, sep='\\t')\n",
    "\n"
   ]
  }
 ],
 "metadata": {
  "kernelspec": {
   "display_name": "nlp",
   "language": "python",
   "name": "python3"
  },
  "language_info": {
   "codemirror_mode": {
    "name": "ipython",
    "version": 3
   },
   "file_extension": ".py",
   "mimetype": "text/x-python",
   "name": "python",
   "nbconvert_exporter": "python",
   "pygments_lexer": "ipython3",
   "version": "3.11.7"
  }
 },
 "nbformat": 4,
 "nbformat_minor": 2
}
