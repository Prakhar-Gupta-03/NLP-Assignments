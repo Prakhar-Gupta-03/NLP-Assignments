{
 "cells": [
  {
   "cell_type": "code",
   "execution_count": 1,
   "metadata": {},
   "outputs": [
    {
     "name": "stdout",
     "output_type": "stream",
     "text": [
      "Requirement already satisfied: torch in c:\\users\\saras\\miniconda3\\envs\\nlp\\lib\\site-packages (2.2.0)\n",
      "Requirement already satisfied: filelock in c:\\users\\saras\\miniconda3\\envs\\nlp\\lib\\site-packages (from torch) (3.13.1)\n",
      "Requirement already satisfied: typing-extensions>=4.8.0 in c:\\users\\saras\\miniconda3\\envs\\nlp\\lib\\site-packages (from torch) (4.10.0)\n",
      "Requirement already satisfied: sympy in c:\\users\\saras\\miniconda3\\envs\\nlp\\lib\\site-packages (from torch) (1.12)\n",
      "Requirement already satisfied: networkx in c:\\users\\saras\\miniconda3\\envs\\nlp\\lib\\site-packages (from torch) (3.2.1)\n",
      "Requirement already satisfied: jinja2 in c:\\users\\saras\\miniconda3\\envs\\nlp\\lib\\site-packages (from torch) (3.1.3)\n",
      "Requirement already satisfied: fsspec in c:\\users\\saras\\miniconda3\\envs\\nlp\\lib\\site-packages (from torch) (2024.2.0)\n",
      "Requirement already satisfied: MarkupSafe>=2.0 in c:\\users\\saras\\miniconda3\\envs\\nlp\\lib\\site-packages (from jinja2->torch) (2.1.5)\n",
      "Requirement already satisfied: mpmath>=0.19 in c:\\users\\saras\\miniconda3\\envs\\nlp\\lib\\site-packages (from sympy->torch) (1.3.0)\n",
      "Requirement already satisfied: transformers in c:\\users\\saras\\miniconda3\\envs\\nlp\\lib\\site-packages (4.39.1)\n",
      "Requirement already satisfied: filelock in c:\\users\\saras\\miniconda3\\envs\\nlp\\lib\\site-packages (from transformers) (3.13.1)\n",
      "Requirement already satisfied: huggingface-hub<1.0,>=0.19.3 in c:\\users\\saras\\miniconda3\\envs\\nlp\\lib\\site-packages (from transformers) (0.21.4)\n",
      "Requirement already satisfied: numpy>=1.17 in c:\\users\\saras\\miniconda3\\envs\\nlp\\lib\\site-packages (from transformers) (1.26.4)\n",
      "Requirement already satisfied: packaging>=20.0 in c:\\users\\saras\\miniconda3\\envs\\nlp\\lib\\site-packages (from transformers) (23.2)\n",
      "Requirement already satisfied: pyyaml>=5.1 in c:\\users\\saras\\miniconda3\\envs\\nlp\\lib\\site-packages (from transformers) (6.0.1)\n",
      "Requirement already satisfied: regex!=2019.12.17 in c:\\users\\saras\\miniconda3\\envs\\nlp\\lib\\site-packages (from transformers) (2023.12.25)\n",
      "Requirement already satisfied: requests in c:\\users\\saras\\miniconda3\\envs\\nlp\\lib\\site-packages (from transformers) (2.31.0)\n",
      "Requirement already satisfied: tokenizers<0.19,>=0.14 in c:\\users\\saras\\miniconda3\\envs\\nlp\\lib\\site-packages (from transformers) (0.15.2)\n",
      "Requirement already satisfied: safetensors>=0.4.1 in c:\\users\\saras\\miniconda3\\envs\\nlp\\lib\\site-packages (from transformers) (0.4.2)\n",
      "Requirement already satisfied: tqdm>=4.27 in c:\\users\\saras\\miniconda3\\envs\\nlp\\lib\\site-packages (from transformers) (4.66.2)\n",
      "Requirement already satisfied: fsspec>=2023.5.0 in c:\\users\\saras\\miniconda3\\envs\\nlp\\lib\\site-packages (from huggingface-hub<1.0,>=0.19.3->transformers) (2024.2.0)\n",
      "Requirement already satisfied: typing-extensions>=3.7.4.3 in c:\\users\\saras\\miniconda3\\envs\\nlp\\lib\\site-packages (from huggingface-hub<1.0,>=0.19.3->transformers) (4.10.0)\n",
      "Requirement already satisfied: colorama in c:\\users\\saras\\miniconda3\\envs\\nlp\\lib\\site-packages (from tqdm>=4.27->transformers) (0.4.6)\n",
      "Requirement already satisfied: charset-normalizer<4,>=2 in c:\\users\\saras\\miniconda3\\envs\\nlp\\lib\\site-packages (from requests->transformers) (3.3.2)\n",
      "Requirement already satisfied: idna<4,>=2.5 in c:\\users\\saras\\miniconda3\\envs\\nlp\\lib\\site-packages (from requests->transformers) (3.6)\n",
      "Requirement already satisfied: urllib3<3,>=1.21.1 in c:\\users\\saras\\miniconda3\\envs\\nlp\\lib\\site-packages (from requests->transformers) (2.2.1)\n",
      "Requirement already satisfied: certifi>=2017.4.17 in c:\\users\\saras\\miniconda3\\envs\\nlp\\lib\\site-packages (from requests->transformers) (2024.2.2)\n",
      "Requirement already satisfied: tqdm in c:\\users\\saras\\miniconda3\\envs\\nlp\\lib\\site-packages (4.66.2)\n",
      "Requirement already satisfied: colorama in c:\\users\\saras\\miniconda3\\envs\\nlp\\lib\\site-packages (from tqdm) (0.4.6)\n",
      "Requirement already satisfied: pandas in c:\\users\\saras\\miniconda3\\envs\\nlp\\lib\\site-packages (2.2.1)\n",
      "Requirement already satisfied: numpy<2,>=1.26.0 in c:\\users\\saras\\miniconda3\\envs\\nlp\\lib\\site-packages (from pandas) (1.26.4)\n",
      "Requirement already satisfied: python-dateutil>=2.8.2 in c:\\users\\saras\\miniconda3\\envs\\nlp\\lib\\site-packages (from pandas) (2.9.0)\n",
      "Requirement already satisfied: pytz>=2020.1 in c:\\users\\saras\\miniconda3\\envs\\nlp\\lib\\site-packages (from pandas) (2024.1)\n",
      "Requirement already satisfied: tzdata>=2022.7 in c:\\users\\saras\\miniconda3\\envs\\nlp\\lib\\site-packages (from pandas) (2024.1)\n",
      "Requirement already satisfied: six>=1.5 in c:\\users\\saras\\miniconda3\\envs\\nlp\\lib\\site-packages (from python-dateutil>=2.8.2->pandas) (1.16.0)\n"
     ]
    }
   ],
   "source": [
    "! pip install torch\n",
    "! pip install transformers\n",
    "! pip install tqdm \n",
    "! pip install pandas"
   ]
  },
  {
   "cell_type": "code",
   "execution_count": 49,
   "metadata": {},
   "outputs": [],
   "source": [
    "import torch\n",
    "from transformers import BertTokenizer, BertForSequenceClassification\n",
    "import tqdm\n",
    "import pandas as pd"
   ]
  },
  {
   "cell_type": "markdown",
   "metadata": {},
   "source": [
    "### Loading the data"
   ]
  },
  {
   "cell_type": "code",
   "execution_count": 62,
   "metadata": {},
   "outputs": [],
   "source": [
    "def load_data(file_path):\n",
    "    data = pd.read_table(file_path)\n",
    "    # check if any missing values\n",
    "    print(data.isnull().sum())\n",
    "    key = data.keys()\n",
    "    # some values were missing in sentence2 column, so did the below (sentence1 didnt split properly)\n",
    "    # iterate through the rows in dataframe which have missing values\n",
    "    for index, row in data[data.isnull().any(axis=1)].iterrows():\n",
    "        if pd.isnull(row[key[2]]):\n",
    "            if(len(row[key[1]].split('\\t')) > 2 or len(row[key[1]].split('\\t')) < 2):\n",
    "                data.drop(index, inplace=True)\n",
    "                continue\n",
    "            # split the sentence1 into words into 2 parts based on \\t and assign to sentence1 and sentence2\n",
    "            sentence1, sentence2 = row[key[1]].split('\\t')\n",
    "            score = row[key[0]]\n",
    "            # assign to the row\n",
    "            data.at[index, key[1]] = sentence1\n",
    "            data.at[index, key[2]] = sentence2\n",
    "            data.at[index, key[0]] = score\n",
    "    #rescale every score in data from 0-5 to 0-1\n",
    "    data[key[0]] = data[key[0]]/5\n",
    "    return data"
   ]
  },
  {
   "cell_type": "code",
   "execution_count": 63,
   "metadata": {},
   "outputs": [
    {
     "name": "stdout",
     "output_type": "stream",
     "text": [
      "score        0\n",
      "sentence1    0\n",
      "sentence2    5\n",
      "dtype: int64\n",
      "score        0\n",
      "sentence1    0\n",
      "sentence2    2\n",
      "dtype: int64\n"
     ]
    }
   ],
   "source": [
    "train_data = load_data('train.csv')\n",
    "valid_data = load_data('dev.csv')"
   ]
  },
  {
   "cell_type": "code",
   "execution_count": 64,
   "metadata": {},
   "outputs": [
    {
     "data": {
      "text/html": [
       "<div>\n",
       "<style scoped>\n",
       "    .dataframe tbody tr th:only-of-type {\n",
       "        vertical-align: middle;\n",
       "    }\n",
       "\n",
       "    .dataframe tbody tr th {\n",
       "        vertical-align: top;\n",
       "    }\n",
       "\n",
       "    .dataframe thead th {\n",
       "        text-align: right;\n",
       "    }\n",
       "</style>\n",
       "<table border=\"1\" class=\"dataframe\">\n",
       "  <thead>\n",
       "    <tr style=\"text-align: right;\">\n",
       "      <th></th>\n",
       "      <th>score</th>\n",
       "      <th>sentence1</th>\n",
       "      <th>sentence2</th>\n",
       "    </tr>\n",
       "  </thead>\n",
       "  <tbody>\n",
       "    <tr>\n",
       "      <th>1460</th>\n",
       "      <td>0.4</td>\n",
       "      <td>New UN peacekeeping chief named for Central Af...</td>\n",
       "      <td>UN takes over peacekeeping in Central African ...</td>\n",
       "    </tr>\n",
       "    <tr>\n",
       "      <th>1461</th>\n",
       "      <td>1.0</td>\n",
       "      <td>Oil falls in Asian trade</td>\n",
       "      <td>Oil prices down in Asian trade</td>\n",
       "    </tr>\n",
       "    <tr>\n",
       "      <th>1462</th>\n",
       "      <td>0.6</td>\n",
       "      <td>Israeli forces detain Palestinian MP in Hebron</td>\n",
       "      <td>Israeli forces detain 2 Palestinians in overni...</td>\n",
       "    </tr>\n",
       "    <tr>\n",
       "      <th>1463</th>\n",
       "      <td>0.6</td>\n",
       "      <td>Israeli police clash with Palestinian proteste...</td>\n",
       "      <td>Israel Police Clash With Palestinians in Jerus...</td>\n",
       "    </tr>\n",
       "    <tr>\n",
       "      <th>1464</th>\n",
       "      <td>0.0</td>\n",
       "      <td>3 killed, 4 injured in Los Angeles shootings</td>\n",
       "      <td>Five killed in Saudi Arabia shooting</td>\n",
       "    </tr>\n",
       "    <tr>\n",
       "      <th>1465</th>\n",
       "      <td>0.4</td>\n",
       "      <td>Scientists prove there is water on Mars</td>\n",
       "      <td>Has Nasa discovered water on Mars?</td>\n",
       "    </tr>\n",
       "    <tr>\n",
       "      <th>1466</th>\n",
       "      <td>0.0</td>\n",
       "      <td>Pranab stresses need to strive for peace by na...</td>\n",
       "      <td>WTO: India regrets action of developed nations</td>\n",
       "    </tr>\n",
       "    <tr>\n",
       "      <th>1467</th>\n",
       "      <td>0.4</td>\n",
       "      <td>Volkswagen skids into red in wake of pollution...</td>\n",
       "      <td>Volkswagen's \"gesture of goodwill\" to diesel o...</td>\n",
       "    </tr>\n",
       "    <tr>\n",
       "      <th>1468</th>\n",
       "      <td>0.0</td>\n",
       "      <td>Obama is right: Africa deserves better leadership</td>\n",
       "      <td>Obama waiting for midterm to name attorney gen...</td>\n",
       "    </tr>\n",
       "    <tr>\n",
       "      <th>1469</th>\n",
       "      <td>0.0</td>\n",
       "      <td>New video shows US police officers beating men...</td>\n",
       "      <td>New York police officer critically wounded in ...</td>\n",
       "    </tr>\n",
       "  </tbody>\n",
       "</table>\n",
       "</div>"
      ],
      "text/plain": [
       "      score                                          sentence1  \\\n",
       "1460    0.4  New UN peacekeeping chief named for Central Af...   \n",
       "1461    1.0                           Oil falls in Asian trade   \n",
       "1462    0.6     Israeli forces detain Palestinian MP in Hebron   \n",
       "1463    0.6  Israeli police clash with Palestinian proteste...   \n",
       "1464    0.0       3 killed, 4 injured in Los Angeles shootings   \n",
       "1465    0.4            Scientists prove there is water on Mars   \n",
       "1466    0.0  Pranab stresses need to strive for peace by na...   \n",
       "1467    0.4  Volkswagen skids into red in wake of pollution...   \n",
       "1468    0.0  Obama is right: Africa deserves better leadership   \n",
       "1469    0.0  New video shows US police officers beating men...   \n",
       "\n",
       "                                              sentence2  \n",
       "1460  UN takes over peacekeeping in Central African ...  \n",
       "1461                     Oil prices down in Asian trade  \n",
       "1462  Israeli forces detain 2 Palestinians in overni...  \n",
       "1463  Israel Police Clash With Palestinians in Jerus...  \n",
       "1464               Five killed in Saudi Arabia shooting  \n",
       "1465                 Has Nasa discovered water on Mars?  \n",
       "1466     WTO: India regrets action of developed nations  \n",
       "1467  Volkswagen's \"gesture of goodwill\" to diesel o...  \n",
       "1468  Obama waiting for midterm to name attorney gen...  \n",
       "1469  New York police officer critically wounded in ...  "
      ]
     },
     "execution_count": 64,
     "metadata": {},
     "output_type": "execute_result"
    }
   ],
   "source": [
    "valid_data.tail(10)"
   ]
  },
  {
   "cell_type": "code",
   "execution_count": 65,
   "metadata": {},
   "outputs": [
    {
     "name": "stdout",
     "output_type": "stream",
     "text": [
      "(5709, 3)\n",
      "score\n",
      "0.0000    367\n",
      "0.8000    351\n",
      "0.6000    308\n",
      "1.0000    265\n",
      "0.7600    263\n",
      "         ... \n",
      "0.0134      1\n",
      "0.1454      1\n",
      "0.3400      1\n",
      "0.3556      1\n",
      "0.8660      1\n",
      "Name: count, Length: 139, dtype: int64\n"
     ]
    }
   ],
   "source": [
    "print(train_data.shape)\n",
    "print(train_data['score'].value_counts())"
   ]
  },
  {
   "cell_type": "markdown",
   "metadata": {},
   "source": [
    "### Defining device variable"
   ]
  },
  {
   "cell_type": "code",
   "execution_count": 66,
   "metadata": {},
   "outputs": [
    {
     "name": "stdout",
     "output_type": "stream",
     "text": [
      "Using device: cpu\n"
     ]
    }
   ],
   "source": [
    "device = torch.device(\"cuda\" if torch.cuda.is_available() else \"cpu\")\n",
    "print(\"Using device:\", device)"
   ]
  },
  {
   "cell_type": "markdown",
   "metadata": {},
   "source": [
    "### Task 1A: using BERT and a linear layer to directly get the score"
   ]
  },
  {
   "cell_type": "code",
   "execution_count": 4,
   "metadata": {},
   "outputs": [
    {
     "name": "stderr",
     "output_type": "stream",
     "text": [
      "Some weights of BertForSequenceClassification were not initialized from the model checkpoint at bert-base-uncased and are newly initialized: ['classifier.bias', 'classifier.weight']\n",
      "You should probably TRAIN this model on a down-stream task to be able to use it for predictions and inference.\n"
     ]
    },
    {
     "name": "stdout",
     "output_type": "stream",
     "text": [
      "['hello', ',', 'my', 'dog', 'is', 'cute']\n"
     ]
    }
   ],
   "source": [
    "# Load pre-trained model\n",
    "model = BertForSequenceClassification.from_pretrained('bert-base-uncased', num_labels=2)\n",
    "sep_token = '[SEP]'\n",
    "\n",
    "# Load pre-trained model tokenizer\n",
    "tokenizer = BertTokenizer.from_pretrained('bert-base-uncased')\n",
    "\n",
    "# Tokenize input\n",
    "text = \"Hello, my dog is cute\"\n",
    "tokens = tokenizer.tokenize(text)\n",
    "print(tokens)"
   ]
  },
  {
   "cell_type": "code",
   "execution_count": null,
   "metadata": {},
   "outputs": [],
   "source": []
  }
 ],
 "metadata": {
  "kernelspec": {
   "display_name": "nlp",
   "language": "python",
   "name": "python3"
  },
  "language_info": {
   "codemirror_mode": {
    "name": "ipython",
    "version": 3
   },
   "file_extension": ".py",
   "mimetype": "text/x-python",
   "name": "python",
   "nbconvert_exporter": "python",
   "pygments_lexer": "ipython3",
   "version": "3.12.2"
  }
 },
 "nbformat": 4,
 "nbformat_minor": 2
}
