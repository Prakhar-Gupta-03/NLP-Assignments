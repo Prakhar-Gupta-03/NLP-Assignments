{
 "cells": [
  {
   "cell_type": "code",
   "execution_count": 31,
   "metadata": {},
   "outputs": [],
   "source": [
    "import numpy as np\n",
    "import matplotlib.pyplot as plt\n",
    "from datasets import load_dataset\n",
    "import tqdm\n",
    "from torchtext.data.utils import get_tokenizer\n",
    "from torchtext.vocab import build_vocab_from_iterator\n",
    "from torchtext.datasets import multi30k, Multi30k\n",
    "from typing import Iterable, List"
   ]
  },
  {
   "cell_type": "code",
   "execution_count": 29,
   "metadata": {},
   "outputs": [],
   "source": [
    "train_data = load_dataset(\"wmt16\", \"de-en\", split=\"train[:50000]\")\n",
    "val_data = load_dataset(\"wmt16\", \"de-en\", split=\"validation\")\n",
    "test_data = load_dataset(\"wmt16\", \"de-en\", split=\"test\")"
   ]
  },
  {
   "cell_type": "code",
   "execution_count": 30,
   "metadata": {},
   "outputs": [
    {
     "name": "stdout",
     "output_type": "stream",
     "text": [
      "Train data size: 50000, type: <class 'datasets.arrow_dataset.Dataset'>\n",
      "Validation data size: 2169, type: <class 'datasets.arrow_dataset.Dataset'>\n",
      "Test data size: 2999, type: <class 'datasets.arrow_dataset.Dataset'>\n"
     ]
    }
   ],
   "source": [
    "print(f\"Train data size: {len(train_data)}, type: {type(train_data)}\")\n",
    "print(f\"Validation data size: {len(val_data)}, type: {type(val_data)}\")\n",
    "print(f\"Test data size: {len(test_data)}, type: {type(test_data)}\")"
   ]
  },
  {
   "cell_type": "code",
   "execution_count": 4,
   "metadata": {},
   "outputs": [
    {
     "name": "stdout",
     "output_type": "stream",
     "text": [
      "German: Wiederaufnahme der Sitzungsperiode\n",
      "English: Resumption of the session\n",
      "German: Ich erkläre die am Freitag, dem 17. Dezember unterbrochene Sitzungsperiode des Europäischen Parlaments für wiederaufgenommen, wünsche Ihnen nochmals alles Gute zum Jahreswechsel und hoffe, daß Sie schöne Ferien hatten.\n",
      "English: I declare resumed the session of the European Parliament adjourned on Friday 17 December 1999, and I would like once again to wish you a happy new year in the hope that you enjoyed a pleasant festive period.\n",
      "German: Wie Sie feststellen konnten, ist der gefürchtete \"Millenium-Bug \" nicht eingetreten. Doch sind Bürger einiger unserer Mitgliedstaaten Opfer von schrecklichen Naturkatastrophen geworden.\n",
      "English: Although, as you will have seen, the dreaded 'millennium bug' failed to materialise, still the people in a number of countries suffered a series of natural disasters that truly were dreadful.\n",
      "German: Im Parlament besteht der Wunsch nach einer Aussprache im Verlauf dieser Sitzungsperiode in den nächsten Tagen.\n",
      "English: You have requested a debate on this subject in the course of the next few days, during this part-session.\n",
      "German: Heute möchte ich Sie bitten - das ist auch der Wunsch einiger Kolleginnen und Kollegen -, allen Opfern der Stürme, insbesondere in den verschiedenen Ländern der Europäischen Union, in einer Schweigeminute zu gedenken.\n",
      "English: In the meantime, I should like to observe a minute' s silence, as a number of Members have requested, on behalf of all the victims concerned, particularly those of the terrible storms, in the various countries of the European Union.\n"
     ]
    }
   ],
   "source": [
    "for i in range(5):\n",
    "    data = train_data[i]\n",
    "    german = data[\"translation\"][\"de\"]\n",
    "    english = data[\"translation\"][\"en\"]\n",
    "    print(f\"German: {german}\")\n",
    "    print(f\"English: {english}\")"
   ]
  },
  {
   "cell_type": "code",
   "execution_count": 50,
   "metadata": {},
   "outputs": [],
   "source": [
    "source_language = \"de\"\n",
    "target_language = \"en\""
   ]
  },
  {
   "cell_type": "code",
   "execution_count": 51,
   "metadata": {},
   "outputs": [],
   "source": [
    "multi30k.URL[\"train\"] = \"https://raw.githubusercontent.com/neychev/small_DL_repo/master/datasets/Multi30k/training.tar.gz\"\n",
    "multi30k.URL[\"valid\"] = \"https://raw.githubusercontent.com/neychev/small_DL_repo/master/datasets/Multi30k/validation.tar.gz\""
   ]
  },
  {
   "cell_type": "markdown",
   "metadata": {},
   "source": [
    "#### Installations"
   ]
  },
  {
   "cell_type": "code",
   "execution_count": null,
   "metadata": {},
   "outputs": [],
   "source": [
    "!pip install portalocker"
   ]
  },
  {
   "cell_type": "code",
   "execution_count": 8,
   "metadata": {},
   "outputs": [
    {
     "name": "stdout",
     "output_type": "stream",
     "text": [
      "Requirement already satisfied: torchdata in c:\\users\\prakh\\anaconda3\\envs\\visiongpu\\lib\\site-packages (0.7.1)\n",
      "Requirement already satisfied: urllib3>=1.25 in c:\\users\\prakh\\anaconda3\\envs\\visiongpu\\lib\\site-packages (from torchdata) (2.1.0)\n",
      "Requirement already satisfied: requests in c:\\users\\prakh\\anaconda3\\envs\\visiongpu\\lib\\site-packages (from torchdata) (2.31.0)\n",
      "Requirement already satisfied: torch>=2 in c:\\users\\prakh\\anaconda3\\envs\\visiongpu\\lib\\site-packages (from torchdata) (2.2.1)\n",
      "Requirement already satisfied: filelock in c:\\users\\prakh\\anaconda3\\envs\\visiongpu\\lib\\site-packages (from torch>=2->torchdata) (3.13.1)\n",
      "Requirement already satisfied: typing-extensions>=4.8.0 in c:\\users\\prakh\\anaconda3\\envs\\visiongpu\\lib\\site-packages (from torch>=2->torchdata) (4.9.0)\n",
      "Requirement already satisfied: sympy in c:\\users\\prakh\\anaconda3\\envs\\visiongpu\\lib\\site-packages (from torch>=2->torchdata) (1.12)\n",
      "Requirement already satisfied: networkx in c:\\users\\prakh\\anaconda3\\envs\\visiongpu\\lib\\site-packages (from torch>=2->torchdata) (3.1)\n",
      "Requirement already satisfied: jinja2 in c:\\users\\prakh\\anaconda3\\envs\\visiongpu\\lib\\site-packages (from torch>=2->torchdata) (3.1.3)\n",
      "Requirement already satisfied: fsspec in c:\\users\\prakh\\anaconda3\\envs\\visiongpu\\lib\\site-packages (from torch>=2->torchdata) (2024.2.0)\n",
      "Requirement already satisfied: charset-normalizer<4,>=2 in c:\\users\\prakh\\anaconda3\\envs\\visiongpu\\lib\\site-packages (from requests->torchdata) (2.0.4)\n",
      "Requirement already satisfied: idna<4,>=2.5 in c:\\users\\prakh\\anaconda3\\envs\\visiongpu\\lib\\site-packages (from requests->torchdata) (3.4)\n",
      "Requirement already satisfied: certifi>=2017.4.17 in c:\\users\\prakh\\anaconda3\\envs\\visiongpu\\lib\\site-packages (from requests->torchdata) (2024.2.2)\n",
      "Requirement already satisfied: MarkupSafe>=2.0 in c:\\users\\prakh\\anaconda3\\envs\\visiongpu\\lib\\site-packages (from jinja2->torch>=2->torchdata) (2.1.3)\n",
      "Requirement already satisfied: mpmath>=0.19 in c:\\users\\prakh\\anaconda3\\envs\\visiongpu\\lib\\site-packages (from sympy->torch>=2->torchdata) (1.3.0)\n"
     ]
    },
    {
     "name": "stderr",
     "output_type": "stream",
     "text": [
      "\n",
      "[notice] A new release of pip is available: 23.3.1 -> 24.0\n",
      "[notice] To update, run: python.exe -m pip install --upgrade pip\n"
     ]
    }
   ],
   "source": [
    "!pip install -U  torchdata"
   ]
  },
  {
   "cell_type": "code",
   "execution_count": 9,
   "metadata": {},
   "outputs": [
    {
     "name": "stdout",
     "output_type": "stream",
     "text": [
      "Collecting spacy\n",
      "  Downloading spacy-3.7.4-cp311-cp311-win_amd64.whl.metadata (27 kB)\n",
      "Collecting spacy-legacy<3.1.0,>=3.0.11 (from spacy)\n",
      "  Downloading spacy_legacy-3.0.12-py2.py3-none-any.whl.metadata (2.8 kB)\n",
      "Collecting spacy-loggers<2.0.0,>=1.0.0 (from spacy)\n",
      "  Using cached spacy_loggers-1.0.5-py3-none-any.whl.metadata (23 kB)\n",
      "Collecting murmurhash<1.1.0,>=0.28.0 (from spacy)\n",
      "  Using cached murmurhash-1.0.10-cp311-cp311-win_amd64.whl.metadata (2.0 kB)\n",
      "Collecting cymem<2.1.0,>=2.0.2 (from spacy)\n",
      "  Using cached cymem-2.0.8-cp311-cp311-win_amd64.whl.metadata (8.6 kB)\n",
      "Collecting preshed<3.1.0,>=3.0.2 (from spacy)\n",
      "  Using cached preshed-3.0.9-cp311-cp311-win_amd64.whl.metadata (2.2 kB)\n",
      "Collecting thinc<8.3.0,>=8.2.2 (from spacy)\n",
      "  Downloading thinc-8.2.3-cp311-cp311-win_amd64.whl.metadata (15 kB)\n",
      "Collecting wasabi<1.2.0,>=0.9.1 (from spacy)\n",
      "  Using cached wasabi-1.1.2-py3-none-any.whl.metadata (28 kB)\n",
      "Collecting srsly<3.0.0,>=2.4.3 (from spacy)\n",
      "  Using cached srsly-2.4.8-cp311-cp311-win_amd64.whl.metadata (20 kB)\n",
      "Collecting catalogue<2.1.0,>=2.0.6 (from spacy)\n",
      "  Using cached catalogue-2.0.10-py3-none-any.whl.metadata (14 kB)\n",
      "Collecting weasel<0.4.0,>=0.1.0 (from spacy)\n",
      "  Downloading weasel-0.3.4-py3-none-any.whl.metadata (4.7 kB)\n",
      "Collecting typer<0.10.0,>=0.3.0 (from spacy)\n",
      "  Downloading typer-0.9.4-py3-none-any.whl.metadata (14 kB)\n",
      "Collecting smart-open<7.0.0,>=5.2.1 (from spacy)\n",
      "  Using cached smart_open-6.4.0-py3-none-any.whl.metadata (21 kB)\n",
      "Requirement already satisfied: tqdm<5.0.0,>=4.38.0 in c:\\users\\prakh\\anaconda3\\envs\\visiongpu\\lib\\site-packages (from spacy) (4.66.2)\n",
      "Requirement already satisfied: requests<3.0.0,>=2.13.0 in c:\\users\\prakh\\anaconda3\\envs\\visiongpu\\lib\\site-packages (from spacy) (2.31.0)\n",
      "Collecting pydantic!=1.8,!=1.8.1,<3.0.0,>=1.7.4 (from spacy)\n",
      "  Downloading pydantic-2.6.4-py3-none-any.whl.metadata (85 kB)\n",
      "     ---------------------------------------- 0.0/85.1 kB ? eta -:--:--\n",
      "     ---------------------------------------- 85.1/85.1 kB 2.4 MB/s eta 0:00:00\n",
      "Requirement already satisfied: jinja2 in c:\\users\\prakh\\anaconda3\\envs\\visiongpu\\lib\\site-packages (from spacy) (3.1.3)\n",
      "Requirement already satisfied: setuptools in c:\\users\\prakh\\appdata\\roaming\\python\\python311\\site-packages (from spacy) (68.2.2)\n",
      "Requirement already satisfied: packaging>=20.0 in c:\\users\\prakh\\appdata\\roaming\\python\\python311\\site-packages (from spacy) (23.2)\n",
      "Collecting langcodes<4.0.0,>=3.2.0 (from spacy)\n",
      "  Downloading langcodes-3.3.0-py3-none-any.whl.metadata (29 kB)\n",
      "Requirement already satisfied: numpy>=1.19.0 in c:\\users\\prakh\\appdata\\roaming\\python\\python311\\site-packages (from spacy) (1.26.2)\n",
      "Collecting annotated-types>=0.4.0 (from pydantic!=1.8,!=1.8.1,<3.0.0,>=1.7.4->spacy)\n",
      "  Using cached annotated_types-0.6.0-py3-none-any.whl.metadata (12 kB)\n",
      "Collecting pydantic-core==2.16.3 (from pydantic!=1.8,!=1.8.1,<3.0.0,>=1.7.4->spacy)\n",
      "  Downloading pydantic_core-2.16.3-cp311-none-win_amd64.whl.metadata (6.6 kB)\n",
      "Requirement already satisfied: typing-extensions>=4.6.1 in c:\\users\\prakh\\anaconda3\\envs\\visiongpu\\lib\\site-packages (from pydantic!=1.8,!=1.8.1,<3.0.0,>=1.7.4->spacy) (4.9.0)\n",
      "Requirement already satisfied: charset-normalizer<4,>=2 in c:\\users\\prakh\\anaconda3\\envs\\visiongpu\\lib\\site-packages (from requests<3.0.0,>=2.13.0->spacy) (2.0.4)\n",
      "Requirement already satisfied: idna<4,>=2.5 in c:\\users\\prakh\\anaconda3\\envs\\visiongpu\\lib\\site-packages (from requests<3.0.0,>=2.13.0->spacy) (3.4)\n",
      "Requirement already satisfied: urllib3<3,>=1.21.1 in c:\\users\\prakh\\anaconda3\\envs\\visiongpu\\lib\\site-packages (from requests<3.0.0,>=2.13.0->spacy) (2.1.0)\n",
      "Requirement already satisfied: certifi>=2017.4.17 in c:\\users\\prakh\\anaconda3\\envs\\visiongpu\\lib\\site-packages (from requests<3.0.0,>=2.13.0->spacy) (2024.2.2)\n",
      "Collecting blis<0.8.0,>=0.7.8 (from thinc<8.3.0,>=8.2.2->spacy)\n",
      "  Using cached blis-0.7.11-cp311-cp311-win_amd64.whl.metadata (7.6 kB)\n",
      "Collecting confection<1.0.0,>=0.0.1 (from thinc<8.3.0,>=8.2.2->spacy)\n",
      "  Downloading confection-0.1.4-py3-none-any.whl.metadata (19 kB)\n",
      "Requirement already satisfied: colorama in c:\\users\\prakh\\appdata\\roaming\\python\\python311\\site-packages (from tqdm<5.0.0,>=4.38.0->spacy) (0.4.6)\n",
      "Requirement already satisfied: click<9.0.0,>=7.1.1 in c:\\users\\prakh\\anaconda3\\envs\\visiongpu\\lib\\site-packages (from typer<0.10.0,>=0.3.0->spacy) (8.1.7)\n",
      "Collecting cloudpathlib<0.17.0,>=0.7.0 (from weasel<0.4.0,>=0.1.0->spacy)\n",
      "  Using cached cloudpathlib-0.16.0-py3-none-any.whl.metadata (14 kB)\n",
      "Requirement already satisfied: MarkupSafe>=2.0 in c:\\users\\prakh\\anaconda3\\envs\\visiongpu\\lib\\site-packages (from jinja2->spacy) (2.1.3)\n",
      "Downloading spacy-3.7.4-cp311-cp311-win_amd64.whl (12.1 MB)\n",
      "   ---------------------------------------- 0.0/12.1 MB ? eta -:--:--\n",
      "   - -------------------------------------- 0.6/12.1 MB 11.8 MB/s eta 0:00:01\n",
      "   --- ------------------------------------ 1.0/12.1 MB 10.3 MB/s eta 0:00:02\n",
      "   ----- ---------------------------------- 1.5/12.1 MB 10.8 MB/s eta 0:00:01\n",
      "   ------- -------------------------------- 2.2/12.1 MB 11.8 MB/s eta 0:00:01\n",
      "   --------- ------------------------------ 3.0/12.1 MB 11.8 MB/s eta 0:00:01\n",
      "   ------------ --------------------------- 3.6/12.1 MB 12.9 MB/s eta 0:00:01\n",
      "   -------------- ------------------------- 4.4/12.1 MB 13.3 MB/s eta 0:00:01\n",
      "   ---------------- ----------------------- 5.0/12.1 MB 13.9 MB/s eta 0:00:01\n",
      "   ------------------- -------------------- 5.8/12.1 MB 13.8 MB/s eta 0:00:01\n",
      "   --------------------- ------------------ 6.5/12.1 MB 14.3 MB/s eta 0:00:01\n",
      "   ------------------------ --------------- 7.5/12.1 MB 14.4 MB/s eta 0:00:01\n",
      "   --------------------------- ------------ 8.3/12.1 MB 15.2 MB/s eta 0:00:01\n",
      "   ------------------------------ --------- 9.3/12.1 MB 15.7 MB/s eta 0:00:01\n",
      "   ----------------------------------- ---- 10.7/12.1 MB 16.8 MB/s eta 0:00:01\n",
      "   -------------------------------------- - 11.7/12.1 MB 18.7 MB/s eta 0:00:01\n",
      "   ---------------------------------------- 12.1/12.1 MB 18.2 MB/s eta 0:00:00\n",
      "Using cached catalogue-2.0.10-py3-none-any.whl (17 kB)\n",
      "Using cached cymem-2.0.8-cp311-cp311-win_amd64.whl (39 kB)\n",
      "Using cached langcodes-3.3.0-py3-none-any.whl (181 kB)\n",
      "Using cached murmurhash-1.0.10-cp311-cp311-win_amd64.whl (25 kB)\n",
      "Using cached preshed-3.0.9-cp311-cp311-win_amd64.whl (122 kB)\n",
      "Downloading pydantic-2.6.4-py3-none-any.whl (394 kB)\n",
      "   ---------------------------------------- 0.0/394.9 kB ? eta -:--:--\n",
      "   --------------------------------------- 394.9/394.9 kB 25.6 MB/s eta 0:00:00\n",
      "Downloading pydantic_core-2.16.3-cp311-none-win_amd64.whl (1.9 MB)\n",
      "   ---------------------------------------- 0.0/1.9 MB ? eta -:--:--\n",
      "   ------------------- -------------------- 0.9/1.9 MB 29.4 MB/s eta 0:00:01\n",
      "   -------------------------------- ------- 1.5/1.9 MB 19.4 MB/s eta 0:00:01\n",
      "   ---------------------------------------- 1.9/1.9 MB 17.2 MB/s eta 0:00:00\n",
      "Using cached smart_open-6.4.0-py3-none-any.whl (57 kB)\n",
      "Using cached spacy_legacy-3.0.12-py2.py3-none-any.whl (29 kB)\n",
      "Using cached spacy_loggers-1.0.5-py3-none-any.whl (22 kB)\n",
      "Using cached srsly-2.4.8-cp311-cp311-win_amd64.whl (479 kB)\n",
      "Downloading thinc-8.2.3-cp311-cp311-win_amd64.whl (1.5 MB)\n",
      "   ---------------------------------------- 0.0/1.5 MB ? eta -:--:--\n",
      "   ---------------------------- ----------- 1.0/1.5 MB 32.3 MB/s eta 0:00:01\n",
      "   ---------------------------------------- 1.5/1.5 MB 23.3 MB/s eta 0:00:00\n",
      "Downloading typer-0.9.4-py3-none-any.whl (45 kB)\n",
      "   ---------------------------------------- 0.0/46.0 kB ? eta -:--:--\n",
      "   ---------------------------------------- 46.0/46.0 kB 2.2 MB/s eta 0:00:00\n",
      "Using cached wasabi-1.1.2-py3-none-any.whl (27 kB)\n",
      "Downloading weasel-0.3.4-py3-none-any.whl (50 kB)\n",
      "   ---------------------------------------- 0.0/50.1 kB ? eta -:--:--\n",
      "   ---------------------------------------- 50.1/50.1 kB 2.7 MB/s eta 0:00:00\n",
      "Using cached annotated_types-0.6.0-py3-none-any.whl (12 kB)\n",
      "Using cached blis-0.7.11-cp311-cp311-win_amd64.whl (6.6 MB)\n",
      "Using cached cloudpathlib-0.16.0-py3-none-any.whl (45 kB)\n",
      "Downloading confection-0.1.4-py3-none-any.whl (35 kB)\n",
      "Installing collected packages: cymem, wasabi, spacy-loggers, spacy-legacy, smart-open, pydantic-core, murmurhash, langcodes, cloudpathlib, catalogue, blis, annotated-types, typer, srsly, pydantic, preshed, confection, weasel, thinc, spacy\n",
      "  Attempting uninstall: smart-open\n",
      "    Found existing installation: smart_open 7.0.1\n",
      "    Uninstalling smart_open-7.0.1:\n",
      "      Successfully uninstalled smart_open-7.0.1\n",
      "Successfully installed annotated-types-0.6.0 blis-0.7.11 catalogue-2.0.10 cloudpathlib-0.16.0 confection-0.1.4 cymem-2.0.8 langcodes-3.3.0 murmurhash-1.0.10 preshed-3.0.9 pydantic-2.6.4 pydantic-core-2.16.3 smart-open-6.4.0 spacy-3.7.4 spacy-legacy-3.0.12 spacy-loggers-1.0.5 srsly-2.4.8 thinc-8.2.3 typer-0.9.4 wasabi-1.1.2 weasel-0.3.4\n"
     ]
    },
    {
     "name": "stderr",
     "output_type": "stream",
     "text": [
      "\n",
      "[notice] A new release of pip is available: 23.3.1 -> 24.0\n",
      "[notice] To update, run: python.exe -m pip install --upgrade pip\n"
     ]
    }
   ],
   "source": [
    "!pip install -U spacy"
   ]
  },
  {
   "cell_type": "code",
   "execution_count": 13,
   "metadata": {},
   "outputs": [
    {
     "name": "stdout",
     "output_type": "stream",
     "text": [
      "Collecting en-core-web-sm==3.7.1"
     ]
    },
    {
     "name": "stderr",
     "output_type": "stream",
     "text": [
      "\n",
      "[notice] A new release of pip is available: 23.3.1 -> 24.0\n",
      "[notice] To update, run: python.exe -m pip install --upgrade pip\n"
     ]
    },
    {
     "name": "stdout",
     "output_type": "stream",
     "text": [
      "\n",
      "  Downloading https://github.com/explosion/spacy-models/releases/download/en_core_web_sm-3.7.1/en_core_web_sm-3.7.1-py3-none-any.whl (12.8 MB)\n",
      "     ---------------------------------------- 0.0/12.8 MB ? eta -:--:--\n",
      "     ---------------------------------------- 0.0/12.8 MB ? eta -:--:--\n",
      "     --------------------------------------- 0.1/12.8 MB 660.6 kB/s eta 0:00:20\n",
      "     - -------------------------------------- 0.5/12.8 MB 3.5 MB/s eta 0:00:04\n",
      "     --- ------------------------------------ 1.1/12.8 MB 6.2 MB/s eta 0:00:02\n",
      "     ----- ---------------------------------- 1.8/12.8 MB 8.3 MB/s eta 0:00:02\n",
      "     -------- ------------------------------- 2.8/12.8 MB 10.5 MB/s eta 0:00:01\n",
      "     ---------- ----------------------------- 3.5/12.8 MB 11.1 MB/s eta 0:00:01\n",
      "     ------------- -------------------------- 4.3/12.8 MB 12.0 MB/s eta 0:00:01\n",
      "     ---------------- ----------------------- 5.3/12.8 MB 13.6 MB/s eta 0:00:01\n",
      "     ------------------- -------------------- 6.1/12.8 MB 14.0 MB/s eta 0:00:01\n",
      "     ---------------------- ----------------- 7.1/12.8 MB 14.7 MB/s eta 0:00:01\n",
      "     ------------------------- -------------- 8.1/12.8 MB 15.2 MB/s eta 0:00:01\n",
      "     ---------------------------- ----------- 9.1/12.8 MB 15.6 MB/s eta 0:00:01\n",
      "     ----------------------------- ---------- 9.4/12.8 MB 15.0 MB/s eta 0:00:01\n",
      "     ------------------------------- ------- 10.3/12.8 MB 17.7 MB/s eta 0:00:01\n",
      "     --------------------------------- ----- 11.0/12.8 MB 18.7 MB/s eta 0:00:01\n",
      "     ------------------------------------ -- 12.1/12.8 MB 19.3 MB/s eta 0:00:01\n",
      "     --------------------------------------  12.8/12.8 MB 19.3 MB/s eta 0:00:01\n",
      "     --------------------------------------- 12.8/12.8 MB 18.7 MB/s eta 0:00:00\n",
      "Requirement already satisfied: spacy<3.8.0,>=3.7.2 in c:\\users\\prakh\\anaconda3\\envs\\visiongpu\\lib\\site-packages (from en-core-web-sm==3.7.1) (3.7.4)\n",
      "Requirement already satisfied: spacy-legacy<3.1.0,>=3.0.11 in c:\\users\\prakh\\anaconda3\\envs\\visiongpu\\lib\\site-packages (from spacy<3.8.0,>=3.7.2->en-core-web-sm==3.7.1) (3.0.12)\n",
      "Requirement already satisfied: spacy-loggers<2.0.0,>=1.0.0 in c:\\users\\prakh\\anaconda3\\envs\\visiongpu\\lib\\site-packages (from spacy<3.8.0,>=3.7.2->en-core-web-sm==3.7.1) (1.0.5)\n",
      "Requirement already satisfied: murmurhash<1.1.0,>=0.28.0 in c:\\users\\prakh\\anaconda3\\envs\\visiongpu\\lib\\site-packages (from spacy<3.8.0,>=3.7.2->en-core-web-sm==3.7.1) (1.0.10)\n",
      "Requirement already satisfied: cymem<2.1.0,>=2.0.2 in c:\\users\\prakh\\anaconda3\\envs\\visiongpu\\lib\\site-packages (from spacy<3.8.0,>=3.7.2->en-core-web-sm==3.7.1) (2.0.8)\n",
      "Requirement already satisfied: preshed<3.1.0,>=3.0.2 in c:\\users\\prakh\\anaconda3\\envs\\visiongpu\\lib\\site-packages (from spacy<3.8.0,>=3.7.2->en-core-web-sm==3.7.1) (3.0.9)\n",
      "Requirement already satisfied: thinc<8.3.0,>=8.2.2 in c:\\users\\prakh\\anaconda3\\envs\\visiongpu\\lib\\site-packages (from spacy<3.8.0,>=3.7.2->en-core-web-sm==3.7.1) (8.2.3)\n",
      "Requirement already satisfied: wasabi<1.2.0,>=0.9.1 in c:\\users\\prakh\\anaconda3\\envs\\visiongpu\\lib\\site-packages (from spacy<3.8.0,>=3.7.2->en-core-web-sm==3.7.1) (1.1.2)\n",
      "Requirement already satisfied: srsly<3.0.0,>=2.4.3 in c:\\users\\prakh\\anaconda3\\envs\\visiongpu\\lib\\site-packages (from spacy<3.8.0,>=3.7.2->en-core-web-sm==3.7.1) (2.4.8)\n",
      "Requirement already satisfied: catalogue<2.1.0,>=2.0.6 in c:\\users\\prakh\\anaconda3\\envs\\visiongpu\\lib\\site-packages (from spacy<3.8.0,>=3.7.2->en-core-web-sm==3.7.1) (2.0.10)\n",
      "Requirement already satisfied: weasel<0.4.0,>=0.1.0 in c:\\users\\prakh\\anaconda3\\envs\\visiongpu\\lib\\site-packages (from spacy<3.8.0,>=3.7.2->en-core-web-sm==3.7.1) (0.3.4)\n",
      "Requirement already satisfied: typer<0.10.0,>=0.3.0 in c:\\users\\prakh\\anaconda3\\envs\\visiongpu\\lib\\site-packages (from spacy<3.8.0,>=3.7.2->en-core-web-sm==3.7.1) (0.9.4)\n",
      "Requirement already satisfied: smart-open<7.0.0,>=5.2.1 in c:\\users\\prakh\\anaconda3\\envs\\visiongpu\\lib\\site-packages (from spacy<3.8.0,>=3.7.2->en-core-web-sm==3.7.1) (6.4.0)\n",
      "Requirement already satisfied: tqdm<5.0.0,>=4.38.0 in c:\\users\\prakh\\anaconda3\\envs\\visiongpu\\lib\\site-packages (from spacy<3.8.0,>=3.7.2->en-core-web-sm==3.7.1) (4.66.2)\n",
      "Requirement already satisfied: requests<3.0.0,>=2.13.0 in c:\\users\\prakh\\anaconda3\\envs\\visiongpu\\lib\\site-packages (from spacy<3.8.0,>=3.7.2->en-core-web-sm==3.7.1) (2.31.0)\n",
      "Requirement already satisfied: pydantic!=1.8,!=1.8.1,<3.0.0,>=1.7.4 in c:\\users\\prakh\\anaconda3\\envs\\visiongpu\\lib\\site-packages (from spacy<3.8.0,>=3.7.2->en-core-web-sm==3.7.1) (2.6.4)\n",
      "Requirement already satisfied: jinja2 in c:\\users\\prakh\\anaconda3\\envs\\visiongpu\\lib\\site-packages (from spacy<3.8.0,>=3.7.2->en-core-web-sm==3.7.1) (3.1.3)\n",
      "Requirement already satisfied: setuptools in c:\\users\\prakh\\appdata\\roaming\\python\\python311\\site-packages (from spacy<3.8.0,>=3.7.2->en-core-web-sm==3.7.1) (68.2.2)\n",
      "Requirement already satisfied: packaging>=20.0 in c:\\users\\prakh\\appdata\\roaming\\python\\python311\\site-packages (from spacy<3.8.0,>=3.7.2->en-core-web-sm==3.7.1) (23.2)\n",
      "Requirement already satisfied: langcodes<4.0.0,>=3.2.0 in c:\\users\\prakh\\anaconda3\\envs\\visiongpu\\lib\\site-packages (from spacy<3.8.0,>=3.7.2->en-core-web-sm==3.7.1) (3.3.0)\n",
      "Requirement already satisfied: numpy>=1.19.0 in c:\\users\\prakh\\appdata\\roaming\\python\\python311\\site-packages (from spacy<3.8.0,>=3.7.2->en-core-web-sm==3.7.1) (1.26.2)\n",
      "Requirement already satisfied: annotated-types>=0.4.0 in c:\\users\\prakh\\anaconda3\\envs\\visiongpu\\lib\\site-packages (from pydantic!=1.8,!=1.8.1,<3.0.0,>=1.7.4->spacy<3.8.0,>=3.7.2->en-core-web-sm==3.7.1) (0.6.0)\n",
      "Requirement already satisfied: pydantic-core==2.16.3 in c:\\users\\prakh\\anaconda3\\envs\\visiongpu\\lib\\site-packages (from pydantic!=1.8,!=1.8.1,<3.0.0,>=1.7.4->spacy<3.8.0,>=3.7.2->en-core-web-sm==3.7.1) (2.16.3)\n",
      "Requirement already satisfied: typing-extensions>=4.6.1 in c:\\users\\prakh\\anaconda3\\envs\\visiongpu\\lib\\site-packages (from pydantic!=1.8,!=1.8.1,<3.0.0,>=1.7.4->spacy<3.8.0,>=3.7.2->en-core-web-sm==3.7.1) (4.9.0)\n",
      "Requirement already satisfied: charset-normalizer<4,>=2 in c:\\users\\prakh\\anaconda3\\envs\\visiongpu\\lib\\site-packages (from requests<3.0.0,>=2.13.0->spacy<3.8.0,>=3.7.2->en-core-web-sm==3.7.1) (2.0.4)\n",
      "Requirement already satisfied: idna<4,>=2.5 in c:\\users\\prakh\\anaconda3\\envs\\visiongpu\\lib\\site-packages (from requests<3.0.0,>=2.13.0->spacy<3.8.0,>=3.7.2->en-core-web-sm==3.7.1) (3.4)\n",
      "Requirement already satisfied: urllib3<3,>=1.21.1 in c:\\users\\prakh\\anaconda3\\envs\\visiongpu\\lib\\site-packages (from requests<3.0.0,>=2.13.0->spacy<3.8.0,>=3.7.2->en-core-web-sm==3.7.1) (2.1.0)\n",
      "Requirement already satisfied: certifi>=2017.4.17 in c:\\users\\prakh\\anaconda3\\envs\\visiongpu\\lib\\site-packages (from requests<3.0.0,>=2.13.0->spacy<3.8.0,>=3.7.2->en-core-web-sm==3.7.1) (2024.2.2)\n",
      "Requirement already satisfied: blis<0.8.0,>=0.7.8 in c:\\users\\prakh\\anaconda3\\envs\\visiongpu\\lib\\site-packages (from thinc<8.3.0,>=8.2.2->spacy<3.8.0,>=3.7.2->en-core-web-sm==3.7.1) (0.7.11)\n",
      "Requirement already satisfied: confection<1.0.0,>=0.0.1 in c:\\users\\prakh\\anaconda3\\envs\\visiongpu\\lib\\site-packages (from thinc<8.3.0,>=8.2.2->spacy<3.8.0,>=3.7.2->en-core-web-sm==3.7.1) (0.1.4)\n",
      "Requirement already satisfied: colorama in c:\\users\\prakh\\appdata\\roaming\\python\\python311\\site-packages (from tqdm<5.0.0,>=4.38.0->spacy<3.8.0,>=3.7.2->en-core-web-sm==3.7.1) (0.4.6)\n",
      "Requirement already satisfied: click<9.0.0,>=7.1.1 in c:\\users\\prakh\\anaconda3\\envs\\visiongpu\\lib\\site-packages (from typer<0.10.0,>=0.3.0->spacy<3.8.0,>=3.7.2->en-core-web-sm==3.7.1) (8.1.7)\n",
      "Requirement already satisfied: cloudpathlib<0.17.0,>=0.7.0 in c:\\users\\prakh\\anaconda3\\envs\\visiongpu\\lib\\site-packages (from weasel<0.4.0,>=0.1.0->spacy<3.8.0,>=3.7.2->en-core-web-sm==3.7.1) (0.16.0)\n",
      "Requirement already satisfied: MarkupSafe>=2.0 in c:\\users\\prakh\\anaconda3\\envs\\visiongpu\\lib\\site-packages (from jinja2->spacy<3.8.0,>=3.7.2->en-core-web-sm==3.7.1) (2.1.3)\n",
      "Installing collected packages: en-core-web-sm\n",
      "Successfully installed en-core-web-sm-3.7.1\n",
      "\u001b[38;5;2m✔ Download and installation successful\u001b[0m\n",
      "You can now load the package via spacy.load('en_core_web_sm')\n"
     ]
    }
   ],
   "source": [
    "!python -m spacy download en_core_web_sm"
   ]
  },
  {
   "cell_type": "code",
   "execution_count": 14,
   "metadata": {},
   "outputs": [
    {
     "name": "stdout",
     "output_type": "stream",
     "text": [
      "Collecting de-core-news-sm==3.7.0"
     ]
    },
    {
     "name": "stderr",
     "output_type": "stream",
     "text": [
      "\n",
      "[notice] A new release of pip is available: 23.3.1 -> 24.0\n",
      "[notice] To update, run: python.exe -m pip install --upgrade pip\n"
     ]
    },
    {
     "name": "stdout",
     "output_type": "stream",
     "text": [
      "\n",
      "  Downloading https://github.com/explosion/spacy-models/releases/download/de_core_news_sm-3.7.0/de_core_news_sm-3.7.0-py3-none-any.whl (14.6 MB)\n",
      "     ---------------------------------------- 0.0/14.6 MB ? eta -:--:--\n",
      "     ---------------------------------------- 0.0/14.6 MB ? eta -:--:--\n",
      "     --------------------------------------- 0.1/14.6 MB 518.5 kB/s eta 0:00:29\n",
      "     - -------------------------------------- 0.4/14.6 MB 2.9 MB/s eta 0:00:05\n",
      "     -- ------------------------------------- 0.8/14.6 MB 4.7 MB/s eta 0:00:03\n",
      "     --- ------------------------------------ 1.4/14.6 MB 5.9 MB/s eta 0:00:03\n",
      "     ----- ---------------------------------- 2.0/14.6 MB 6.9 MB/s eta 0:00:02\n",
      "     ------- -------------------------------- 2.6/14.6 MB 7.9 MB/s eta 0:00:02\n",
      "     -------- ------------------------------- 3.2/14.6 MB 8.9 MB/s eta 0:00:02\n",
      "     ---------- ----------------------------- 3.9/14.6 MB 9.6 MB/s eta 0:00:02\n",
      "     ------------ --------------------------- 4.7/14.6 MB 9.9 MB/s eta 0:00:02\n",
      "     --------------- ------------------------ 5.6/14.6 MB 10.9 MB/s eta 0:00:01\n",
      "     ----------------- ---------------------- 6.5/14.6 MB 11.5 MB/s eta 0:00:01\n",
      "     -------------------- ------------------- 7.5/14.6 MB 12.3 MB/s eta 0:00:01\n",
      "     ----------------------- ---------------- 8.8/14.6 MB 13.3 MB/s eta 0:00:01\n",
      "     -------------------------- ------------- 9.7/14.6 MB 13.5 MB/s eta 0:00:01\n",
      "     ---------------------------- ---------- 10.7/14.6 MB 16.4 MB/s eta 0:00:01\n",
      "     ------------------------------ -------- 11.4/14.6 MB 17.7 MB/s eta 0:00:01\n",
      "     -------------------------------- ------ 12.1/14.6 MB 18.2 MB/s eta 0:00:01\n",
      "     ---------------------------------- ---- 12.9/14.6 MB 17.7 MB/s eta 0:00:01\n",
      "     ------------------------------------ -- 13.6/14.6 MB 17.7 MB/s eta 0:00:01\n",
      "     ------------------------------------- - 14.2/14.6 MB 17.7 MB/s eta 0:00:01\n",
      "     --------------------------------------  14.6/14.6 MB 16.8 MB/s eta 0:00:01\n",
      "     --------------------------------------- 14.6/14.6 MB 15.2 MB/s eta 0:00:00\n",
      "Requirement already satisfied: spacy<3.8.0,>=3.7.0 in c:\\users\\prakh\\anaconda3\\envs\\visiongpu\\lib\\site-packages (from de-core-news-sm==3.7.0) (3.7.4)\n",
      "Requirement already satisfied: spacy-legacy<3.1.0,>=3.0.11 in c:\\users\\prakh\\anaconda3\\envs\\visiongpu\\lib\\site-packages (from spacy<3.8.0,>=3.7.0->de-core-news-sm==3.7.0) (3.0.12)\n",
      "Requirement already satisfied: spacy-loggers<2.0.0,>=1.0.0 in c:\\users\\prakh\\anaconda3\\envs\\visiongpu\\lib\\site-packages (from spacy<3.8.0,>=3.7.0->de-core-news-sm==3.7.0) (1.0.5)\n",
      "Requirement already satisfied: murmurhash<1.1.0,>=0.28.0 in c:\\users\\prakh\\anaconda3\\envs\\visiongpu\\lib\\site-packages (from spacy<3.8.0,>=3.7.0->de-core-news-sm==3.7.0) (1.0.10)\n",
      "Requirement already satisfied: cymem<2.1.0,>=2.0.2 in c:\\users\\prakh\\anaconda3\\envs\\visiongpu\\lib\\site-packages (from spacy<3.8.0,>=3.7.0->de-core-news-sm==3.7.0) (2.0.8)\n",
      "Requirement already satisfied: preshed<3.1.0,>=3.0.2 in c:\\users\\prakh\\anaconda3\\envs\\visiongpu\\lib\\site-packages (from spacy<3.8.0,>=3.7.0->de-core-news-sm==3.7.0) (3.0.9)\n",
      "Requirement already satisfied: thinc<8.3.0,>=8.2.2 in c:\\users\\prakh\\anaconda3\\envs\\visiongpu\\lib\\site-packages (from spacy<3.8.0,>=3.7.0->de-core-news-sm==3.7.0) (8.2.3)\n",
      "Requirement already satisfied: wasabi<1.2.0,>=0.9.1 in c:\\users\\prakh\\anaconda3\\envs\\visiongpu\\lib\\site-packages (from spacy<3.8.0,>=3.7.0->de-core-news-sm==3.7.0) (1.1.2)\n",
      "Requirement already satisfied: srsly<3.0.0,>=2.4.3 in c:\\users\\prakh\\anaconda3\\envs\\visiongpu\\lib\\site-packages (from spacy<3.8.0,>=3.7.0->de-core-news-sm==3.7.0) (2.4.8)\n",
      "Requirement already satisfied: catalogue<2.1.0,>=2.0.6 in c:\\users\\prakh\\anaconda3\\envs\\visiongpu\\lib\\site-packages (from spacy<3.8.0,>=3.7.0->de-core-news-sm==3.7.0) (2.0.10)\n",
      "Requirement already satisfied: weasel<0.4.0,>=0.1.0 in c:\\users\\prakh\\anaconda3\\envs\\visiongpu\\lib\\site-packages (from spacy<3.8.0,>=3.7.0->de-core-news-sm==3.7.0) (0.3.4)\n",
      "Requirement already satisfied: typer<0.10.0,>=0.3.0 in c:\\users\\prakh\\anaconda3\\envs\\visiongpu\\lib\\site-packages (from spacy<3.8.0,>=3.7.0->de-core-news-sm==3.7.0) (0.9.4)\n",
      "Requirement already satisfied: smart-open<7.0.0,>=5.2.1 in c:\\users\\prakh\\anaconda3\\envs\\visiongpu\\lib\\site-packages (from spacy<3.8.0,>=3.7.0->de-core-news-sm==3.7.0) (6.4.0)\n",
      "Requirement already satisfied: tqdm<5.0.0,>=4.38.0 in c:\\users\\prakh\\anaconda3\\envs\\visiongpu\\lib\\site-packages (from spacy<3.8.0,>=3.7.0->de-core-news-sm==3.7.0) (4.66.2)\n",
      "Requirement already satisfied: requests<3.0.0,>=2.13.0 in c:\\users\\prakh\\anaconda3\\envs\\visiongpu\\lib\\site-packages (from spacy<3.8.0,>=3.7.0->de-core-news-sm==3.7.0) (2.31.0)\n",
      "Requirement already satisfied: pydantic!=1.8,!=1.8.1,<3.0.0,>=1.7.4 in c:\\users\\prakh\\anaconda3\\envs\\visiongpu\\lib\\site-packages (from spacy<3.8.0,>=3.7.0->de-core-news-sm==3.7.0) (2.6.4)\n",
      "Requirement already satisfied: jinja2 in c:\\users\\prakh\\anaconda3\\envs\\visiongpu\\lib\\site-packages (from spacy<3.8.0,>=3.7.0->de-core-news-sm==3.7.0) (3.1.3)\n",
      "Requirement already satisfied: setuptools in c:\\users\\prakh\\appdata\\roaming\\python\\python311\\site-packages (from spacy<3.8.0,>=3.7.0->de-core-news-sm==3.7.0) (68.2.2)\n",
      "Requirement already satisfied: packaging>=20.0 in c:\\users\\prakh\\appdata\\roaming\\python\\python311\\site-packages (from spacy<3.8.0,>=3.7.0->de-core-news-sm==3.7.0) (23.2)\n",
      "Requirement already satisfied: langcodes<4.0.0,>=3.2.0 in c:\\users\\prakh\\anaconda3\\envs\\visiongpu\\lib\\site-packages (from spacy<3.8.0,>=3.7.0->de-core-news-sm==3.7.0) (3.3.0)\n",
      "Requirement already satisfied: numpy>=1.19.0 in c:\\users\\prakh\\appdata\\roaming\\python\\python311\\site-packages (from spacy<3.8.0,>=3.7.0->de-core-news-sm==3.7.0) (1.26.2)\n",
      "Requirement already satisfied: annotated-types>=0.4.0 in c:\\users\\prakh\\anaconda3\\envs\\visiongpu\\lib\\site-packages (from pydantic!=1.8,!=1.8.1,<3.0.0,>=1.7.4->spacy<3.8.0,>=3.7.0->de-core-news-sm==3.7.0) (0.6.0)\n",
      "Requirement already satisfied: pydantic-core==2.16.3 in c:\\users\\prakh\\anaconda3\\envs\\visiongpu\\lib\\site-packages (from pydantic!=1.8,!=1.8.1,<3.0.0,>=1.7.4->spacy<3.8.0,>=3.7.0->de-core-news-sm==3.7.0) (2.16.3)\n",
      "Requirement already satisfied: typing-extensions>=4.6.1 in c:\\users\\prakh\\anaconda3\\envs\\visiongpu\\lib\\site-packages (from pydantic!=1.8,!=1.8.1,<3.0.0,>=1.7.4->spacy<3.8.0,>=3.7.0->de-core-news-sm==3.7.0) (4.9.0)\n",
      "Requirement already satisfied: charset-normalizer<4,>=2 in c:\\users\\prakh\\anaconda3\\envs\\visiongpu\\lib\\site-packages (from requests<3.0.0,>=2.13.0->spacy<3.8.0,>=3.7.0->de-core-news-sm==3.7.0) (2.0.4)\n",
      "Requirement already satisfied: idna<4,>=2.5 in c:\\users\\prakh\\anaconda3\\envs\\visiongpu\\lib\\site-packages (from requests<3.0.0,>=2.13.0->spacy<3.8.0,>=3.7.0->de-core-news-sm==3.7.0) (3.4)\n",
      "Requirement already satisfied: urllib3<3,>=1.21.1 in c:\\users\\prakh\\anaconda3\\envs\\visiongpu\\lib\\site-packages (from requests<3.0.0,>=2.13.0->spacy<3.8.0,>=3.7.0->de-core-news-sm==3.7.0) (2.1.0)\n",
      "Requirement already satisfied: certifi>=2017.4.17 in c:\\users\\prakh\\anaconda3\\envs\\visiongpu\\lib\\site-packages (from requests<3.0.0,>=2.13.0->spacy<3.8.0,>=3.7.0->de-core-news-sm==3.7.0) (2024.2.2)\n",
      "Requirement already satisfied: blis<0.8.0,>=0.7.8 in c:\\users\\prakh\\anaconda3\\envs\\visiongpu\\lib\\site-packages (from thinc<8.3.0,>=8.2.2->spacy<3.8.0,>=3.7.0->de-core-news-sm==3.7.0) (0.7.11)\n",
      "Requirement already satisfied: confection<1.0.0,>=0.0.1 in c:\\users\\prakh\\anaconda3\\envs\\visiongpu\\lib\\site-packages (from thinc<8.3.0,>=8.2.2->spacy<3.8.0,>=3.7.0->de-core-news-sm==3.7.0) (0.1.4)\n",
      "Requirement already satisfied: colorama in c:\\users\\prakh\\appdata\\roaming\\python\\python311\\site-packages (from tqdm<5.0.0,>=4.38.0->spacy<3.8.0,>=3.7.0->de-core-news-sm==3.7.0) (0.4.6)\n",
      "Requirement already satisfied: click<9.0.0,>=7.1.1 in c:\\users\\prakh\\anaconda3\\envs\\visiongpu\\lib\\site-packages (from typer<0.10.0,>=0.3.0->spacy<3.8.0,>=3.7.0->de-core-news-sm==3.7.0) (8.1.7)\n",
      "Requirement already satisfied: cloudpathlib<0.17.0,>=0.7.0 in c:\\users\\prakh\\anaconda3\\envs\\visiongpu\\lib\\site-packages (from weasel<0.4.0,>=0.1.0->spacy<3.8.0,>=3.7.0->de-core-news-sm==3.7.0) (0.16.0)\n",
      "Requirement already satisfied: MarkupSafe>=2.0 in c:\\users\\prakh\\anaconda3\\envs\\visiongpu\\lib\\site-packages (from jinja2->spacy<3.8.0,>=3.7.0->de-core-news-sm==3.7.0) (2.1.3)\n",
      "Installing collected packages: de-core-news-sm\n",
      "Successfully installed de-core-news-sm-3.7.0\n",
      "\u001b[38;5;2m✔ Download and installation successful\u001b[0m\n",
      "You can now load the package via spacy.load('de_core_news_sm')\n"
     ]
    }
   ],
   "source": [
    "!python -m spacy download de_core_news_sm"
   ]
  },
  {
   "cell_type": "markdown",
   "metadata": {},
   "source": [
    "#### Dataloaders"
   ]
  },
  {
   "cell_type": "code",
   "execution_count": 123,
   "metadata": {},
   "outputs": [],
   "source": [
    "# Tokenization\n",
    "token_transform = {}\n",
    "token_transform[source_language] = get_tokenizer('spacy', language='de_core_news_sm')\n",
    "token_transform[target_language] = get_tokenizer('spacy', language='en_core_web_sm')"
   ]
  },
  {
   "cell_type": "code",
   "execution_count": 67,
   "metadata": {},
   "outputs": [
    {
     "name": "stdout",
     "output_type": "stream",
     "text": [
      "{'translation': {'de': 'Wiederaufnahme der Sitzungsperiode', 'en': 'Resumption of the session'}}\n",
      "German: Wiederaufnahme der Sitzungsperiode\n",
      "English: Resumption of the session\n",
      "Tokenized German: ['Wiederaufnahme', 'der', 'Sitzungsperiode']\n",
      "Tokenized English: ['Resumption', 'of', 'the', 'session']\n"
     ]
    }
   ],
   "source": [
    "for i in range(5): \n",
    "    print(train_data[i])\n",
    "    data_pt = train_data[i]\n",
    "    data_src = data_pt['translation'][source_language]\n",
    "    data_tgt = data_pt['translation'][target_language]\n",
    "    print(f\"German: {data_src}\")\n",
    "    print(f\"English: {data_tgt}\")\n",
    "    print(f\"Tokenized German: {token_transform[source_language](data_src)}\")\n",
    "    print(f\"Tokenized English: {token_transform[target_language](data_tgt)}\")\n",
    "    break\n",
    "    "
   ]
  },
  {
   "cell_type": "code",
   "execution_count": 97,
   "metadata": {},
   "outputs": [
    {
     "name": "stdout",
     "output_type": "stream",
     "text": [
      "['Wiederaufnahme', 'der', 'Sitzungsperiode']\n"
     ]
    }
   ],
   "source": [
    "# helper function to yield list of tokens\n",
    "def yield_tokens(data_iter: Iterable, language: str) -> List[str]:\n",
    "    for data_sample in data_iter:\n",
    "        yield token_transform[language](data_sample['translation'][language])\n",
    "\n",
    "tokens = yield_tokens(train_data, source_language)\n",
    "for token in tokens: \n",
    "    print(token)\n",
    "    break"
   ]
  },
  {
   "cell_type": "code",
   "execution_count": 93,
   "metadata": {},
   "outputs": [],
   "source": [
    "UNK_IDX, PAD_IDX, BOS_IDX, EOS_IDX = 0, 1, 2, 3\n",
    "special_symbols = ['<unk>', '<pad>', '<bos>', '<eos>']"
   ]
  },
  {
   "cell_type": "code",
   "execution_count": 102,
   "metadata": {},
   "outputs": [],
   "source": [
    "for ln in [source_language, target_language]:\n",
    "    # Create torchtext's Vocab object\n",
    "    vocab_transform[ln] = build_vocab_from_iterator(yield_tokens(train_data, ln),\n",
    "                                                    min_freq=1,\n",
    "                                                    specials=special_symbols,\n",
    "                                                    special_first=True)"
   ]
  },
  {
   "cell_type": "code",
   "execution_count": 100,
   "metadata": {},
   "outputs": [],
   "source": [
    "for ln in [source_language, target_language]:\n",
    "  vocab_transform[ln].set_default_index(UNK_IDX)"
   ]
  },
  {
   "cell_type": "code",
   "execution_count": 122,
   "metadata": {},
   "outputs": [
    {
     "name": "stdout",
     "output_type": "stream",
     "text": [
      "{'translation': {'de': ['Dieses Parlament wird heute einen gemeinsamen Entschließungsentwurf mehrerer Fraktionen annehmen, den ich, Herr Präsident, meine Damen und Herren, für wichtig und angebracht halte.', 'Wir tun wesentlich mehr, als ich dachte, und ich bin gern bereit, das Parlament über die vielfältigen Aktivitäten im Bereich der Primarbildung zu informieren, die wir in Afrika durchführen.', 'Die Kommission ist aufgerufen, eine Bestandsaufnahme der nationalen Strafgesetzgebungen in diesem Bereich vorzunehmen und bei Bedarf entsprechende Vorschläge für Straftatbestände zu machen.', 'Nach diesen meines Erachtens doch sehr grundsätzlichen Bemerkungen bestehen nun praktische Vorbehalte gegen die Tobin-Steuer, wie sie von Herrn Karas, aber auch von anderen Rednern geäußert wurden.', 'Die PSE-Fraktion hat in den letzten Tagen einige wichtige Verbesserungsvorschläge unterbreitet. Ich weise Sie vor allem auf Abänderungsantrag 45 hin.', 'Es wäre schlimm, wenn dieses Beispiel Schule machen und jedes außereuropäische Unternehmen Europa wie einen Autobus benützen würde, ohne für den Fahrschein, für die Mitarbeit zu bezahlen, und nur für die Benutzung zu kassieren und dann zu verschwinden, ohne sich um irgend jemanden zu kümmern.', 'Wenn das noch von grüner Seite kommt, ist das um so unverständlicher und aus diesem Grunde auch abzulehnen.', 'Wie soll man da die materielle, militärische und diplomatische Unterstützung dieser Regime durch Frankreich vergessen?', 'Für dieses Vergehen wurde er zu einem Jahr Gefängnis und einer Geldbuße nach geltendem Gesetz, Artikel 312, verurteilt.', 'Europa kann sich nicht länger weigern, dem am schnellsten wachsenden Sektor seiner Wirtschaft sowohl politisch als auch hinsichtlich der Politikgestaltung die Anerkennung zukommen zu lassen, die ihm auf Grund seiner wirtschaftlichen und sozialen Stellung gebührt.', 'Viel Leid hätte vermieden werden können, wenn u. a. die EU deutlicher und früher reagiert hätte.', 'Die hohe Arbeitslosigkeit in der Europäischen Union bereitet uns allen Sorgen, zumal die rückläufige Tendenz anscheinend nicht anhält.', 'Vielen Dank, Herr Fischler.', 'Ich glaube, an erster Stelle nach allen erneuerbaren Energien suchen, sie nutzen, entwickeln, fördern und die geeigneten Anreize anwenden, damit sie tragfähig werden, und dabei gleichzeitig die kontaminierenden Energien mit Strafen belegen.', 'Ich danke dem Herrn Kommissar. Ich ziehe seine Absichten und sein Engagement, die in eine positive Richtung weisen, keinesfalls ins Zweifel.', 'Änderungsantrag 42 betrifft eine Maßnahme, die durch den Vorschlag nicht verändert wurde und die seit Einführung der Richtlinie keinerlei Probleme verursacht hat.', 'Wir müssen gegen Verfahren vorgehen, die zu häufig angewendet werden, wie beispielsweise das gold plating.', 'Der Abbau dieser Hemmnisse ist eine logische Schlußfolgerung, damit der Markt richtig funktionieren kann.', 'Zu nennen wären hier z. B. EMAS und ISO 14001.', 'Wir begrüßen es, daß Europol endlich seine Arbeit aufnehmen konnte.', 'Das glaube ich nicht.', 'Die Debatte darüber steht uns noch bevor, doch bereits heute sind wir alle aufgefordert, verantwortlich zu handeln.', 'Er sagte: \"Gegensätze in der Politik können zu Gleichgewicht führen. \"', 'Zum dritten müssen die Synergien berücksichtigt werden, die von anderen Gemeinschaftsprogrammen erzeugt werden, sowie die Chancen für eine nachhaltige Entwicklung in der jeweiligen Umgebung oder Region.', 'Als PPE-DE haben wir all die Empfehlungen des Berichts der Weisen im Ausschuß eingereicht, wovon viele nun in den Bericht aufgenommen wurden, wodurch der Charakter des Berichts van Hulten im Ausschuß völlig verändert worden ist.', 'Ich denke nicht, daß sie unser Ziel sein sollten, aber sie sind ganz sicher genau der Punkt, an dem wir ansetzen sollten. Und das ist auch der Grund, weshalb ich, als ich im Gegensatz zu meinen anderen Kollegen aus dem Umweltausschuß an der Debatte des Industrieausschusses teilnahm, zu der Überzeugung kam, daß dies der richtige Ausgangspunkt ist.', 'Wir haben ihnen gegenüber förmliche Verpflichtungen.', 'Oder sprechen wir von den großen Wasserbauten und Speicherbecken?', 'Das Lärmproblem ist weitgehend auf den Verkehr zurückzuführen, das muß man offen sagen, vor allem auf den Straßenverkehr, aber auch in immer besorgniserregender Weise auf den Luftverkehr.', 'Es gibt einen Aspekt, der in den Beiträgen zu diesem Bericht nicht so sehr oft angesprochen wurde, den ich aber dennoch in die Diskussion einbringen möchte - die Rehabilitierung der Opfer.', 'Unser Abstimmungsverhalten bedeutet allerdings nicht, daß wir mit allen Erwägungsgründen oder allen Vorschlägen des Textes einverstanden sind.', 'Dieser Bericht ist auch in bezug auf Asylbewerber hochaktuell.'], 'en': ['This House will today approve a very important and appropriate joint motion for a resolution tabled by several groups.', 'We are doing much more than I had expected and I would be happy to inform Parliament about the portfolio of primary education activities in which we are involved in Africa.', 'The Commission is called upon to draw up a survey of national laws in this sphere and, if necessary, to submit suitable proposals setting out the constituent elements of offences.', 'Madam President, apart from these - to my mind - quite fundamental observations, there are also practical objections to the Tobin tax, as already underlined by Mr Karas and other speakers.', 'The Social-Democratic Group has submitted a few important proposals for improvement over the past couple of days.', 'It would be a serious matter if every non-European company were to learn to use Europe as a bus where you do not have to pay for the ticket, you do not have to pay for cooperation, you benefit from using the facility and you leave without being accountable to anyone.', 'The fact that this request came from the Greens makes it all the more baffling, and it should be thrown out for this reason.', 'So why do we forget the material, military and diplomatic support France has given those regimes?', \"Because of this crime, and in accordance with Article 312 of the law in force, he was sentenced to one year' s imprisonment and ordered to pay fines.\", 'Europe can no longer refuse to give the recognition - both political and in terms of policy-making - that the fastest growing sector of its economy deserves because of its economic and social position.', 'A great deal of suffering could have been avoided if the EU, among others, has acted earlier and more decisively.', 'High unemployment in the European Union concerns all of us, especially now that the downward trend does not seem to be persisting.', 'Thank you very much, Commissioner Fischler.', 'I think that first we must seek out all renewable energies and take advantage of them, encourage them, promote them and provide the appropriate incentives to make them viable, and at the same time penalise energies that contaminate.', 'I thank the Commissioner, and do not at all question his intentions and interventions, which adopted a positive line.', 'Amendment No 42 relates to a provision which was not changed by the proposal and which has not caused any problems since the implementation of the directive.', \"We must oppose procedures which are used too frequently, such as 'gold plating' .\", 'The consequence is that, in order for the market to function, these barriers must be removed.', 'In this regard, I should cite, for example, EMAS and ISO 14001.', 'We welcome the fact that Europol has finally been able to start work.', 'I do not think so.', 'This debate is now before us, but each and every one of us, male and female, is going to assume their responsibilities without delay.', 'He stated: \"Contradictions in policy can lead to balance.\"', 'Thirdly, we have to bear in mind the synergies generated by other Community programmes, as well as the opportunities for sustainable development in the location or region in question.', \"We have, as the EPP-ED group, submitted all the recommendations of the Wise Men' s report in committee and many of them have now been put into the report, entirely changing the nature of the van Hulten report in committee.\", 'It would not to my mind be the right place to finish, but it certainly would be the right place to start and it is the reason why I was convinced when I was there in the debate in the Industry Committee, as none of my colleagues from the Environment Committee were, that it was the right place to start.', 'We have made formal commitments to them.', 'Or are we talking about large-scale hydraulic works and reservoirs?', 'It is true that the noise problem is largely due to transport, particularly road transport, but air transport is a factor which is also giving increasing cause for concern.', 'There is one aspect of this matter that has not come up very often in the responses to this report, but which I would, nevertheless, like to raise in the debate, namely the rehabilitation of the victims.', 'However, that vote does not mean we agree with all the recitals and all the proposals in it.', 'This is also a very timely report in the context of asylum-seekers.']}}\n",
      "{'translation': {'de': ['Deshalb müssen die Rechte zwei Kategorien zugeordnet werden.', 'Wir benötigen ein solches System auf jeden Fall, zumindest um in der Europäischen Union Chancengleichheit zu schaffen und sicherzustellen, daß in allen Ländern die gleichen Normen gelten.', 'Die Politiker hingegen sollten prüfen, welche Schlußfolgerungen sich aus einem Sachverständigenbericht ziehen lassen, ohne daß insgesamt eine Haltung eingenommen werden darf, die mir in einigen Situationen bis jetzt als Selbstschädigung erschien.', 'Ebenso wie Herr Prodi ziehe ich die Gemeinschaftsmethode vor, und wir müssen uns Artikel 6 und Artikel 7 des Vertrags vor Augen halten.', 'Genau dies hat die Kommission bei der Annahme des Weißbuchs in diesem Jahr getan.', 'Die Fähigkeit der Kommission, in Notfällen schnell zu reagieren, ohne die Mitgliedstaaten vorab zu konsultieren, ist eine grundsätzliche Frage.', 'Da wir dazu keine Aussage treffen, wird sie hier offensichtlich angenommen.', 'Die Schlüsselrolle für die Lösung der Probleme der Roma liegt bei den lokalen Verbänden und Verwaltungen.', 'In allen Staaten der Union werden pädophile Akte einzelner Personen verfolgt, bezüglich der Strafverfolgung innerhalb der Netze wird das Problem jedoch weiterhin verkannt und nicht wirksam angegangen.', 'So gesehen können wir zufrieden sein.', 'Sie fördern diesen Prozeß, Sie arbeiten daran mit, Sie betreiben, trotz Ihrer Ankündigungen, faktisch die Desintegration unserer Sozialschutzsysteme, Sie schaffen Unsicherheit und organisieren den Sozialabbau.', 'Richtig, einverstanden. Doch, was bringt Sie dazu - Sie haben von sehr differenzierten Kriterien gesprochen, nennen Sie uns die bitte - was bringt Sie zu der Annahme, daß für die anderen Regionen der Welt zu viel Geld ausgegeben wird, wenn nicht die Tatsache, daß Sie dieses Geld für die Region Kosovo brauchen?', 'Frau Präsidentin, ich wollte Herrn Wurtz nur sagen, daß die Kommission nicht nach der Breshnew-Doktrin der beschränkten nationalen Souveränität der Staaten vorgeht und daß wir uns bis zum Beweis des Gegenteils nicht in einer Situation befinden, in der die Artikel 6 und 7 anzuwenden wären.', 'Darüber hinaus muß sich die Hilfe aus den TACIS-Programmen verstärkt auf die berufliche Bildung, die Ausbildung und die Verbesserung der völlig veralteten Verkehrs-, Kommunikations- und Energieinfrastrukturen richten.', 'Durch eine Verlängerung der Übergangsphase bis zum Jahr 2010 würde sich nicht viel ändern, wenngleich dadurch sicherlich mehr Zeit zur Verfügung steht, um weniger nachteilige Lösungen zu finden.', 'Erlauben Sie mir zum Abschluß noch einige Bemerkungen zur Zuverlässigkeitserklärung.', 'Welche Ansichten vertritt sie in bezug auf die Einbeziehung der Charta in den Vertrag über die Europäische Union?', 'Beim letzten Mal, als Portugal den Vorsitz führte, zwölf.', 'Jedes Jahr werden dadurch eine Million Vögel sowie Hunderttausende von Meeressäugetieren und Meeresschildkröten getötet.', 'Um einen sicheren Betrieb der Anlage entsprechend den am Standort vorherrschenden Bedingungen zu gewährleisten, wurden die zulässigen Toleranzen sehr groß gewählt.', 'Wir sind der Meinung, daß die Folgemaßnahmen im Anschluß an den Gipfel nach Möglichkeit über die bestehenden Mechanismen stattfinden sollten.', 'Ich komme zum zweiten Vorschlag, zur Verordnung über die gemeinsame Marktorganisation für Faserflachs und -hanf.', 'Wenn nicht zwischen Ländern und Regionen unterschieden wird, in denen das Wasser überreichlich vorhanden ist und kein Problem darstellt, und Regionen, in denen die Trockenheit und die geringe Niederschlagsmenge es zu einem knappen Gut werden lassen und denen so die Möglichkeiten für eine minimale wirtschaftliche und soziale Entwicklung genommen werden, wird das ökologische Prinzip pervertiert, wird es zur Schleuderwaffe.', 'Zweitens haben wir festgestellt: Wir brauchen effiziente Systeme zum Schutz unserer Wirtschaft.', 'Denn wenn die Europäische Union für andere Regeln im Bereich des internationalen Handels kämpfen will, wenn sie ihr europäisches Agrarmodell verteidigen will, dann muß festgestellt werden, daß noch viel zu tun bleibt, um diese politischen Absichten in die Wirklichkeit umzusetzen.', 'Dieser Bericht soll dann auf Ministerebene im Rahmen des Mechanismus zur Überwachung des Gipfels analysiert werden.', 'Offenbar war es nicht möglich, diesen Aktionsplan bis zur heutigen Entscheidung vorzulegen.', 'Sie soll auch nicht die Möglichkeit haben, unangekündigte Vorort-Kontrollen zu machen.', 'Wir setzen Politiker ein, die den Pulsschlag des politischen Zeitgeschehens hautnah spüren.', 'Wir müssen darüber hinausgehen.', 'Sollte der Übereinstimmung zwischen den Institutionen nach der ersten Lesung größeres Gewicht beigemessen werden?', 'Bisher hat sich die Gruppe nicht auf eine entsprechende Strategie und speziell auf die Formulierung des Kompromisses geeinigt, der in letzter Instanz als Antwort auf entgegengesetzt lautende Änderungsanträge eingereicht werden soll, wobei Artikel 2 Absatz 7 der UNO-Charta einzubeziehen ist, der sich auf die Frage der Souveränität bezieht.'], 'en': ['The rights need to be in two categories.', 'The system is certainly very necessary, if nothing else than to achieve a level playing field within the European Union and to ensure that all countries reach the same standards.', 'I nevertheless believe that politicians should look into what can be gleaned from an expert report and what cannot be taken en masse in a spirit which, on some occasions, I have felt in the past and still feel to be self-destructive.', 'I share with President Prodi a preference for the Community method and we must look at Article 6 and Article 7 of the Treaty.', 'The Commission did exactly that when adopting the White Paper this year.', 'The possibility for the Commission situations to react quickly in emergency cases even before consulting Member States is a landmark question.', 'In failing to pass judgement on this, we are giving the impression that we have accepted it.', 'Local communities and local governments play a key role in solving the problems of the Roma.', 'In all the States of the Union, individual paedophile acts are suppressed, but ignorance and inefficiency still reign in the suppression of networks.', 'From this perspective we cannot fail to be satisfied.', 'You are facilitating it, collaborating with it, and are in fact orchestrating, despite your declared intentions, the disintegration of our social welfare systems, precariousness, and social decline.', 'Fine, I can accept that, but what gives you the right - you spoke of very specific criteria, so tell us what they are - what gives you the right to think that too much money has been earmarked for other parts of the world, apart from the fact that you need that money for Kosovo.', \"Madam President, I should like to tell Mr Wurtz that the Commission' s doctrine is not the Brezhnev doctrine of limited sovereignty and that, until proved otherwise, we are not in the situation where Articles 6 and 7 would be applicable.\", 'Moreover, the aid under the TACIS programmes must concentrate more on vocational training, education and improving the totally outmoded transport, communications and energy infrastructure.', 'Postponing this until 2010 would not make much difference, although that would undoubtedly give us more time to find less damaging solutions.', 'Allow me to conclude with a few comments on the declaration of assurance.', \"What are the Commission's views on incorporating the Charter into the Treaty on European Union?\", 'Last time we covered twelve with Portugal as the country holding the presidency.', 'As a result one million birds and a hundred thousand marine mammals and sea turtles are killed each year.', 'Large design margins are being provided in order to ensure safe operation of the plant according to the environmental conditions of the site.', 'Our view is that the follow-up to the summit should wherever possible be pursued through existing mechanisms.', 'I now come to the second proposal, on the regulation on the common organisation of the market in flax and hemp grown for fibre.', 'By failing to distinguish countries and regions where water is abundant, and is therefore not a problem, from regions where drought and low rainfall make it a scarce commodity, stifling the chances of any economic and social development, we are perverting the ecological principle and turning it into a weapon.', 'Secondly, we said effective economic protection systems and encryption must be adopted.', 'The fact is, if the European Union intends to fight for alternative rules for international trade, if it is to defend the European farm model, then it must acknowledge that there is still a lot to be done in order to put its political decisions into practice.', \"This report will then be studied at ministerial level, under the summit' s monitoring mechanism.\", \"Obviously it was not possible to submit this action plan in time for today' s decision.\", 'It will also not have the option to make unannounced on-the-spot inspections.', 'We have politicians who are actually still in the kitchen feeling the heat.', 'We must go further.', 'Should more weight be given to agreement reached between the institutions upon first reading?', 'To date, the group has not reached agreement on the strategy to be adopted in this respect, and in particular with regard to formulating a compromise to be tabled in the last resort in case of any amendments to the contrary, including Article 2(7) of the Charter of the United Nations, which refers to sovereignty.']}}\n",
      "{'translation': {'de': ['Frau Präsidentin, wenn aus der Abstimmung einwandfrei hervorgeht, wie meine Fraktion abgestimmt hat, dann werde und kann ich nichts dagegen sagen.', 'Ist das etwa eine derart drastische Maßnahme?', 'Worauf es unserer gemeinsamen Auffassung nach ankommt, ist, daß wir zu gegebener Zeit entweder im Ausschuß oder im Plenum über die Bedingungen debattieren können, die - wie ich hoffe - denen entsprechen werden, die wir mit der Volksrepublik China vereinbart haben, und daß diese Debatte in aller Transparenz abläuft.', 'Unser Informations- und Schutzsystem für Verbraucher ist vollkommen unzureichend. Ein Unionsbürger kann beispielsweise unmöglich herausfinden, ob in Ravioli, die aus einem anderen Mitgliedstaat eingeführt wurden, britisches Rindfleisch enthalten ist.', 'Auf der ersten Zusammenkunft am 11. Januar 2000 wurden drei wichtige Punkte behandelt: Zunächst gab es eine erste Aussprache zum fünften Programm für Frauen, zu dem ich eine erste Analyse vorlegt habe, zweitens ging es um den Bericht von Herrn Busquin zur Untersuchung über die Beteiligung von Frauen an Forschung und Wissenschaft, und drittens informierte Herr Kinnock die Kommission über die Anstrengungen betreffend die Einbeziehung der Dimension der Gleichstellung der Geschlechter in die Reform der Institutionen der Gemeinschaft, an der zur Zeit gearbeitet wird.', 'Die laufenden Untersuchungen zeigen hinlänglich, daß die Produktpiraterie eng mit anderen Formen der organisierten Kriminalität verbinden ist, wie dem Drogen- und dem Waffenhandel oder der Geldwäsche.', 'Bürger, NRO und Gewerkschaften setzen sich im Alltag für die Solidarität zwischen den Völkern und die Umsetzung zahlreicher lokaler Kooperationsprojekte ein.', 'Herr Präsident! Diese Aussprache über die Leitlinien über vertikale Beschränkungen ist vorläufig die letzte in einer Reihe von vier Debatten über ein äußerst technisches Thema.', 'Angesichts der jüngsten Naturkatastrophen möchte ich doch noch auf die Verwendung der Strukturfondsmittel eingehen.', 'Zwei Punkte verdienen nach Ansicht der ELDR-Fraktion besondere Aufmerksamkeit.', 'Wir haben allerdings gegen die Absätze 2 und 6 gestimmt, weil sie unserer Meinung nach juristisch nicht korrekt sind.', 'Niemand hat so etwas gesagt!', 'Es ist offensichtlich, daß eine Reihe von Unternehmen, ein bestimmter Wirtschaftssektor, nicht arbeiten können, ohne nachts zu fliegen, und daß diese auf die Frage: Was würde geschehen, wenn ihr nachts nicht fliegt, antworten: Dann müssen wir eben schließen, dann ist unsere Arbeit nutzlos, dann können wir unsere Leistungen nicht mehr anbieten.', 'In gewisser Weise sind Informationsdefizit und Demokratiedefizit Teil ein und desselben Problems.', 'Ich kann Ihnen versichern, daß es letzte Woche in dem Ausschuß, dessen Vorsitz ich inne habe, nicht leicht war, dahin zu gelangen, aber letztendlich haben wir beschlossen, auf die portugiesische Ratspräsidentschaft zu setzen, und wir möchten unseren Wetteinsatz nicht verlieren.', 'All diese Probleme haben wir mit Hilfe einer Entschließung des Parlaments deutlich gemacht.', 'Dieser Bericht liegt nun in zweiter Lesung vor.', 'Dies gilt auch für Österreich, wo Otto von Habsburg, um nach Österreich einreisen zu können, seine Identität verleugnen und die Rechte abtreten mußte, die ihm und den Mitgliedern seiner Familie zustehen.', 'Doch, wie gesagt, wird diesen Problemen nicht nur von der Kommission, sondern auch von Rat Beachtung geschenkt.', 'Auf der Suche nach Bündnispartnern in dieser Region dürfen wir nicht jedesmal die erstbesten nehmen - das sollte klar sein.', 'Wir sollten uns jetzt für nachhaltige Wasserpolitik als Ansatz entscheiden und dabei doch realistisch bleiben.', 'Ich möchte deshalb wissen, ob sich dies im Einklang mit Artikel 139 Absatz 1 unserer Geschäftsordnung befindet.', 'Bestimmte Formen der Kriminalität sind heute grenzüberschreitend, und die bessere Zusammenarbeit zu ihrer wirksameren Bekämpfung liegt natürlich im Interesse der Mitgliedstaaten.', 'In Tampere faßte man ins Auge, auch operationelle Kompetenzen zu verteilen.', 'Diese zeigen jedoch leider eher die Schwierigkeiten auf, als daß sie Lösungsansätze bieten.', 'Sie sind aber wichtig und sie sind konsensual, und deshalb hätte man sie in Ruhe und Würde auch fällen können, und deshalb hat man sie ja auch am Ende dieses Tages in Ruhe und Würde gefällt.', 'Herr Elles, ich werde gleich vorschlagen - weil dies meines Erachtens der soeben erzielten Einigung entspricht -, Simbabwe als fünften Unterpunkt zum Thema \"Menschenrechte \" aufzunehmen.', 'Ich meinerseits bin dazu durchaus bereit, und ich bin mir auch im klaren, daß mir dann Fragen mit einem mehr politischen Charakter gestellt werden.', 'Bei der Preispolitik kann es mitunter zu extremen Situationen kommen, die Ausnahmen von den Grundsätzen der Richtlinien erfordern.', 'Außer der strengen Haushaltsdisziplin möchte ich die folgenden Punkte hervorheben: Unsere Fraktion gibt dem Reformpaket von Herrn Kinnock ihre volle Unterstützung.', 'Meine Arbeit baut natürlich zu einem wesentlichen Teil auf den Erfahrungen der ersten Lesung und der Arbeit auf, die in ihrem Vorfeld geleistet worden ist.', 'Ein solches Verhalten hat letztlich nichts mit Solidarität zu tun.'], 'en': ['Madam President, if the vote records correctly how my Group voted I shall not, and cannot, object to that.', 'Is that such a drastic step?', \"The important thing, from our mutual point of view, is that, when the time comes, we can, either in committee or in plenary session, have a debate on the conditions which, I hope, will be those we have agreed with the People' s Republic of China, and that this will be completely transparent.\", 'Our consumer information and protection system is totally inadequate: for example, there is no way a citizen of the Union can know whether ravioli imported from another Member State contains any British beef.', 'Three serious issues were discussed: the first was the first discussion on the fifth programme for women, of which I gave an initial evaluation, the second issue was the report by Mr Busquin on the investigation into the participation of women in research and science, and the third involved Mr Kinnock, who reported to the working group on efforts being made to take account of the gender equality dimension in the overall reforms currently taking place in the Community.', 'Current investigations show that piracy and counterfeiting are closely linked to other forms of organised crime, such as trafficking in drugs and armaments and money laundering.', 'Citizens, NGOs and trade unions are committed on a day-to-day basis to supporting solidarity between peoples and to putting many local cooperation projects into practice.', 'Mr President, this debate on the guidelines on vertical restraints is the last in a series of four on an extremely technical subject, for now anyway.', 'Finally, in this time of natural disasters, I would just like to mention the issue of the use of Structural Funds.', 'There are two points which, in my opinion, deserve special attention on the part of the ELDR.', 'However, we have voted against paragraphs 2 and 6, because they seem to us to be legally incorrect.', 'Nobody said that!', 'It is clear that certain businesses and a certain economic sector totally rely on night flights. If we asked them what would happen if there were no night flights, they are bound to say that they would have to close down their businesses, their activities would become pointless and they would no longer be able to offer their services.', 'In a sense, the information deficit and the democratic deficit are part of the same problem.', 'I can assure you that it was not easy to achieve this, last week in the Committee I chair, but we eventually decided to back the Portuguese Presidency and we would like to win this wager.', 'We highlighted all these problems in a resolution by Parliament.', 'This report is now before us at second reading.', 'This is also the case for Austria where Otto von Habsburg was required to deny his own identity and renounce rights belonging to him and to members of his family to enter Austria.', 'However, these concerns are the centre of attention not only for the Commission but also for the Council.', 'We must be sure that, in seeking allies in the area, we must not always choose anyone who offers.', 'The European Parliament must now opt for a sustainable water policy as a starting point and remain realistic at the same time.', 'I rise, therefore, to question whether Rule 139(1) of our Rules of Procedure is being applied correctly.', 'Nowadays, certain forms of crime are cross-border crimes and it is, of course, in the interests of the Member States to improve cooperation so that they can crack down on them.', 'In Tampere, the question of granting operational powers was discussed.', 'Unfortunately, however, it has highlighted the difficulties rather than proposing solutions.', 'They are, however, important and they are consensual. We should therefore be able to pass them peacefully and in a dignified manner, and that is why, at the end of the day, we have passed them peacefully and in a dignified manner.', \"Mr Elles, first of all, I am going to suggest that we enter Zimbabwe as the fifth sub-item in the 'Human Rights' section, since I believe that is in line with what we have just agreed.\", 'Personally, I am perfectly willing to take part in this. I know, when the time comes, that questions of a rather more political nature will be asked.', 'As regards pricing policy, there are sometimes extreme cases which may require derogations from the principles laid down in the report.', 'In addition to stringent budgetary discipline we wish to stress the following: our Group gives its full support to the package of reforms as proposed by Mr Kinnock.', 'My work has, of course, been very much based upon experiences from the first reading and upon the preparatory work for that reading.', 'In the end, that kind of attitude has nothing to do with solidarity.']}}\n",
      "{'translation': {'de': ['Ein Faktor, der für diese Entwicklung mitverantwortlich ist und in dieser Debatte erwähnt wurde, ist der Wettbewerb - der Wettbewerb zwischen den Mitgliedstaaten um die Kosten für die Herstellung von Nahrungsmitteln.', 'In diesen Verbrennungsanlagen werden im allgemeinen in der Landwirtschaft anfallende tierische Abfälle sowie leere Pestizidbehälter verbrannt, deren Menge in der Regel unter 50 kg pro Stunde beträgt.', 'Den Italienern sind die Schwierigkeiten, denen man beim Kampf gegen die organisierte Kriminalität begegnet, bestens vertraut.', 'Ebenso möchte ich die Anmerkungen von Herrn Titley über eine wirksame Rolle des Parlaments in diesem ganzen Bereich unterstützen.', 'Ein derartiger Standpunkt ist nicht nur politische Drückebergerei, er ist auch ausgesprochen gefährlich.', 'Es gibt Angst vor der Erweiterung, und man hat den Eindruck, daß sich die Waagschale mehr nach Norden und Osten als nach Süden neigt.', 'Ideallösungen sind selten, aber ich glaube wirklich, daß dies eine sehr praktische Lösung ist, und wenn wir bei der Überprüfung des Programms in drei Jahren feststellen, daß wir die Eingreifmöglichkeit nicht mehr brauchen, weil wir ähnliche Eingreifmechanismen in die regulären Programme für Außenhilfe eingebaut haben, dann wäre darüber keiner glücklicher als ich.', 'Wenn es eine persönliche Erklärung ist, würden Sie bitte bis zum Ende dieser Aussprache warten? Ich erteile Ihnen dann gern das Wort.', 'Was diesen Bericht betrifft, so ist es für uns sehr wichtig und unbedingt erforderlich, daß die Verpflichtung zur Etikettierung für sämtliche Produkte des Sektors gilt, vom rohen Schlachtfleisch bis zu den Folgeerzeugnissen, Hackfleisch, Fleischabschnitten usw.', '. (FR) In ihrer Mitteilung \"Frauen und Wissenschaft \" kündigt uns die Kommission die gute Absicht an, die Frauen zur Bereicherung der europäischen Forschung zu mobilisieren.', 'Wir werden einen großen europäischen Raum errichten, der sich zunächst wirtschaftlich artikulieren wird und der sich später politisch artikulieren muß.', 'Sie wissen vielleicht, daß es den Mitgliedstaaten seit dem 15. Januar 2000 nach dem neuen Finanzinstrument zur Ausrichtung der Fischerei möglich ist, die Ausrottung von Aquakulturkrankheiten zu fördern.', 'Frau Präsidentin, ich möchte auf einen Übersetzungsfehler aufmerksam machen, der die Änderungsanträge 18 und 30 betrifft.', 'Die EU muß der Duma in aller Deutlichkeit klarmachen, daß der Abzug der russischen Truppen aus Moldau der Stabilisierung des Landes dienen würde.', 'Herr Nielson sprach vor wenigen Minuten über den EU-Afrika-Gipfel, der vor gerade einer Woche in Kairo stattgefunden hat.', 'Die niederländische sozialdemokratische Delegation hat sich lange vor ihrer Eröffnung sehr eingehend mit der Regierungskonferenz beschäftigt.', 'Auch daran wird man sich erst gewöhnen müssen.', 'Die Berichterstatterin schlägt ebenfalls vor, Fristen für die Erreichung der festgelegten Ziele zu setzen; dies erscheint mir dringend notwendig.', 'Zwar ist das Vorsorgeprinzip als solches nicht mit einer Politisierung der Wissenschaft verbunden, wie dies einige behauptet haben, es führt uns jedoch in den Grenzbereich zwischen Wissenschaft und Politik.', 'Die Berichterstatterin Frau Schierhuber hat eingewilligt, eine Obergrenze von 600 EUR je Hektar direkt an die Landwirte zu bewilligender Hilfe unter der Voraussetzung festzusetzen, daß der Landwirt den zuständigen Behörden nachweisen kann, daß er die Fasern innerhalb von 18 Monaten nach Antragstellung an einen Verarbeiter geliefert hat.', 'Im Namen der Europäischen Volkspartei habe ich einen Änderungsantrag zur Entschließung eingereicht, in dem gefordert wird, daß der Rat möglichst bald einen Text zu dieser Materie auf den Tisch legt, denn daß es keine Regelung gibt, ist nicht gut.', 'Das Haushaltsverfahren des letzten Jahres, ich darf es einmal diplomatisch ausdrücken, war ja äußerst spannend.', 'Zunächst möchte ich Herrn Viceconte für seine umfangreiche Arbeit an diesem Bericht danken.', 'Empfehlung für die zweite Lesung (A5-0040/2000) des Ausschusses für Regionalpolitik, Verkehr und Fremdenverkehr betreffend den Gemeinsamen Standpunkt des Rates im Hinblick auf den Erlaß der Richtlinie des Europäischen Parlaments und des Rates über die technische Unterwegskontrolle von Nutzfahrzeugen, die in der Gemeinschaft am Straßenverkehr teilnehmen (111287/1/1999 - C5-0323/1999 - 1998/0097(COD)) (Berichterstatter: Herr Piecyk)', '. (FR) In dieser gemeinsamen Aussprache über die Menschenrechte liegt uns ein Bericht vor, der die der EU zur Verfügung stehenden Instrumente zur Förderung der Menschenrechte in der Welt sowie ihre konkrete Umsetzung im Zeitraum vom 1. Juni 1998 bis 30. Juni 1999 analysiert.', 'Und diesbezüglich muß uns die Politik der Privatisierung der für die Luftverkehrsüberwachung zuständigen operativen Einrichtungen ein besonderes Anliegen sein.', 'Aber wir glauben, daß man in der Wachsamkeit nicht nachlassen darf.', 'Herr Präsident! In der vorliegenden Entschließung geht es um Solidarität mit den demokratischen Kräften in Spanien, die für die Achtung der Menschenrechte kämpfen.', 'Für Naturjoghurt zahlen wir schon lange keine Exporterstattungen mehr, für den aromatisierten Joghurt müssen wir eine bezahlen.', 'Bei Annahme von Änderungsantrag 44 tritt die Verordnung jedoch automatisch ab diesem Datum in Kraft.', 'Der Ausschuß hat weiterhin vorgeschlagen, in den einzelnen Mitgliedstaaten bei der Festlegung und Bewertung der Verwendung der Mittel auf breiter Basis partnerschaftlich zusammenzuarbeiten, wozu auch die direkte Einbindung von Flüchtlingsorganisationen gehört.', 'Herr Präsident! Vor zehn Tagen ist die UN-Kommissarin Mary Robinson von einer Rußlandreise zurückgekehrt, auf der sie die Situation in Tschetschenien in bezug auf Verletzungen der Menschenrechte in Augenschein nehmen sollte.'], 'en': ['One factor behind these developments that has been referred to in this debate is competition - competition between Member States on the cost of the production of food.', 'Typically, such incinerators deal with animal waste from the agriculture sector and with the disposal of empty pesticide containers at a rate of less than 50 kg an hour.', 'Italians are familiar with the difficulties of dealing with organised crime.', \"I would also like to support Mr Titley' s comments on an effective role for the Parliament in this whole area.\", 'Such a view is not only a political cop-out, it is positively dangerous.', 'There are fears about enlargement and there is a feeling that the balance is more in favour of the north and the east and less in favour of the south.', 'There are rarely ideal solutions, but I do think that it is a very workable solution and if, when we review the programme in three years, we find we no longer need it because we have integrated similar rapid reaction mechanisms in the regular programmes for external assistance, no one would be happier than me.', 'If it is a personal statement, would you be prepared to wait until the end of this debate, at which stage I would be happy to call you?', 'In our view the important and essential thing in this report is that all meat industry products should be covered by compulsory labelling, from basic butchered meat to derivatives, minced meat, cut meat, etc.', 'In its communication \"Women and Science\" , the European Commission informs us of its good intentions of enlisting the support of women to enrich research in Europe.', 'We are building a vast European area which will firstly be linked economically and then politically.', 'You may know that with effect from 15 January 2000, under the new financial instrument for fisheries guidance, Member States may encourage eradication of diseases in aquaculture.', 'Madam President, I would like to point out a mistake in translation in Amendments Nos 18 and 30.', \"The EU must do all it can to make it clear to the Duma that withdrawing Russian troops from Moldova would enhance the country' s stability.\", 'My colleague, Commissioner Nielson, was talking a moment or two ago about the EU-African summit in Cairo just over a week ago.', 'Long before the IGC was launched, the Dutch social democratic delegation had already taken an active interest in the IGC.', 'They will need time to get used to that too.', 'The rapporteur also proposes setting target dates for achieving these objectives. This is essential.', 'As such, while the precautionary principle does not involve the politicisation of science, as some have alleged, it does take us to the crossroads between science and politics.', 'The rapporteur, Mrs Schierhuber, has agreed to put a limit of EUR 600 per hectare to farmers directly, provided that the farmer proves to the competent authorities, within 18 months after having applied for the subsidy, that he has delivered the fibre to a processor.', \"On behalf of the Group of the European People' s Party, I have tabled an amendment to the motion for a resolution which asks the Council to produce a text on this issue as soon as possible.\", 'The budgetary procedure last year was extremely exciting, to put it diplomatically.', 'First of all I should like to thank Mr Viceconte for all the work that he has done on this report.', 'Recommendation for second reading (A5-0040/2000), on behalf of the Committee on Regional Policy, Transport and Tourism, on the Council common position for adopting a European Parliament and Council directive on the technical roadside inspection of the roadworthiness of commercial vehicles circulating in the Community [111287/1/1999 - C5-0323/1999 - 1998/0097(COD)] (Rapporteur: Mr Piecyk)', '- (FR) In this joint debate on human rights, the report under consideration here analyses the instruments available to the Union to promote these rights in the world and their concrete application between 1 June 1998 and 30 June 1999.', 'To this end, we must concern ourselves with resolving the issue of the policy of privatising the operational bodies responsible for air traffic control.', 'But we see no reason to lower our guard.', 'Mr President, this resolution expresses solidarity with the democratic forces in Spain fighting for human rights.', 'So we have not been paying export refunds any more for natural yoghurt for years, but we still have to grant them for flavoured yoghurts.', 'If proposed Amendment No 44 is accepted, the regulation automatically enters into force on this date.', 'The committee also proposed that there should be greater partnership at Member State level in determining and evaluating how the money should be used, including the involvement of refugee organisations themselves.', \"Mr President, ten days ago, the UN' s Commissioner for Human Rights, Mary Robinson, returned home from a visit to Russia where she was to investigate the situation in Chechnya in regard to human rights abuses.\"]}}\n",
      "{'translation': {'de': ['Ich danke auch den Mitgliedern des Ausschusses für Landwirtschaft und ländliche Entwicklung für ihre einstimmige Unterstützung. Das läßt für die Abstimmung in diesem Parlament hoffen.', 'Ihre Stimme, liebe Kollegen, für meinen Bericht in seiner jetzigen Fassung, die vom Ausschuß für Fischerei gebilligt wurde, wird ein sehr wichtiger Teil eines umfassenden Maßnahmenpakets zur Bekämpfung der ISA sein, das sich an der tatsächlichen Lage in Schottland und den Erfolgen anderer orientiert.', 'B5-0258/2000 der Abgeordneten Lynne im Namen der Fraktion der Liberalen und Demokratischen Partei Europas;', 'Zweitens sollte eine Verbesserung der Aufnahmebedingungen auch den allgemeinen Zugang zur Gesundheitsvorsorge, den Schulbesuch der Kinder sowie die berufliche Bildung umfassen.', 'Ich weiß, daß einige Kollegen von diesem Ansatz enttäuscht sind, insbesondere jene, die diese Debatte vergangenes Jahr initiiert haben, und es ist behauptet worden, daß das Parlament die wichtigen Themen einfach vernachlässigen würde, wenn wir es dabei beließen.', 'Wir müssen uns sehr genau überlegen, wie wir unsere Mittel verwenden. \"', 'Wir im Entwicklungsausschuß sollten wie immer eindeutig darauf hinweisen, daß wir die hier vor uns liegende Haushaltszahl lediglich als Richtschnur betrachten sollten.', 'Ich höre Sie schon antworten: die humanitären.', 'Das ist eine Weisheitslektion mit 100 % Ideologie und 0 % Kenntnissen.', '(Die Präsidentin entzieht dem Redner das Wort.)', 'Das ist eine ernsthafte Verletzung des humanitären Prinzips und stellt zuweilen einen fatalen Mangel dar, der schon zu vielen Kriegsopfern geführt hat.', 'Ich möchte Sie darauf aufmerksam machen, daß mein Kollege Michel Barnier und ich den Dialog über die Regierungskonferenz angestoßen haben, der nach diesem neuen Konzept geführt werden soll, d.h. auf das Publikum zugehen, auf die Jugendlichen und all jene, die die Öffentlichkeit ausmachen, mit ihnen diskutieren, auch seitens der Kommission auf die lokalen und regionalen gewählten Vertreter sowie die nationalen Abgeordneten zugehen, nicht, um große Reden zu halten, sondern um mit ihnen zu diskutieren und daraus Erkenntnisse darüber zu gewinnen, wo die allgemeinen Erwartungen liegen.', 'Ich möchte allerdings - bevor ich Ihre Frage mit den hier üblichen rechtlichen Argumenten beantworte - noch etwas Politisches vorwegsagen.', 'Die Kommission ist der Ansicht, daß die entsprechende Grenze im allgemeinen bei 0,5 mg/ml liegen sollte; dabei könnte man in einigen Fällen, beispielsweise bei Kraftfahrern, die gerade erst ihren Führerschein erworben haben, zumindest für ein Jahr sogar die Herabsetzung dieser Obergrenze in Erwägung ziehen und sie noch restriktiver gestalten.', 'Kriminelle Handlungen im Zusammenhang mit dem elektronischen Geschäftsverkehr, sogen. cyber crime, müssen meiner Ansicht nach durch eine verbesserte Polizeiarbeit beantwortet werden statt durch gesetzliche Vorschriften, die potentiell grundlegende demokratische Werte beschränken können.', 'Darum appelliere ich an Frankreich, dies während seiner kommenden Ratspräsidentschaft zu tun. Nicht zuletzt fordere ich mein eigenes Land, Schweden, auf - falls bis zu dessen Übernahme der Ratspräsidentschaft nichts geschehen ist -, Maßnahmen für eine friedliche Lösung in diesem langjährigen Konflikt zu ergreifen.', 'Das ist ein krasses Mißverhältnis!', 'Wir möchten jedoch betonen, daß es unerläßlich ist, so bald wie möglich die Strategie für das neue Jahrtausend anzunehmen, die der im Rahmen des vorhergehenden Aktionsplans geleisteten Arbeit neue Impulse und Kontinuität verleihen soll.', 'Ich halte also ein Eurocorps für Zivilschutz, die Bildung einer echten Truppe von Blauhelmen für zivile Soforthilfe, die dort präsent ist, wo Hilfe gebraucht wird, sowohl innerhalb der Union, wo es heute kein Notstandsverfahren gibt, als auch außerhalb, wenn Hilfe vonnöten ist, in Venezuela oder anderswo, für wünschenswert.', 'Da beide Vorschläge vom Rat bereits gebilligt worden sind, kommt es darauf an, diesen Ansatz mitzutragen, um dann rechtzeitig mit Sachverstand beurteilen zu können, ob, inwieweit und wie der Sozialschutz in der Europäischen Union angeglichen werden muß.', 'Der Tourismusmarkt ist definitionsgemäß ein flexibler Markt; wir wollen nicht, daß diese Flexibilität nur als Diskriminierungsfaktor verstanden wird und zu dem Fehlschluß führt, Saisonarbeit sei gleichbedeutend mit ungeregelter Arbeit: Es sei darauf verwiesen, daß 50 % der Beschäftigten, insbesondere in den südlichen Ländern der Europäischen Union, Schwarzarbeiter sind.', 'Aber ich werde mich darum kümmern, daß man dann einmal versucht, wie das aussieht.', 'Nach einer langen Debatte innerhalb der Liberalen Internationalen und nach zahlreichen Besuchen zu Gesprächen in Wien legten wir im November 1991 die Mitgliedschaft der FPÖ zeitweilig auf Eis und schlossen die Partei dann im Juli 1993 aus.', 'Dies ist von grundlegender Bedeutung und beinhaltet, daß der Verursacher die Höhe der Entschädigung der Betroffenen nicht in Abhängigkeit von der von der FIPOL festgesetzten Obergrenze, d. h. nach dem willkürlichen Ermessen der großen Erdölgesellschaften, beschränken kann.', 'Gerade im Zusammenhang mit den Forderungen an die Arbeit der Regierungskonferenz sollte der Schwerpunkt auf der Forderung einer klaren Kompetenzabgrenzung liegen.', 'In Übereinstimmung mit der Strategie des Entwicklungs-Ausschusses der OECD und den Schlußfolgerungen der Sozialgipfel der EU verfolgen wir auch das Ziel der Beseitigung der geschlechtsspezifischen Unterschiede bis 2005.', 'Darum ist es wichtig, daß hier eine Übereinstimmung besteht.', 'Deswegen bitte ich darum, daß eine Entschließung an die mündliche Anfrage angeschlossen wird.', 'Herr Präsident, sehr geehrter Herr Kommissar! Diese Initiative erfüllt eine wichtige Aufgabe, indem sie den Entscheidungsträgern bewußt macht, wohin die Entwicklung geht, aber auch, daß es auf diesem Gebiet in Europa sehr große Niveauunterschiede gibt.', 'Viele Staaten oder in den Krieg verwickelte Kräfte legen ein Verhalten an den Tag, das jeglichen Prinzipien zuwiderläuft und allein den Zweck heiligt.', 'Hervorzuheben ist indessen, daß sich auch gestern viele der Gefahr bewußt waren, daß mit der Erweiterung das ursprüngliche Konzept der Errichtung einer politischen Union in Frage gestellt werden könnte, worauf übrigens auch in einem Interview hingewiesen wurde, das sicher aufgrund der Autorität seines Autors, Jacques Delors, niemandem entgangen sein wird.', 'Ich hege die starke Hoffnung, daß dieses Abkommen in seinen vom Berichterstatter, Herrn Swoboda, umrissenen Grundzügen als Beispiel dienen möge und schnellstens auf andere Länder, insbesondere auf Albanien, Bosnien-Herzegowina, Kroatien, Montenegro, Kosovo, und sobald wie möglich auch auf Serbien ausgedehnt wird.'], 'en': ['I should like to thank the members of the Committee on Agriculture and Rural Development for their unanimous support, that bodes well for the vote in this House.', \"Your votes, colleagues, in favour of my report in full, as endorsed by the Fisheries Committee, will be a very important part of a wider ISA control package based on the reality of Scotland' s situation and the lessons learned from the success of others.\", 'B5-0258/2000 by Mrs Lynne on behalf of the Group of the European Liberal, Democrat and Reform Party;', 'Secondly, improving reception conditions should also include providing access to health care for all, the provision of education for children, and also training.', 'I know that this approach has disappointed some colleagues, particularly those who raised the debate last year, and it has been suggested that the Parliament would simply walk away from important issues if we left it at that.', 'We must be very careful about how we use resources.', 'As usual we should make it very clear that we in the Development Committee regard the budget figure that we have here before us, as purely indicative.', 'I can already hear your reply: humanitarian standards.', 'This lesson in wisdom is 100% ideology and 0% knowledge.', '(The President cut the speaker off)', 'This is a serious breach of the humanitarian principle and is, in some cases, a fatal shortcoming which is responsible for many war victims.', 'Moreover, I would draw your attention to the fact that my fellow Commissioner, Michel Barnier, and myself, have initiated dialogue on the Intergovernmental Conference which is to follow this new approach, i.e. making contact with the public, with young people and opinion formers, and discussing matters with them, and also approaching locally, regionally and nationally elected representatives on behalf of the Commission, not to make fine speeches, but to discuss things with them and to gain some idea of their general expectations.', 'However, before answering your question with the standard legal arguments, I should like to get a political point out of the way first.', 'The Commission considers the suitable limit to be, in general, around 0.5 mg per mille, which in certain cases, new drivers, for example, could possibly be reduced, at least for a specific time period, and thereby make it even more restrictive.', 'E-commerce crime, or cyber crime as it is called, should, in my view, be combated by means of better working methods on the part of the police and not by means of legislation which is in danger of compromising basic democratic values.', 'I would therefore appeal to France do so in the course of its own forthcoming presidency and, last but not least (and if nothing has happened by then), to my own country, Sweden, to take measures during its own presidency with a view to achieving a peaceful resolution of this conflict after all these years.', 'There is a blatant discrepancy here!', 'However, we must stress that it is vital for approval to be given as soon as possible to the strategy for the new millennium, so as to give a fresh impetus, while preserving continuity, to the work done under the previous action plan.', 'I therefore believe that a European civil protection force, real civil relief blue helmets, who would go to areas in difficulty within the Union, as we currently have no emergency procedure, but also outside the Union if needs be, in Venezuela or anywhere else, is something that we should hope to see.', 'Both proposals have already been accepted by the Council and it is thus a matter of endorsing this approach in order to be able to make an assessment in time, with knowledge of all facts and/or in order to establish to what extent and in what way social protection should be reorganised in the European Union.', 'The tourism market is by definition a flexible market; we do not want this flexibility to be seen in a solely negative light, with seasonal work being misinterpreted as illegal work: remember that 50% of employment, especially in southern countries of the European Union, is done on the black economy.', 'However, I will make sure that we have a go then and see how the land lies.', 'In November of 1991, after a long internal debate in Liberal International and many visits to Vienna to discuss issues, we suspended the FPÖ from membership and in July 1993 we expelled them.', 'This is essential. It means that the polluter cannot claim to limit the amount of compensation for victims in line with the ceiling set by FIPOL, which is to say, by the goodwill of the major oil companies.', 'When it comes to the demands made on the Intergovernmental Conference agenda, it is the call for there to be clear delimitation of competences that should take centre stage.', \"We are also pursuing the target of eliminating disparities affecting people by the year 2005, in line with the OECD Development Aid Committee' s strategy and the conclusions of the European Union' s social affairs summits.\", 'It is therefore important that there be a coordination strategy.', 'I therefore ask that a resolution be taken in connection with the oral question.', 'Mr President, Commissioner, the present initiative is important for the purpose of making decision makers in general more aware of developments, but also because levels of development differ very greatly from one European country to another.', 'The behaviour of many states and many parties to armed conflicts fails to reflect any principles whatsoever and is characterised by an \"end justifies the means\" approach.', \"Nevertheless, we must stress that many people are aware, as they were yesterday too, of the risk that enlargement could compromise the original plan for the construction of a political Europe, a risk that was, moreover, indicated in an interview that surely escaped no one' s attention, owing to the authority of the person being interviewed - Jacques Delors.\", 'We are extremely hopeful that, along the lines set out by the rapporteur, Mr Swoboda, this agreement can represent an example to be rapidly extended to the other countries, especially Albania, Bosnia and Herzegovina, Croatia, Montenegro and Kosovo and, as soon as possible, Serbia.']}}\n"
     ]
    }
   ],
   "source": [
    "train_dataloader = torch.utils.data.DataLoader(train_data, batch_size=32, shuffle=True)\n",
    "val_dataloader = torch.utils.data.DataLoader(val_data, batch_size=32, shuffle=True)\n",
    "test_dataloader = torch.utils.data.DataLoader(test_data, batch_size=32, shuffle=True)\n",
    "\n",
    "for i, batch in enumerate(train_dataloader):\n",
    "    print(batch)\n",
    "    if i == 4:\n",
    "        break"
   ]
  },
  {
   "cell_type": "code",
   "execution_count": 103,
   "metadata": {},
   "outputs": [],
   "source": [
    "from torch import Tensor\n",
    "import torch\n",
    "import torch.nn as nn\n",
    "from torch.nn import Transformer\n",
    "import math\n",
    "DEVICE = torch.device('cuda' if torch.cuda.is_available() else 'cpu')\n",
    "\n",
    "# helper Module that adds positional encoding to the token embedding to introduce a notion of word order.\n",
    "class PositionalEncoding(nn.Module):\n",
    "    def __init__(self,\n",
    "                 emb_size: int,\n",
    "                 dropout: float,\n",
    "                 maxlen: int = 5000):\n",
    "        super(PositionalEncoding, self).__init__()\n",
    "        den = torch.exp(- torch.arange(0, emb_size, 2)* math.log(10000) / emb_size)\n",
    "        pos = torch.arange(0, maxlen).reshape(maxlen, 1)\n",
    "        pos_embedding = torch.zeros((maxlen, emb_size))\n",
    "        pos_embedding[:, 0::2] = torch.sin(pos * den)\n",
    "        pos_embedding[:, 1::2] = torch.cos(pos * den)\n",
    "        pos_embedding = pos_embedding.unsqueeze(-2)\n",
    "\n",
    "        self.dropout = nn.Dropout(dropout)\n",
    "        self.register_buffer('pos_embedding', pos_embedding)\n",
    "\n",
    "    def forward(self, token_embedding: Tensor):\n",
    "        return self.dropout(token_embedding + self.pos_embedding[:token_embedding.size(0), :])\n",
    "\n",
    "# helper Module to convert tensor of input indices into corresponding tensor of token embeddings\n",
    "class TokenEmbedding(nn.Module):\n",
    "    def __init__(self, vocab_size: int, emb_size):\n",
    "        super(TokenEmbedding, self).__init__()\n",
    "        self.embedding = nn.Embedding(vocab_size, emb_size)\n",
    "        self.emb_size = emb_size\n",
    "\n",
    "    def forward(self, tokens: Tensor):\n",
    "        return self.embedding(tokens.long()) * math.sqrt(self.emb_size)\n",
    "\n",
    "# Seq2Seq Network\n",
    "class Seq2SeqTransformer(nn.Module):\n",
    "    def __init__(self,\n",
    "                 num_encoder_layers: int,\n",
    "                 num_decoder_layers: int,\n",
    "                 emb_size: int,\n",
    "                 nhead: int,\n",
    "                 src_vocab_size: int,\n",
    "                 tgt_vocab_size: int,\n",
    "                 dim_feedforward: int = 512,\n",
    "                 dropout: float = 0.1):\n",
    "        super(Seq2SeqTransformer, self).__init__()\n",
    "        self.transformer = Transformer(d_model=emb_size,\n",
    "                                       nhead=nhead,\n",
    "                                       num_encoder_layers=num_encoder_layers,\n",
    "                                       num_decoder_layers=num_decoder_layers,\n",
    "                                       dim_feedforward=dim_feedforward,\n",
    "                                       dropout=dropout)\n",
    "        self.generator = nn.Linear(emb_size, tgt_vocab_size)\n",
    "        self.src_tok_emb = TokenEmbedding(src_vocab_size, emb_size)\n",
    "        self.tgt_tok_emb = TokenEmbedding(tgt_vocab_size, emb_size)\n",
    "        self.positional_encoding = PositionalEncoding(\n",
    "            emb_size, dropout=dropout)\n",
    "\n",
    "    def forward(self,\n",
    "                src: Tensor,\n",
    "                trg: Tensor,\n",
    "                src_mask: Tensor,\n",
    "                tgt_mask: Tensor,\n",
    "                src_padding_mask: Tensor,\n",
    "                tgt_padding_mask: Tensor,\n",
    "                memory_key_padding_mask: Tensor):\n",
    "        src_emb = self.positional_encoding(self.src_tok_emb(src))\n",
    "        tgt_emb = self.positional_encoding(self.tgt_tok_emb(trg))\n",
    "        outs = self.transformer(src_emb, tgt_emb, src_mask, tgt_mask, None,\n",
    "                                src_padding_mask, tgt_padding_mask, memory_key_padding_mask)\n",
    "        return self.generator(outs)\n",
    "\n",
    "    def encode(self, src: Tensor, src_mask: Tensor):\n",
    "        return self.transformer.encoder(self.positional_encoding(\n",
    "                            self.src_tok_emb(src)), src_mask)\n",
    "\n",
    "    def decode(self, tgt: Tensor, memory: Tensor, tgt_mask: Tensor):\n",
    "        return self.transformer.decoder(self.positional_encoding(\n",
    "                          self.tgt_tok_emb(tgt)), memory,\n",
    "                          tgt_mask)"
   ]
  },
  {
   "cell_type": "code",
   "execution_count": 104,
   "metadata": {},
   "outputs": [],
   "source": [
    "def generate_square_subsequent_mask(sz):\n",
    "    mask = (torch.triu(torch.ones((sz, sz), device=DEVICE)) == 1).transpose(0, 1)\n",
    "    mask = mask.float().masked_fill(mask == 0, float('-inf')).masked_fill(mask == 1, float(0.0))\n",
    "    return mask\n",
    "\n",
    "\n",
    "def create_mask(src, tgt):\n",
    "    src_seq_len = src.shape[0]\n",
    "    tgt_seq_len = tgt.shape[0]\n",
    "\n",
    "    tgt_mask = generate_square_subsequent_mask(tgt_seq_len)\n",
    "    src_mask = torch.zeros((src_seq_len, src_seq_len),device=DEVICE).type(torch.bool)\n",
    "\n",
    "    src_padding_mask = (src == PAD_IDX).transpose(0, 1)\n",
    "    tgt_padding_mask = (tgt == PAD_IDX).transpose(0, 1)\n",
    "    return src_mask, tgt_mask, src_padding_mask, tgt_padding_mask"
   ]
  },
  {
   "cell_type": "code",
   "execution_count": 105,
   "metadata": {},
   "outputs": [
    {
     "name": "stderr",
     "output_type": "stream",
     "text": [
      "c:\\Users\\prakh\\anaconda3\\envs\\visiongpu\\Lib\\site-packages\\torch\\nn\\modules\\transformer.py:286: UserWarning: enable_nested_tensor is True, but self.use_nested_tensor is False because encoder_layer.self_attn.batch_first was not True(use batch_first for better inference performance)\n",
      "  warnings.warn(f\"enable_nested_tensor is True, but self.use_nested_tensor is False because {why_not_sparsity_fast_path}\")\n"
     ]
    }
   ],
   "source": [
    "torch.manual_seed(0)\n",
    "\n",
    "SRC_VOCAB_SIZE = len(vocab_transform[SRC_LANGUAGE])\n",
    "TGT_VOCAB_SIZE = len(vocab_transform[TGT_LANGUAGE])\n",
    "EMB_SIZE = 512\n",
    "NHEAD = 8\n",
    "FFN_HID_DIM = 512\n",
    "BATCH_SIZE = 128\n",
    "NUM_ENCODER_LAYERS = 3\n",
    "NUM_DECODER_LAYERS = 3\n",
    "\n",
    "transformer = Seq2SeqTransformer(NUM_ENCODER_LAYERS, NUM_DECODER_LAYERS, EMB_SIZE,\n",
    "                                 NHEAD, SRC_VOCAB_SIZE, TGT_VOCAB_SIZE, FFN_HID_DIM)\n",
    "\n",
    "for p in transformer.parameters():\n",
    "    if p.dim() > 1:\n",
    "        nn.init.xavier_uniform_(p)\n",
    "\n",
    "transformer = transformer.to(DEVICE)\n",
    "\n",
    "loss_fn = torch.nn.CrossEntropyLoss(ignore_index=PAD_IDX)\n",
    "\n",
    "optimizer = torch.optim.Adam(transformer.parameters(), lr=0.0001, betas=(0.9, 0.98), eps=1e-9)"
   ]
  },
  {
   "cell_type": "code",
   "execution_count": 106,
   "metadata": {},
   "outputs": [],
   "source": [
    "from torch.nn.utils.rnn import pad_sequence\n",
    "\n",
    "# helper function to club together sequential operations\n",
    "def sequential_transforms(*transforms):\n",
    "    def func(txt_input):\n",
    "        for transform in transforms:\n",
    "            txt_input = transform(txt_input)\n",
    "        return txt_input\n",
    "    return func\n",
    "\n",
    "# function to add BOS/EOS and create tensor for input sequence indices\n",
    "def tensor_transform(token_ids: List[int]):\n",
    "    return torch.cat((torch.tensor([BOS_IDX]),\n",
    "                      torch.tensor(token_ids),\n",
    "                      torch.tensor([EOS_IDX])))\n",
    "\n",
    "# ``src`` and ``tgt`` language text transforms to convert raw strings into tensors indices\n",
    "text_transform = {}\n",
    "for ln in [source_language, target_language]:\n",
    "    text_transform[ln] = sequential_transforms(token_transform[ln], #Tokenization\n",
    "                                               vocab_transform[ln], #Numericalization\n",
    "                                               tensor_transform) # Add BOS/EOS and create tensor\n",
    "\n",
    "\n",
    "# function to collate data samples into batch tensors\n",
    "def collate_fn(batch):\n",
    "    src_batch, tgt_batch = [], []\n",
    "    for src_sample, tgt_sample in batch:\n",
    "        src_batch.append(text_transform[source_language](src_sample.rstrip(\"\\n\")))\n",
    "        tgt_batch.append(text_transform[target_language](tgt_sample.rstrip(\"\\n\")))\n",
    "\n",
    "    src_batch = pad_sequence(src_batch, padding_value=PAD_IDX)\n",
    "    tgt_batch = pad_sequence(tgt_batch, padding_value=PAD_IDX)\n",
    "    return src_batch, tgt_batch"
   ]
  },
  {
   "cell_type": "code",
   "execution_count": 107,
   "metadata": {},
   "outputs": [],
   "source": [
    "SRC_LANGUAGE = 'de'\n",
    "TGT_LANGUAGE = 'en'"
   ]
  },
  {
   "cell_type": "code",
   "execution_count": 119,
   "metadata": {},
   "outputs": [],
   "source": [
    "from torch.utils.data import DataLoader\n",
    "\n",
    "def train_epoch(model, optimizer):\n",
    "    model.train()\n",
    "    losses = 0\n",
    "    train_iter = train_data\n",
    "    train_dataloader = DataLoader(train_iter, batch_size=BATCH_SIZE)\n",
    "\n",
    "    for i, batch in enumerate(train_dataloader):\n",
    "        src = batch[i]['translation'][SRC_LANGUAGE]\n",
    "        tgt = batch[i]['translation'][TGT_LANGUAGE]\n",
    "        src = src.to(DEVICE)\n",
    "        tgt = tgt.to(DEVICE)\n",
    "\n",
    "        tgt_input = tgt[:-1, :]\n",
    "\n",
    "        src_mask, tgt_mask, src_padding_mask, tgt_padding_mask = create_mask(src, tgt_input)\n",
    "\n",
    "        logits = model(src, tgt_input, src_mask, tgt_mask,src_padding_mask, tgt_padding_mask, src_padding_mask)\n",
    "\n",
    "        optimizer.zero_grad()\n",
    "\n",
    "        tgt_out = tgt[1:, :]\n",
    "        loss = loss_fn(logits.reshape(-1, logits.shape[-1]), tgt_out.reshape(-1))\n",
    "        loss.backward()\n",
    "\n",
    "        optimizer.step()\n",
    "        losses += loss.item()\n",
    "\n",
    "    return losses / len(list(train_dataloader))\n",
    "\n",
    "\n",
    "def evaluate(model):\n",
    "    model.eval()\n",
    "    losses = 0\n",
    "\n",
    "    val_iter = Multi30k(split='valid', language_pair=(SRC_LANGUAGE, TGT_LANGUAGE))\n",
    "    val_dataloader = DataLoader(val_iter, batch_size=BATCH_SIZE, collate_fn=collate_fn)\n",
    "\n",
    "    for src, tgt in val_dataloader:\n",
    "        src = src.to(DEVICE)\n",
    "        tgt = tgt.to(DEVICE)\n",
    "\n",
    "        tgt_input = tgt[:-1, :]\n",
    "\n",
    "        src_mask, tgt_mask, src_padding_mask, tgt_padding_mask = create_mask(src, tgt_input)\n",
    "\n",
    "        logits = model(src, tgt_input, src_mask, tgt_mask,src_padding_mask, tgt_padding_mask, src_padding_mask)\n",
    "\n",
    "        tgt_out = tgt[1:, :]\n",
    "        loss = loss_fn(logits.reshape(-1, logits.shape[-1]), tgt_out.reshape(-1))\n",
    "        losses += loss.item()\n",
    "\n",
    "    return losses / len(list(val_dataloader))"
   ]
  },
  {
   "cell_type": "code",
   "execution_count": 120,
   "metadata": {},
   "outputs": [
    {
     "ename": "KeyError",
     "evalue": "0",
     "output_type": "error",
     "traceback": [
      "\u001b[1;31m---------------------------------------------------------------------------\u001b[0m",
      "\u001b[1;31mKeyError\u001b[0m                                  Traceback (most recent call last)",
      "Cell \u001b[1;32mIn[120], line 6\u001b[0m\n\u001b[0;32m      4\u001b[0m \u001b[38;5;28;01mfor\u001b[39;00m epoch \u001b[38;5;129;01min\u001b[39;00m \u001b[38;5;28mrange\u001b[39m(\u001b[38;5;241m1\u001b[39m, NUM_EPOCHS\u001b[38;5;241m+\u001b[39m\u001b[38;5;241m1\u001b[39m):\n\u001b[0;32m      5\u001b[0m     start_time \u001b[38;5;241m=\u001b[39m timer()\n\u001b[1;32m----> 6\u001b[0m     train_loss \u001b[38;5;241m=\u001b[39m \u001b[43mtrain_epoch\u001b[49m\u001b[43m(\u001b[49m\u001b[43mtransformer\u001b[49m\u001b[43m,\u001b[49m\u001b[43m \u001b[49m\u001b[43moptimizer\u001b[49m\u001b[43m)\u001b[49m\n\u001b[0;32m      7\u001b[0m     end_time \u001b[38;5;241m=\u001b[39m timer()\n\u001b[0;32m      8\u001b[0m     val_loss \u001b[38;5;241m=\u001b[39m evaluate(transformer)\n",
      "Cell \u001b[1;32mIn[119], line 10\u001b[0m, in \u001b[0;36mtrain_epoch\u001b[1;34m(model, optimizer)\u001b[0m\n\u001b[0;32m      7\u001b[0m train_dataloader \u001b[38;5;241m=\u001b[39m DataLoader(train_iter, batch_size\u001b[38;5;241m=\u001b[39mBATCH_SIZE)\n\u001b[0;32m      9\u001b[0m \u001b[38;5;28;01mfor\u001b[39;00m i, batch \u001b[38;5;129;01min\u001b[39;00m \u001b[38;5;28menumerate\u001b[39m(train_dataloader):\n\u001b[1;32m---> 10\u001b[0m     src \u001b[38;5;241m=\u001b[39m \u001b[43mbatch\u001b[49m\u001b[43m[\u001b[49m\u001b[43mi\u001b[49m\u001b[43m]\u001b[49m[\u001b[38;5;124m'\u001b[39m\u001b[38;5;124mtranslation\u001b[39m\u001b[38;5;124m'\u001b[39m][SRC_LANGUAGE]\n\u001b[0;32m     11\u001b[0m     tgt \u001b[38;5;241m=\u001b[39m batch[i][\u001b[38;5;124m'\u001b[39m\u001b[38;5;124mtranslation\u001b[39m\u001b[38;5;124m'\u001b[39m][TGT_LANGUAGE]\n\u001b[0;32m     12\u001b[0m     src \u001b[38;5;241m=\u001b[39m src\u001b[38;5;241m.\u001b[39mto(DEVICE)\n",
      "\u001b[1;31mKeyError\u001b[0m: 0"
     ]
    }
   ],
   "source": [
    "from timeit import default_timer as timer\n",
    "NUM_EPOCHS = 18\n",
    "\n",
    "for epoch in range(1, NUM_EPOCHS+1):\n",
    "    start_time = timer()\n",
    "    train_loss = train_epoch(transformer, optimizer)\n",
    "    end_time = timer()\n",
    "    val_loss = evaluate(transformer)\n",
    "    print((f\"Epoch: {epoch}, Train loss: {train_loss:.3f}, Val loss: {val_loss:.3f}, \"f\"Epoch time = {(end_time - start_time):.3f}s\"))\n",
    "\n",
    "\n",
    "# function to generate output sequence using greedy algorithm\n",
    "def greedy_decode(model, src, src_mask, max_len, start_symbol):\n",
    "    src = src.to(DEVICE)\n",
    "    src_mask = src_mask.to(DEVICE)\n",
    "\n",
    "    memory = model.encode(src, src_mask)\n",
    "    ys = torch.ones(1, 1).fill_(start_symbol).type(torch.long).to(DEVICE)\n",
    "    for i in range(max_len-1):\n",
    "        memory = memory.to(DEVICE)\n",
    "        tgt_mask = (generate_square_subsequent_mask(ys.size(0))\n",
    "                    .type(torch.bool)).to(DEVICE)\n",
    "        out = model.decode(ys, memory, tgt_mask)\n",
    "        out = out.transpose(0, 1)\n",
    "        prob = model.generator(out[:, -1])\n",
    "        _, next_word = torch.max(prob, dim=1)\n",
    "        next_word = next_word.item()\n",
    "\n",
    "        ys = torch.cat([ys,\n",
    "                        torch.ones(1, 1).type_as(src.data).fill_(next_word)], dim=0)\n",
    "        if next_word == EOS_IDX:\n",
    "            break\n",
    "    return ys\n",
    "\n",
    "\n",
    "# actual function to translate input sentence into target language\n",
    "def translate(model: torch.nn.Module, src_sentence: str):\n",
    "    model.eval()\n",
    "    src = text_transform[SRC_LANGUAGE](src_sentence).view(-1, 1)\n",
    "    num_tokens = src.shape[0]\n",
    "    src_mask = (torch.zeros(num_tokens, num_tokens)).type(torch.bool)\n",
    "    tgt_tokens = greedy_decode(\n",
    "        model,  src, src_mask, max_len=num_tokens + 5, start_symbol=BOS_IDX).flatten()\n",
    "    return \" \".join(vocab_transform[TGT_LANGUAGE].lookup_tokens(list(tgt_tokens.cpu().numpy()))).replace(\"<bos>\", \"\").replace(\"<eos>\", \"\")"
   ]
  }
 ],
 "metadata": {
  "kernelspec": {
   "display_name": "visiongpu",
   "language": "python",
   "name": "python3"
  },
  "language_info": {
   "codemirror_mode": {
    "name": "ipython",
    "version": 3
   },
   "file_extension": ".py",
   "mimetype": "text/x-python",
   "name": "python",
   "nbconvert_exporter": "python",
   "pygments_lexer": "ipython3",
   "version": "3.11.7"
  }
 },
 "nbformat": 4,
 "nbformat_minor": 2
}
