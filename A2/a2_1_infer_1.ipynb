{
 "cells": [
  {
   "cell_type": "code",
   "execution_count": 119,
   "metadata": {},
   "outputs": [],
   "source": [
    "import json\n",
    "import os\n",
    "import torch\n",
    "import pandas as pd\n",
    "import numpy as np\n",
    "from PIL import Image as im\n",
    "import matplotlib.pyplot as plt\n",
    "from torch.utils.data import Dataset, DataLoader, random_split, Subset, SubsetRandomSampler\n",
    "import torch.nn as nn\n",
    "import torch.nn.functional as F\n",
    "import torch.optim as optim\n",
    "from sklearn.model_selection import train_test_split\n",
    "from sklearn.metrics import classification_report\n",
    "from sklearn.metrics import f1_score, precision_score, recall_score, confusion_matrix\n",
    "from sklearn.manifold import TSNE\n",
    "from sklearn.model_selection import train_test_split\n",
    "from torchtext.vocab import GloVe\n",
    "import tqdm"
   ]
  },
  {
   "cell_type": "markdown",
   "metadata": {},
   "source": [
    "# Task 2"
   ]
  },
  {
   "cell_type": "markdown",
   "metadata": {},
   "source": [
    "## Preprocessing"
   ]
  },
  {
   "cell_type": "code",
   "execution_count": 120,
   "metadata": {},
   "outputs": [],
   "source": [
    "with open('Laptop_Review_Train.json') as f:\n",
    "    train_data = json.load(f)"
   ]
  },
  {
   "cell_type": "code",
   "execution_count": 121,
   "metadata": {},
   "outputs": [],
   "source": [
    "with open('Laptop_Review_Val.json') as f:\n",
    "    val_data = json.load(f)"
   ]
  },
  {
   "cell_type": "code",
   "execution_count": 122,
   "metadata": {},
   "outputs": [],
   "source": [
    "with open('Laptop_Review_Test.json') as f:\n",
    "    test_data = json.load(f)"
   ]
  },
  {
   "cell_type": "code",
   "execution_count": 123,
   "metadata": {},
   "outputs": [],
   "source": [
    "def bio_label_encoding(tokens, aspects):\n",
    "    labels = ['O'] * len(tokens)\n",
    "    for aspect in aspects: \n",
    "        start = aspect['from']\n",
    "        end = aspect['to']\n",
    "        labels[start] = 'B'\n",
    "        for i in range(start+1, end):\n",
    "            labels[i] = 'I'\n",
    "    return labels"
   ]
  },
  {
   "cell_type": "code",
   "execution_count": 124,
   "metadata": {},
   "outputs": [],
   "source": [
    "def convert_to_bio(data):\n",
    "    processed_data = {}\n",
    "    for i in range(len(data)):\n",
    "        words = data[i]['words']\n",
    "        text = data[i]['raw_words']\n",
    "        aspects = data[i]['aspects']\n",
    "        labels = bio_label_encoding(words, aspects)\n",
    "        processed_data[i] = {\n",
    "            'text': text,\n",
    "            'labels': labels\n",
    "        }\n",
    "    return processed_data"
   ]
  },
  {
   "cell_type": "code",
   "execution_count": 125,
   "metadata": {},
   "outputs": [],
   "source": [
    "processed_train_data = convert_to_bio(train_data)\n",
    "processed_val_data = convert_to_bio(val_data)\n",
    "processed_test_data = convert_to_bio(test_data)"
   ]
  },
  {
   "cell_type": "code",
   "execution_count": 126,
   "metadata": {},
   "outputs": [],
   "source": [
    "# dumping the processed data\n",
    "with open('ATE_train.json', 'w') as f:\n",
    "    json.dump(processed_train_data, f, indent=4)\n",
    "with open('ATE_val.json', 'w') as f:\n",
    "    json.dump(processed_val_data, f, indent=4)\n",
    "with open('ATE_test.json', 'w') as f:\n",
    "    json.dump(processed_test_data, f, indent=4) "
   ]
  },
  {
   "cell_type": "code",
   "execution_count": 127,
   "metadata": {},
   "outputs": [],
   "source": [
    "with open('ATE_train.json') as f:\n",
    "    train_data = json.load(f)\n",
    "with open('ATE_val.json') as f:\n",
    "    val_data = json.load(f)\n",
    "with open('ATE_test.json') as f:\n",
    "    test_data = json.load(f)"
   ]
  },
  {
   "cell_type": "code",
   "execution_count": 128,
   "metadata": {},
   "outputs": [
    {
     "data": {
      "image/png": "[encoded data removed]",
      "text/plain": [
       "<Figure size 640x480 with 1 Axes>"
      ]
     },
     "metadata": {},
     "output_type": "display_data"
    }
   ],
   "source": [
    "# plotting data distribution of number of tokens in each sentence\n",
    "import matplotlib.pyplot as plt\n",
    "label_counts = []\n",
    "for key in train_data.keys():\n",
    "    label_counts.append(len(train_data[key]['labels']))\n",
    "plt.hist(label_counts, bins=30, alpha=0.5, color='b', edgecolor='black', linewidth=1.2, histtype='bar', align='mid', orientation='vertical', rwidth=0.8, label='Number of tokens')\n",
    "plt.title('Distribution of number of tokens in each sentence')\n",
    "plt.xlabel('Number of tokens')\n",
    "plt.ylabel('Count')\n",
    "plt.show()"
   ]
  },
  {
   "cell_type": "code",
   "execution_count": 60,
   "metadata": {},
   "outputs": [],
   "source": [
    "train, val, test = [], [], []\n",
    "for i in train_data:\n",
    "    train.append([train_data[i]['text'], train_data[i]['labels']])\n",
    "for i in val_data:\n",
    "    val.append([val_data[i]['text'], val_data[i]['labels']])\n",
    "for i in test_data:\n",
    "    test.append([test_data[i]['text'], test_data[i]['labels']])"
   ]
  },
  {
   "cell_type": "code",
   "execution_count": 61,
   "metadata": {},
   "outputs": [
    {
     "name": "stdout",
     "output_type": "stream",
     "text": [
      "Number of unique words in the dataset: 3495\n",
      "Words and their counts: [('I', 637), ('charge', 10), ('it', 499), ('at', 70), ('night', 5)]\n"
     ]
    }
   ],
   "source": [
    "data = train + val + test\n",
    "# Finding number of unique words in the dataset\n",
    "word_count = {}\n",
    "for i in range(len(data)):\n",
    "    words = data[i][0].split()\n",
    "    for word in words:\n",
    "        if word not in word_count:\n",
    "            word_count[word] = 1\n",
    "        else:\n",
    "            word_count[word] += 1\n",
    "print(f\"Number of unique words in the dataset: {len(word_count)}\")\n",
    "print(f\"Words and their counts: {list(word_count.items())[:5]}\")"
   ]
  },
  {
   "cell_type": "code",
   "execution_count": 62,
   "metadata": {},
   "outputs": [
    {
     "name": "stdout",
     "output_type": "stream",
     "text": [
      "Number of unique words in the dataset after adding 'PAD' and 'UNK': 3497\n"
     ]
    }
   ],
   "source": [
    "word_list = list(word_count.keys())\n",
    "# adding 'PAD' and 'UNK' to the word list\n",
    "word_list.append('PAD')\n",
    "word_list.append('UNK')\n",
    "word_count['PAD'] = 0\n",
    "word_count['UNK'] = 0\n",
    "print(f\"Number of unique words in the dataset after adding 'PAD' and 'UNK': {len(word_list)}\")"
   ]
  },
  {
   "cell_type": "code",
   "execution_count": 63,
   "metadata": {},
   "outputs": [
    {
     "name": "stdout",
     "output_type": "stream",
     "text": [
      "Word-to-index: [('I', 0), ('charge', 1), ('it', 2), ('at', 3), ('night', 4)]\n",
      "Index-to-word: [(0, 'I'), (1, 'charge'), (2, 'it'), (3, 'at'), (4, 'night')]\n"
     ]
    }
   ],
   "source": [
    "# Word-to-index and index-to-word mapping from the dataset\n",
    "word_to_index = {word:idx for idx, word in enumerate(word_list)}\n",
    "index_to_word = {idx:word for word, idx in word_to_index.items()}\n",
    "label_to_idx = {'O': 0, 'B': 1, 'I': 2}\n",
    "print(f\"Word-to-index: {list(word_to_index.items())[:5]}\")\n",
    "print(f\"Index-to-word: {list(index_to_word.items())[:5]}\")"
   ]
  },
  {
   "cell_type": "markdown",
   "metadata": {},
   "source": [
    "### Initializing the glove vectors"
   ]
  },
  {
   "cell_type": "code",
   "execution_count": 64,
   "metadata": {},
   "outputs": [
    {
     "name": "stdout",
     "output_type": "stream",
     "text": [
      "Shape of word_embeddings: (3497, 300)\n"
     ]
    }
   ],
   "source": [
    "glove_vectors = GloVe(name='6B', dim=300)\n",
    "word_embeddings = np.zeros((len(word_list), 300))\n",
    "for i in range(len(word_list)):\n",
    "    word = word_list[i]\n",
    "    idx = word_to_index[word]\n",
    "    if word in glove_vectors.stoi:\n",
    "        word_embeddings[idx] = glove_vectors[word]\n",
    "    else:\n",
    "        word_embeddings[idx] = glove_vectors['unk']\n",
    "print(f\"Shape of word_embeddings: {word_embeddings.shape}\")"
   ]
  },
  {
   "cell_type": "code",
   "execution_count": 65,
   "metadata": {},
   "outputs": [
    {
     "name": "stdout",
     "output_type": "stream",
     "text": [
      "Shape of word vectors: (3497, 300)\n"
     ]
    }
   ],
   "source": [
    "# List of word vectors\n",
    "word_vectors = [word_embeddings[word_to_index[word]] for word in word_list]\n",
    "word_vectors = np.array(word_vectors)\n",
    "print(f\"Shape of word vectors: {word_vectors.shape}\")"
   ]
  },
  {
   "cell_type": "code",
   "execution_count": 66,
   "metadata": {},
   "outputs": [],
   "source": [
    "def collate_fn(batch):\n",
    "    \"\"\"\n",
    "        Padding the sequences to the maximum length sequence in the batch\n",
    "        Args:\n",
    "            batch: list of individual elements of the dataset\n",
    "        Returns:\n",
    "            {'text' : padded_texts, 'labels' : padded_labels}\n",
    "    \"\"\"\n",
    "    texts, labels = [item['text'] for item in batch], [item['labels'] for item in batch]\n",
    "    max_len = max([len(text) for text in texts])\n",
    "    padded_texts, padded_labels = [], []\n",
    "    for i in range(len(texts)):\n",
    "        text, label = texts[i], labels[i]\n",
    "        # padding text and label sequences\n",
    "        text = text + [word_to_index['PAD']] * (max_len - len(text))\n",
    "        label = label + [label_to_idx['O']] * (max_len - len(label))\n",
    "        padded_texts.append(text)\n",
    "        padded_labels.append(label)\n",
    "    return {'text': torch.tensor(padded_texts), 'labels': torch.tensor(padded_labels)}"
   ]
  },
  {
   "cell_type": "code",
   "execution_count": 67,
   "metadata": {},
   "outputs": [],
   "source": [
    "class LaptopReviewDataset(Dataset):\n",
    "    \"\"\"\n",
    "        Custom Dataset to load the Laptop Review dataset\n",
    "        Args:\n",
    "            data: list of tuples (text, labels)\n",
    "            vocab_size: size of the vocabulary\n",
    "            embedding_size: size of the word embeddings\n",
    "            word_to_index: word-to-index mapping\n",
    "            index_to_word: index-to-word mapping\n",
    "            label_to_idx: label-to-index mapping\n",
    "    \"\"\"\n",
    "    def __init__(self, data, vocab_size, embedding_size, word_to_index, index_to_word, label_to_idx):\n",
    "        self.data = data\n",
    "        self.vocab_size = vocab_size\n",
    "        self.embedding_size = embedding_size\n",
    "        self.word_to_index = word_to_index\n",
    "        self.index_to_word = index_to_word\n",
    "        self.label_to_idx = label_to_idx \n",
    "        \n",
    "    def __len__(self):\n",
    "        return len(self.data)\n",
    "    \n",
    "    def __getitem__(self, idx):\n",
    "        text, labels = self.data[idx][0], self.data[idx][1]\n",
    "        words = text.split()\n",
    "        # converting words and labels to indices\n",
    "        word_indices = [self.word_to_index[word] if word in self.word_to_index else self.word_to_index['UNK'] for word in words]\n",
    "        label_indices = [self.label_to_idx[label] for label in labels]\n",
    "        sample = {'text' : word_indices, 'labels' : label_indices}\n",
    "        return sample"
   ]
  },
  {
   "cell_type": "code",
   "execution_count": 68,
   "metadata": {},
   "outputs": [],
   "source": [
    "# constants\n",
    "vocab_size = len(word_to_index)\n",
    "embedding_size = 300"
   ]
  },
  {
   "cell_type": "code",
   "execution_count": 69,
   "metadata": {},
   "outputs": [],
   "source": [
    "test_dataset = LaptopReviewDataset(test, vocab_size, embedding_size, word_to_index, index_to_word, label_to_idx)"
   ]
  },
  {
   "cell_type": "code",
   "execution_count": 70,
   "metadata": {},
   "outputs": [],
   "source": [
    "test_dataloader = DataLoader(test_dataset, batch_size=32, collate_fn=collate_fn)"
   ]
  },
  {
   "cell_type": "code",
   "execution_count": 71,
   "metadata": {},
   "outputs": [],
   "source": [
    "def evaluate_model(model, dataloader, criterion):\n",
    "    model.eval()\n",
    "    loss = 0\n",
    "    y_true = []\n",
    "    y_pred = []\n",
    "    with torch.no_grad():\n",
    "        for i, data in enumerate(dataloader, 0):\n",
    "            text, labels = data['text'], data['labels']\n",
    "            output, hidden = model(text)\n",
    "            output = output.view(-1, 3)\n",
    "            labels = labels.view(-1)\n",
    "            loss += criterion(output, labels).item()\n",
    "            y_true += labels.tolist()\n",
    "            y_pred += torch.argmax(output, 1).tolist()\n",
    "    accuracy = (np.array(y_true) == np.array(y_pred)).mean()\n",
    "    macro_f1 = f1_score(y_true, y_pred, average='macro')\n",
    "    return accuracy, macro_f1, loss"
   ]
  },
  {
   "cell_type": "code",
   "execution_count": 72,
   "metadata": {},
   "outputs": [],
   "source": [
    "def evaluation(model, dataloader, criterion):\n",
    "    model.eval()\n",
    "    loss = 0\n",
    "    y_true = []\n",
    "    y_pred = []\n",
    "    with torch.no_grad():\n",
    "        for i, data in enumerate(dataloader, 0):\n",
    "            text, labels = data['text'], data['labels']\n",
    "            outputs, hidden = model(text)\n",
    "            outputs = outputs.view(-1, 3)\n",
    "            labels = labels.view(-1)\n",
    "            loss += criterion(outputs, labels).item()\n",
    "            y_true += labels.tolist()\n",
    "            y_pred += torch.argmax(outputs, 1).tolist()\n",
    "    accuracy = (np.array(y_true) == np.array(y_pred)).mean()\n",
    "    precision = precision_score(y_true, y_pred, average='weighted')\n",
    "    macro_f1 = f1_score(y_true, y_pred, average='macro')\n",
    "    from sklearn.metrics import classification_report\n",
    "    classification_report = classification_report(y_true, y_pred)\n",
    "    return accuracy, precision, macro_f1, loss, classification_report"
   ]
  },
  {
   "cell_type": "code",
   "execution_count": 161,
   "metadata": {},
   "outputs": [],
   "source": [
    "criterion = nn.CrossEntropyLoss()"
   ]
  },
  {
   "cell_type": "code",
   "execution_count": 74,
   "metadata": {},
   "outputs": [],
   "source": [
    "class RNNModel(nn.Module):\n",
    "    \"\"\"\n",
    "        Model architecture to perform Sequence Labeling on the Laptop Review dataset. RNN, LSTM or GRU model is initialized based on the model configuration parameters.\n",
    "        Args: \n",
    "            vocab_size: size of the vocabulary\n",
    "            embed_size: size of the word embeddings\n",
    "            hidden_size: size of the hidden state\n",
    "            pretrained_embeddings: pre-trained word embeddings\n",
    "            model_config: dictionary containing model configuration parameters\n",
    "    \"\"\"\n",
    "    def __init__(self, vocab_size, embed_size, hidden_size, pretrained_embeddings, model_config):\n",
    "        super(RNNModel, self).__init__()\n",
    "        self.embedding = nn.Embedding.from_pretrained(embeddings=pretrained_embeddings, freeze=True)\n",
    "        self.rnn = nn.RNN(input_size=embed_size, hidden_size=hidden_size, num_layers=model_config['num_hidden'], nonlinearity=model_config['activation'], batch_first=True, dropout=model_config['dropout'])\n",
    "        if (model_config['model'] == 'LSTM'):\n",
    "            self.rnn = nn.LSTM(input_size=embed_size, hidden_size=hidden_size, num_layers=model_config['num_hidden'], batch_first=True, dropout=model_config['dropout'])\n",
    "        if (model_config['model'] == 'GRU'):\n",
    "            self.rnn = nn.GRU(input_size=embed_size, hidden_size=hidden_size, num_layers=model_config['num_hidden'], batch_first=True, dropout=model_config['dropout'])\n",
    "        self.fc = nn.Linear(hidden_size, 3)\n",
    "        \n",
    "    def forward(self, x):\n",
    "        x = self.embedding(x)\n",
    "        output, hidden = self.rnn(x)\n",
    "        output = self.fc(output)\n",
    "        return output, hidden"
   ]
  },
  {
   "cell_type": "code",
   "execution_count": 75,
   "metadata": {},
   "outputs": [],
   "source": [
    "model_config = dict(\n",
    "    task = 2, \n",
    "    model = 'RNN',\n",
    "    embed_size = 300,\n",
    "    embedding = 'GloVe',\n",
    "    hidden_size = 128,\n",
    "    learning_rate = 0.001,\n",
    "    batch_size = 32,\n",
    "    epochs = 100, \n",
    "    padding = 'max_post', \n",
    "    loss = 'CrossEntropyLoss',\n",
    "    optimizer = 'Adam',\n",
    "    num_hidden = 1,\n",
    "    dropout = 0, \n",
    "    activation = 'tanh'\n",
    ")\n",
    "\n",
    "vocab_size = len(word_to_index)\n",
    "embed_size = model_config['embed_size'] # Size of the word embeddings\n",
    "hidden_size = model_config['hidden_size'] # Size of the hidden state\n",
    "word_vectors = torch.tensor(word_vectors)\n",
    "word_vectors = word_vectors.float()"
   ]
  },
  {
   "cell_type": "markdown",
   "metadata": {},
   "source": [
    "#### RNN + GloVe for Task 2"
   ]
  },
  {
   "cell_type": "code",
   "execution_count": 76,
   "metadata": {},
   "outputs": [
    {
     "name": "stderr",
     "output_type": "stream",
     "text": [
      "<>:2: SyntaxWarning: invalid escape sequence '\\T'\n",
      "<>:2: SyntaxWarning: invalid escape sequence '\\T'\n",
      "C:\\Users\\saras\\AppData\\Local\\Temp\\ipykernel_3120\\2112311114.py:2: SyntaxWarning: invalid escape sequence '\\T'\n",
      "  model_path = \"Trained_Models\\Task 2\\GloVe\\\\t2_model1_glove.pth\"\n"
     ]
    },
    {
     "name": "stdout",
     "output_type": "stream",
     "text": [
      "Test accuracy: 0.9653\n",
      "Test precision: 0.9603\n",
      "Test macro F1: 0.6546\n",
      "Test loss: 2.5851\n",
      "\n",
      "Classification report:\n",
      "              precision    recall  f1-score   support\n",
      "\n",
      "           0       0.98      0.99      0.98     14774\n",
      "           1       0.65      0.49      0.56       463\n",
      "           2       0.63      0.32      0.42       243\n",
      "\n",
      "    accuracy                           0.97     15480\n",
      "   macro avg       0.75      0.60      0.65     15480\n",
      "weighted avg       0.96      0.97      0.96     15480\n",
      "\n"
     ]
    }
   ],
   "source": [
    "model = RNNModel(vocab_size, embed_size, hidden_size, word_vectors, model_config)\n",
    "model_path = \"Trained_Models\\Task 2\\GloVe\\\\t2_model1_glove.pth\"\n",
    "#load the model\n",
    "temp = torch.load(model_path)\n",
    "model.load_state_dict(temp)\n",
    "accuracy, precision, macro_f1, loss, classification_report = evaluation(model, test_dataloader, criterion)\n",
    "print(f\"Test accuracy: {accuracy:.4f}\\nTest precision: {precision:.4f}\\nTest macro F1: {macro_f1:.4f}\\nTest loss: {loss:.4f}\\n\")\n",
    "print(f\"Classification report:\\n{classification_report}\")"
   ]
  },
  {
   "cell_type": "markdown",
   "metadata": {},
   "source": [
    "#### LSTM + GloVe for Task 2"
   ]
  },
  {
   "cell_type": "code",
   "execution_count": 77,
   "metadata": {},
   "outputs": [
    {
     "name": "stderr",
     "output_type": "stream",
     "text": [
      "C:\\Users\\saras\\AppData\\Local\\Temp\\ipykernel_3120\\531312971.py:21: UserWarning: To copy construct from a tensor, it is recommended to use sourceTensor.clone().detach() or sourceTensor.clone().detach().requires_grad_(True), rather than torch.tensor(sourceTensor).\n",
      "  word_vectors = torch.tensor(word_vectors)\n"
     ]
    }
   ],
   "source": [
    "model_config = dict(\n",
    "    task = 2, \n",
    "    model = 'LSTM',\n",
    "    embed_size = 300,\n",
    "    embedding = 'GloVe',\n",
    "    hidden_size = 128,\n",
    "    learning_rate = 0.001,\n",
    "    batch_size = 32,\n",
    "    epochs = 100, \n",
    "    padding = 'max_post', \n",
    "    loss = 'CrossEntropyLoss',\n",
    "    optimizer = 'Adam',\n",
    "    num_hidden = 1,\n",
    "    dropout = 0, \n",
    "    activation = 'tanh'\n",
    ")\n",
    "\n",
    "vocab_size = len(word_to_index)\n",
    "embed_size = model_config['embed_size'] # Size of the word embeddings\n",
    "hidden_size = model_config['hidden_size'] # Size of the hidden state\n",
    "word_vectors = torch.tensor(word_vectors)\n",
    "word_vectors = word_vectors.float()"
   ]
  },
  {
   "cell_type": "code",
   "execution_count": 78,
   "metadata": {},
   "outputs": [
    {
     "name": "stderr",
     "output_type": "stream",
     "text": [
      "<>:2: SyntaxWarning: invalid escape sequence '\\T'\n",
      "<>:2: SyntaxWarning: invalid escape sequence '\\T'\n",
      "C:\\Users\\saras\\AppData\\Local\\Temp\\ipykernel_3120\\3100204358.py:2: SyntaxWarning: invalid escape sequence '\\T'\n",
      "  model_path = \"Trained_Models\\Task 2\\GloVe\\\\t2_model2_glove.pth\"\n"
     ]
    },
    {
     "name": "stdout",
     "output_type": "stream",
     "text": [
      "Test accuracy: 0.9651\n",
      "Test precision: 0.9609\n",
      "Test macro F1: 0.6636\n",
      "Test loss: 2.5930\n",
      "\n",
      "Classification report:\n",
      "              precision    recall  f1-score   support\n",
      "\n",
      "           0       0.98      0.99      0.98     14774\n",
      "           1       0.62      0.52      0.57       463\n",
      "           2       0.65      0.33      0.44       243\n",
      "\n",
      "    accuracy                           0.97     15480\n",
      "   macro avg       0.75      0.61      0.66     15480\n",
      "weighted avg       0.96      0.97      0.96     15480\n",
      "\n"
     ]
    }
   ],
   "source": [
    "model = RNNModel(vocab_size, embed_size, hidden_size, word_vectors, model_config)\n",
    "model_path = \"Trained_Models\\Task 2\\GloVe\\\\t2_model2_glove.pth\"\n",
    "#load the model\n",
    "temp = torch.load(model_path)\n",
    "model.load_state_dict(temp)\n",
    "accuracy, precision, macro_f1, loss, classification_report = evaluation(model, test_dataloader, criterion)\n",
    "print(f\"Test accuracy: {accuracy:.4f}\\nTest precision: {precision:.4f}\\nTest macro F1: {macro_f1:.4f}\\nTest loss: {loss:.4f}\\n\")\n",
    "print(f\"Classification report:\\n{classification_report}\")"
   ]
  },
  {
   "cell_type": "markdown",
   "metadata": {},
   "source": [
    "#### GRU + GloVe for Task 2"
   ]
  },
  {
   "cell_type": "code",
   "execution_count": 79,
   "metadata": {},
   "outputs": [
    {
     "name": "stderr",
     "output_type": "stream",
     "text": [
      "C:\\Users\\saras\\AppData\\Local\\Temp\\ipykernel_3120\\1939184259.py:21: UserWarning: To copy construct from a tensor, it is recommended to use sourceTensor.clone().detach() or sourceTensor.clone().detach().requires_grad_(True), rather than torch.tensor(sourceTensor).\n",
      "  word_vectors = torch.tensor(word_vectors)\n"
     ]
    }
   ],
   "source": [
    "model_config = dict(\n",
    "    task = 2, \n",
    "    model = 'GRU',\n",
    "    embed_size = 300,\n",
    "    embedding = 'GloVe',\n",
    "    hidden_size = 128,\n",
    "    learning_rate = 0.001,\n",
    "    batch_size = 32,\n",
    "    epochs = 100, \n",
    "    padding = 'max_post', \n",
    "    loss = 'CrossEntropyLoss',\n",
    "    optimizer = 'Adam',\n",
    "    num_hidden = 1,\n",
    "    dropout = 0, \n",
    "    activation = 'tanh'\n",
    ")\n",
    "\n",
    "vocab_size = len(word_to_index)\n",
    "embed_size = model_config['embed_size'] # Size of the word embeddings\n",
    "hidden_size = model_config['hidden_size'] # Size of the hidden state\n",
    "word_vectors = torch.tensor(word_vectors)\n",
    "word_vectors = word_vectors.float()"
   ]
  },
  {
   "cell_type": "code",
   "execution_count": 80,
   "metadata": {},
   "outputs": [
    {
     "name": "stderr",
     "output_type": "stream",
     "text": [
      "<>:2: SyntaxWarning: invalid escape sequence '\\T'\n",
      "<>:2: SyntaxWarning: invalid escape sequence '\\T'\n",
      "C:\\Users\\saras\\AppData\\Local\\Temp\\ipykernel_3120\\3727799638.py:2: SyntaxWarning: invalid escape sequence '\\T'\n",
      "  model_path = \"Trained_Models\\Task 2\\GloVe\\\\t2_model3_glove.pth\"\n"
     ]
    },
    {
     "name": "stdout",
     "output_type": "stream",
     "text": [
      "Test accuracy: 0.9691\n",
      "Test precision: 0.9649\n",
      "Test macro F1: 0.6841\n",
      "Test loss: 2.2265\n",
      "\n",
      "Classification report:\n",
      "              precision    recall  f1-score   support\n",
      "\n",
      "           0       0.98      0.99      0.99     14774\n",
      "           1       0.70      0.52      0.60       463\n",
      "           2       0.72      0.35      0.47       243\n",
      "\n",
      "    accuracy                           0.97     15480\n",
      "   macro avg       0.80      0.62      0.68     15480\n",
      "weighted avg       0.96      0.97      0.97     15480\n",
      "\n"
     ]
    }
   ],
   "source": [
    "model = RNNModel(vocab_size, embed_size, hidden_size, word_vectors, model_config)\n",
    "model_path = \"Trained_Models\\Task 2\\GloVe\\\\t2_model3_glove.pth\"\n",
    "#load the model\n",
    "temp = torch.load(model_path)\n",
    "model.load_state_dict(temp)\n",
    "accuracy, precision, macro_f1, loss, classification_report = evaluation(model, test_dataloader, criterion)\n",
    "print(f\"Test accuracy: {accuracy:.4f}\\nTest precision: {precision:.4f}\\nTest macro F1: {macro_f1:.4f}\\nTest loss: {loss:.4f}\\n\")\n",
    "print(f\"Classification report:\\n{classification_report}\")"
   ]
  },
  {
   "cell_type": "markdown",
   "metadata": {},
   "source": [
    "#### Task 2: RNN + Word2Vec"
   ]
  },
  {
   "cell_type": "code",
   "execution_count": 81,
   "metadata": {},
   "outputs": [],
   "source": [
    "train, val, test = [], [], []\n",
    "for i in train_data:\n",
    "    train.append([train_data[i]['text'], train_data[i]['labels']])\n",
    "for i in val_data:\n",
    "    val.append([val_data[i]['text'], val_data[i]['labels']])\n",
    "for i in test_data:\n",
    "    test.append([test_data[i]['text'], test_data[i]['labels']])"
   ]
  },
  {
   "cell_type": "code",
   "execution_count": 82,
   "metadata": {},
   "outputs": [
    {
     "name": "stdout",
     "output_type": "stream",
     "text": [
      "Training data size: 906\n",
      "Validation data size: 219\n",
      "Test data size: 328\n"
     ]
    }
   ],
   "source": [
    "print(f'Training data size: {len(train)}')\n",
    "print(f'Validation data size: {len(val)}')\n",
    "print(f'Test data size: {len(test)}')"
   ]
  },
  {
   "cell_type": "code",
   "execution_count": 83,
   "metadata": {},
   "outputs": [
    {
     "name": "stdout",
     "output_type": "stream",
     "text": [
      "Number of unique words in the dataset: 3495\n",
      "Words and their counts: [('I', 637), ('charge', 10), ('it', 499), ('at', 70), ('night', 5)]\n"
     ]
    }
   ],
   "source": [
    "data = train + val + test\n",
    "# Finding number of unique words in the dataset\n",
    "word_count = {}\n",
    "for i in range(len(data)):\n",
    "    words = data[i][0].split()\n",
    "    for word in words:\n",
    "        if word not in word_count:\n",
    "            word_count[word] = 1\n",
    "        else:\n",
    "            word_count[word] += 1\n",
    "print(f\"Number of unique words in the dataset: {len(word_count)}\")\n",
    "print(f\"Words and their counts: {list(word_count.items())[:5]}\")"
   ]
  },
  {
   "cell_type": "code",
   "execution_count": 84,
   "metadata": {},
   "outputs": [
    {
     "name": "stdout",
     "output_type": "stream",
     "text": [
      "Number of unique words in the dataset after adding 'PAD' and 'UNK': 3497\n"
     ]
    }
   ],
   "source": [
    "word_list = list(word_count.keys())\n",
    "# adding 'PAD' and 'UNK' to the word list\n",
    "word_list.append('PAD')\n",
    "word_list.append('UNK')\n",
    "word_count['PAD'] = 0\n",
    "word_count['UNK'] = 0\n",
    "print(f\"Number of unique words in the dataset after adding 'PAD' and 'UNK': {len(word_list)}\")"
   ]
  },
  {
   "cell_type": "code",
   "execution_count": 85,
   "metadata": {},
   "outputs": [
    {
     "name": "stdout",
     "output_type": "stream",
     "text": [
      "Word-to-index: [('I', 0), ('charge', 1), ('it', 2), ('at', 3), ('night', 4)]\n",
      "Index-to-word: [(0, 'I'), (1, 'charge'), (2, 'it'), (3, 'at'), (4, 'night')]\n"
     ]
    }
   ],
   "source": [
    "# Word-to-index and index-to-word mapping from the dataset\n",
    "word_to_index = {word:idx for idx, word in enumerate(word_list)}\n",
    "index_to_word = {idx:word for word, idx in word_to_index.items()}\n",
    "label_to_idx = {'O': 0, 'B': 1, 'I': 2}\n",
    "print(f\"Word-to-index: {list(word_to_index.items())[:5]}\")\n",
    "print(f\"Index-to-word: {list(index_to_word.items())[:5]}\")"
   ]
  },
  {
   "cell_type": "code",
   "execution_count": 86,
   "metadata": {},
   "outputs": [
    {
     "name": "stdout",
     "output_type": "stream",
     "text": [
      "Shape of word embeddings: (3497, 300)\n"
     ]
    }
   ],
   "source": [
    "import gensim\n",
    "import torch\n",
    "import gensim.downloader as api\n",
    "wv = api.load('word2vec-google-news-300')\n",
    "\n",
    "# Load word embeddings\n",
    "word_embeddings = []\n",
    "for word in word_list:\n",
    "    try:\n",
    "        word_embeddings.append(wv[word])\n",
    "    except:\n",
    "        word_embeddings.append(wv['unk'])\n",
    "word_embeddings = np.array(word_embeddings)\n",
    "print(f\"Shape of word embeddings: {word_embeddings.shape}\")\n"
   ]
  },
  {
   "cell_type": "code",
   "execution_count": 87,
   "metadata": {},
   "outputs": [
    {
     "name": "stdout",
     "output_type": "stream",
     "text": [
      "Shape of word vectors: (3497, 300)\n"
     ]
    }
   ],
   "source": [
    "# List of word vectors\n",
    "word_vectors = [word_embeddings[word_to_index[word]] for word in word_list]\n",
    "word_vectors = np.array(word_vectors)\n",
    "print(f\"Shape of word vectors: {word_vectors.shape}\")"
   ]
  },
  {
   "cell_type": "code",
   "execution_count": 88,
   "metadata": {},
   "outputs": [],
   "source": [
    "# constants\n",
    "vocab_size = len(word_to_index)\n",
    "embedding_size = 300"
   ]
  },
  {
   "cell_type": "code",
   "execution_count": 89,
   "metadata": {},
   "outputs": [],
   "source": [
    "model_config = dict(\n",
    "    task = 2, \n",
    "    model = 'RNN',\n",
    "    embed_size = 300,\n",
    "    embedding = 'Word2Vec',\n",
    "    hidden_size = 128,\n",
    "    learning_rate = 0.001,\n",
    "    batch_size = 32,\n",
    "    epochs = 100, \n",
    "    padding = 'max_post', \n",
    "    loss = 'CrossEntropyLoss',\n",
    "    optimizer = 'Adam',\n",
    "    num_hidden = 1,\n",
    "    dropout = 0, \n",
    "    activation = 'tanh'\n",
    ")"
   ]
  },
  {
   "cell_type": "code",
   "execution_count": 90,
   "metadata": {},
   "outputs": [
    {
     "name": "stdout",
     "output_type": "stream",
     "text": [
      "3497 3497 300 128\n"
     ]
    }
   ],
   "source": [
    "# Initialize the model\n",
    "vocab_size = len(word_to_index)\n",
    "embed_size = model_config['embed_size'] # Size of the word embeddings\n",
    "hidden_size = model_config['hidden_size'] # Size of the hidden state\n",
    "word_vectors = torch.tensor(word_vectors)\n",
    "word_vectors = word_vectors.float()\n",
    "print(vocab_size, len(word_vectors), embed_size, hidden_size)"
   ]
  },
  {
   "cell_type": "code",
   "execution_count": 93,
   "metadata": {},
   "outputs": [
    {
     "name": "stdout",
     "output_type": "stream",
     "text": [
      "Test accuracy: 0.9661\n",
      "Test precision: 0.9633\n",
      "Test macro F1: 0.6907\n",
      "Test loss: 2.8735\n",
      "\n",
      "Classification report:\n",
      "              precision    recall  f1-score   support\n",
      "\n",
      "           0       0.98      0.99      0.98     14774\n",
      "           1       0.62      0.58      0.60       463\n",
      "           2       0.64      0.39      0.49       243\n",
      "\n",
      "    accuracy                           0.97     15480\n",
      "   macro avg       0.75      0.65      0.69     15480\n",
      "weighted avg       0.96      0.97      0.96     15480\n",
      "\n"
     ]
    },
    {
     "name": "stderr",
     "output_type": "stream",
     "text": [
      "<>:2: SyntaxWarning: invalid escape sequence '\\T'\n",
      "<>:2: SyntaxWarning: invalid escape sequence '\\T'\n",
      "C:\\Users\\saras\\AppData\\Local\\Temp\\ipykernel_3120\\2393678249.py:2: SyntaxWarning: invalid escape sequence '\\T'\n",
      "  model_path = \"Trained_Models\\Task 2\\Word2vec\\\\t2_model1_word2vec.pth\"\n"
     ]
    }
   ],
   "source": [
    "model = RNNModel(vocab_size, embed_size, hidden_size, word_vectors, model_config)\n",
    "model_path = \"Trained_Models\\Task 2\\Word2vec\\\\t2_model1_word2vec.pth\"\n",
    "#load the model\n",
    "temp = torch.load(model_path)\n",
    "model.load_state_dict(temp)\n",
    "accuracy, precision, macro_f1, loss, classification_report = evaluation(model, test_dataloader, criterion)\n",
    "print(f\"Test accuracy: {accuracy:.4f}\\nTest precision: {precision:.4f}\\nTest macro F1: {macro_f1:.4f}\\nTest loss: {loss:.4f}\\n\")\n",
    "print(f\"Classification report:\\n{classification_report}\")"
   ]
  },
  {
   "cell_type": "markdown",
   "metadata": {},
   "source": [
    "#### Task 2: GRU + Word2Vec"
   ]
  },
  {
   "cell_type": "code",
   "execution_count": 94,
   "metadata": {},
   "outputs": [],
   "source": [
    "model_config = dict(\n",
    "    task = 2, \n",
    "    model = 'GRU',\n",
    "    embed_size = 300,\n",
    "    embedding = 'Word2Vec',\n",
    "    hidden_size = 128,\n",
    "    learning_rate = 0.001,\n",
    "    batch_size = 32,\n",
    "    epochs = 100, \n",
    "    padding = 'max_post', \n",
    "    loss = 'CrossEntropyLoss',\n",
    "    optimizer = 'Adam',\n",
    "    num_hidden = 1,\n",
    "    dropout = 0, \n",
    "    activation = 'tanh'\n",
    ")"
   ]
  },
  {
   "cell_type": "code",
   "execution_count": 96,
   "metadata": {},
   "outputs": [
    {
     "name": "stderr",
     "output_type": "stream",
     "text": [
      "<>:2: SyntaxWarning: invalid escape sequence '\\T'\n",
      "<>:2: SyntaxWarning: invalid escape sequence '\\T'\n",
      "C:\\Users\\saras\\AppData\\Local\\Temp\\ipykernel_3120\\3104698454.py:2: SyntaxWarning: invalid escape sequence '\\T'\n",
      "  model_path = \"Trained_Models\\Task 2\\Word2vec\\\\t2_model3_word2vec.pth\"\n"
     ]
    },
    {
     "name": "stdout",
     "output_type": "stream",
     "text": [
      "Test accuracy: 0.9705\n",
      "Test precision: 0.9680\n",
      "Test macro F1: 0.7259\n",
      "Test loss: 2.6822\n",
      "\n",
      "Classification report:\n",
      "              precision    recall  f1-score   support\n",
      "\n",
      "           0       0.98      0.99      0.99     14774\n",
      "           1       0.70      0.64      0.67       463\n",
      "           2       0.69      0.42      0.53       243\n",
      "\n",
      "    accuracy                           0.97     15480\n",
      "   macro avg       0.79      0.68      0.73     15480\n",
      "weighted avg       0.97      0.97      0.97     15480\n",
      "\n"
     ]
    }
   ],
   "source": [
    "model = RNNModel(vocab_size, embed_size, hidden_size, word_vectors, model_config)\n",
    "model_path = \"Trained_Models\\Task 2\\Word2vec\\\\t2_model3_word2vec.pth\"\n",
    "#load the model\n",
    "temp = torch.load(model_path)\n",
    "model.load_state_dict(temp)\n",
    "accuracy, precision, macro_f1, loss, classification_report = evaluation(model, test_dataloader, criterion)\n",
    "print(f\"Test accuracy: {accuracy:.4f}\\nTest precision: {precision:.4f}\\nTest macro F1: {macro_f1:.4f}\\nTest loss: {loss:.4f}\\n\")\n",
    "print(f\"Classification report:\\n{classification_report}\")"
   ]
  },
  {
   "cell_type": "markdown",
   "metadata": {},
   "source": [
    "### Task 2: LSTM + Word2Vec"
   ]
  },
  {
   "cell_type": "code",
   "execution_count": 97,
   "metadata": {},
   "outputs": [],
   "source": [
    "model_config = dict(\n",
    "    task = 2, \n",
    "    model = 'LSTM',\n",
    "    embed_size = 300,\n",
    "    embedding = 'Word2Vec',\n",
    "    hidden_size = 128,\n",
    "    learning_rate = 0.001,\n",
    "    batch_size = 32,\n",
    "    epochs = 100, \n",
    "    padding = 'max_post', \n",
    "    loss = 'CrossEntropyLoss',\n",
    "    optimizer = 'Adam',\n",
    "    num_hidden = 1,\n",
    "    dropout = 0, \n",
    "    activation = 'tanh'\n",
    ")"
   ]
  },
  {
   "cell_type": "code",
   "execution_count": 98,
   "metadata": {},
   "outputs": [
    {
     "name": "stdout",
     "output_type": "stream",
     "text": [
      "Test accuracy: 0.9702\n",
      "Test precision: 0.9681\n",
      "Test macro F1: 0.7210\n",
      "Test loss: 2.3645\n",
      "\n",
      "Classification report:\n",
      "              precision    recall  f1-score   support\n",
      "\n",
      "           0       0.98      0.99      0.99     14774\n",
      "           1       0.67      0.65      0.66       463\n",
      "           2       0.71      0.40      0.51       243\n",
      "\n",
      "    accuracy                           0.97     15480\n",
      "   macro avg       0.79      0.68      0.72     15480\n",
      "weighted avg       0.97      0.97      0.97     15480\n",
      "\n"
     ]
    },
    {
     "name": "stderr",
     "output_type": "stream",
     "text": [
      "<>:2: SyntaxWarning: invalid escape sequence '\\T'\n",
      "<>:2: SyntaxWarning: invalid escape sequence '\\T'\n",
      "C:\\Users\\saras\\AppData\\Local\\Temp\\ipykernel_3120\\1822750133.py:2: SyntaxWarning: invalid escape sequence '\\T'\n",
      "  model_path = \"Trained_Models\\Task 2\\Word2vec\\\\t2_model2_word2vec.pth\"\n"
     ]
    }
   ],
   "source": [
    "model = RNNModel(vocab_size, embed_size, hidden_size, word_vectors, model_config)\n",
    "model_path = \"Trained_Models\\Task 2\\Word2vec\\\\t2_model2_word2vec.pth\"\n",
    "#load the model\n",
    "temp = torch.load(model_path)\n",
    "model.load_state_dict(temp)\n",
    "accuracy, precision, macro_f1, loss, classification_report = evaluation(model, test_dataloader, criterion)\n",
    "print(f\"Test accuracy: {accuracy:.4f}\\nTest precision: {precision:.4f}\\nTest macro F1: {macro_f1:.4f}\\nTest loss: {loss:.4f}\\n\")\n",
    "print(f\"Classification report:\\n{classification_report}\")"
   ]
  },
  {
   "cell_type": "markdown",
   "metadata": {},
   "source": [
    "#### Task 2: RNN + FastText"
   ]
  },
  {
   "cell_type": "code",
   "execution_count": 99,
   "metadata": {},
   "outputs": [
    {
     "name": "stderr",
     "output_type": "stream",
     "text": [
      ".vector_cache\\wiki.en.vec: 6.60GB [10:09, 10.8MB/s]                               \n",
      "  0%|          | 0/2519370 [00:00<?, ?it/s]Skipping token b'2519370' with 1-dimensional vector [b'300']; likely a header\n",
      "100%|██████████| 2519370/2519370 [06:38<00:00, 6315.62it/s] \n"
     ]
    },
    {
     "name": "stdout",
     "output_type": "stream",
     "text": [
      "Shape of word_embeddings: (3497, 300)\n"
     ]
    }
   ],
   "source": [
    "from torchtext.vocab import FastText\n",
    "fasttext_vectors = FastText(language=\"en\")\n",
    "word_embeddings = np.zeros((len(word_list), 300))\n",
    "for i in range(len(word_list)):\n",
    "    word = word_list[i]\n",
    "    idx = word_to_index[word]\n",
    "    if word in glove_vectors.stoi:\n",
    "        word_embeddings[idx] = fasttext_vectors[word]\n",
    "    else:\n",
    "        word_embeddings[idx] = fasttext_vectors['unk']\n",
    "print(f\"Shape of word_embeddings: {word_embeddings.shape}\")"
   ]
  },
  {
   "cell_type": "code",
   "execution_count": 104,
   "metadata": {},
   "outputs": [
    {
     "name": "stdout",
     "output_type": "stream",
     "text": [
      "Shape of word vectors: (3497, 300)\n"
     ]
    }
   ],
   "source": [
    "# List of word vectors\n",
    "word_vectors = [word_embeddings[word_to_index[word]] for word in word_list]\n",
    "word_vectors = np.array(word_vectors)\n",
    "print(f\"Shape of word vectors: {word_vectors.shape}\")"
   ]
  },
  {
   "cell_type": "code",
   "execution_count": 105,
   "metadata": {},
   "outputs": [],
   "source": [
    "# constants\n",
    "vocab_size = len(word_to_index)\n",
    "embedding_size = 300"
   ]
  },
  {
   "cell_type": "code",
   "execution_count": 106,
   "metadata": {},
   "outputs": [],
   "source": [
    "test_dataset = LaptopReviewDataset(test, vocab_size, embedding_size, word_to_index, index_to_word, label_to_idx)"
   ]
  },
  {
   "cell_type": "code",
   "execution_count": 107,
   "metadata": {},
   "outputs": [],
   "source": [
    "test_dataloader = DataLoader(test_dataset, batch_size=32, collate_fn=collate_fn)"
   ]
  },
  {
   "cell_type": "code",
   "execution_count": 108,
   "metadata": {},
   "outputs": [],
   "source": [
    "model_config = dict(\n",
    "    task = 2, \n",
    "    model = 'RNN',\n",
    "    embed_size = 300,\n",
    "    embedding = 'FastText',\n",
    "    hidden_size = 128,\n",
    "    learning_rate = 0.001,\n",
    "    batch_size = 32,\n",
    "    epochs = 100, \n",
    "    padding = 'max_post', \n",
    "    loss = 'CrossEntropyLoss',\n",
    "    optimizer = 'Adam',\n",
    "    num_hidden = 1,\n",
    "    dropout = 0, \n",
    "    activation = 'tanh'\n",
    ")"
   ]
  },
  {
   "cell_type": "code",
   "execution_count": 109,
   "metadata": {},
   "outputs": [
    {
     "name": "stdout",
     "output_type": "stream",
     "text": [
      "3497 3497 300 128\n"
     ]
    }
   ],
   "source": [
    "# Initialize the model\n",
    "vocab_size = len(word_to_index)\n",
    "embed_size = model_config['embed_size'] # Size of the word embeddings\n",
    "hidden_size = model_config['hidden_size'] # Size of the hidden state\n",
    "word_vectors = torch.tensor(word_vectors)\n",
    "word_vectors = word_vectors.float()\n",
    "print(vocab_size, len(word_vectors), embed_size, hidden_size)"
   ]
  },
  {
   "cell_type": "code",
   "execution_count": 112,
   "metadata": {},
   "outputs": [
    {
     "name": "stdout",
     "output_type": "stream",
     "text": [
      "Test accuracy: 0.9640\n",
      "Test precision: 0.9585\n",
      "Test macro F1: 0.6402\n",
      "Test loss: 2.4762\n",
      "\n",
      "Classification report:\n",
      "              precision    recall  f1-score   support\n",
      "\n",
      "           0       0.97      0.99      0.98     14774\n",
      "           1       0.63      0.48      0.54       463\n",
      "           2       0.58      0.30      0.40       243\n",
      "\n",
      "    accuracy                           0.96     15480\n",
      "   macro avg       0.73      0.59      0.64     15480\n",
      "weighted avg       0.96      0.96      0.96     15480\n",
      "\n"
     ]
    },
    {
     "name": "stderr",
     "output_type": "stream",
     "text": [
      "<>:2: SyntaxWarning: invalid escape sequence '\\T'\n",
      "<>:2: SyntaxWarning: invalid escape sequence '\\T'\n",
      "C:\\Users\\saras\\AppData\\Local\\Temp\\ipykernel_3120\\2128703935.py:2: SyntaxWarning: invalid escape sequence '\\T'\n",
      "  model_path = \"Trained_Models\\Task 2\\Fasttext\\\\t2_model1_fasttext.pth\"\n"
     ]
    }
   ],
   "source": [
    "model = RNNModel(vocab_size, embed_size, hidden_size, word_vectors, model_config)\n",
    "model_path = \"Trained_Models\\Task 2\\Fasttext\\\\t2_model1_fasttext.pth\"\n",
    "#load the model\n",
    "temp = torch.load(model_path)\n",
    "model.load_state_dict(temp)\n",
    "accuracy, precision, macro_f1, loss, classification_report = evaluation(model, test_dataloader, criterion)\n",
    "print(f\"Test accuracy: {accuracy:.4f}\\nTest precision: {precision:.4f}\\nTest macro F1: {macro_f1:.4f}\\nTest loss: {loss:.4f}\\n\")\n",
    "print(f\"Classification report:\\n{classification_report}\")"
   ]
  },
  {
   "cell_type": "code",
   "execution_count": 113,
   "metadata": {},
   "outputs": [],
   "source": [
    "model_config = dict(\n",
    "    task = 2, \n",
    "    model = 'GRU',\n",
    "    embed_size = 300,\n",
    "    embedding = 'FastText',\n",
    "    hidden_size = 128,\n",
    "    learning_rate = 0.001,\n",
    "    batch_size = 32,\n",
    "    epochs = 100, \n",
    "    padding = 'max_post', \n",
    "    loss = 'CrossEntropyLoss',\n",
    "    optimizer = 'Adam',\n",
    "    num_hidden = 1,\n",
    "    dropout = 0, \n",
    "    activation = 'tanh'\n",
    ")"
   ]
  },
  {
   "cell_type": "code",
   "execution_count": 114,
   "metadata": {},
   "outputs": [
    {
     "name": "stderr",
     "output_type": "stream",
     "text": [
      "<>:2: SyntaxWarning: invalid escape sequence '\\T'\n",
      "<>:2: SyntaxWarning: invalid escape sequence '\\T'\n",
      "C:\\Users\\saras\\AppData\\Local\\Temp\\ipykernel_3120\\2677083102.py:2: SyntaxWarning: invalid escape sequence '\\T'\n",
      "  model_path = \"Trained_Models\\Task 2\\Fasttext\\\\t2_model3_fasttext.pth\"\n"
     ]
    },
    {
     "name": "stdout",
     "output_type": "stream",
     "text": [
      "Test accuracy: 0.9686\n",
      "Test precision: 0.9650\n",
      "Test macro F1: 0.6925\n",
      "Test loss: 2.3416\n",
      "\n",
      "Classification report:\n",
      "              precision    recall  f1-score   support\n",
      "\n",
      "           0       0.98      0.99      0.98     14774\n",
      "           1       0.67      0.56      0.61       463\n",
      "           2       0.71      0.37      0.48       243\n",
      "\n",
      "    accuracy                           0.97     15480\n",
      "   macro avg       0.79      0.64      0.69     15480\n",
      "weighted avg       0.97      0.97      0.97     15480\n",
      "\n"
     ]
    }
   ],
   "source": [
    "model = RNNModel(vocab_size, embed_size, hidden_size, word_vectors, model_config)\n",
    "model_path = \"Trained_Models\\Task 2\\Fasttext\\\\t2_model3_fasttext.pth\"\n",
    "#load the model\n",
    "temp = torch.load(model_path)\n",
    "model.load_state_dict(temp)\n",
    "accuracy, precision, macro_f1, loss, classification_report = evaluation(model, test_dataloader, criterion)\n",
    "print(f\"Test accuracy: {accuracy:.4f}\\nTest precision: {precision:.4f}\\nTest macro F1: {macro_f1:.4f}\\nTest loss: {loss:.4f}\\n\")\n",
    "print(f\"Classification report:\\n{classification_report}\")"
   ]
  },
  {
   "cell_type": "markdown",
   "metadata": {},
   "source": [
    "#### Task 2: LSTM + FastText"
   ]
  },
  {
   "cell_type": "code",
   "execution_count": 115,
   "metadata": {},
   "outputs": [],
   "source": [
    "model_config = dict(\n",
    "    task = 2, \n",
    "    model = 'LSTM',\n",
    "    embed_size = 300,\n",
    "    embedding = 'FastText',\n",
    "    hidden_size = 128,\n",
    "    learning_rate = 0.001,\n",
    "    batch_size = 32,\n",
    "    epochs = 100, \n",
    "    padding = 'max_post', \n",
    "    loss = 'CrossEntropyLoss',\n",
    "    optimizer = 'Adam',\n",
    "    num_hidden = 1,\n",
    "    dropout = 0, \n",
    "    activation = 'tanh'\n",
    ")"
   ]
  },
  {
   "cell_type": "code",
   "execution_count": 116,
   "metadata": {},
   "outputs": [
    {
     "name": "stderr",
     "output_type": "stream",
     "text": [
      "<>:2: SyntaxWarning: invalid escape sequence '\\T'\n",
      "<>:2: SyntaxWarning: invalid escape sequence '\\T'\n",
      "C:\\Users\\saras\\AppData\\Local\\Temp\\ipykernel_3120\\3628936752.py:2: SyntaxWarning: invalid escape sequence '\\T'\n",
      "  model_path = \"Trained_Models\\Task 2\\Fasttext\\\\t2_model2_fasttext.pth\"\n"
     ]
    },
    {
     "name": "stdout",
     "output_type": "stream",
     "text": [
      "Test accuracy: 0.9670\n",
      "Test precision: 0.9625\n",
      "Test macro F1: 0.6696\n",
      "Test loss: 2.5365\n",
      "\n",
      "Classification report:\n",
      "              precision    recall  f1-score   support\n",
      "\n",
      "           0       0.98      0.99      0.98     14774\n",
      "           1       0.67      0.53      0.59       463\n",
      "           2       0.64      0.33      0.43       243\n",
      "\n",
      "    accuracy                           0.97     15480\n",
      "   macro avg       0.76      0.62      0.67     15480\n",
      "weighted avg       0.96      0.97      0.96     15480\n",
      "\n"
     ]
    }
   ],
   "source": [
    "model = RNNModel(vocab_size, embed_size, hidden_size, word_vectors, model_config)\n",
    "model_path = \"Trained_Models\\Task 2\\Fasttext\\\\t2_model2_fasttext.pth\"\n",
    "#load the model\n",
    "temp = torch.load(model_path)\n",
    "model.load_state_dict(temp)\n",
    "accuracy, precision, macro_f1, loss, classification_report = evaluation(model, test_dataloader, criterion)\n",
    "print(f\"Test accuracy: {accuracy:.4f}\\nTest precision: {precision:.4f}\\nTest macro F1: {macro_f1:.4f}\\nTest loss: {loss:.4f}\\n\")\n",
    "print(f\"Classification report:\\n{classification_report}\")"
   ]
  },
  {
   "cell_type": "markdown",
   "metadata": {},
   "source": [
    "#### Task 2: GRU + FastText "
   ]
  },
  {
   "cell_type": "code",
   "execution_count": 117,
   "metadata": {},
   "outputs": [],
   "source": [
    "model_config = dict(\n",
    "    task = 2, \n",
    "    model = 'GRU',\n",
    "    embed_size = 300,\n",
    "    embedding = 'FastText',\n",
    "    hidden_size = 128,\n",
    "    learning_rate = 0.001,\n",
    "    batch_size = 32,\n",
    "    epochs = 100, \n",
    "    padding = 'max_post', \n",
    "    loss = 'CrossEntropyLoss',\n",
    "    optimizer = 'Adam',\n",
    "    num_hidden = 1,\n",
    "    dropout = 0, \n",
    "    activation = 'tanh'\n",
    ")"
   ]
  },
  {
   "cell_type": "code",
   "execution_count": 118,
   "metadata": {},
   "outputs": [
    {
     "name": "stderr",
     "output_type": "stream",
     "text": [
      "<>:2: SyntaxWarning: invalid escape sequence '\\T'\n",
      "<>:2: SyntaxWarning: invalid escape sequence '\\T'\n",
      "C:\\Users\\saras\\AppData\\Local\\Temp\\ipykernel_3120\\2677083102.py:2: SyntaxWarning: invalid escape sequence '\\T'\n",
      "  model_path = \"Trained_Models\\Task 2\\Fasttext\\\\t2_model3_fasttext.pth\"\n"
     ]
    },
    {
     "name": "stdout",
     "output_type": "stream",
     "text": [
      "Test accuracy: 0.9686\n",
      "Test precision: 0.9650\n",
      "Test macro F1: 0.6925\n",
      "Test loss: 2.3416\n",
      "\n",
      "Classification report:\n",
      "              precision    recall  f1-score   support\n",
      "\n",
      "           0       0.98      0.99      0.98     14774\n",
      "           1       0.67      0.56      0.61       463\n",
      "           2       0.71      0.37      0.48       243\n",
      "\n",
      "    accuracy                           0.97     15480\n",
      "   macro avg       0.79      0.64      0.69     15480\n",
      "weighted avg       0.97      0.97      0.97     15480\n",
      "\n"
     ]
    }
   ],
   "source": [
    "model = RNNModel(vocab_size, embed_size, hidden_size, word_vectors, model_config)\n",
    "model_path = \"Trained_Models\\Task 2\\Fasttext\\\\t2_model3_fasttext.pth\"\n",
    "#load the model\n",
    "temp = torch.load(model_path)\n",
    "model.load_state_dict(temp)\n",
    "accuracy, precision, macro_f1, loss, classification_report = evaluation(model, test_dataloader, criterion)\n",
    "print(f\"Test accuracy: {accuracy:.4f}\\nTest precision: {precision:.4f}\\nTest macro F1: {macro_f1:.4f}\\nTest loss: {loss:.4f}\\n\")\n",
    "print(f\"Classification report:\\n{classification_report}\")"
   ]
  },
  {
   "cell_type": "markdown",
   "metadata": {},
   "source": [
    "# Task 1"
   ]
  },
  {
   "cell_type": "code",
   "execution_count": 129,
   "metadata": {},
   "outputs": [],
   "source": [
    "with open('NER_TRAIN_JUDGEMENT.json') as file:\n",
    "    data = json.load(file)"
   ]
  },
  {
   "cell_type": "code",
   "execution_count": 130,
   "metadata": {},
   "outputs": [],
   "source": [
    "with open('NER_TEST_JUDGEMENT.json') as file:\n",
    "    test_data = json.load(file)"
   ]
  },
  {
   "cell_type": "code",
   "execution_count": 131,
   "metadata": {},
   "outputs": [],
   "source": [
    "train, val = train_test_split(data, test_size=0.15, random_state=42)"
   ]
  },
  {
   "cell_type": "code",
   "execution_count": 132,
   "metadata": {},
   "outputs": [
    {
     "name": "stdout",
     "output_type": "stream",
     "text": [
      "{'ORG', 'JUDGE', 'STATUTE', 'WITNESS', 'COURT', 'PETITIONER', 'CASE_NUMBER', 'DATE', 'GPE', 'RESPONDENT', 'PRECEDENT', 'OTHER_PERSON', 'PROVISION'}\n"
     ]
    }
   ],
   "source": [
    "unique_labels = set()\n",
    "for i in range(len(data)):\n",
    "    for annotation in data[i]['annotations'][0]['result']:\n",
    "        label = annotation['value']['labels'][0]\n",
    "        unique_labels.add(label)\n",
    "print(unique_labels)"
   ]
  },
  {
   "cell_type": "code",
   "execution_count": 133,
   "metadata": {},
   "outputs": [],
   "source": [
    "def clean_text(text):\n",
    "    special_chars = ['\\x05', '\\t', '\\n', '\\x0c', '\\x11', '\\x12', '\\x13', '\\x14', '\\x16', '\\x1a', '\\x80', '\\x9d', '\\xa0', '\\xad', '\\uf076']\n",
    "    for char in special_chars:\n",
    "        text = text.replace(char, ' ')\n",
    "    return text"
   ]
  },
  {
   "cell_type": "code",
   "execution_count": 134,
   "metadata": {},
   "outputs": [],
   "source": [
    "def border_index(annotations):\n",
    "    border_indices = []\n",
    "    for annotation in annotations[0]['result']:\n",
    "        start = annotation['value']['start']\n",
    "        end = annotation['value']['end']\n",
    "        label = annotation['value']['labels'][0]\n",
    "        label = label.upper()\n",
    "        border_indices.append([start, end, label])\n",
    "    border_indices.sort(key=lambda x: x[0])\n",
    "    return border_indices"
   ]
  },
  {
   "cell_type": "code",
   "execution_count": 135,
   "metadata": {},
   "outputs": [],
   "source": [
    "def border_spacing(text, border_indices):\n",
    "    i = 0\n",
    "    while i < len(text):\n",
    "        for border in border_indices:\n",
    "            if (i==border[0] or i==border[1]):\n",
    "                index = border_indices.index(border)\n",
    "                if (i==border[0] and i!=0 and text[i-1]!=' '):\n",
    "                    text = text[:i] + ' ' + text[i:]\n",
    "                    for j in range(index, len(border_indices)):\n",
    "                        if border_indices[j][0] >= i:\n",
    "                            border_indices[j][0] += 1\n",
    "                        if border_indices[j][1] >= i:\n",
    "                            border_indices[j][1] += 1\n",
    "                if (i==border[1] and i!=len(text)-1 and text[i]!=' '):\n",
    "                    text = text[:i] + ' ' + text[i:]\n",
    "                    for j in range(index, len(border_indices)):\n",
    "                        if border_indices[j][0] >= i:\n",
    "                            border_indices[j][0] += 1\n",
    "                        if border_indices[j][1] >= i:\n",
    "                            border_indices[j][1] += 1\n",
    "                i += 1\n",
    "        i += 1\n",
    "    return text, border_indices"
   ]
  },
  {
   "cell_type": "code",
   "execution_count": 136,
   "metadata": {},
   "outputs": [],
   "source": [
    "def bio_encoding(text, border_indices):\n",
    "    tokens = text.split()\n",
    "    labels = ['O'] * len(tokens)\n",
    "    for annotation in border_indices:\n",
    "        start = annotation[0]\n",
    "        end = annotation[1]\n",
    "        label = annotation[2]\n",
    "        label = label.upper()\n",
    "        label_start_token = None\n",
    "        label_end_token = None\n",
    "        curr_token_index = 0\n",
    "        i = 0\n",
    "        while (i < len(text)):\n",
    "            if (text[i] == ' '):\n",
    "                i += 1\n",
    "            else:\n",
    "                curr_word = ''\n",
    "                if (i == start):\n",
    "                    label_start_token = curr_token_index\n",
    "                    while (i < end):\n",
    "                        current_word = ''\n",
    "                        if (text[i] == ' '):\n",
    "                            while (text[i] == ' '):\n",
    "                                i += 1\n",
    "                        else: \n",
    "                            while (i < len(text) and text[i] != ' '):\n",
    "                                current_word += text[i]\n",
    "                                i += 1\n",
    "                            if (tokens[curr_token_index] == current_word):\n",
    "                                curr_token_index += 1\n",
    "                    label_end_token = curr_token_index\n",
    "                else: \n",
    "                    while (i < len(text) and text[i] != ' '):\n",
    "                        curr_word += text[i]\n",
    "                        i += 1\n",
    "                    if (tokens[curr_token_index] == curr_word):\n",
    "                        curr_token_index += 1\n",
    "        if (label_end_token == None):\n",
    "            label_end_token = len(tokens) - 1\n",
    "        if (label_start_token == None):\n",
    "            continue\n",
    "        for i in range(label_start_token, label_end_token):\n",
    "            if i == label_start_token:\n",
    "                labels[i] = 'B_' + label\n",
    "            else:\n",
    "                labels[i] = 'I_' + label\n",
    "    return labels"
   ]
  },
  {
   "cell_type": "code",
   "execution_count": 137,
   "metadata": {},
   "outputs": [],
   "source": [
    "def convert_to_bio(data):\n",
    "    processed_data = {}\n",
    "    for i in range(len(data)):\n",
    "        id = data[i]['id']\n",
    "        annotations = data[i]['annotations']\n",
    "        text = data[i]['data']['text']\n",
    "        text = clean_text(text)\n",
    "        border_indices = border_index(annotations)\n",
    "        text, border_indices = border_spacing(text, border_indices)\n",
    "        labels = bio_encoding(text, border_indices)\n",
    "        processed_data[id] = {'text': text, 'labels': labels}\n",
    "    return processed_data"
   ]
  },
  {
   "cell_type": "code",
   "execution_count": 138,
   "metadata": {},
   "outputs": [],
   "source": [
    "processed_train = convert_to_bio(train)\n",
    "processed_val = convert_to_bio(val)\n",
    "processed_test = convert_to_bio(test_data)"
   ]
  },
  {
   "cell_type": "code",
   "execution_count": 139,
   "metadata": {},
   "outputs": [],
   "source": [
    "# dumping the processed data\n",
    "with open('NER_train.json', 'w') as file:\n",
    "    json.dump(processed_train, file, indent=4)\n",
    "with open('NER_val.json', 'w') as file:\n",
    "    json.dump(processed_val, file, indent=4)\n",
    "with open('NER_test.json', 'w') as file:\n",
    "    json.dump(processed_test, file, indent=4)"
   ]
  },
  {
   "cell_type": "code",
   "execution_count": 140,
   "metadata": {},
   "outputs": [],
   "source": [
    "with open('NER_train.json') as file:\n",
    "    train_data = json.load(file)\n",
    "with open('NER_val.json') as file:\n",
    "    val_data = json.load(file)\n",
    "with open('NER_test.json') as file:\n",
    "    test_data = json.load(file)"
   ]
  },
  {
   "cell_type": "code",
   "execution_count": 141,
   "metadata": {},
   "outputs": [
    {
     "data": {
      "image/png": "[encoded data removed]",
      "text/plain": [
       "<Figure size 640x480 with 1 Axes>"
      ]
     },
     "metadata": {},
     "output_type": "display_data"
    }
   ],
   "source": [
    "# plotting data distribution of number of tokens in each sentence\n",
    "import matplotlib.pyplot as plt\n",
    "label_counts = []\n",
    "for key in train_data.keys():\n",
    "    label_counts.append(len(train_data[key]['labels']))\n",
    "plt.hist(label_counts, bins=30, alpha=0.5, color='b', edgecolor='black', linewidth=1.2, histtype='bar', align='mid', orientation='vertical', rwidth=0.8, label='Number of tokens')\n",
    "plt.title('Distribution of number of tokens in each sentence')\n",
    "plt.xlabel('Number of tokens')\n",
    "plt.ylabel('Count')\n",
    "plt.show()"
   ]
  },
  {
   "cell_type": "code",
   "execution_count": 143,
   "metadata": {},
   "outputs": [],
   "source": [
    "train, val, test = [], [], []\n",
    "for i in train_data:\n",
    "    train.append([train_data[i]['text'], train_data[i]['labels']])\n",
    "for i in val_data:\n",
    "    val.append([val_data[i]['text'], val_data[i]['labels']])\n",
    "for i in test_data:\n",
    "    test.append([test_data[i]['text'], test_data[i]['labels']])"
   ]
  },
  {
   "cell_type": "code",
   "execution_count": 144,
   "metadata": {},
   "outputs": [
    {
     "name": "stdout",
     "output_type": "stream",
     "text": [
      "Training data size: 8019\n",
      "Validation data size: 1416\n",
      "Test data size: 949\n"
     ]
    }
   ],
   "source": [
    "print(f'Training data size: {len(train)}')\n",
    "print(f'Validation data size: {len(val)}')\n",
    "print(f'Test data size: {len(test)}')"
   ]
  },
  {
   "cell_type": "code",
   "execution_count": 145,
   "metadata": {},
   "outputs": [
    {
     "name": "stdout",
     "output_type": "stream",
     "text": [
      "Number of unique words in the dataset: 37866\n",
      "Words and their counts: [('Therefore,', 97), ('while', 164), ('interpreting', 6), ('statutory', 76), ('provisions,', 10)]\n"
     ]
    }
   ],
   "source": [
    "data = train + val + test\n",
    "# Finding number of unique words in the dataset\n",
    "word_count = {}\n",
    "for i in range(len(data)):\n",
    "    words = data[i][0].split()\n",
    "    for word in words:\n",
    "        if word not in word_count:\n",
    "            word_count[word] = 1\n",
    "        else:\n",
    "            word_count[word] += 1\n",
    "print(f\"Number of unique words in the dataset: {len(word_count)}\")\n",
    "print(f\"Words and their counts: {list(word_count.items())[:5]}\")"
   ]
  },
  {
   "cell_type": "code",
   "execution_count": 146,
   "metadata": {},
   "outputs": [
    {
     "name": "stdout",
     "output_type": "stream",
     "text": [
      "Number of unique words in the dataset after adding 'PAD' and 'UNK': 37868\n"
     ]
    }
   ],
   "source": [
    "word_list = list(word_count.keys())\n",
    "# adding 'PAD' and 'UNK' to the word list\n",
    "word_list.append('PAD')\n",
    "word_list.append('UNK')\n",
    "word_count['PAD'] = 0\n",
    "word_count['UNK'] = 0\n",
    "print(f\"Number of unique words in the dataset after adding 'PAD' and 'UNK': {len(word_list)}\")"
   ]
  },
  {
   "cell_type": "code",
   "execution_count": 147,
   "metadata": {},
   "outputs": [
    {
     "name": "stdout",
     "output_type": "stream",
     "text": [
      "Word-to-index: [('Therefore,', 0), ('while', 1), ('interpreting', 2), ('statutory', 3), ('provisions,', 4)]\n",
      "Index-to-word: [(0, 'Therefore,'), (1, 'while'), (2, 'interpreting'), (3, 'statutory'), (4, 'provisions,')]\n"
     ]
    }
   ],
   "source": [
    "# Word-to-index and index-to-word mapping from the dataset\n",
    "word_to_index = {word:idx for idx, word in enumerate(word_list)}\n",
    "index_to_word = {idx:word for word, idx in word_to_index.items()}\n",
    "print(f\"Word-to-index: {list(word_to_index.items())[:5]}\")\n",
    "print(f\"Index-to-word: {list(index_to_word.items())[:5]}\")"
   ]
  },
  {
   "cell_type": "code",
   "execution_count": 148,
   "metadata": {},
   "outputs": [
    {
     "name": "stdout",
     "output_type": "stream",
     "text": [
      "Number of unique labels in the dataset: 27\n",
      "Labels and their counts: [('O', 294339), ('B_CASE_NUMBER', 1161), ('I_CASE_NUMBER', 3975), ('B_ORG', 1600), ('I_ORG', 2945), ('B_OTHER_PERSON', 2929), ('I_OTHER_PERSON', 2252), ('B_STATUTE', 2026), ('I_STATUTE', 3659), ('B_PROVISION', 2642), ('I_PROVISION', 4326), ('B_COURT', 1471), ('I_COURT', 2854), ('B_WITNESS', 939), ('B_PRECEDENT', 1528), ('I_PRECEDENT', 13435), ('B_DATE', 2106), ('B_PETITIONER', 473), ('I_PETITIONER', 384), ('I_WITNESS', 810), ('B_GPE', 1581), ('B_RESPONDENT', 329), ('I_RESPONDENT', 448), ('I_DATE', 1480), ('B_JUDGE', 575), ('I_JUDGE', 398), ('I_GPE', 327)]\n",
      "Labels and their counts: [('O', 294339), ('B_CASE_NUMBER', 1161), ('I_CASE_NUMBER', 3975), ('B_ORG', 1600), ('I_ORG', 2945), ('B_OTHER_PERSON', 2929), ('I_OTHER_PERSON', 2252), ('B_STATUTE', 2026), ('I_STATUTE', 3659), ('B_PROVISION', 2642), ('I_PROVISION', 4326), ('B_COURT', 1471), ('I_COURT', 2854), ('B_WITNESS', 939), ('B_PRECEDENT', 1528), ('I_PRECEDENT', 13435), ('B_DATE', 2106), ('B_PETITIONER', 473), ('I_PETITIONER', 384), ('I_WITNESS', 810), ('B_GPE', 1581), ('B_RESPONDENT', 329), ('I_RESPONDENT', 448), ('I_DATE', 1480), ('B_JUDGE', 575), ('I_JUDGE', 398), ('I_GPE', 327)]\n",
      "Label-to-index: [('O', 0), ('B_CASE_NUMBER', 1), ('I_CASE_NUMBER', 2), ('B_ORG', 3), ('I_ORG', 4), ('B_OTHER_PERSON', 5), ('I_OTHER_PERSON', 6), ('B_STATUTE', 7), ('I_STATUTE', 8), ('B_PROVISION', 9), ('I_PROVISION', 10), ('B_COURT', 11), ('I_COURT', 12), ('B_WITNESS', 13), ('B_PRECEDENT', 14), ('I_PRECEDENT', 15), ('B_DATE', 16), ('B_PETITIONER', 17), ('I_PETITIONER', 18), ('I_WITNESS', 19), ('B_GPE', 20), ('B_RESPONDENT', 21), ('I_RESPONDENT', 22), ('I_DATE', 23), ('B_JUDGE', 24), ('I_JUDGE', 25), ('I_GPE', 26)]\n",
      "Index-to-label: [(0, 'O'), (1, 'B_CASE_NUMBER'), (2, 'I_CASE_NUMBER'), (3, 'B_ORG'), (4, 'I_ORG'), (5, 'B_OTHER_PERSON'), (6, 'I_OTHER_PERSON'), (7, 'B_STATUTE'), (8, 'I_STATUTE'), (9, 'B_PROVISION'), (10, 'I_PROVISION'), (11, 'B_COURT'), (12, 'I_COURT'), (13, 'B_WITNESS'), (14, 'B_PRECEDENT'), (15, 'I_PRECEDENT'), (16, 'B_DATE'), (17, 'B_PETITIONER'), (18, 'I_PETITIONER'), (19, 'I_WITNESS'), (20, 'B_GPE'), (21, 'B_RESPONDENT'), (22, 'I_RESPONDENT'), (23, 'I_DATE'), (24, 'B_JUDGE'), (25, 'I_JUDGE'), (26, 'I_GPE')]\n"
     ]
    }
   ],
   "source": [
    "# finding all the unique labels in the dataset\n",
    "label_count = {}\n",
    "for i in range(len(data)):\n",
    "    labels = data[i][1]\n",
    "    for label in labels:\n",
    "        if label not in label_count:\n",
    "            label_count[label] = 1\n",
    "        else:\n",
    "            label_count[label] += 1\n",
    "print(f\"Number of unique labels in the dataset: {len(label_count)}\")\n",
    "print(f\"Labels and their counts: {list(label_count.items())}\")\n",
    "print(f\"Labels and their counts: {list(label_count.items())}\")\n",
    "label_to_idx = {label:idx for idx, label in enumerate(label_count.keys())}\n",
    "idx_to_label = {idx:label for label, idx in label_to_idx.items()}\n",
    "print(f\"Label-to-index: {list(label_to_idx.items())}\")\n",
    "print(f\"Index-to-label: {list(idx_to_label.items())}\")"
   ]
  },
  {
   "cell_type": "code",
   "execution_count": 149,
   "metadata": {},
   "outputs": [
    {
     "name": "stdout",
     "output_type": "stream",
     "text": [
      "Shape of word_embeddings: (37868, 300)\n"
     ]
    }
   ],
   "source": [
    "from torchtext.vocab import GloVe\n",
    "glove_vectors = GloVe(name='6B', dim=300)\n",
    "word_embeddings = np.zeros((len(word_list), 300))\n",
    "for i in range(len(word_list)):\n",
    "    word = word_list[i]\n",
    "    idx = word_to_index[word]\n",
    "    if word in glove_vectors.stoi:\n",
    "        word_embeddings[idx] = glove_vectors[word]\n",
    "    else:\n",
    "        word_embeddings[idx] = glove_vectors['unk']\n",
    "print(f\"Shape of word_embeddings: {word_embeddings.shape}\")"
   ]
  },
  {
   "cell_type": "code",
   "execution_count": 150,
   "metadata": {},
   "outputs": [
    {
     "name": "stdout",
     "output_type": "stream",
     "text": [
      "Shape of word vectors: (37868, 300)\n"
     ]
    }
   ],
   "source": [
    "# List of word vectors\n",
    "word_vectors = [word_embeddings[word_to_index[word]] for word in word_list]\n",
    "word_vectors = np.array(word_vectors)\n",
    "print(f\"Shape of word vectors: {word_vectors.shape}\")"
   ]
  },
  {
   "cell_type": "code",
   "execution_count": 151,
   "metadata": {},
   "outputs": [],
   "source": [
    "def collate_fn(batch):\n",
    "    \"\"\"\n",
    "        Padding the sequences to the maximum length sequence in the batch\n",
    "        Args:\n",
    "            batch: list of individual elements of the dataset\n",
    "        Returns:\n",
    "            {'text' : padded_texts, 'labels' : padded_labels}\n",
    "    \"\"\"\n",
    "    texts, labels = [item['text'] for item in batch], [item['labels'] for item in batch]\n",
    "    max_len = max([len(text) for text in texts])\n",
    "    padded_texts, padded_labels = [], []\n",
    "    for i in range(len(texts)):\n",
    "        text, label = texts[i], labels[i]\n",
    "        # padding text and label sequences\n",
    "        text = text + [word_to_index['PAD']] * (max_len - len(text))\n",
    "        label = label + [label_to_idx['O']] * (max_len - len(label))\n",
    "        padded_texts.append(text)\n",
    "        padded_labels.append(label)\n",
    "    return {'text': torch.tensor(padded_texts), 'labels': torch.tensor(padded_labels)}"
   ]
  },
  {
   "cell_type": "code",
   "execution_count": 152,
   "metadata": {},
   "outputs": [],
   "source": [
    "class NERDataset(Dataset):\n",
    "    \"\"\"\n",
    "        Custom Dataset to load the Laptop Review dataset\n",
    "        Args:\n",
    "            data: list of tuples (text, labels)\n",
    "            vocab_size: size of the vocabulary\n",
    "            embedding_size: size of the word embeddings\n",
    "            word_to_index: word-to-index mapping\n",
    "            index_to_word: index-to-word mapping\n",
    "            label_to_idx: label-to-index mapping\n",
    "    \"\"\"\n",
    "    def __init__(self, data, vocab_size, embedding_size, word_to_index, index_to_word, label_to_idx):\n",
    "        self.data = data\n",
    "        self.vocab_size = vocab_size\n",
    "        self.embedding_size = embedding_size\n",
    "        self.word_to_index = word_to_index\n",
    "        self.index_to_word = index_to_word\n",
    "        self.label_to_idx = label_to_idx \n",
    "        \n",
    "    def __len__(self):\n",
    "        return len(self.data)\n",
    "    \n",
    "    def __getitem__(self, idx):\n",
    "        text, labels = self.data[idx][0], self.data[idx][1]\n",
    "        words = text.split()\n",
    "        # converting words and labels to indices\n",
    "        word_indices = [self.word_to_index[word] if word in self.word_to_index else self.word_to_index['UNK'] for word in words]\n",
    "        label_indices = [self.label_to_idx[label] for label in labels]\n",
    "        sample = {'text' : word_indices, 'labels' : label_indices}\n",
    "        return sample"
   ]
  },
  {
   "cell_type": "code",
   "execution_count": 153,
   "metadata": {},
   "outputs": [],
   "source": [
    "# constants\n",
    "vocab_size = len(word_to_index)\n",
    "embedding_size = 300"
   ]
  },
  {
   "cell_type": "code",
   "execution_count": 156,
   "metadata": {},
   "outputs": [],
   "source": [
    "test_dataset = NERDataset(test, vocab_size, embedding_size, word_to_index, index_to_word, label_to_idx)"
   ]
  },
  {
   "cell_type": "code",
   "execution_count": 157,
   "metadata": {},
   "outputs": [],
   "source": [
    "test_dataloader = DataLoader(test_dataset, batch_size=32, shuffle=False, collate_fn=collate_fn)"
   ]
  },
  {
   "cell_type": "markdown",
   "metadata": {},
   "source": [
    "### GLoVe"
   ]
  },
  {
   "cell_type": "code",
   "execution_count": 158,
   "metadata": {},
   "outputs": [],
   "source": [
    "model_config = dict(\n",
    "    task = 1, \n",
    "    model = 'RNN',\n",
    "    embed_size = 300,\n",
    "    embedding = 'GloVe',\n",
    "    hidden_size = 128,\n",
    "    learning_rate = 0.001,\n",
    "    batch_size = 32,\n",
    "    epochs = 100, \n",
    "    padding = 'max_post', \n",
    "    loss = 'CrossEntropyLoss',\n",
    "    optimizer = 'Adam',\n",
    "    num_hidden = 1,\n",
    "    dropout = 0, \n",
    "    activation = 'tanh'\n",
    ")"
   ]
  },
  {
   "cell_type": "code",
   "execution_count": 160,
   "metadata": {},
   "outputs": [
    {
     "name": "stdout",
     "output_type": "stream",
     "text": [
      "37868 37868 300 128\n"
     ]
    },
    {
     "name": "stderr",
     "output_type": "stream",
     "text": [
      "C:\\Users\\saras\\AppData\\Local\\Temp\\ipykernel_3120\\3830722025.py:31: UserWarning: To copy construct from a tensor, it is recommended to use sourceTensor.clone().detach() or sourceTensor.clone().detach().requires_grad_(True), rather than torch.tensor(sourceTensor).\n",
      "  word_vectors = torch.tensor(word_vectors)\n"
     ]
    }
   ],
   "source": [
    "class RNNModel(nn.Module):\n",
    "    \"\"\"\n",
    "        Model architecture to perform Sequence Labeling on the Laptop Review dataset. RNN, LSTM or GRU model is initialized based on the model configuration parameters.\n",
    "        Args: \n",
    "            vocab_size: size of the vocabulary\n",
    "            embed_size: size of the word embeddings\n",
    "            hidden_size: size of the hidden state\n",
    "            pretrained_embeddings: pre-trained word embeddings\n",
    "            model_config: dictionary containing model configuration parameters\n",
    "    \"\"\"\n",
    "    def __init__(self, vocab_size, embed_size, hidden_size, pretrained_embeddings, model_config):\n",
    "        super(RNNModel, self).__init__()\n",
    "        self.embedding = nn.Embedding.from_pretrained(embeddings=pretrained_embeddings, freeze=True)\n",
    "        self.rnn = nn.RNN(input_size=embed_size, hidden_size=hidden_size, num_layers=model_config['num_hidden'], nonlinearity=model_config['activation'], batch_first=True, dropout=model_config['dropout'])\n",
    "        if (model_config['model'] == 'LSTM'):\n",
    "            self.rnn = nn.LSTM(input_size=embed_size, hidden_size=hidden_size, num_layers=model_config['num_hidden'], batch_first=True, dropout=model_config['dropout'])\n",
    "        if (model_config['model'] == 'GRU'):\n",
    "            self.rnn = nn.GRU(input_size=embed_size, hidden_size=hidden_size, num_layers=model_config['num_hidden'], batch_first=True, dropout=model_config['dropout'])\n",
    "        self.fc = nn.Linear(hidden_size, 27)\n",
    "        \n",
    "    def forward(self, x):\n",
    "        x = self.embedding(x)\n",
    "        output, hidden = self.rnn(x)\n",
    "        output = self.fc(output)\n",
    "        return output, hidden\n",
    "\n",
    "# Initialize the model\n",
    "vocab_size = len(word_to_index)\n",
    "embed_size = model_config['embed_size'] # Size of the word embeddings\n",
    "hidden_size = model_config['hidden_size'] # Size of the hidden state\n",
    "word_vectors = torch.tensor(word_vectors)\n",
    "word_vectors = word_vectors.float()\n",
    "print(vocab_size, len(word_vectors), embed_size, hidden_size)"
   ]
  },
  {
   "cell_type": "code",
   "execution_count": 162,
   "metadata": {},
   "outputs": [],
   "source": [
    "def evaluate_model(model, dataloader, criterion):\n",
    "    model.eval()\n",
    "    loss = 0\n",
    "    y_true = []\n",
    "    y_pred = []\n",
    "    with torch.no_grad():\n",
    "        for i, data in enumerate(dataloader, 0):\n",
    "            text, labels = data['text'], data['labels']\n",
    "            output, hidden = model(text)\n",
    "            output = output.view(-1, 27)\n",
    "            labels = labels.view(-1)\n",
    "            loss += criterion(output, labels).item()\n",
    "            y_true += labels.tolist()\n",
    "            y_pred += torch.argmax(output, 1).tolist()\n",
    "    accuracy = (np.array(y_true) == np.array(y_pred)).mean()\n",
    "    macro_f1 = f1_score(y_true, y_pred, average='macro')\n",
    "    return accuracy, macro_f1, loss"
   ]
  },
  {
   "cell_type": "code",
   "execution_count": 163,
   "metadata": {},
   "outputs": [],
   "source": [
    "def evaluation(model, dataloader, criterion):\n",
    "    model.eval()\n",
    "    loss = 0\n",
    "    y_true = []\n",
    "    y_pred = []\n",
    "    with torch.no_grad():\n",
    "        for i, data in enumerate(dataloader, 0):\n",
    "            text, labels = data['text'], data['labels']\n",
    "            outputs, hidden = model(text)\n",
    "            outputs = outputs.view(-1, 27)\n",
    "            labels = labels.view(-1)\n",
    "            loss += criterion(outputs, labels).item()\n",
    "            y_true += labels.tolist()\n",
    "            y_pred += torch.argmax(outputs, 1).tolist()\n",
    "    accuracy = (np.array(y_true) == np.array(y_pred)).mean()\n",
    "    precision = precision_score(y_true, y_pred, average='weighted')\n",
    "    macro_f1 = f1_score(y_true, y_pred, average='macro')\n",
    "    from sklearn.metrics import classification_report\n",
    "    classification_report = classification_report(y_true, y_pred)\n",
    "    return accuracy, precision, macro_f1, loss, classification_report"
   ]
  },
  {
   "cell_type": "markdown",
   "metadata": {},
   "source": [
    "### RNN + GloVe for Task 1"
   ]
  },
  {
   "cell_type": "code",
   "execution_count": 165,
   "metadata": {},
   "outputs": [
    {
     "name": "stderr",
     "output_type": "stream",
     "text": [
      "C:\\Users\\saras\\AppData\\Local\\Temp\\ipykernel_3120\\4161685679.py:21: UserWarning: To copy construct from a tensor, it is recommended to use sourceTensor.clone().detach() or sourceTensor.clone().detach().requires_grad_(True), rather than torch.tensor(sourceTensor).\n",
      "  word_vectors = torch.tensor(word_vectors)\n"
     ]
    }
   ],
   "source": [
    "model_config = dict(\n",
    "    task = 1, \n",
    "    model = 'RNN',\n",
    "    embed_size = 300,\n",
    "    embedding = 'GloVe',\n",
    "    hidden_size = 128,\n",
    "    learning_rate = 0.001,\n",
    "    batch_size = 32,\n",
    "    epochs = 100, \n",
    "    padding = 'max_post', \n",
    "    loss = 'CrossEntropyLoss',\n",
    "    optimizer = 'Adam',\n",
    "    num_hidden = 1,\n",
    "    dropout = 0, \n",
    "    activation = 'tanh'\n",
    ")\n",
    "\n",
    "vocab_size = len(word_to_index)\n",
    "embed_size = model_config['embed_size'] # Size of the word embeddings\n",
    "hidden_size = model_config['hidden_size'] # Size of the hidden state\n",
    "word_vectors = torch.tensor(word_vectors)\n",
    "word_vectors = word_vectors.float()"
   ]
  },
  {
   "cell_type": "code",
   "execution_count": 168,
   "metadata": {},
   "outputs": [
    {
     "name": "stderr",
     "output_type": "stream",
     "text": [
      "<>:2: SyntaxWarning: invalid escape sequence '\\T'\n",
      "<>:2: SyntaxWarning: invalid escape sequence '\\T'\n",
      "C:\\Users\\saras\\AppData\\Local\\Temp\\ipykernel_3120\\2305332467.py:2: SyntaxWarning: invalid escape sequence '\\T'\n",
      "  model_path = \"Trained_Models\\Task 1\\GloVe\\\\t1_model1_glove.pth\"\n",
      "c:\\Users\\saras\\miniconda3\\envs\\nlp\\Lib\\site-packages\\sklearn\\metrics\\_classification.py:1509: UndefinedMetricWarning: Precision is ill-defined and being set to 0.0 in labels with no predicted samples. Use `zero_division` parameter to control this behavior.\n",
      "  _warn_prf(average, modifier, f\"{metric.capitalize()} is\", len(result))\n",
      "c:\\Users\\saras\\miniconda3\\envs\\nlp\\Lib\\site-packages\\sklearn\\metrics\\_classification.py:1509: UndefinedMetricWarning: Precision is ill-defined and being set to 0.0 in labels with no predicted samples. Use `zero_division` parameter to control this behavior.\n",
      "  _warn_prf(average, modifier, f\"{metric.capitalize()} is\", len(result))\n"
     ]
    },
    {
     "name": "stdout",
     "output_type": "stream",
     "text": [
      "Test accuracy: 0.9301\n",
      "Test precision: 0.9201\n",
      "Test macro F1: 0.3511\n",
      "Test loss: 9.0012\n",
      "\n",
      "Classification report:\n",
      "              precision    recall  f1-score   support\n",
      "\n",
      "           0       0.95      0.98      0.97     57483\n",
      "           1       0.57      0.21      0.31       121\n",
      "           2       0.64      0.35      0.46       344\n",
      "           3       0.13      0.07      0.09       159\n",
      "           4       0.22      0.23      0.23       310\n",
      "           5       0.38      0.21      0.27       276\n",
      "           6       0.28      0.24      0.26       195\n",
      "           7       0.65      0.44      0.53       222\n",
      "           8       0.54      0.43      0.48       383\n",
      "           9       0.67      0.62      0.65       258\n",
      "          10       0.72      0.54      0.62       439\n",
      "          11       0.50      0.18      0.26       178\n",
      "          12       0.49      0.25      0.33       326\n",
      "          13       0.38      0.10      0.16        58\n",
      "          14       0.48      0.37      0.42       177\n",
      "          15       0.76      0.52      0.62      1793\n",
      "          16       0.86      0.76      0.81       222\n",
      "          17       0.25      0.11      0.15         9\n",
      "          18       0.50      0.09      0.15        11\n",
      "          19       0.20      0.15      0.17        54\n",
      "          20       0.53      0.24      0.33       183\n",
      "          21       0.00      0.00      0.00         5\n",
      "          22       0.20      0.22      0.21         9\n",
      "          23       0.68      0.79      0.73       102\n",
      "          24       0.05      0.12      0.07         8\n",
      "          25       0.04      0.14      0.07         7\n",
      "          26       0.50      0.09      0.15        47\n",
      "\n",
      "    accuracy                           0.93     63379\n",
      "   macro avg       0.45      0.31      0.35     63379\n",
      "weighted avg       0.92      0.93      0.92     63379\n",
      "\n"
     ]
    },
    {
     "name": "stderr",
     "output_type": "stream",
     "text": [
      "c:\\Users\\saras\\miniconda3\\envs\\nlp\\Lib\\site-packages\\sklearn\\metrics\\_classification.py:1509: UndefinedMetricWarning: Precision is ill-defined and being set to 0.0 in labels with no predicted samples. Use `zero_division` parameter to control this behavior.\n",
      "  _warn_prf(average, modifier, f\"{metric.capitalize()} is\", len(result))\n",
      "c:\\Users\\saras\\miniconda3\\envs\\nlp\\Lib\\site-packages\\sklearn\\metrics\\_classification.py:1509: UndefinedMetricWarning: Precision is ill-defined and being set to 0.0 in labels with no predicted samples. Use `zero_division` parameter to control this behavior.\n",
      "  _warn_prf(average, modifier, f\"{metric.capitalize()} is\", len(result))\n"
     ]
    }
   ],
   "source": [
    "model = RNNModel(vocab_size, embed_size, hidden_size, word_vectors, model_config)\n",
    "model_path = \"Trained_Models\\Task 1\\GloVe\\\\t1_model1_glove.pth\"\n",
    "#load the model\n",
    "temp = torch.load(model_path)\n",
    "model.load_state_dict(temp)\n",
    "accuracy, precision, macro_f1, loss, classification_report = evaluation(model, test_dataloader, criterion)\n",
    "print(f\"Test accuracy: {accuracy:.4f}\\nTest precision: {precision:.4f}\\nTest macro F1: {macro_f1:.4f}\\nTest loss: {loss:.4f}\\n\")\n",
    "print(f\"Classification report:\\n{classification_report}\")"
   ]
  },
  {
   "cell_type": "markdown",
   "metadata": {},
   "source": [
    "#### LSTM + GloVe for Task 1"
   ]
  },
  {
   "cell_type": "code",
   "execution_count": 171,
   "metadata": {},
   "outputs": [
    {
     "name": "stderr",
     "output_type": "stream",
     "text": [
      "C:\\Users\\saras\\AppData\\Local\\Temp\\ipykernel_3120\\531312971.py:21: UserWarning: To copy construct from a tensor, it is recommended to use sourceTensor.clone().detach() or sourceTensor.clone().detach().requires_grad_(True), rather than torch.tensor(sourceTensor).\n",
      "  word_vectors = torch.tensor(word_vectors)\n"
     ]
    }
   ],
   "source": [
    "model_config = dict(\n",
    "    task = 1, \n",
    "    model = 'LSTM',\n",
    "    embed_size = 300,\n",
    "    embedding = 'GloVe',\n",
    "    hidden_size = 128,\n",
    "    learning_rate = 0.001,\n",
    "    batch_size = 32,\n",
    "    epochs = 100, \n",
    "    padding = 'max_post', \n",
    "    loss = 'CrossEntropyLoss',\n",
    "    optimizer = 'Adam',\n",
    "    num_hidden = 1,\n",
    "    dropout = 0, \n",
    "    activation = 'tanh'\n",
    ")\n",
    "\n",
    "vocab_size = len(word_to_index)\n",
    "embed_size = model_config['embed_size'] # Size of the word embeddings\n",
    "hidden_size = model_config['hidden_size'] # Size of the hidden state\n",
    "word_vectors = torch.tensor(word_vectors)\n",
    "word_vectors = word_vectors.float()"
   ]
  },
  {
   "cell_type": "code",
   "execution_count": 173,
   "metadata": {},
   "outputs": [
    {
     "name": "stderr",
     "output_type": "stream",
     "text": [
      "<>:2: SyntaxWarning: invalid escape sequence '\\T'\n",
      "<>:2: SyntaxWarning: invalid escape sequence '\\T'\n",
      "C:\\Users\\saras\\AppData\\Local\\Temp\\ipykernel_3120\\3520937091.py:2: SyntaxWarning: invalid escape sequence '\\T'\n",
      "  model_path = \"Trained_Models\\Task 1\\GloVe\\\\t1_model2_glove.pth\"\n"
     ]
    },
    {
     "name": "stdout",
     "output_type": "stream",
     "text": [
      "Test accuracy: 0.9227\n",
      "Test precision: 0.9164\n",
      "Test macro F1: 0.3240\n",
      "Test loss: 13.9706\n",
      "\n",
      "Classification report:\n",
      "              precision    recall  f1-score   support\n",
      "\n",
      "           0       0.96      0.97      0.97     57483\n",
      "           1       0.38      0.21      0.27       121\n",
      "           2       0.39      0.32      0.35       344\n",
      "           3       0.09      0.06      0.07       159\n",
      "           4       0.17      0.12      0.14       310\n",
      "           5       0.25      0.20      0.22       276\n",
      "           6       0.18      0.23      0.20       195\n",
      "           7       0.56      0.48      0.52       222\n",
      "           8       0.49      0.41      0.44       383\n",
      "           9       0.65      0.62      0.63       258\n",
      "          10       0.65      0.53      0.58       439\n",
      "          11       0.34      0.23      0.27       178\n",
      "          12       0.36      0.35      0.35       326\n",
      "          13       0.33      0.16      0.21        58\n",
      "          14       0.50      0.38      0.43       177\n",
      "          15       0.70      0.54      0.61      1793\n",
      "          16       0.79      0.75      0.77       222\n",
      "          17       0.06      0.11      0.08         9\n",
      "          18       0.07      0.09      0.08        11\n",
      "          19       0.27      0.22      0.24        54\n",
      "          20       0.42      0.28      0.34       183\n",
      "          21       0.00      0.00      0.00         5\n",
      "          22       0.08      0.22      0.12         9\n",
      "          23       0.67      0.68      0.67       102\n",
      "          24       0.00      0.00      0.00         8\n",
      "          25       0.00      0.00      0.00         7\n",
      "          26       0.23      0.11      0.14        47\n",
      "\n",
      "    accuracy                           0.92     63379\n",
      "   macro avg       0.36      0.31      0.32     63379\n",
      "weighted avg       0.92      0.92      0.92     63379\n",
      "\n"
     ]
    }
   ],
   "source": [
    "model = RNNModel(vocab_size, embed_size, hidden_size, word_vectors, model_config)\n",
    "model_path = \"Trained_Models\\Task 1\\GloVe\\\\t1_model2_glove.pth\"\n",
    "#load the model\n",
    "temp = torch.load(model_path)\n",
    "model.load_state_dict(temp)\n",
    "accuracy, precision, macro_f1, loss, classification_report = evaluation(model, test_dataloader, criterion)\n",
    "print(f\"Test accuracy: {accuracy:.4f}\\nTest precision: {precision:.4f}\\nTest macro F1: {macro_f1:.4f}\\nTest loss: {loss:.4f}\\n\")\n",
    "print(f\"Classification report:\\n{classification_report}\")"
   ]
  },
  {
   "cell_type": "markdown",
   "metadata": {},
   "source": [
    "#### GRU + GloVe for Task 1"
   ]
  },
  {
   "cell_type": "code",
   "execution_count": 174,
   "metadata": {},
   "outputs": [
    {
     "name": "stderr",
     "output_type": "stream",
     "text": [
      "C:\\Users\\saras\\AppData\\Local\\Temp\\ipykernel_3120\\1939184259.py:21: UserWarning: To copy construct from a tensor, it is recommended to use sourceTensor.clone().detach() or sourceTensor.clone().detach().requires_grad_(True), rather than torch.tensor(sourceTensor).\n",
      "  word_vectors = torch.tensor(word_vectors)\n"
     ]
    }
   ],
   "source": [
    "model_config = dict(\n",
    "    task = 1, \n",
    "    model = 'GRU',\n",
    "    embed_size = 300,\n",
    "    embedding = 'GloVe',\n",
    "    hidden_size = 128,\n",
    "    learning_rate = 0.001,\n",
    "    batch_size = 32,\n",
    "    epochs = 100, \n",
    "    padding = 'max_post', \n",
    "    loss = 'CrossEntropyLoss',\n",
    "    optimizer = 'Adam',\n",
    "    num_hidden = 1,\n",
    "    dropout = 0, \n",
    "    activation = 'tanh'\n",
    ")\n",
    "\n",
    "vocab_size = len(word_to_index)\n",
    "embed_size = model_config['embed_size'] # Size of the word embeddings\n",
    "hidden_size = model_config['hidden_size'] # Size of the hidden state\n",
    "word_vectors = torch.tensor(word_vectors)\n",
    "word_vectors = word_vectors.float()"
   ]
  },
  {
   "cell_type": "code",
   "execution_count": 176,
   "metadata": {},
   "outputs": [
    {
     "name": "stderr",
     "output_type": "stream",
     "text": [
      "<>:2: SyntaxWarning: invalid escape sequence '\\T'\n",
      "<>:2: SyntaxWarning: invalid escape sequence '\\T'\n",
      "C:\\Users\\saras\\AppData\\Local\\Temp\\ipykernel_3120\\2024439700.py:2: SyntaxWarning: invalid escape sequence '\\T'\n",
      "  model_path = \"Trained_Models\\Task 1\\GloVe\\\\t1_model3_glove.pth\"\n"
     ]
    },
    {
     "name": "stdout",
     "output_type": "stream",
     "text": [
      "Test accuracy: 0.9215\n",
      "Test precision: 0.9133\n",
      "Test macro F1: 0.3130\n",
      "Test loss: 17.2918\n",
      "\n",
      "Classification report:\n",
      "              precision    recall  f1-score   support\n",
      "\n",
      "           0       0.96      0.98      0.97     57483\n",
      "           1       0.32      0.24      0.27       121\n",
      "           2       0.40      0.33      0.36       344\n",
      "           3       0.13      0.10      0.11       159\n",
      "           4       0.18      0.14      0.15       310\n",
      "           5       0.29      0.20      0.24       276\n",
      "           6       0.20      0.15      0.18       195\n",
      "           7       0.52      0.48      0.50       222\n",
      "           8       0.48      0.41      0.44       383\n",
      "           9       0.62      0.61      0.61       258\n",
      "          10       0.59      0.50      0.54       439\n",
      "          11       0.33      0.26      0.29       178\n",
      "          12       0.41      0.35      0.37       326\n",
      "          13       0.19      0.09      0.12        58\n",
      "          14       0.47      0.34      0.39       177\n",
      "          15       0.71      0.45      0.55      1793\n",
      "          16       0.74      0.77      0.76       222\n",
      "          17       0.05      0.11      0.07         9\n",
      "          18       0.11      0.18      0.13        11\n",
      "          19       0.22      0.15      0.18        54\n",
      "          20       0.34      0.32      0.33       183\n",
      "          21       0.00      0.00      0.00         5\n",
      "          22       0.08      0.22      0.12         9\n",
      "          23       0.58      0.72      0.64       102\n",
      "          24       0.00      0.00      0.00         8\n",
      "          25       0.00      0.00      0.00         7\n",
      "          26       0.12      0.11      0.11        47\n",
      "\n",
      "    accuracy                           0.92     63379\n",
      "   macro avg       0.33      0.30      0.31     63379\n",
      "weighted avg       0.91      0.92      0.92     63379\n",
      "\n"
     ]
    }
   ],
   "source": [
    "model = RNNModel(vocab_size, embed_size, hidden_size, word_vectors, model_config)\n",
    "model_path = \"Trained_Models\\Task 1\\GloVe\\\\t1_model3_glove.pth\"\n",
    "#load the model\n",
    "temp = torch.load(model_path)\n",
    "model.load_state_dict(temp)\n",
    "accuracy, precision, macro_f1, loss, classification_report = evaluation(model, test_dataloader, criterion)\n",
    "print(f\"Test accuracy: {accuracy:.4f}\\nTest precision: {precision:.4f}\\nTest macro F1: {macro_f1:.4f}\\nTest loss: {loss:.4f}\\n\")\n",
    "print(f\"Classification report:\\n{classification_report}\")"
   ]
  },
  {
   "cell_type": "markdown",
   "metadata": {},
   "source": [
    "### FastText"
   ]
  },
  {
   "cell_type": "code",
   "execution_count": 177,
   "metadata": {},
   "outputs": [],
   "source": [
    "train, val, test = [], [], []\n",
    "for i in train_data:\n",
    "    train.append([train_data[i]['text'], train_data[i]['labels']])\n",
    "for i in val_data:\n",
    "    val.append([val_data[i]['text'], val_data[i]['labels']])\n",
    "for i in test_data:\n",
    "    test.append([test_data[i]['text'], test_data[i]['labels']])"
   ]
  },
  {
   "cell_type": "code",
   "execution_count": 178,
   "metadata": {},
   "outputs": [
    {
     "name": "stdout",
     "output_type": "stream",
     "text": [
      "Training data size: 8019\n",
      "Validation data size: 1416\n",
      "Test data size: 949\n"
     ]
    }
   ],
   "source": [
    "print(f'Training data size: {len(train)}')\n",
    "print(f'Validation data size: {len(val)}')\n",
    "print(f'Test data size: {len(test)}')"
   ]
  },
  {
   "cell_type": "code",
   "execution_count": 179,
   "metadata": {},
   "outputs": [
    {
     "name": "stdout",
     "output_type": "stream",
     "text": [
      "Number of unique words in the dataset: 37866\n",
      "Words and their counts: [('Therefore,', 97), ('while', 164), ('interpreting', 6), ('statutory', 76), ('provisions,', 10)]\n"
     ]
    }
   ],
   "source": [
    "data = train + val + test\n",
    "# Finding number of unique words in the dataset\n",
    "word_count = {}\n",
    "for i in range(len(data)):\n",
    "    words = data[i][0].split()\n",
    "    for word in words:\n",
    "        if word not in word_count:\n",
    "            word_count[word] = 1\n",
    "        else:\n",
    "            word_count[word] += 1\n",
    "print(f\"Number of unique words in the dataset: {len(word_count)}\")\n",
    "print(f\"Words and their counts: {list(word_count.items())[:5]}\")"
   ]
  },
  {
   "cell_type": "code",
   "execution_count": 180,
   "metadata": {},
   "outputs": [
    {
     "name": "stdout",
     "output_type": "stream",
     "text": [
      "Number of unique words in the dataset after adding 'PAD' and 'UNK': 37868\n"
     ]
    }
   ],
   "source": [
    "word_list = list(word_count.keys())\n",
    "# adding 'PAD' and 'UNK' to the word list\n",
    "word_list.append('PAD')\n",
    "word_list.append('UNK')\n",
    "word_count['PAD'] = 0\n",
    "word_count['UNK'] = 0\n",
    "print(f\"Number of unique words in the dataset after adding 'PAD' and 'UNK': {len(word_list)}\")"
   ]
  },
  {
   "cell_type": "code",
   "execution_count": 181,
   "metadata": {},
   "outputs": [
    {
     "name": "stdout",
     "output_type": "stream",
     "text": [
      "Word-to-index: [('Therefore,', 0), ('while', 1), ('interpreting', 2), ('statutory', 3), ('provisions,', 4)]\n",
      "Index-to-word: [(0, 'Therefore,'), (1, 'while'), (2, 'interpreting'), (3, 'statutory'), (4, 'provisions,')]\n",
      "Number of unique labels in the dataset: 27\n",
      "Labels and their counts: [('O', 294339), ('B_CASE_NUMBER', 1161), ('I_CASE_NUMBER', 3975), ('B_ORG', 1600), ('I_ORG', 2945), ('B_OTHER_PERSON', 2929), ('I_OTHER_PERSON', 2252), ('B_STATUTE', 2026), ('I_STATUTE', 3659), ('B_PROVISION', 2642), ('I_PROVISION', 4326), ('B_COURT', 1471), ('I_COURT', 2854), ('B_WITNESS', 939), ('B_PRECEDENT', 1528), ('I_PRECEDENT', 13435), ('B_DATE', 2106), ('B_PETITIONER', 473), ('I_PETITIONER', 384), ('I_WITNESS', 810), ('B_GPE', 1581), ('B_RESPONDENT', 329), ('I_RESPONDENT', 448), ('I_DATE', 1480), ('B_JUDGE', 575), ('I_JUDGE', 398), ('I_GPE', 327)]\n",
      "Labels and their counts: [('O', 294339), ('B_CASE_NUMBER', 1161), ('I_CASE_NUMBER', 3975), ('B_ORG', 1600), ('I_ORG', 2945), ('B_OTHER_PERSON', 2929), ('I_OTHER_PERSON', 2252), ('B_STATUTE', 2026), ('I_STATUTE', 3659), ('B_PROVISION', 2642), ('I_PROVISION', 4326), ('B_COURT', 1471), ('I_COURT', 2854), ('B_WITNESS', 939), ('B_PRECEDENT', 1528), ('I_PRECEDENT', 13435), ('B_DATE', 2106), ('B_PETITIONER', 473), ('I_PETITIONER', 384), ('I_WITNESS', 810), ('B_GPE', 1581), ('B_RESPONDENT', 329), ('I_RESPONDENT', 448), ('I_DATE', 1480), ('B_JUDGE', 575), ('I_JUDGE', 398), ('I_GPE', 327)]\n",
      "Label-to-index: [('O', 0), ('B_CASE_NUMBER', 1), ('I_CASE_NUMBER', 2), ('B_ORG', 3), ('I_ORG', 4), ('B_OTHER_PERSON', 5), ('I_OTHER_PERSON', 6), ('B_STATUTE', 7), ('I_STATUTE', 8), ('B_PROVISION', 9), ('I_PROVISION', 10), ('B_COURT', 11), ('I_COURT', 12), ('B_WITNESS', 13), ('B_PRECEDENT', 14), ('I_PRECEDENT', 15), ('B_DATE', 16), ('B_PETITIONER', 17), ('I_PETITIONER', 18), ('I_WITNESS', 19), ('B_GPE', 20), ('B_RESPONDENT', 21), ('I_RESPONDENT', 22), ('I_DATE', 23), ('B_JUDGE', 24), ('I_JUDGE', 25), ('I_GPE', 26)]\n",
      "Index-to-label: [(0, 'O'), (1, 'B_CASE_NUMBER'), (2, 'I_CASE_NUMBER'), (3, 'B_ORG'), (4, 'I_ORG'), (5, 'B_OTHER_PERSON'), (6, 'I_OTHER_PERSON'), (7, 'B_STATUTE'), (8, 'I_STATUTE'), (9, 'B_PROVISION'), (10, 'I_PROVISION'), (11, 'B_COURT'), (12, 'I_COURT'), (13, 'B_WITNESS'), (14, 'B_PRECEDENT'), (15, 'I_PRECEDENT'), (16, 'B_DATE'), (17, 'B_PETITIONER'), (18, 'I_PETITIONER'), (19, 'I_WITNESS'), (20, 'B_GPE'), (21, 'B_RESPONDENT'), (22, 'I_RESPONDENT'), (23, 'I_DATE'), (24, 'B_JUDGE'), (25, 'I_JUDGE'), (26, 'I_GPE')]\n"
     ]
    }
   ],
   "source": [
    "# Word-to-index and index-to-word mapping from the dataset\n",
    "word_to_index = {word:idx for idx, word in enumerate(word_list)}\n",
    "index_to_word = {idx:word for word, idx in word_to_index.items()}\n",
    "print(f\"Word-to-index: {list(word_to_index.items())[:5]}\")\n",
    "print(f\"Index-to-word: {list(index_to_word.items())[:5]}\")\n",
    "# finding all the unique labels in the dataset\n",
    "label_count = {}\n",
    "for i in range(len(data)):\n",
    "    labels = data[i][1]\n",
    "    for label in labels:\n",
    "        if label not in label_count:\n",
    "            label_count[label] = 1\n",
    "        else:\n",
    "            label_count[label] += 1\n",
    "print(f\"Number of unique labels in the dataset: {len(label_count)}\")\n",
    "print(f\"Labels and their counts: {list(label_count.items())}\")\n",
    "print(f\"Labels and their counts: {list(label_count.items())}\")\n",
    "label_to_idx = {label:idx for idx, label in enumerate(label_count.keys())}\n",
    "idx_to_label = {idx:label for label, idx in label_to_idx.items()}\n",
    "print(f\"Label-to-index: {list(label_to_idx.items())}\")\n",
    "print(f\"Index-to-label: {list(idx_to_label.items())}\")"
   ]
  },
  {
   "cell_type": "code",
   "execution_count": 182,
   "metadata": {},
   "outputs": [
    {
     "name": "stdout",
     "output_type": "stream",
     "text": [
      "Shape of word_embeddings: (37868, 300)\n"
     ]
    }
   ],
   "source": [
    "word_embeddings = np.zeros((len(word_list), 300))\n",
    "for i in range(len(word_list)):\n",
    "    word = word_list[i]\n",
    "    idx = word_to_index[word]\n",
    "    if word in glove_vectors.stoi:\n",
    "        word_embeddings[idx] = fasttext_vectors[word]\n",
    "    else:\n",
    "        word_embeddings[idx] = fasttext_vectors['unk']\n",
    "print(f\"Shape of word_embeddings: {word_embeddings.shape}\")"
   ]
  },
  {
   "cell_type": "code",
   "execution_count": 183,
   "metadata": {},
   "outputs": [
    {
     "name": "stdout",
     "output_type": "stream",
     "text": [
      "Shape of word vectors: (37868, 300)\n"
     ]
    }
   ],
   "source": [
    "# List of word vectors\n",
    "word_vectors = [word_embeddings[word_to_index[word]] for word in word_list]\n",
    "word_vectors = np.array(word_vectors)\n",
    "print(f\"Shape of word vectors: {word_vectors.shape}\")"
   ]
  },
  {
   "cell_type": "code",
   "execution_count": 184,
   "metadata": {},
   "outputs": [],
   "source": [
    "# constants\n",
    "vocab_size = len(word_to_index)\n",
    "embedding_size = 300"
   ]
  },
  {
   "cell_type": "code",
   "execution_count": 185,
   "metadata": {},
   "outputs": [],
   "source": [
    "test_dataset = NERDataset(test, vocab_size, embedding_size, word_to_index, index_to_word, label_to_idx)"
   ]
  },
  {
   "cell_type": "code",
   "execution_count": 186,
   "metadata": {},
   "outputs": [],
   "source": [
    "test_dataloader = DataLoader(test_dataset, batch_size=32, collate_fn=collate_fn)"
   ]
  },
  {
   "cell_type": "markdown",
   "metadata": {},
   "source": [
    "#### RNN + FastText for Task 1"
   ]
  },
  {
   "cell_type": "code",
   "execution_count": 187,
   "metadata": {},
   "outputs": [],
   "source": [
    "model_config = dict(\n",
    "    task = 1, \n",
    "    model = 'RNN',\n",
    "    embed_size = 300,\n",
    "    embedding = 'FastText',\n",
    "    hidden_size = 128,\n",
    "    learning_rate = 0.001,\n",
    "    batch_size = 32,\n",
    "    epochs = 100, \n",
    "    padding = 'max_post', \n",
    "    loss = 'CrossEntropyLoss',\n",
    "    optimizer = 'Adam',\n",
    "    num_hidden = 1,\n",
    "    dropout = 0, \n",
    "    activation = 'tanh'\n",
    ")\n",
    "\n",
    "vocab_size = len(word_to_index)\n",
    "embed_size = model_config['embed_size'] # Size of the word embeddings\n",
    "hidden_size = model_config['hidden_size'] # Size of the hidden state\n",
    "word_vectors = torch.tensor(word_vectors)\n",
    "word_vectors = word_vectors.float()"
   ]
  },
  {
   "cell_type": "code",
   "execution_count": 189,
   "metadata": {},
   "outputs": [
    {
     "name": "stderr",
     "output_type": "stream",
     "text": [
      "<>:2: SyntaxWarning: invalid escape sequence '\\T'\n",
      "<>:2: SyntaxWarning: invalid escape sequence '\\T'\n",
      "C:\\Users\\saras\\AppData\\Local\\Temp\\ipykernel_3120\\1635589053.py:2: SyntaxWarning: invalid escape sequence '\\T'\n",
      "  model_path = \"Trained_Models\\Task 1\\Fasttext\\\\t1_model1_fasttext.pth\"\n"
     ]
    },
    {
     "name": "stdout",
     "output_type": "stream",
     "text": [
      "Test accuracy: 0.9326\n",
      "Test precision: 0.9235\n",
      "Test macro F1: 0.3468\n",
      "Test loss: 8.5034\n",
      "\n",
      "Classification report:\n",
      "              precision    recall  f1-score   support\n",
      "\n",
      "           0       0.96      0.98      0.97     57483\n",
      "           1       0.44      0.22      0.30       121\n",
      "           2       0.54      0.40      0.46       344\n",
      "           3       0.14      0.04      0.07       159\n",
      "           4       0.27      0.14      0.18       310\n",
      "           5       0.36      0.21      0.27       276\n",
      "           6       0.24      0.24      0.24       195\n",
      "           7       0.59      0.54      0.56       222\n",
      "           8       0.53      0.49      0.51       383\n",
      "           9       0.70      0.61      0.65       258\n",
      "          10       0.74      0.54      0.62       439\n",
      "          11       0.41      0.25      0.31       178\n",
      "          12       0.47      0.34      0.40       326\n",
      "          13       0.20      0.02      0.03        58\n",
      "          14       0.51      0.45      0.48       177\n",
      "          15       0.73      0.67      0.70      1793\n",
      "          16       0.84      0.77      0.80       222\n",
      "          17       0.14      0.11      0.12         9\n",
      "          18       0.15      0.27      0.19        11\n",
      "          19       0.62      0.09      0.16        54\n",
      "          20       0.50      0.36      0.42       183\n",
      "          21       0.00      0.00      0.00         5\n",
      "          22       0.06      0.22      0.09         9\n",
      "          23       0.63      0.76      0.69       102\n",
      "          24       0.00      0.00      0.00         8\n",
      "          25       0.00      0.00      0.00         7\n",
      "          26       0.44      0.09      0.14        47\n",
      "\n",
      "    accuracy                           0.93     63379\n",
      "   macro avg       0.42      0.33      0.35     63379\n",
      "weighted avg       0.92      0.93      0.93     63379\n",
      "\n"
     ]
    }
   ],
   "source": [
    "model = RNNModel(vocab_size, embed_size, hidden_size, word_vectors, model_config)\n",
    "model_path = \"Trained_Models\\Task 1\\Fasttext\\\\t1_model1_fasttext.pth\"\n",
    "#load the model\n",
    "temp = torch.load(model_path)\n",
    "model.load_state_dict(temp)\n",
    "accuracy, precision, macro_f1, loss, classification_report = evaluation(model, test_dataloader, criterion)\n",
    "print(f\"Test accuracy: {accuracy:.4f}\\nTest precision: {precision:.4f}\\nTest macro F1: {macro_f1:.4f}\\nTest loss: {loss:.4f}\\n\")\n",
    "print(f\"Classification report:\\n{classification_report}\")"
   ]
  },
  {
   "cell_type": "markdown",
   "metadata": {},
   "source": [
    "#### LSTM + FastText for Task 1"
   ]
  },
  {
   "cell_type": "code",
   "execution_count": 194,
   "metadata": {},
   "outputs": [
    {
     "name": "stderr",
     "output_type": "stream",
     "text": [
      "C:\\Users\\saras\\AppData\\Local\\Temp\\ipykernel_3120\\742294922.py:21: UserWarning: To copy construct from a tensor, it is recommended to use sourceTensor.clone().detach() or sourceTensor.clone().detach().requires_grad_(True), rather than torch.tensor(sourceTensor).\n",
      "  word_vectors = torch.tensor(word_vectors)\n"
     ]
    }
   ],
   "source": [
    "model_config = dict(\n",
    "    task = 1, \n",
    "    model = 'LSTM',\n",
    "    embed_size = 300,\n",
    "    embedding = 'Fasttext',\n",
    "    hidden_size = 128,\n",
    "    learning_rate = 0.001,\n",
    "    batch_size = 32,\n",
    "    epochs = 100, \n",
    "    padding = 'max_post', \n",
    "    loss = 'CrossEntropyLoss',\n",
    "    optimizer = 'Adam',\n",
    "    num_hidden = 1,\n",
    "    dropout = 0, \n",
    "    activation = 'tanh'\n",
    ")\n",
    "\n",
    "vocab_size = len(word_to_index)\n",
    "embed_size = model_config['embed_size'] # Size of the word embeddings\n",
    "hidden_size = model_config['hidden_size'] # Size of the hidden state\n",
    "word_vectors = torch.tensor(word_vectors)\n",
    "word_vectors = word_vectors.float()"
   ]
  },
  {
   "cell_type": "code",
   "execution_count": 196,
   "metadata": {},
   "outputs": [
    {
     "name": "stderr",
     "output_type": "stream",
     "text": [
      "<>:2: SyntaxWarning: invalid escape sequence '\\T'\n",
      "<>:2: SyntaxWarning: invalid escape sequence '\\T'\n",
      "C:\\Users\\saras\\AppData\\Local\\Temp\\ipykernel_3120\\817277496.py:2: SyntaxWarning: invalid escape sequence '\\T'\n",
      "  model_path = \"Trained_Models\\Task 1\\Fasttext\\\\t1_model2_fasttext.pth\"\n"
     ]
    },
    {
     "name": "stdout",
     "output_type": "stream",
     "text": [
      "Test accuracy: 0.9233\n",
      "Test precision: 0.9152\n",
      "Test macro F1: 0.3294\n",
      "Test loss: 14.5547\n",
      "\n",
      "Classification report:\n",
      "              precision    recall  f1-score   support\n",
      "\n",
      "           0       0.96      0.98      0.97     57483\n",
      "           1       0.38      0.18      0.25       121\n",
      "           2       0.43      0.28      0.34       344\n",
      "           3       0.15      0.11      0.13       159\n",
      "           4       0.16      0.15      0.16       310\n",
      "           5       0.31      0.21      0.25       276\n",
      "           6       0.20      0.17      0.19       195\n",
      "           7       0.50      0.48      0.49       222\n",
      "           8       0.46      0.46      0.46       383\n",
      "           9       0.58      0.64      0.61       258\n",
      "          10       0.61      0.55      0.58       439\n",
      "          11       0.41      0.27      0.32       178\n",
      "          12       0.44      0.31      0.36       326\n",
      "          13       0.16      0.07      0.10        58\n",
      "          14       0.56      0.32      0.41       177\n",
      "          15       0.69      0.52      0.59      1793\n",
      "          16       0.75      0.76      0.76       222\n",
      "          17       0.17      0.11      0.13         9\n",
      "          18       0.12      0.09      0.11        11\n",
      "          19       0.30      0.17      0.21        54\n",
      "          20       0.48      0.33      0.39       183\n",
      "          21       0.00      0.00      0.00         5\n",
      "          22       0.09      0.22      0.13         9\n",
      "          23       0.58      0.71      0.64       102\n",
      "          24       0.08      0.25      0.12         8\n",
      "          25       0.03      0.14      0.05         7\n",
      "          26       0.27      0.13      0.17        47\n",
      "\n",
      "    accuracy                           0.92     63379\n",
      "   macro avg       0.37      0.32      0.33     63379\n",
      "weighted avg       0.92      0.92      0.92     63379\n",
      "\n"
     ]
    }
   ],
   "source": [
    "model = RNNModel(vocab_size, embed_size, hidden_size, word_vectors, model_config)\n",
    "model_path = \"Trained_Models\\Task 1\\Fasttext\\\\t1_model2_fasttext.pth\"\n",
    "#load the model\n",
    "temp = torch.load(model_path)\n",
    "model.load_state_dict(temp)\n",
    "accuracy, precision, macro_f1, loss, classification_report = evaluation(model, test_dataloader, criterion)\n",
    "print(f\"Test accuracy: {accuracy:.4f}\\nTest precision: {precision:.4f}\\nTest macro F1: {macro_f1:.4f}\\nTest loss: {loss:.4f}\\n\")\n",
    "print(f\"Classification report:\\n{classification_report}\")"
   ]
  },
  {
   "cell_type": "markdown",
   "metadata": {},
   "source": [
    "#### GRU + FastText for Task 1"
   ]
  },
  {
   "cell_type": "code",
   "execution_count": 197,
   "metadata": {},
   "outputs": [
    {
     "name": "stderr",
     "output_type": "stream",
     "text": [
      "C:\\Users\\saras\\AppData\\Local\\Temp\\ipykernel_3120\\2305356057.py:21: UserWarning: To copy construct from a tensor, it is recommended to use sourceTensor.clone().detach() or sourceTensor.clone().detach().requires_grad_(True), rather than torch.tensor(sourceTensor).\n",
      "  word_vectors = torch.tensor(word_vectors)\n"
     ]
    }
   ],
   "source": [
    "model_config = dict(\n",
    "    task = 1, \n",
    "    model = 'GRU',\n",
    "    embed_size = 300,\n",
    "    embedding = 'FastText',\n",
    "    hidden_size = 128,\n",
    "    learning_rate = 0.001,\n",
    "    batch_size = 32,\n",
    "    epochs = 100, \n",
    "    padding = 'max_post', \n",
    "    loss = 'CrossEntropyLoss',\n",
    "    optimizer = 'Adam',\n",
    "    num_hidden = 1,\n",
    "    dropout = 0, \n",
    "    activation = 'tanh'\n",
    ")\n",
    "\n",
    "vocab_size = len(word_to_index)\n",
    "embed_size = model_config['embed_size'] # Size of the word embeddings\n",
    "hidden_size = model_config['hidden_size'] # Size of the hidden state\n",
    "word_vectors = torch.tensor(word_vectors)\n",
    "word_vectors = word_vectors.float()"
   ]
  },
  {
   "cell_type": "code",
   "execution_count": 198,
   "metadata": {},
   "outputs": [
    {
     "name": "stderr",
     "output_type": "stream",
     "text": [
      "<>:2: SyntaxWarning: invalid escape sequence '\\T'\n",
      "<>:2: SyntaxWarning: invalid escape sequence '\\T'\n",
      "C:\\Users\\saras\\AppData\\Local\\Temp\\ipykernel_3120\\1791481303.py:2: SyntaxWarning: invalid escape sequence '\\T'\n",
      "  model_path = \"Trained_Models\\Task 1\\Fasttext\\\\t1_model3_fasttext.pth\"\n"
     ]
    },
    {
     "name": "stdout",
     "output_type": "stream",
     "text": [
      "Test accuracy: 0.9260\n",
      "Test precision: 0.9153\n",
      "Test macro F1: 0.3200\n",
      "Test loss: 16.8684\n",
      "\n",
      "Classification report:\n",
      "              precision    recall  f1-score   support\n",
      "\n",
      "           0       0.95      0.98      0.97     57483\n",
      "           1       0.39      0.23      0.29       121\n",
      "           2       0.49      0.35      0.41       344\n",
      "           3       0.08      0.03      0.05       159\n",
      "           4       0.19      0.12      0.15       310\n",
      "           5       0.27      0.18      0.22       276\n",
      "           6       0.23      0.21      0.22       195\n",
      "           7       0.57      0.42      0.48       222\n",
      "           8       0.52      0.35      0.42       383\n",
      "           9       0.62      0.59      0.60       258\n",
      "          10       0.66      0.52      0.58       439\n",
      "          11       0.35      0.21      0.26       178\n",
      "          12       0.40      0.31      0.35       326\n",
      "          13       0.24      0.14      0.18        58\n",
      "          14       0.57      0.29      0.38       177\n",
      "          15       0.78      0.49      0.60      1793\n",
      "          16       0.81      0.77      0.79       222\n",
      "          17       0.06      0.11      0.08         9\n",
      "          18       0.12      0.18      0.14        11\n",
      "          19       0.23      0.13      0.17        54\n",
      "          20       0.33      0.21      0.26       183\n",
      "          21       0.00      0.00      0.00         5\n",
      "          22       0.06      0.22      0.09         9\n",
      "          23       0.62      0.74      0.68       102\n",
      "          24       0.00      0.00      0.00         8\n",
      "          25       0.09      0.29      0.13         7\n",
      "          26       0.17      0.13      0.15        47\n",
      "\n",
      "    accuracy                           0.93     63379\n",
      "   macro avg       0.36      0.30      0.32     63379\n",
      "weighted avg       0.92      0.93      0.92     63379\n",
      "\n"
     ]
    }
   ],
   "source": [
    "model = RNNModel(vocab_size, embed_size, hidden_size, word_vectors, model_config)\n",
    "model_path = \"Trained_Models\\Task 1\\Fasttext\\\\t1_model3_fasttext.pth\"\n",
    "#load the model\n",
    "temp = torch.load(model_path)\n",
    "model.load_state_dict(temp)\n",
    "accuracy, precision, macro_f1, loss, classification_report = evaluation(model, test_dataloader, criterion)\n",
    "print(f\"Test accuracy: {accuracy:.4f}\\nTest precision: {precision:.4f}\\nTest macro F1: {macro_f1:.4f}\\nTest loss: {loss:.4f}\\n\")\n",
    "print(f\"Classification report:\\n{classification_report}\")"
   ]
  },
  {
   "cell_type": "markdown",
   "metadata": {},
   "source": [
    "### Word2Vec"
   ]
  },
  {
   "cell_type": "code",
   "execution_count": 199,
   "metadata": {},
   "outputs": [
    {
     "name": "stdout",
     "output_type": "stream",
     "text": [
      "Shape of word embeddings: (37868, 300)\n"
     ]
    }
   ],
   "source": [
    "word_embeddings = []\n",
    "for word in word_list:\n",
    "    try:\n",
    "        word_embeddings.append(wv[word])\n",
    "    except:\n",
    "        word_embeddings.append(wv['unk'])\n",
    "word_embeddings = np.array(word_embeddings)\n",
    "print(f\"Shape of word embeddings: {word_embeddings.shape}\")\n"
   ]
  },
  {
   "cell_type": "code",
   "execution_count": 200,
   "metadata": {},
   "outputs": [
    {
     "name": "stdout",
     "output_type": "stream",
     "text": [
      "Shape of word vectors: (37868, 300)\n"
     ]
    }
   ],
   "source": [
    "# List of word vectors\n",
    "word_vectors = [word_embeddings[word_to_index[word]] for word in word_list]\n",
    "word_vectors = np.array(word_vectors)\n",
    "print(f\"Shape of word vectors: {word_vectors.shape}\")"
   ]
  },
  {
   "cell_type": "code",
   "execution_count": 201,
   "metadata": {},
   "outputs": [],
   "source": [
    "# constants\n",
    "vocab_size = len(word_to_index)\n",
    "embedding_size = 300"
   ]
  },
  {
   "cell_type": "markdown",
   "metadata": {},
   "source": [
    "#### RNN + Word2Vec for Task 1"
   ]
  },
  {
   "cell_type": "code",
   "execution_count": 202,
   "metadata": {},
   "outputs": [],
   "source": [
    "model_config = dict(\n",
    "    task = 1, \n",
    "    model = 'RNN',\n",
    "    embed_size = 300,\n",
    "    embedding = 'Word2Vec',\n",
    "    hidden_size = 128,\n",
    "    learning_rate = 0.001,\n",
    "    batch_size = 32,\n",
    "    epochs = 100, \n",
    "    padding = 'max_post', \n",
    "    loss = 'CrossEntropyLoss',\n",
    "    optimizer = 'Adam',\n",
    "    num_hidden = 1,\n",
    "    dropout = 0, \n",
    "    activation = 'tanh'\n",
    ")\n",
    "\n",
    "vocab_size = len(word_to_index)\n",
    "embed_size = model_config['embed_size'] # Size of the word embeddings\n",
    "hidden_size = model_config['hidden_size'] # Size of the hidden state\n",
    "word_vectors = torch.tensor(word_vectors)\n",
    "word_vectors = word_vectors.float()"
   ]
  },
  {
   "cell_type": "code",
   "execution_count": 203,
   "metadata": {},
   "outputs": [
    {
     "name": "stderr",
     "output_type": "stream",
     "text": [
      "<>:2: SyntaxWarning: invalid escape sequence '\\T'\n",
      "<>:2: SyntaxWarning: invalid escape sequence '\\T'\n",
      "C:\\Users\\saras\\AppData\\Local\\Temp\\ipykernel_3120\\2028122749.py:2: SyntaxWarning: invalid escape sequence '\\T'\n",
      "  model_path = \"Trained_Models\\Task 1\\Word2vec\\\\t1_model1_Word2vec.pth\"\n"
     ]
    },
    {
     "name": "stdout",
     "output_type": "stream",
     "text": [
      "Test accuracy: 0.9517\n",
      "Test precision: 0.9485\n",
      "Test macro F1: 0.5221\n",
      "Test loss: 9.7472\n",
      "\n",
      "Classification report:\n",
      "              precision    recall  f1-score   support\n",
      "\n",
      "           0       0.97      0.99      0.98     57483\n",
      "           1       0.40      0.26      0.31       121\n",
      "           2       0.61      0.47      0.53       344\n",
      "           3       0.43      0.31      0.36       159\n",
      "           4       0.43      0.29      0.35       310\n",
      "           5       0.55      0.57      0.56       276\n",
      "           6       0.59      0.59      0.59       195\n",
      "           7       0.69      0.60      0.64       222\n",
      "           8       0.75      0.68      0.71       383\n",
      "           9       0.90      0.86      0.88       258\n",
      "          10       0.86      0.77      0.82       439\n",
      "          11       0.83      0.73      0.78       178\n",
      "          12       0.84      0.73      0.78       326\n",
      "          13       0.44      0.48      0.46        58\n",
      "          14       0.50      0.37      0.42       177\n",
      "          15       0.85      0.63      0.72      1793\n",
      "          16       0.80      0.78      0.79       222\n",
      "          17       0.25      0.44      0.32         9\n",
      "          18       0.24      0.45      0.31        11\n",
      "          19       0.55      0.39      0.46        54\n",
      "          20       0.43      0.45      0.44       183\n",
      "          21       0.22      0.40      0.29         5\n",
      "          22       0.17      0.22      0.19         9\n",
      "          23       0.69      0.67      0.68       102\n",
      "          24       0.08      0.25      0.12         8\n",
      "          25       0.27      0.57      0.36         7\n",
      "          26       0.23      0.23      0.23        47\n",
      "\n",
      "    accuracy                           0.95     63379\n",
      "   macro avg       0.54      0.53      0.52     63379\n",
      "weighted avg       0.95      0.95      0.95     63379\n",
      "\n"
     ]
    }
   ],
   "source": [
    "model = RNNModel(vocab_size, embed_size, hidden_size, word_vectors, model_config)\n",
    "model_path = \"Trained_Models\\Task 1\\Word2vec\\\\t1_model1_Word2vec.pth\"\n",
    "#load the model\n",
    "temp = torch.load(model_path)\n",
    "model.load_state_dict(temp)\n",
    "accuracy, precision, macro_f1, loss, classification_report = evaluation(model, test_dataloader, criterion)\n",
    "print(f\"Test accuracy: {accuracy:.4f}\\nTest precision: {precision:.4f}\\nTest macro F1: {macro_f1:.4f}\\nTest loss: {loss:.4f}\\n\")\n",
    "print(f\"Classification report:\\n{classification_report}\")"
   ]
  },
  {
   "cell_type": "markdown",
   "metadata": {},
   "source": [
    "#### LSTM + Word2Vec for Task 1"
   ]
  },
  {
   "cell_type": "code",
   "execution_count": 204,
   "metadata": {},
   "outputs": [
    {
     "name": "stderr",
     "output_type": "stream",
     "text": [
      "C:\\Users\\saras\\AppData\\Local\\Temp\\ipykernel_3120\\2473460402.py:21: UserWarning: To copy construct from a tensor, it is recommended to use sourceTensor.clone().detach() or sourceTensor.clone().detach().requires_grad_(True), rather than torch.tensor(sourceTensor).\n",
      "  word_vectors = torch.tensor(word_vectors)\n"
     ]
    }
   ],
   "source": [
    "model_config = dict(\n",
    "    task = 1, \n",
    "    model = 'LSTM',\n",
    "    embed_size = 300,\n",
    "    embedding = 'Word2Vec',\n",
    "    hidden_size = 128,\n",
    "    learning_rate = 0.001,\n",
    "    batch_size = 32,\n",
    "    epochs = 100, \n",
    "    padding = 'max_post', \n",
    "    loss = 'CrossEntropyLoss',\n",
    "    optimizer = 'Adam',\n",
    "    num_hidden = 1,\n",
    "    dropout = 0, \n",
    "    activation = 'tanh'\n",
    ")\n",
    "\n",
    "vocab_size = len(word_to_index)\n",
    "embed_size = model_config['embed_size'] # Size of the word embeddings\n",
    "hidden_size = model_config['hidden_size'] # Size of the hidden state\n",
    "word_vectors = torch.tensor(word_vectors)\n",
    "word_vectors = word_vectors.float()"
   ]
  },
  {
   "cell_type": "code",
   "execution_count": 205,
   "metadata": {},
   "outputs": [
    {
     "name": "stderr",
     "output_type": "stream",
     "text": [
      "<>:2: SyntaxWarning: invalid escape sequence '\\T'\n",
      "<>:2: SyntaxWarning: invalid escape sequence '\\T'\n",
      "C:\\Users\\saras\\AppData\\Local\\Temp\\ipykernel_3120\\204597385.py:2: SyntaxWarning: invalid escape sequence '\\T'\n",
      "  model_path = \"Trained_Models\\Task 1\\Word2vec\\\\t1_model2_Word2vec.pth\"\n"
     ]
    },
    {
     "name": "stdout",
     "output_type": "stream",
     "text": [
      "Test accuracy: 0.9531\n",
      "Test precision: 0.9504\n",
      "Test macro F1: 0.5455\n",
      "Test loss: 10.7841\n",
      "\n",
      "Classification report:\n",
      "              precision    recall  f1-score   support\n",
      "\n",
      "           0       0.97      0.99      0.98     57483\n",
      "           1       0.41      0.30      0.34       121\n",
      "           2       0.63      0.48      0.55       344\n",
      "           3       0.37      0.31      0.34       159\n",
      "           4       0.48      0.32      0.38       310\n",
      "           5       0.58      0.58      0.58       276\n",
      "           6       0.58      0.57      0.58       195\n",
      "           7       0.73      0.65      0.69       222\n",
      "           8       0.80      0.67      0.73       383\n",
      "           9       0.87      0.86      0.87       258\n",
      "          10       0.87      0.74      0.80       439\n",
      "          11       0.86      0.77      0.81       178\n",
      "          12       0.85      0.75      0.80       326\n",
      "          13       0.45      0.40      0.42        58\n",
      "          14       0.49      0.41      0.45       177\n",
      "          15       0.83      0.67      0.74      1793\n",
      "          16       0.82      0.80      0.81       222\n",
      "          17       0.25      0.56      0.34         9\n",
      "          18       0.43      0.55      0.48        11\n",
      "          19       0.55      0.39      0.46        54\n",
      "          20       0.47      0.51      0.49       183\n",
      "          21       0.20      0.40      0.27         5\n",
      "          22       0.14      0.22      0.17         9\n",
      "          23       0.62      0.69      0.65       102\n",
      "          24       0.21      0.62      0.31         8\n",
      "          25       0.21      0.57      0.31         7\n",
      "          26       0.39      0.36      0.37        47\n",
      "\n",
      "    accuracy                           0.95     63379\n",
      "   macro avg       0.56      0.56      0.55     63379\n",
      "weighted avg       0.95      0.95      0.95     63379\n",
      "\n"
     ]
    }
   ],
   "source": [
    "model = RNNModel(vocab_size, embed_size, hidden_size, word_vectors, model_config)\n",
    "model_path = \"Trained_Models\\Task 1\\Word2vec\\\\t1_model2_Word2vec.pth\"\n",
    "#load the model\n",
    "temp = torch.load(model_path)\n",
    "model.load_state_dict(temp)\n",
    "accuracy, precision, macro_f1, loss, classification_report = evaluation(model, test_dataloader, criterion)\n",
    "print(f\"Test accuracy: {accuracy:.4f}\\nTest precision: {precision:.4f}\\nTest macro F1: {macro_f1:.4f}\\nTest loss: {loss:.4f}\\n\")\n",
    "print(f\"Classification report:\\n{classification_report}\")"
   ]
  },
  {
   "cell_type": "markdown",
   "metadata": {},
   "source": [
    "#### GRU + Word2Vec for Task 1"
   ]
  },
  {
   "cell_type": "code",
   "execution_count": 206,
   "metadata": {},
   "outputs": [
    {
     "name": "stderr",
     "output_type": "stream",
     "text": [
      "C:\\Users\\saras\\AppData\\Local\\Temp\\ipykernel_3120\\3869732436.py:21: UserWarning: To copy construct from a tensor, it is recommended to use sourceTensor.clone().detach() or sourceTensor.clone().detach().requires_grad_(True), rather than torch.tensor(sourceTensor).\n",
      "  word_vectors = torch.tensor(word_vectors)\n"
     ]
    }
   ],
   "source": [
    "model_config = dict(\n",
    "    task = 1, \n",
    "    model = 'GRU',\n",
    "    embed_size = 300,\n",
    "    embedding = 'Word2Vec',\n",
    "    hidden_size = 128,\n",
    "    learning_rate = 0.001,\n",
    "    batch_size = 32,\n",
    "    epochs = 100, \n",
    "    padding = 'max_post', \n",
    "    loss = 'CrossEntropyLoss',\n",
    "    optimizer = 'Adam',\n",
    "    num_hidden = 1,\n",
    "    dropout = 0, \n",
    "    activation = 'tanh'\n",
    ")\n",
    "\n",
    "vocab_size = len(word_to_index)\n",
    "embed_size = model_config['embed_size'] # Size of the word embeddings\n",
    "hidden_size = model_config['hidden_size'] # Size of the hidden state\n",
    "word_vectors = torch.tensor(word_vectors)\n",
    "word_vectors = word_vectors.float()"
   ]
  },
  {
   "cell_type": "code",
   "execution_count": 207,
   "metadata": {},
   "outputs": [
    {
     "name": "stderr",
     "output_type": "stream",
     "text": [
      "<>:2: SyntaxWarning: invalid escape sequence '\\T'\n",
      "<>:2: SyntaxWarning: invalid escape sequence '\\T'\n",
      "C:\\Users\\saras\\AppData\\Local\\Temp\\ipykernel_3120\\308635428.py:2: SyntaxWarning: invalid escape sequence '\\T'\n",
      "  model_path = \"Trained_Models\\Task 1\\Word2vec\\\\t1_model3_Word2vec.pth\"\n"
     ]
    },
    {
     "name": "stdout",
     "output_type": "stream",
     "text": [
      "Test accuracy: 0.9527\n",
      "Test precision: 0.9514\n",
      "Test macro F1: 0.5482\n",
      "Test loss: 12.0151\n",
      "\n",
      "Classification report:\n",
      "              precision    recall  f1-score   support\n",
      "\n",
      "           0       0.98      0.99      0.98     57483\n",
      "           1       0.48      0.43      0.45       121\n",
      "           2       0.63      0.53      0.58       344\n",
      "           3       0.34      0.32      0.33       159\n",
      "           4       0.50      0.40      0.44       310\n",
      "           5       0.57      0.53      0.55       276\n",
      "           6       0.59      0.52      0.55       195\n",
      "           7       0.64      0.65      0.65       222\n",
      "           8       0.79      0.68      0.73       383\n",
      "           9       0.86      0.88      0.87       258\n",
      "          10       0.88      0.76      0.81       439\n",
      "          11       0.81      0.75      0.78       178\n",
      "          12       0.83      0.70      0.76       326\n",
      "          13       0.35      0.50      0.41        58\n",
      "          14       0.49      0.47      0.48       177\n",
      "          15       0.84      0.69      0.76      1793\n",
      "          16       0.73      0.81      0.77       222\n",
      "          17       0.21      0.44      0.29         9\n",
      "          18       0.35      0.55      0.43        11\n",
      "          19       0.40      0.39      0.40        54\n",
      "          20       0.48      0.51      0.50       183\n",
      "          21       0.21      0.60      0.32         5\n",
      "          22       0.17      0.33      0.22         9\n",
      "          23       0.66      0.76      0.71       102\n",
      "          24       0.19      0.50      0.28         8\n",
      "          25       0.38      0.71      0.50         7\n",
      "          26       0.28      0.26      0.27        47\n",
      "\n",
      "    accuracy                           0.95     63379\n",
      "   macro avg       0.54      0.58      0.55     63379\n",
      "weighted avg       0.95      0.95      0.95     63379\n",
      "\n"
     ]
    }
   ],
   "source": [
    "model = RNNModel(vocab_size, embed_size, hidden_size, word_vectors, model_config)\n",
    "model_path = \"Trained_Models\\Task 1\\Word2vec\\\\t1_model3_Word2vec.pth\"\n",
    "#load the model\n",
    "temp = torch.load(model_path)\n",
    "model.load_state_dict(temp)\n",
    "accuracy, precision, macro_f1, loss, classification_report = evaluation(model, test_dataloader, criterion)\n",
    "print(f\"Test accuracy: {accuracy:.4f}\\nTest precision: {precision:.4f}\\nTest macro F1: {macro_f1:.4f}\\nTest loss: {loss:.4f}\\n\")\n",
    "print(f\"Classification report:\\n{classification_report}\")"
   ]
  }
 ],
 "metadata": {
  "kernelspec": {
   "display_name": "nlp",
   "language": "python",
   "name": "python3"
  },
  "language_info": {
   "codemirror_mode": {
    "name": "ipython",
    "version": 3
   },
   "file_extension": ".py",
   "mimetype": "text/x-python",
   "name": "python",
   "nbconvert_exporter": "python",
   "pygments_lexer": "ipython3",
   "version": "3.12.2"
  }
 },
 "nbformat": 4,
 "nbformat_minor": 2
}
