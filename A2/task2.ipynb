{
 "cells": [
  {
   "cell_type": "markdown",
   "metadata": {},
   "source": [
    "#### Importing required libraries"
   ]
  },
  {
   "cell_type": "code",
   "execution_count": 18,
   "metadata": {},
   "outputs": [],
   "source": [
    "import json\n",
    "import os\n",
    "import torch\n",
    "import pandas as pd\n",
    "import numpy as np\n",
    "from PIL import Image as im\n",
    "import matplotlib.pyplot as plt\n",
    "from torch.utils.data import Dataset, DataLoader, random_split, Subset, SubsetRandomSampler\n",
    "import torch.nn as nn\n",
    "import torch.nn.functional as F\n",
    "import torch.optim as optim\n",
    "from sklearn.model_selection import train_test_split\n",
    "from sklearn.metrics import classification_report\n",
    "from sklearn.metrics import f1_score, precision_score, recall_score, confusion_matrix\n",
    "from sklearn.manifold import TSNE\n",
    "from sklearn.model_selection import train_test_split\n",
    "from torchtext.vocab import GloVe"
   ]
  },
  {
   "cell_type": "code",
   "execution_count": 19,
   "metadata": {},
   "outputs": [],
   "source": [
    "with open('Laptop_Review_Train.json') as f:\n",
    "    train_data = json.load(f)"
   ]
  },
  {
   "cell_type": "code",
   "execution_count": 20,
   "metadata": {},
   "outputs": [],
   "source": [
    "with open('Laptop_Review_Val.json') as f:\n",
    "    val_data = json.load(f)"
   ]
  },
  {
   "cell_type": "code",
   "execution_count": 21,
   "metadata": {},
   "outputs": [],
   "source": [
    "with open('Laptop_Review_Test.json') as f:\n",
    "    test_data = json.load(f)"
   ]
  },
  {
   "cell_type": "markdown",
   "metadata": {},
   "source": [
    "#### BIO Encoding of data"
   ]
  },
  {
   "cell_type": "code",
   "execution_count": 22,
   "metadata": {},
   "outputs": [],
   "source": [
    "def bio_label_encoding(tokens, aspects):\n",
    "    labels = ['O'] * len(tokens)\n",
    "    for aspect in aspects: \n",
    "        start = aspect['from']\n",
    "        end = aspect['to']\n",
    "        labels[start] = 'B'\n",
    "        for i in range(start+1, end):\n",
    "            labels[i] = 'I'\n",
    "    return labels"
   ]
  },
  {
   "cell_type": "markdown",
   "metadata": {},
   "source": [
    "#### Iterating over each sentence and encoding it "
   ]
  },
  {
   "cell_type": "code",
   "execution_count": 23,
   "metadata": {},
   "outputs": [],
   "source": [
    "def convert_to_bio(data):\n",
    "    processed_data = {}\n",
    "    for i in range(len(data)):\n",
    "        words = data[i]['words']\n",
    "        text = data[i]['raw_words']\n",
    "        aspects = data[i]['aspects']\n",
    "        labels = bio_label_encoding(words, aspects)\n",
    "        processed_data[i] = {\n",
    "            'text': text,\n",
    "            'labels': labels\n",
    "        }\n",
    "    return processed_data"
   ]
  },
  {
   "cell_type": "markdown",
   "metadata": {},
   "source": [
    "#### Preparing the data and saving it "
   ]
  },
  {
   "cell_type": "code",
   "execution_count": 24,
   "metadata": {},
   "outputs": [],
   "source": [
    "processed_train_data = convert_to_bio(train_data)\n",
    "processed_val_data = convert_to_bio(val_data)\n",
    "processed_test_data = convert_to_bio(test_data)"
   ]
  },
  {
   "cell_type": "code",
   "execution_count": 25,
   "metadata": {},
   "outputs": [],
   "source": [
    "# dumping the processed data\n",
    "with open('Laptop_Review_Train_Processed.json', 'w') as f:\n",
    "    json.dump(processed_train_data, f, indent=4)\n",
    "with open('Laptop_Review_Val_Processed.json', 'w') as f:\n",
    "    json.dump(processed_val_data, f, indent=4)\n",
    "with open('Laptop_Review_Test_Processed.json', 'w') as f:\n",
    "    json.dump(processed_test_data, f, indent=4) "
   ]
  },
  {
   "cell_type": "markdown",
   "metadata": {},
   "source": [
    "#### Loading data"
   ]
  },
  {
   "cell_type": "code",
   "execution_count": 26,
   "metadata": {},
   "outputs": [],
   "source": [
    "with open('Laptop_Review_Train_Processed.json') as f:\n",
    "    train_data = json.load(f)\n",
    "with open('Laptop_Review_Val_Processed.json') as f:\n",
    "    val_data = json.load(f)\n",
    "with open('Laptop_Review_Test_Processed.json') as f:\n",
    "    test_data = json.load(f)"
   ]
  },
  {
   "cell_type": "markdown",
   "metadata": {},
   "source": [
    "#### Preparing the data\n"
   ]
  },
  {
   "cell_type": "code",
   "execution_count": 27,
   "metadata": {},
   "outputs": [
    {
     "data": {
      "image/png": "[encoded data removed]",
      "text/plain": [
       "<Figure size 640x480 with 1 Axes>"
      ]
     },
     "metadata": {},
     "output_type": "display_data"
    }
   ],
   "source": [
    "# plotting data distribution of number of tokens in each sentence\n",
    "import matplotlib.pyplot as plt\n",
    "label_counts = []\n",
    "for key in train_data.keys():\n",
    "    label_counts.append(len(train_data[key]['labels']))\n",
    "plt.hist(label_counts, bins=30, alpha=0.5, color='b', edgecolor='black', linewidth=1.2, histtype='bar', align='mid', orientation='vertical', rwidth=0.8, label='Number of tokens')\n",
    "plt.title('Distribution of number of tokens in each sentence')\n",
    "plt.xlabel('Number of tokens')\n",
    "plt.ylabel('Count')\n",
    "plt.show()"
   ]
  },
  {
   "cell_type": "code",
   "execution_count": 28,
   "metadata": {},
   "outputs": [],
   "source": [
    "train, val, test = [], [], []\n",
    "for i in train_data:\n",
    "    train.append([train_data[i]['text'], train_data[i]['labels']])\n",
    "for i in val_data:\n",
    "    val.append([val_data[i]['text'], val_data[i]['labels']])\n",
    "for i in test_data:\n",
    "    test.append([test_data[i]['text'], test_data[i]['labels']])"
   ]
  },
  {
   "cell_type": "code",
   "execution_count": 29,
   "metadata": {},
   "outputs": [
    {
     "name": "stdout",
     "output_type": "stream",
     "text": [
      "Training data size: 906\n",
      "Validation data size: 219\n",
      "Test data size: 328\n"
     ]
    }
   ],
   "source": [
    "print(f'Training data size: {len(train)}')\n",
    "print(f'Validation data size: {len(val)}')\n",
    "print(f'Test data size: {len(test)}')"
   ]
  },
  {
   "cell_type": "code",
   "execution_count": 30,
   "metadata": {},
   "outputs": [
    {
     "name": "stdout",
     "output_type": "stream",
     "text": [
      "Text: I charge it at night and skip taking the cord with me because of the good battery life .\n",
      "Labels: ['O', 'O', 'O', 'O', 'O', 'O', 'O', 'O', 'O', 'O', 'O', 'O', 'O', 'O', 'O', 'O', 'B', 'I', 'O']\n",
      "\n",
      "Text: it is of high quality , has a killer GUI , is extremely stable , is highly expandable , is bundled with lots of very good applications , is easy to use , and is absolutely gorgeous .\n",
      "Labels: ['O', 'O', 'O', 'O', 'B', 'O', 'O', 'O', 'O', 'B', 'O', 'O', 'O', 'O', 'O', 'O', 'O', 'O', 'O', 'O', 'O', 'O', 'O', 'O', 'O', 'O', 'B', 'O', 'O', 'O', 'O', 'B', 'O', 'O', 'O', 'O', 'O', 'O']\n",
      "\n",
      "Text: Easy to start up and does not overheat as much as other laptops .\n",
      "Labels: ['O', 'O', 'B', 'I', 'O', 'O', 'O', 'O', 'O', 'O', 'O', 'O', 'O', 'O']\n",
      "\n",
      "Text: Great laptop that offers many great features !\n",
      "Labels: ['O', 'O', 'O', 'O', 'O', 'O', 'B', 'O']\n",
      "\n",
      "Text: One night I turned the freaking thing off after using it , the next day I turn it on , no GUI , screen all dark , power light steady , hard drive light steady and not flashing as it usually does .\n",
      "Labels: ['O', 'O', 'O', 'O', 'O', 'O', 'O', 'O', 'O', 'O', 'O', 'O', 'O', 'O', 'O', 'O', 'O', 'O', 'O', 'O', 'O', 'B', 'O', 'B', 'O', 'O', 'O', 'B', 'I', 'O', 'O', 'B', 'I', 'I', 'O', 'O', 'O', 'O', 'O', 'O', 'O', 'O', 'O']\n",
      "\n"
     ]
    }
   ],
   "source": [
    "for i in range(5):\n",
    "    text, labels = train[i][0], train[i][1]\n",
    "    print(f\"Text: {text}\\nLabels: {labels}\\n\")"
   ]
  },
  {
   "cell_type": "code",
   "execution_count": 31,
   "metadata": {},
   "outputs": [
    {
     "name": "stdout",
     "output_type": "stream",
     "text": [
      "Number of unique words in the dataset: 3495\n",
      "Words and their counts: [('I', 637), ('charge', 10), ('it', 499), ('at', 70), ('night', 5)]\n"
     ]
    }
   ],
   "source": [
    "data = train + val + test\n",
    "# Finding number of unique words in the dataset\n",
    "word_count = {}\n",
    "for i in range(len(data)):\n",
    "    words = data[i][0].split()\n",
    "    for word in words:\n",
    "        if word not in word_count:\n",
    "            word_count[word] = 1\n",
    "        else:\n",
    "            word_count[word] += 1\n",
    "print(f\"Number of unique words in the dataset: {len(word_count)}\")\n",
    "print(f\"Words and their counts: {list(word_count.items())[:5]}\")"
   ]
  },
  {
   "cell_type": "code",
   "execution_count": 32,
   "metadata": {},
   "outputs": [
    {
     "name": "stdout",
     "output_type": "stream",
     "text": [
      "Number of unique words in the dataset after adding 'PAD' and 'UNK': 3497\n"
     ]
    }
   ],
   "source": [
    "word_list = list(word_count.keys())\n",
    "# adding 'PAD' and 'UNK' to the word list\n",
    "word_list.append('PAD')\n",
    "word_list.append('UNK')\n",
    "word_count['PAD'] = 0\n",
    "word_count['UNK'] = 0\n",
    "print(f\"Number of unique words in the dataset after adding 'PAD' and 'UNK': {len(word_list)}\")"
   ]
  },
  {
   "cell_type": "code",
   "execution_count": 33,
   "metadata": {},
   "outputs": [
    {
     "name": "stdout",
     "output_type": "stream",
     "text": [
      "Word-to-index: [('I', 0), ('charge', 1), ('it', 2), ('at', 3), ('night', 4)]\n",
      "Index-to-word: [(0, 'I'), (1, 'charge'), (2, 'it'), (3, 'at'), (4, 'night')]\n"
     ]
    }
   ],
   "source": [
    "# Word-to-index and index-to-word mapping from the dataset\n",
    "word_to_index = {word:idx for idx, word in enumerate(word_list)}\n",
    "index_to_word = {idx:word for word, idx in word_to_index.items()}\n",
    "label_to_idx = {'O': 0, 'B': 1, 'I': 2}\n",
    "print(f\"Word-to-index: {list(word_to_index.items())[:5]}\")\n",
    "print(f\"Index-to-word: {list(index_to_word.items())[:5]}\")"
   ]
  },
  {
   "cell_type": "code",
   "execution_count": 10,
   "metadata": {},
   "outputs": [
    {
     "name": "stdout",
     "output_type": "stream",
     "text": [
      "Shape of word_embeddings: (3497, 300)\n"
     ]
    }
   ],
   "source": [
    "glove_vectors = GloVe(name='6B', dim=300)\n",
    "word_embeddings = np.zeros((len(word_list), 300))\n",
    "for i in range(len(word_list)):\n",
    "    word = word_list[i]\n",
    "    idx = word_to_index[word]\n",
    "    if word in glove_vectors.stoi:\n",
    "        word_embeddings[idx] = glove_vectors[word]\n",
    "    else:\n",
    "        word_embeddings[idx] = glove_vectors['unk']\n",
    "print(f\"Shape of word_embeddings: {word_embeddings.shape}\")"
   ]
  },
  {
   "cell_type": "code",
   "execution_count": 11,
   "metadata": {},
   "outputs": [
    {
     "name": "stdout",
     "output_type": "stream",
     "text": [
      "Shape of word vectors: (3497, 300)\n"
     ]
    }
   ],
   "source": [
    "# List of word vectors\n",
    "word_vectors = [word_embeddings[word_to_index[word]] for word in word_list]\n",
    "word_vectors = np.array(word_vectors)\n",
    "print(f\"Shape of word vectors: {word_vectors.shape}\")"
   ]
  },
  {
   "cell_type": "markdown",
   "metadata": {},
   "source": [
    "#### Setting up DataLoaders"
   ]
  },
  {
   "cell_type": "code",
   "execution_count": 49,
   "metadata": {},
   "outputs": [],
   "source": [
    "def collate_fn(batch):\n",
    "    \"\"\"\n",
    "        Padding the sequences to the maximum length sequence in the batch\n",
    "        Args:\n",
    "            batch: list of individual elements of the dataset\n",
    "        Returns:\n",
    "            {'text' : padded_texts, 'labels' : padded_labels}\n",
    "    \"\"\"\n",
    "    texts, labels = [item['text'] for item in batch], [item['labels'] for item in batch]\n",
    "    max_len = max([len(text) for text in texts])\n",
    "    padded_texts, padded_labels = [], []\n",
    "    for i in range(len(texts)):\n",
    "        text, label = texts[i], labels[i]\n",
    "        # padding text and label sequences\n",
    "        text = text + [word_to_index['PAD']] * (max_len - len(text))\n",
    "        label = label + [label_to_idx['O']] * (max_len - len(label))\n",
    "        padded_texts.append(text)\n",
    "        padded_labels.append(label)\n",
    "    return {'text': torch.tensor(padded_texts), 'labels': torch.tensor(padded_labels)}"
   ]
  },
  {
   "cell_type": "code",
   "execution_count": 46,
   "metadata": {},
   "outputs": [],
   "source": [
    "class LaptopReviewDataset(Dataset):\n",
    "    \"\"\"\n",
    "        Custom Dataset to load the Laptop Review dataset\n",
    "        Args:\n",
    "            data: list of tuples (text, labels)\n",
    "            vocab_size: size of the vocabulary\n",
    "            embedding_size: size of the word embeddings\n",
    "            word_to_index: word-to-index mapping\n",
    "            index_to_word: index-to-word mapping\n",
    "            label_to_idx: label-to-index mapping\n",
    "    \"\"\"\n",
    "    def __init__(self, data, vocab_size, embedding_size, word_to_index, index_to_word, label_to_idx):\n",
    "        self.data = data\n",
    "        self.vocab_size = vocab_size\n",
    "        self.embedding_size = embedding_size\n",
    "        self.word_to_index = word_to_index\n",
    "        self.index_to_word = index_to_word\n",
    "        self.label_to_idx = label_to_idx \n",
    "        \n",
    "    def __len__(self):\n",
    "        return len(self.data)\n",
    "    \n",
    "    def __getitem__(self, idx):\n",
    "        text, labels = self.data[idx][0], self.data[idx][1]\n",
    "        words = text.split()\n",
    "        # converting words and labels to indices\n",
    "        word_indices = [self.word_to_index[word] if word in self.word_to_index else self.word_to_index['UNK'] for word in words]\n",
    "        label_indices = [self.label_to_idx[label] for label in labels]\n",
    "        sample = {'text' : word_indices, 'labels' : label_indices}\n",
    "        return sample"
   ]
  },
  {
   "cell_type": "code",
   "execution_count": 14,
   "metadata": {},
   "outputs": [],
   "source": [
    "# constants\n",
    "vocab_size = len(word_to_index)\n",
    "embedding_size = 300"
   ]
  },
  {
   "cell_type": "code",
   "execution_count": 15,
   "metadata": {},
   "outputs": [],
   "source": [
    "train_dataset = LaptopReviewDataset(train, vocab_size, embedding_size, word_to_index, index_to_word, label_to_idx)\n",
    "val_dataset = LaptopReviewDataset(val, vocab_size, embedding_size, word_to_index, index_to_word, label_to_idx)\n",
    "test_dataset = LaptopReviewDataset(test, vocab_size, embedding_size, word_to_index, index_to_word, label_to_idx)"
   ]
  },
  {
   "cell_type": "code",
   "execution_count": 17,
   "metadata": {},
   "outputs": [],
   "source": [
    "train_dataloader = DataLoader(train_dataset, batch_size=32, shuffle=True, collate_fn=collate_fn)\n",
    "val_dataloader = DataLoader(val_dataset, batch_size=32, collate_fn=collate_fn)\n",
    "test_dataloader = DataLoader(test_dataset, batch_size=32, collate_fn=collate_fn)"
   ]
  },
  {
   "cell_type": "code",
   "execution_count": 18,
   "metadata": {},
   "outputs": [
    {
     "name": "stdout",
     "output_type": "stream",
     "text": [
      "Batch 1\n",
      "Text shape: torch.Size([32, 46])\n",
      "Labels shape: torch.Size([32, 46])\n",
      "\n",
      "Text: It has come into good use for my finances , scheduling , my parents business expenses , and it is definitely amazing for gaming . PAD PAD PAD PAD PAD PAD PAD PAD PAD PAD PAD PAD PAD PAD PAD PAD PAD PAD PAD PAD PAD\n",
      "Labels: O O O O O B O O O O O O O O O O O O O O O O O B O O O O O O O O O O O O O O O O O O O O O O\n",
      "\n",
      "Text: I love the way the entire suite of software works together . PAD PAD PAD PAD PAD PAD PAD PAD PAD PAD PAD PAD PAD PAD PAD PAD PAD PAD PAD PAD PAD PAD PAD PAD PAD PAD PAD PAD PAD PAD PAD PAD PAD PAD\n",
      "Labels: O O O O O O B I I O O O O O O O O O O O O O O O O O O O O O O O O O O O O O O O O O O O O O\n",
      "\n"
     ]
    }
   ],
   "source": [
    "for i, data in enumerate(train_dataloader, 0):\n",
    "    print(f\"Batch {i+1}\\nText shape: {data['text'].size()}\\nLabels shape: {data['labels'].size()}\\n\")\n",
    "    for j in range(2):\n",
    "        text = data['text'][j]\n",
    "        labels = data['labels'][j]\n",
    "        text_str = ' '.join([index_to_word[idx.item()] for idx in text])\n",
    "        labels_str = ' '.join([list(label_to_idx.keys())[idx.item()] for idx in labels])\n",
    "        print(f\"Text: {text_str}\\nLabels: {labels_str}\\n\")\n",
    "    break"
   ]
  },
  {
   "cell_type": "markdown",
   "metadata": {},
   "source": [
    "### Task 2: RNN + GloVe"
   ]
  },
  {
   "cell_type": "markdown",
   "metadata": {},
   "source": [
    "#### WandB Setup"
   ]
  },
  {
   "cell_type": "code",
   "execution_count": 21,
   "metadata": {},
   "outputs": [
    {
     "name": "stderr",
     "output_type": "stream",
     "text": [
      "Failed to detect the name of this notebook, you can set it manually with the WANDB_NOTEBOOK_NAME environment variable to enable code saving.\n",
      "\u001b[34m\u001b[1mwandb\u001b[0m: Logging into wandb.ai. (Learn how to deploy a W&B server locally: https://wandb.me/wandb-server)\n",
      "\u001b[34m\u001b[1mwandb\u001b[0m: You can find your API key in your browser here: https://wandb.ai/authorize\n",
      "\u001b[34m\u001b[1mwandb\u001b[0m: Paste an API key from your profile and hit enter, or press ctrl+c to quit:\u001b[34m\u001b[1mwandb\u001b[0m: Appending key for api.wandb.ai to your netrc file: C:\\Users\\prakh\\.netrc\n"
     ]
    },
    {
     "data": {
      "text/plain": [
       "True"
      ]
     },
     "execution_count": 21,
     "metadata": {},
     "output_type": "execute_result"
    }
   ],
   "source": [
    "import tqdm\n",
    "import wandb   \n",
    "wandb.login(relogin=True)"
   ]
  },
  {
   "cell_type": "code",
   "execution_count": 22,
   "metadata": {},
   "outputs": [],
   "source": [
    "model_config = dict(\n",
    "    task = 2, \n",
    "    model = 'RNN',\n",
    "    embed_size = 300,\n",
    "    embedding = 'GloVe',\n",
    "    hidden_size = 128,\n",
    "    learning_rate = 0.001,\n",
    "    batch_size = 32,\n",
    "    epochs = 100, \n",
    "    padding = 'max_post', \n",
    "    loss = 'CrossEntropyLoss',\n",
    "    optimizer = 'Adam',\n",
    "    num_hidden = 1,\n",
    "    dropout = 0, \n",
    "    activation = 'tanh'\n",
    ")"
   ]
  },
  {
   "cell_type": "code",
   "execution_count": 23,
   "metadata": {},
   "outputs": [
    {
     "name": "stderr",
     "output_type": "stream",
     "text": [
      "\u001b[34m\u001b[1mwandb\u001b[0m: Currently logged in as: \u001b[33mprakhar432\u001b[0m (\u001b[33mnlp-assignments\u001b[0m). Use \u001b[1m`wandb login --relogin`\u001b[0m to force relogin\n"
     ]
    },
    {
     "data": {
      "application/vnd.jupyter.widget-view+json": {
       "model_id": "5fec2cf5d6c84ca7af145440368cc8f0",
       "version_major": 2,
       "version_minor": 0
      },
      "text/plain": [
       "VBox(children=(Label(value='Waiting for wandb.init()...\\r'), FloatProgress(value=0.011277777777286247, max=1.0…"
      ]
     },
     "metadata": {},
     "output_type": "display_data"
    },
    {
     "data": {
      "text/html": [
       "wandb version 0.16.4 is available!  To upgrade, please run:\n",
       " $ pip install wandb --upgrade"
      ],
      "text/plain": [
       "<IPython.core.display.HTML object>"
      ]
     },
     "metadata": {},
     "output_type": "display_data"
    },
    {
     "data": {
      "text/html": [
       "Tracking run with wandb version 0.16.3"
      ],
      "text/plain": [
       "<IPython.core.display.HTML object>"
      ]
     },
     "metadata": {},
     "output_type": "display_data"
    },
    {
     "data": {
      "text/html": [
       "Run data is saved locally in <code>c:\\Users\\prakh\\Prakhar\\College\\Semester 6\\Natural Language Processing\\A2\\wandb\\run-20240309_173523-ovt08ksg</code>"
      ],
      "text/plain": [
       "<IPython.core.display.HTML object>"
      ]
     },
     "metadata": {},
     "output_type": "display_data"
    },
    {
     "data": {
      "text/html": [
       "Syncing run <strong><a href='https://wandb.ai/nlp-assignments/assignment-2/runs/ovt08ksg' target=\"_blank\">misty-jazz-8</a></strong> to <a href='https://wandb.ai/nlp-assignments/assignment-2' target=\"_blank\">Weights & Biases</a> (<a href='https://wandb.me/run' target=\"_blank\">docs</a>)<br/>"
      ],
      "text/plain": [
       "<IPython.core.display.HTML object>"
      ]
     },
     "metadata": {},
     "output_type": "display_data"
    },
    {
     "data": {
      "text/html": [
       " View project at <a href='https://wandb.ai/nlp-assignments/assignment-2' target=\"_blank\">https://wandb.ai/nlp-assignments/assignment-2</a>"
      ],
      "text/plain": [
       "<IPython.core.display.HTML object>"
      ]
     },
     "metadata": {},
     "output_type": "display_data"
    },
    {
     "data": {
      "text/html": [
       " View run at <a href='https://wandb.ai/nlp-assignments/assignment-2/runs/ovt08ksg' target=\"_blank\">https://wandb.ai/nlp-assignments/assignment-2/runs/ovt08ksg</a>"
      ],
      "text/plain": [
       "<IPython.core.display.HTML object>"
      ]
     },
     "metadata": {},
     "output_type": "display_data"
    },
    {
     "data": {
      "text/html": [
       "<button onClick=\"this.nextSibling.style.display='block';this.style.display='none';\">Display W&B run</button><iframe src='https://wandb.ai/nlp-assignments/assignment-2/runs/ovt08ksg?jupyter=true' style='border:none;width:100%;height:420px;display:none;'></iframe>"
      ],
      "text/plain": [
       "<wandb.sdk.wandb_run.Run at 0x2491ef2e910>"
      ]
     },
     "execution_count": 23,
     "metadata": {},
     "output_type": "execute_result"
    }
   ],
   "source": [
    "wandb.init(project=\"assignment-2\", entity=\"nlp-assignments\", config=model_config)"
   ]
  },
  {
   "cell_type": "markdown",
   "metadata": {},
   "source": [
    "#### Model Architecture"
   ]
  },
  {
   "cell_type": "code",
   "execution_count": 61,
   "metadata": {},
   "outputs": [],
   "source": [
    "class RNNModel(nn.Module):\n",
    "    \"\"\"\n",
    "        Model architecture to perform Sequence Labeling on the Laptop Review dataset. RNN, LSTM or GRU model is initialized based on the model configuration parameters.\n",
    "        Args: \n",
    "            vocab_size: size of the vocabulary\n",
    "            embed_size: size of the word embeddings\n",
    "            hidden_size: size of the hidden state\n",
    "            pretrained_embeddings: pre-trained word embeddings\n",
    "            model_config: dictionary containing model configuration parameters\n",
    "    \"\"\"\n",
    "    def __init__(self, vocab_size, embed_size, hidden_size, pretrained_embeddings, model_config):\n",
    "        super(RNNModel, self).__init__()\n",
    "        self.embedding = nn.Embedding.from_pretrained(embeddings=pretrained_embeddings, freeze=True)\n",
    "        self.rnn = nn.RNN(input_size=embed_size, hidden_size=hidden_size, num_layers=model_config['num_hidden'], nonlinearity=model_config['activation'], batch_first=True, dropout=model_config['dropout'])\n",
    "        if (model_config['model'] == 'LSTM'):\n",
    "            self.rnn = nn.LSTM(input_size=embed_size, hidden_size=hidden_size, num_layers=model_config['num_hidden'], batch_first=True, dropout=model_config['dropout'])\n",
    "        if (model_config['model'] == 'GRU'):\n",
    "            self.rnn = nn.GRU(input_size=embed_size, hidden_size=hidden_size, num_layers=model_config['num_hidden'], batch_first=True, dropout=model_config['dropout'])\n",
    "        self.fc = nn.Linear(hidden_size, 3)\n",
    "        \n",
    "    def forward(self, x):\n",
    "        x = self.embedding(x)\n",
    "        output, hidden = self.rnn(x)\n",
    "        output = self.fc(output)\n",
    "        return output, hidden\n",
    "\n",
    "# Initialize the model\n",
    "vocab_size = len(word_to_index)\n",
    "embed_size = model_config['embed_size'] # Size of the word embeddings\n",
    "hidden_size = model_config['hidden_size'] # Size of the hidden state\n",
    "word_vectors = torch.tensor(word_vectors)\n",
    "word_vectors = word_vectors.float()\n",
    "print(vocab_size, len(word_vectors), embed_size, hidden_size)\n",
    "model = RNNModel(vocab_size, embed_size, hidden_size, word_vectors, model_config)\n",
    "for i, data in enumerate(train_dataloader, 0):\n",
    "    text = data['text']\n",
    "    print(f\"Input shape: {text.size()}\")\n",
    "    print(f\"Label shape: {data['labels'].size()}\")\n",
    "    output, hidden = model(text)\n",
    "    print(f\"Output shape: {output.size()}\\nHidden shape: {hidden.size()}\\n\")\n",
    "    break"
   ]
  },
  {
   "cell_type": "code",
   "execution_count": 25,
   "metadata": {},
   "outputs": [],
   "source": [
    "# Loss function and optimizer\n",
    "criterion = nn.CrossEntropyLoss()\n",
    "optimizer = optim.Adam(model.parameters(), lr=0.001)"
   ]
  },
  {
   "cell_type": "markdown",
   "metadata": {},
   "source": [
    "#### Model Training and Evaluation"
   ]
  },
  {
   "cell_type": "code",
   "execution_count": 65,
   "metadata": {},
   "outputs": [],
   "source": [
    "def evaluate_model(model, dataloader, criterion):\n",
    "    model.eval()\n",
    "    loss = 0\n",
    "    y_true = []\n",
    "    y_pred = []\n",
    "    with torch.no_grad():\n",
    "        for i, data in enumerate(dataloader, 0):\n",
    "            text, labels = data['text'], data['labels']\n",
    "            output, hidden = model(text)\n",
    "            output = output.view(-1, 3)\n",
    "            labels = labels.view(-1)\n",
    "            loss += criterion(output, labels).item()\n",
    "            y_true += labels.tolist()\n",
    "            y_pred += torch.argmax(output, 1).tolist()\n",
    "    accuracy = (np.array(y_true) == np.array(y_pred)).mean()\n",
    "    macro_f1 = f1_score(y_true, y_pred, average='macro')\n",
    "    return accuracy, macro_f1, loss"
   ]
  },
  {
   "cell_type": "code",
   "execution_count": 66,
   "metadata": {},
   "outputs": [],
   "source": [
    "def train_model(model, train_dataloader, val_dataloader, criterion, optimizer, model_config):\n",
    "    wandb.define_metric('epoch')\n",
    "    wandb.define_metric('minibatch_epoch')\n",
    "    wandb.define_metric('train_loss', step_metric='epoch')\n",
    "    wandb.define_metric('val_loss', step_metric='epoch')    \n",
    "    wandb.define_metric('train_f1', step_metric='epoch')\n",
    "    wandb.define_metric('val_f1', step_metric='epoch')\n",
    "    wandb.define_metric('train_acc', step_metric='epoch')\n",
    "    wandb.define_metric('val_acc', step_metric='epoch')\n",
    "    wandb.define_metric('minibatch_loss', step_metric='minibatch_epoch')\n",
    "    wandb.define_metric('minibatch_acc', step_metric='minibatch_epoch')\n",
    "    wandb.define_metric('minibatch_f1', step_metric='minibatch_epoch')\n",
    "    minibatch = 0\n",
    "    for epoch in tqdm.tqdm(range(model_config['epochs'])):\n",
    "        model.train()\n",
    "        for i, data in enumerate(train_dataloader, 0):\n",
    "            text, labels = data['text'], data['labels']\n",
    "            optimizer.zero_grad()\n",
    "            outputs, hidden = model(text)\n",
    "            outputs = outputs.view(-1, 3)\n",
    "            labels = labels.view(-1)\n",
    "            loss = criterion(outputs, labels)\n",
    "            loss.backward()\n",
    "            optimizer.step()\n",
    "            y_true = labels.tolist()\n",
    "            y_pred = torch.argmax(outputs, 1).tolist()\n",
    "            minibatch_acc = (np.array(y_true) == np.array(y_pred)).mean()\n",
    "            minibatch_f1 = f1_score(y_true, y_pred, average='weighted')\n",
    "            # logging\n",
    "            log = {}\n",
    "            log[\"minibatch_epoch\"] = minibatch\n",
    "            log[\"minibatch_loss\"] = loss.item()\n",
    "            log[\"minibatch_acc\"] = minibatch_acc\n",
    "            log[\"minibatch_f1\"] = minibatch_f1\n",
    "            wandb.log(log)\n",
    "            minibatch += 1\n",
    "        # logging\n",
    "        accuracy, f1, loss = evaluate_model(model, train_dataloader, criterion)\n",
    "        epoch_log = {}\n",
    "        epoch_log[\"epoch\"] = epoch\n",
    "        epoch_log[\"train_loss\"] = loss\n",
    "        epoch_log[\"train_f1\"] = f1\n",
    "        epoch_log[\"train_acc\"] = accuracy\n",
    "        accuracy, f1, loss = evaluate_model(model, val_dataloader, criterion)\n",
    "        epoch_log[\"val_loss\"] = loss\n",
    "        epoch_log[\"val_f1\"] = f1\n",
    "        epoch_log[\"val_acc\"] = accuracy\n",
    "        wandb.log(epoch_log)\n",
    "    return model"
   ]
  },
  {
   "cell_type": "code",
   "execution_count": 28,
   "metadata": {},
   "outputs": [
    {
     "name": "stderr",
     "output_type": "stream",
     "text": [
      "100%|██████████| 100/100 [01:56<00:00,  1.17s/it]\n"
     ]
    }
   ],
   "source": [
    "model = train_model(model, train_dataloader, val_dataloader, criterion, optimizer, model_config)"
   ]
  },
  {
   "cell_type": "code",
   "execution_count": 83,
   "metadata": {},
   "outputs": [],
   "source": [
    "def evaluation(model, dataloader, criterion):\n",
    "    model.eval()\n",
    "    loss = 0\n",
    "    y_true = []\n",
    "    y_pred = []\n",
    "    with torch.no_grad():\n",
    "        for i, data in enumerate(dataloader, 0):\n",
    "            text, labels = data['text'], data['labels']\n",
    "            outputs, hidden = model(text)\n",
    "            outputs = outputs.view(-1, 3)\n",
    "            labels = labels.view(-1)\n",
    "            loss += criterion(outputs, labels).item()\n",
    "            y_true += labels.tolist()\n",
    "            y_pred += torch.argmax(outputs, 1).tolist()\n",
    "    accuracy = (np.array(y_true) == np.array(y_pred)).mean()\n",
    "    precision = precision_score(y_true, y_pred, average='weighted')\n",
    "    macro_f1 = f1_score(y_true, y_pred, average='macro')\n",
    "    from sklearn.metrics import classification_report\n",
    "    classification_report = classification_report(y_true, y_pred)\n",
    "    return accuracy, precision, macro_f1, loss, classification_report"
   ]
  },
  {
   "cell_type": "code",
   "execution_count": 30,
   "metadata": {},
   "outputs": [
    {
     "name": "stdout",
     "output_type": "stream",
     "text": [
      "Test accuracy: 0.9653\n",
      "Test precision: 0.9603\n",
      "Test macro F1: 0.6546\n",
      "Test loss: 2.5851\n",
      "\n",
      "Classification report:\n",
      "              precision    recall  f1-score   support\n",
      "\n",
      "           0       0.98      0.99      0.98     14774\n",
      "           1       0.65      0.49      0.56       463\n",
      "           2       0.63      0.32      0.42       243\n",
      "\n",
      "    accuracy                           0.97     15480\n",
      "   macro avg       0.75      0.60      0.65     15480\n",
      "weighted avg       0.96      0.97      0.96     15480\n",
      "\n"
     ]
    }
   ],
   "source": [
    "accuracy, precision, macro_f1, loss, classification_report = evaluation(model, test_dataloader, criterion)\n",
    "print(f\"Test accuracy: {accuracy:.4f}\\nTest precision: {precision:.4f}\\nTest macro F1: {macro_f1:.4f}\\nTest loss: {loss:.4f}\\n\")\n",
    "print(f\"Classification report:\\n{classification_report}\")\n",
    "wandb.log({\"Test accuracy\": accuracy, \"Test precision\": precision, \"Test macro F1\": macro_f1, \"Test loss\": loss})"
   ]
  },
  {
   "cell_type": "code",
   "execution_count": 31,
   "metadata": {},
   "outputs": [
    {
     "data": {
      "application/vnd.jupyter.widget-view+json": {
       "model_id": "e4c0481048cf411e873489bc18c699b9",
       "version_major": 2,
       "version_minor": 0
      },
      "text/plain": [
       "VBox(children=(Label(value='0.001 MB of 0.001 MB uploaded\\r'), FloatProgress(value=1.0, max=1.0)))"
      ]
     },
     "metadata": {},
     "output_type": "display_data"
    },
    {
     "data": {
      "text/html": [
       "<style>\n",
       "    table.wandb td:nth-child(1) { padding: 0 10px; text-align: left ; width: auto;} td:nth-child(2) {text-align: left ; width: 100%}\n",
       "    .wandb-row { display: flex; flex-direction: row; flex-wrap: wrap; justify-content: flex-start; width: 100% }\n",
       "    .wandb-col { display: flex; flex-direction: column; flex-basis: 100%; flex: 1; padding: 10px; }\n",
       "    </style>\n",
       "<div class=\"wandb-row\"><div class=\"wandb-col\"><h3>Run history:</h3><br/><table class=\"wandb\"><tr><td>Test accuracy</td><td>▁</td></tr><tr><td>Test loss</td><td>▁</td></tr><tr><td>Test macro F1</td><td>▁</td></tr><tr><td>Test precision</td><td>▁</td></tr><tr><td>epoch</td><td>▁▁▁▁▂▂▂▂▂▃▃▃▃▃▃▄▄▄▄▄▅▅▅▅▅▅▆▆▆▆▆▇▇▇▇▇▇███</td></tr><tr><td>minibatch_acc</td><td>▁▄▅▆▄▄▄▄▅▆▇▇▇▇▇▇▇▇████▇██▇███▇███▇██████</td></tr><tr><td>minibatch_epoch</td><td>▁▁▁▁▂▂▂▂▂▃▃▃▃▃▃▄▄▄▄▄▅▅▅▅▅▅▆▆▆▆▆▇▇▇▇▇▇███</td></tr><tr><td>minibatch_f1</td><td>▁▅▆▇▅▅▅▅▆▆█▇▇▇▇▇█▇██████████████████████</td></tr><tr><td>minibatch_loss</td><td>█▅▄▃▄▅▅▄▃▃▂▂▂▃▂▂▂▂▁▁▁▁▁▁▁▁▁▁▁▂▁▁▁▁▁▁▁▁▁▁</td></tr><tr><td>train_acc</td><td>▁▂▃▃▄▄▅▅▅▆▆▆▇▇▇▇██▇███████████████████▇█</td></tr><tr><td>train_f1</td><td>▁▃▅▅▆▅▆▆▆▇▇▇▇███████████████████████████</td></tr><tr><td>train_loss</td><td>█▆▅▅▄▅▄▃▃▃▃▂▂▂▂▂▂▁▂▁▁▁▁▁▁▁▁▁▁▁▁▁▁▁▁▁▁▁▂▁</td></tr><tr><td>val_acc</td><td>▁▄▇▇█▆██████▇▇█▇▆▅▅▅▆▅▆▅▆▅▅▅▄▅▅▅▅▄▅▄▅▂▃▅</td></tr><tr><td>val_f1</td><td>▁▅▇▇█▇█████████▇▇▇▇▇▇▇▇▇▇▇▇▇▇▇▇▇▇▇▇▇▇▇▇▇</td></tr><tr><td>val_loss</td><td>▅▃▂▁▁▂▁▁▁▁▁▂▂▂▃▃▃▄▅▄▄▅▅▅▅▅▆▆▆▆▆▇▇▇▇▇▇█▇▆</td></tr></table><br/></div><div class=\"wandb-col\"><h3>Run summary:</h3><br/><table class=\"wandb\"><tr><td>Test accuracy</td><td>0.96531</td></tr><tr><td>Test loss</td><td>2.58513</td></tr><tr><td>Test macro F1</td><td>0.6546</td></tr><tr><td>Test precision</td><td>0.96029</td></tr><tr><td>epoch</td><td>99</td></tr><tr><td>minibatch_acc</td><td>1.0</td></tr><tr><td>minibatch_epoch</td><td>2899</td></tr><tr><td>minibatch_f1</td><td>1.0</td></tr><tr><td>minibatch_loss</td><td>0.00333</td></tr><tr><td>train_acc</td><td>0.99751</td></tr><tr><td>train_f1</td><td>0.98094</td></tr><tr><td>train_loss</td><td>0.27957</td></tr><tr><td>val_acc</td><td>0.97352</td></tr><tr><td>val_f1</td><td>0.69198</td></tr><tr><td>val_loss</td><td>1.04867</td></tr></table><br/></div></div>"
      ],
      "text/plain": [
       "<IPython.core.display.HTML object>"
      ]
     },
     "metadata": {},
     "output_type": "display_data"
    },
    {
     "data": {
      "text/html": [
       " View run <strong style=\"color:#cdcd00\">misty-jazz-8</strong> at: <a href='https://wandb.ai/nlp-assignments/assignment-2/runs/ovt08ksg' target=\"_blank\">https://wandb.ai/nlp-assignments/assignment-2/runs/ovt08ksg</a><br/>Synced 6 W&B file(s), 0 media file(s), 0 artifact file(s) and 0 other file(s)"
      ],
      "text/plain": [
       "<IPython.core.display.HTML object>"
      ]
     },
     "metadata": {},
     "output_type": "display_data"
    },
    {
     "data": {
      "text/html": [
       "Find logs at: <code>.\\wandb\\run-20240309_173523-ovt08ksg\\logs</code>"
      ],
      "text/plain": [
       "<IPython.core.display.HTML object>"
      ]
     },
     "metadata": {},
     "output_type": "display_data"
    }
   ],
   "source": [
    "wandb.finish()"
   ]
  },
  {
   "cell_type": "code",
   "execution_count": 32,
   "metadata": {},
   "outputs": [],
   "source": [
    "# saving the model\n",
    "torch.save(model.state_dict(), 'RNN_GloVe_Task2_Exp1.pth')"
   ]
  },
  {
   "cell_type": "markdown",
   "metadata": {},
   "source": [
    "### Task 2: GRU + GloVe"
   ]
  },
  {
   "cell_type": "markdown",
   "metadata": {},
   "source": [
    "#### WandB Setup"
   ]
  },
  {
   "cell_type": "code",
   "execution_count": 33,
   "metadata": {},
   "outputs": [
    {
     "name": "stderr",
     "output_type": "stream",
     "text": [
      "\u001b[34m\u001b[1mwandb\u001b[0m: Logging into wandb.ai. (Learn how to deploy a W&B server locally: https://wandb.me/wandb-server)\n",
      "\u001b[34m\u001b[1mwandb\u001b[0m: You can find your API key in your browser here: https://wandb.ai/authorize\n",
      "\u001b[34m\u001b[1mwandb\u001b[0m: Paste an API key from your profile and hit enter, or press ctrl+c to quit:\u001b[34m\u001b[1mwandb\u001b[0m: Appending key for api.wandb.ai to your netrc file: C:\\Users\\prakh\\.netrc\n"
     ]
    },
    {
     "data": {
      "text/plain": [
       "True"
      ]
     },
     "execution_count": 33,
     "metadata": {},
     "output_type": "execute_result"
    }
   ],
   "source": [
    "import tqdm\n",
    "import wandb\n",
    "wandb.login(relogin=True)"
   ]
  },
  {
   "cell_type": "code",
   "execution_count": 34,
   "metadata": {},
   "outputs": [],
   "source": [
    "model_config = dict(\n",
    "    task = 2, \n",
    "    model = 'GRU',\n",
    "    embed_size = 300,\n",
    "    embedding = 'GloVe',\n",
    "    hidden_size = 128,\n",
    "    learning_rate = 0.001,\n",
    "    batch_size = 32,\n",
    "    epochs = 100, \n",
    "    padding = 'max_post', \n",
    "    loss = 'CrossEntropyLoss',\n",
    "    optimizer = 'Adam',\n",
    "    num_hidden = 1,\n",
    "    dropout = 0, \n",
    "    activation = 'tanh'\n",
    ")"
   ]
  },
  {
   "cell_type": "code",
   "execution_count": 35,
   "metadata": {},
   "outputs": [
    {
     "data": {
      "text/html": [
       "wandb version 0.16.4 is available!  To upgrade, please run:\n",
       " $ pip install wandb --upgrade"
      ],
      "text/plain": [
       "<IPython.core.display.HTML object>"
      ]
     },
     "metadata": {},
     "output_type": "display_data"
    },
    {
     "data": {
      "text/html": [
       "Tracking run with wandb version 0.16.3"
      ],
      "text/plain": [
       "<IPython.core.display.HTML object>"
      ]
     },
     "metadata": {},
     "output_type": "display_data"
    },
    {
     "data": {
      "text/html": [
       "Run data is saved locally in <code>c:\\Users\\prakh\\Prakhar\\College\\Semester 6\\Natural Language Processing\\A2\\wandb\\run-20240309_173757-x1aqml96</code>"
      ],
      "text/plain": [
       "<IPython.core.display.HTML object>"
      ]
     },
     "metadata": {},
     "output_type": "display_data"
    },
    {
     "data": {
      "text/html": [
       "Syncing run <strong><a href='https://wandb.ai/nlp-assignments/assignment-2/runs/x1aqml96' target=\"_blank\">happy-valley-9</a></strong> to <a href='https://wandb.ai/nlp-assignments/assignment-2' target=\"_blank\">Weights & Biases</a> (<a href='https://wandb.me/run' target=\"_blank\">docs</a>)<br/>"
      ],
      "text/plain": [
       "<IPython.core.display.HTML object>"
      ]
     },
     "metadata": {},
     "output_type": "display_data"
    },
    {
     "data": {
      "text/html": [
       " View project at <a href='https://wandb.ai/nlp-assignments/assignment-2' target=\"_blank\">https://wandb.ai/nlp-assignments/assignment-2</a>"
      ],
      "text/plain": [
       "<IPython.core.display.HTML object>"
      ]
     },
     "metadata": {},
     "output_type": "display_data"
    },
    {
     "data": {
      "text/html": [
       " View run at <a href='https://wandb.ai/nlp-assignments/assignment-2/runs/x1aqml96' target=\"_blank\">https://wandb.ai/nlp-assignments/assignment-2/runs/x1aqml96</a>"
      ],
      "text/plain": [
       "<IPython.core.display.HTML object>"
      ]
     },
     "metadata": {},
     "output_type": "display_data"
    },
    {
     "data": {
      "text/html": [
       "<button onClick=\"this.nextSibling.style.display='block';this.style.display='none';\">Display W&B run</button><iframe src='https://wandb.ai/nlp-assignments/assignment-2/runs/x1aqml96?jupyter=true' style='border:none;width:100%;height:420px;display:none;'></iframe>"
      ],
      "text/plain": [
       "<wandb.sdk.wandb_run.Run at 0x249272ac590>"
      ]
     },
     "execution_count": 35,
     "metadata": {},
     "output_type": "execute_result"
    }
   ],
   "source": [
    "wandb.init(project=\"assignment-2\", entity=\"nlp-assignments\", config=model_config)"
   ]
  },
  {
   "cell_type": "markdown",
   "metadata": {},
   "source": [
    "#### Model Architecture\n"
   ]
  },
  {
   "cell_type": "code",
   "execution_count": 36,
   "metadata": {},
   "outputs": [
    {
     "name": "stdout",
     "output_type": "stream",
     "text": [
      "3497 3497 300 128\n",
      "Input shape: torch.Size([32, 50])\n",
      "Label shape: torch.Size([32, 50])\n",
      "Output shape: torch.Size([32, 50, 3])\n",
      "Hidden shape: torch.Size([1, 32, 128])\n",
      "\n"
     ]
    },
    {
     "name": "stderr",
     "output_type": "stream",
     "text": [
      "C:\\Users\\prakh\\AppData\\Local\\Temp\\ipykernel_13344\\532150329.py:5: UserWarning: To copy construct from a tensor, it is recommended to use sourceTensor.clone().detach() or sourceTensor.clone().detach().requires_grad_(True), rather than torch.tensor(sourceTensor).\n",
      "  word_vectors = torch.tensor(word_vectors)\n"
     ]
    }
   ],
   "source": [
    "# Initialize the model\n",
    "vocab_size = len(word_to_index)\n",
    "embed_size = model_config['embed_size'] # Size of the word embeddings\n",
    "hidden_size = model_config['hidden_size'] # Size of the hidden state\n",
    "word_vectors = torch.tensor(word_vectors)\n",
    "word_vectors = word_vectors.float()\n",
    "print(vocab_size, len(word_vectors), embed_size, hidden_size)\n",
    "model = RNNModel(vocab_size, embed_size, hidden_size, word_vectors, model_config)\n",
    "for i, data in enumerate(train_dataloader, 0):\n",
    "    text = data['text']\n",
    "    print(f\"Input shape: {text.size()}\")\n",
    "    print(f\"Label shape: {data['labels'].size()}\")\n",
    "    output, hidden = model(text)\n",
    "    print(f\"Output shape: {output.size()}\\nHidden shape: {hidden.size()}\\n\")\n",
    "    break"
   ]
  },
  {
   "cell_type": "code",
   "execution_count": 37,
   "metadata": {},
   "outputs": [],
   "source": [
    "# Loss function and optimizer\n",
    "criterion = nn.CrossEntropyLoss()\n",
    "optimizer = optim.Adam(model.parameters(), lr=0.001)"
   ]
  },
  {
   "cell_type": "markdown",
   "metadata": {},
   "source": [
    "#### Model Training and Evaluation"
   ]
  },
  {
   "cell_type": "code",
   "execution_count": 38,
   "metadata": {},
   "outputs": [
    {
     "name": "stderr",
     "output_type": "stream",
     "text": [
      "100%|██████████| 100/100 [05:42<00:00,  3.42s/it]\n"
     ]
    }
   ],
   "source": [
    "model = train_model(model, train_dataloader, val_dataloader, criterion, optimizer, model_config)"
   ]
  },
  {
   "cell_type": "code",
   "execution_count": 39,
   "metadata": {},
   "outputs": [
    {
     "name": "stdout",
     "output_type": "stream",
     "text": [
      "Test accuracy: 0.9691\n",
      "Test precision: 0.9649\n",
      "Test macro F1: 0.6841\n",
      "Test loss: 2.2265\n",
      "\n",
      "Classification report:\n",
      "              precision    recall  f1-score   support\n",
      "\n",
      "           0       0.98      0.99      0.99     14774\n",
      "           1       0.70      0.52      0.60       463\n",
      "           2       0.72      0.35      0.47       243\n",
      "\n",
      "    accuracy                           0.97     15480\n",
      "   macro avg       0.80      0.62      0.68     15480\n",
      "weighted avg       0.96      0.97      0.97     15480\n",
      "\n"
     ]
    }
   ],
   "source": [
    "accuracy, precision, macro_f1, loss, classification_report = evaluation(model, test_dataloader, criterion)\n",
    "print(f\"Test accuracy: {accuracy:.4f}\\nTest precision: {precision:.4f}\\nTest macro F1: {macro_f1:.4f}\\nTest loss: {loss:.4f}\\n\")\n",
    "print(f\"Classification report:\\n{classification_report}\")\n",
    "wandb.log({\"Test accuracy\": accuracy, \"Test precision\": precision, \"Test macro F1\": macro_f1, \"Test loss\": loss})"
   ]
  },
  {
   "cell_type": "code",
   "execution_count": 40,
   "metadata": {},
   "outputs": [
    {
     "data": {
      "application/vnd.jupyter.widget-view+json": {
       "model_id": "f69aa12be1714beaa90599091bdb579d",
       "version_major": 2,
       "version_minor": 0
      },
      "text/plain": [
       "VBox(children=(Label(value='0.001 MB of 0.001 MB uploaded\\r'), FloatProgress(value=1.0, max=1.0)))"
      ]
     },
     "metadata": {},
     "output_type": "display_data"
    },
    {
     "data": {
      "text/html": [
       "<style>\n",
       "    table.wandb td:nth-child(1) { padding: 0 10px; text-align: left ; width: auto;} td:nth-child(2) {text-align: left ; width: 100%}\n",
       "    .wandb-row { display: flex; flex-direction: row; flex-wrap: wrap; justify-content: flex-start; width: 100% }\n",
       "    .wandb-col { display: flex; flex-direction: column; flex-basis: 100%; flex: 1; padding: 10px; }\n",
       "    </style>\n",
       "<div class=\"wandb-row\"><div class=\"wandb-col\"><h3>Run history:</h3><br/><table class=\"wandb\"><tr><td>Test accuracy</td><td>▁</td></tr><tr><td>Test loss</td><td>▁</td></tr><tr><td>Test macro F1</td><td>▁</td></tr><tr><td>Test precision</td><td>▁</td></tr><tr><td>epoch</td><td>▁▁▁▁▂▂▂▂▂▃▃▃▃▃▃▄▄▄▄▄▅▅▅▅▅▅▆▆▆▆▆▇▇▇▇▇▇███</td></tr><tr><td>minibatch_acc</td><td>▁▁▆▅▁▄▅▅▆▇▇▆▇▇▇▇██▇█▇██▇▇▇█▇▇█▆███▇█▆▇██</td></tr><tr><td>minibatch_epoch</td><td>▁▁▁▁▂▂▂▂▂▃▃▃▃▃▃▄▄▄▄▄▅▅▅▅▅▅▆▆▆▆▆▇▇▇▇▇▇███</td></tr><tr><td>minibatch_f1</td><td>▁▂▆▆▃▅▆▆▇▇▇▇████████████▇▇████▇███▇█▇███</td></tr><tr><td>minibatch_loss</td><td>█▇▃▄▆▄▃▃▂▂▂▂▂▁▂▁▁▁▁▁▁▁▂▁▂▁▁▁▁▁▂▁▁▁▁▁▂▂▁▁</td></tr><tr><td>train_acc</td><td>▁▂▃▄▅▅▆▆▇▇▇█████████████████████████▇███</td></tr><tr><td>train_f1</td><td>▁▂▅▅▆▆▇▇▇▇██████████████████████████████</td></tr><tr><td>train_loss</td><td>█▆▅▄▃▃▃▂▂▂▂▁▁▁▁▁▁▁▁▁▁▁▁▁▁▁▁▁▁▁▁▁▁▁▁▁▂▁▁▁</td></tr><tr><td>val_acc</td><td>▁▃▆▇████▇▇▇▇▆▇▆▆▆▆▆▆▆▆▇▆▆▆▆▆▆▇▆▆▇▇▇▆▆▆▆▇</td></tr><tr><td>val_f1</td><td>▁▃▆▇█████▇▇██▇▇▇▇▇▇▇▇▇▇▇▇▇▇▇▇▇▇▇▇▇▇▇▇▇▇▇</td></tr><tr><td>val_loss</td><td>█▅▃▂▁▁▁▁▁▂▂▂▃▃▄▄▄▅▅▅▅▅▅▆▆▆▆▆▆▇▇▇▇▇▇▇▇▆▆▇</td></tr></table><br/></div><div class=\"wandb-col\"><h3>Run summary:</h3><br/><table class=\"wandb\"><tr><td>Test accuracy</td><td>0.96912</td></tr><tr><td>Test loss</td><td>2.22648</td></tr><tr><td>Test macro F1</td><td>0.68414</td></tr><tr><td>Test precision</td><td>0.96489</td></tr><tr><td>epoch</td><td>99</td></tr><tr><td>minibatch_acc</td><td>0.99286</td></tr><tr><td>minibatch_epoch</td><td>2899</td></tr><tr><td>minibatch_f1</td><td>0.99286</td></tr><tr><td>minibatch_loss</td><td>0.01689</td></tr><tr><td>train_acc</td><td>0.99736</td></tr><tr><td>train_f1</td><td>0.98021</td></tr><tr><td>train_loss</td><td>0.25545</td></tr><tr><td>val_acc</td><td>0.97774</td></tr><tr><td>val_f1</td><td>0.72336</td></tr><tr><td>val_loss</td><td>0.86991</td></tr></table><br/></div></div>"
      ],
      "text/plain": [
       "<IPython.core.display.HTML object>"
      ]
     },
     "metadata": {},
     "output_type": "display_data"
    },
    {
     "data": {
      "text/html": [
       " View run <strong style=\"color:#cdcd00\">happy-valley-9</strong> at: <a href='https://wandb.ai/nlp-assignments/assignment-2/runs/x1aqml96' target=\"_blank\">https://wandb.ai/nlp-assignments/assignment-2/runs/x1aqml96</a><br/>Synced 6 W&B file(s), 0 media file(s), 0 artifact file(s) and 0 other file(s)"
      ],
      "text/plain": [
       "<IPython.core.display.HTML object>"
      ]
     },
     "metadata": {},
     "output_type": "display_data"
    },
    {
     "data": {
      "text/html": [
       "Find logs at: <code>.\\wandb\\run-20240309_173757-x1aqml96\\logs</code>"
      ],
      "text/plain": [
       "<IPython.core.display.HTML object>"
      ]
     },
     "metadata": {},
     "output_type": "display_data"
    }
   ],
   "source": [
    "wandb.finish()"
   ]
  },
  {
   "cell_type": "code",
   "execution_count": 41,
   "metadata": {},
   "outputs": [],
   "source": [
    "# saving the model\n",
    "torch.save(model.state_dict(), 'GRU_GloVe_Task2_Exp1.pth')"
   ]
  },
  {
   "cell_type": "markdown",
   "metadata": {},
   "source": [
    "### Task 2: LSTM + GloVe"
   ]
  },
  {
   "cell_type": "markdown",
   "metadata": {},
   "source": [
    "#### WandB Setup"
   ]
  },
  {
   "cell_type": "code",
   "execution_count": 42,
   "metadata": {},
   "outputs": [
    {
     "name": "stderr",
     "output_type": "stream",
     "text": [
      "\u001b[34m\u001b[1mwandb\u001b[0m: Logging into wandb.ai. (Learn how to deploy a W&B server locally: https://wandb.me/wandb-server)\n",
      "\u001b[34m\u001b[1mwandb\u001b[0m: You can find your API key in your browser here: https://wandb.ai/authorize\n",
      "\u001b[34m\u001b[1mwandb\u001b[0m: Paste an API key from your profile and hit enter, or press ctrl+c to quit:\u001b[34m\u001b[1mwandb\u001b[0m: Appending key for api.wandb.ai to your netrc file: C:\\Users\\prakh\\.netrc\n"
     ]
    },
    {
     "data": {
      "text/plain": [
       "True"
      ]
     },
     "execution_count": 42,
     "metadata": {},
     "output_type": "execute_result"
    }
   ],
   "source": [
    "import tqdm\n",
    "import wandb\n",
    "wandb.login(relogin=True)"
   ]
  },
  {
   "cell_type": "code",
   "execution_count": 43,
   "metadata": {},
   "outputs": [],
   "source": [
    "model_config = dict(\n",
    "    task = 2, \n",
    "    model = 'LSTM',\n",
    "    embed_size = 300,\n",
    "    embedding = 'GloVe',\n",
    "    hidden_size = 128,\n",
    "    learning_rate = 0.001,\n",
    "    batch_size = 32,\n",
    "    epochs = 100, \n",
    "    padding = 'max_post', \n",
    "    loss = 'CrossEntropyLoss',\n",
    "    optimizer = 'Adam',\n",
    "    num_hidden = 1,\n",
    "    dropout = 0, \n",
    "    activation = 'tanh'\n",
    ")"
   ]
  },
  {
   "cell_type": "code",
   "execution_count": 44,
   "metadata": {},
   "outputs": [
    {
     "data": {
      "application/vnd.jupyter.widget-view+json": {
       "model_id": "a12afb2131a0432f8d2af9441e613870",
       "version_major": 2,
       "version_minor": 0
      },
      "text/plain": [
       "VBox(children=(Label(value='Waiting for wandb.init()...\\r'), FloatProgress(value=0.011288888888925108, max=1.0…"
      ]
     },
     "metadata": {},
     "output_type": "display_data"
    },
    {
     "data": {
      "text/html": [
       "wandb version 0.16.4 is available!  To upgrade, please run:\n",
       " $ pip install wandb --upgrade"
      ],
      "text/plain": [
       "<IPython.core.display.HTML object>"
      ]
     },
     "metadata": {},
     "output_type": "display_data"
    },
    {
     "data": {
      "text/html": [
       "Tracking run with wandb version 0.16.3"
      ],
      "text/plain": [
       "<IPython.core.display.HTML object>"
      ]
     },
     "metadata": {},
     "output_type": "display_data"
    },
    {
     "data": {
      "text/html": [
       "Run data is saved locally in <code>c:\\Users\\prakh\\Prakhar\\College\\Semester 6\\Natural Language Processing\\A2\\wandb\\run-20240309_174559-g2ta00e7</code>"
      ],
      "text/plain": [
       "<IPython.core.display.HTML object>"
      ]
     },
     "metadata": {},
     "output_type": "display_data"
    },
    {
     "data": {
      "text/html": [
       "Syncing run <strong><a href='https://wandb.ai/nlp-assignments/assignment-2/runs/g2ta00e7' target=\"_blank\">fearless-water-10</a></strong> to <a href='https://wandb.ai/nlp-assignments/assignment-2' target=\"_blank\">Weights & Biases</a> (<a href='https://wandb.me/run' target=\"_blank\">docs</a>)<br/>"
      ],
      "text/plain": [
       "<IPython.core.display.HTML object>"
      ]
     },
     "metadata": {},
     "output_type": "display_data"
    },
    {
     "data": {
      "text/html": [
       " View project at <a href='https://wandb.ai/nlp-assignments/assignment-2' target=\"_blank\">https://wandb.ai/nlp-assignments/assignment-2</a>"
      ],
      "text/plain": [
       "<IPython.core.display.HTML object>"
      ]
     },
     "metadata": {},
     "output_type": "display_data"
    },
    {
     "data": {
      "text/html": [
       " View run at <a href='https://wandb.ai/nlp-assignments/assignment-2/runs/g2ta00e7' target=\"_blank\">https://wandb.ai/nlp-assignments/assignment-2/runs/g2ta00e7</a>"
      ],
      "text/plain": [
       "<IPython.core.display.HTML object>"
      ]
     },
     "metadata": {},
     "output_type": "display_data"
    },
    {
     "data": {
      "text/html": [
       "<button onClick=\"this.nextSibling.style.display='block';this.style.display='none';\">Display W&B run</button><iframe src='https://wandb.ai/nlp-assignments/assignment-2/runs/g2ta00e7?jupyter=true' style='border:none;width:100%;height:420px;display:none;'></iframe>"
      ],
      "text/plain": [
       "<wandb.sdk.wandb_run.Run at 0x249272d94d0>"
      ]
     },
     "execution_count": 44,
     "metadata": {},
     "output_type": "execute_result"
    }
   ],
   "source": [
    "wandb.init(project=\"assignment-2\", entity=\"nlp-assignments\", config=model_config)"
   ]
  },
  {
   "cell_type": "markdown",
   "metadata": {},
   "source": [
    "#### Model Architecture"
   ]
  },
  {
   "cell_type": "code",
   "execution_count": 46,
   "metadata": {},
   "outputs": [
    {
     "name": "stdout",
     "output_type": "stream",
     "text": [
      "3497 3497 300 128\n",
      "Input shape: torch.Size([32, 66])\n",
      "Label shape: torch.Size([32, 66])\n",
      "Output shape: torch.Size([32, 66, 3])\n"
     ]
    },
    {
     "name": "stderr",
     "output_type": "stream",
     "text": [
      "C:\\Users\\prakh\\AppData\\Local\\Temp\\ipykernel_13344\\36252246.py:5: UserWarning: To copy construct from a tensor, it is recommended to use sourceTensor.clone().detach() or sourceTensor.clone().detach().requires_grad_(True), rather than torch.tensor(sourceTensor).\n",
      "  word_vectors = torch.tensor(word_vectors)\n"
     ]
    }
   ],
   "source": [
    "# Initialize the model\n",
    "vocab_size = len(word_to_index)\n",
    "embed_size = model_config['embed_size'] # Size of the word embeddings\n",
    "hidden_size = model_config['hidden_size'] # Size of the hidden state\n",
    "word_vectors = torch.tensor(word_vectors)\n",
    "word_vectors = word_vectors.float()\n",
    "print(vocab_size, len(word_vectors), embed_size, hidden_size)\n",
    "model = RNNModel(vocab_size, embed_size, hidden_size, word_vectors, model_config)\n",
    "for i, data in enumerate(train_dataloader, 0):\n",
    "    text = data['text']\n",
    "    print(f\"Input shape: {text.size()}\")\n",
    "    print(f\"Label shape: {data['labels'].size()}\")\n",
    "    output, hidden = model(text)\n",
    "    print(f\"Output shape: {output.size()}\")\n",
    "    break"
   ]
  },
  {
   "cell_type": "code",
   "execution_count": 47,
   "metadata": {},
   "outputs": [],
   "source": [
    "# Loss function and optimizer\n",
    "criterion = nn.CrossEntropyLoss()\n",
    "optimizer = optim.Adam(model.parameters(), lr=0.001)"
   ]
  },
  {
   "cell_type": "markdown",
   "metadata": {},
   "source": [
    "#### Model Training and Evaluation"
   ]
  },
  {
   "cell_type": "code",
   "execution_count": 48,
   "metadata": {},
   "outputs": [
    {
     "name": "stderr",
     "output_type": "stream",
     "text": [
      "100%|██████████| 100/100 [08:05<00:00,  4.86s/it]\n"
     ]
    }
   ],
   "source": [
    "model = train_model(model, train_dataloader, val_dataloader, criterion, optimizer, model_config)"
   ]
  },
  {
   "cell_type": "code",
   "execution_count": 49,
   "metadata": {},
   "outputs": [
    {
     "name": "stdout",
     "output_type": "stream",
     "text": [
      "Test accuracy: 0.9651\n",
      "Test precision: 0.9609\n",
      "Test macro F1: 0.6636\n",
      "Test loss: 2.5930\n",
      "\n",
      "Classification report:\n",
      "              precision    recall  f1-score   support\n",
      "\n",
      "           0       0.98      0.99      0.98     14774\n",
      "           1       0.62      0.52      0.57       463\n",
      "           2       0.65      0.33      0.44       243\n",
      "\n",
      "    accuracy                           0.97     15480\n",
      "   macro avg       0.75      0.61      0.66     15480\n",
      "weighted avg       0.96      0.97      0.96     15480\n",
      "\n"
     ]
    }
   ],
   "source": [
    "accuracy, precision, macro_f1, loss, classification_report = evaluation(model, test_dataloader, criterion)\n",
    "print(f\"Test accuracy: {accuracy:.4f}\\nTest precision: {precision:.4f}\\nTest macro F1: {macro_f1:.4f}\\nTest loss: {loss:.4f}\\n\")\n",
    "print(f\"Classification report:\\n{classification_report}\")\n",
    "wandb.log({\"Test accuracy\": accuracy, \"Test precision\": precision, \"Test macro F1\": macro_f1, \"Test loss\": loss})"
   ]
  },
  {
   "cell_type": "code",
   "execution_count": 50,
   "metadata": {},
   "outputs": [
    {
     "data": {
      "application/vnd.jupyter.widget-view+json": {
       "model_id": "b561ab642f5643cca08b4e0e96845f36",
       "version_major": 2,
       "version_minor": 0
      },
      "text/plain": [
       "VBox(children=(Label(value='0.001 MB of 0.001 MB uploaded\\r'), FloatProgress(value=1.0, max=1.0)))"
      ]
     },
     "metadata": {},
     "output_type": "display_data"
    },
    {
     "data": {
      "text/html": [
       "<style>\n",
       "    table.wandb td:nth-child(1) { padding: 0 10px; text-align: left ; width: auto;} td:nth-child(2) {text-align: left ; width: 100%}\n",
       "    .wandb-row { display: flex; flex-direction: row; flex-wrap: wrap; justify-content: flex-start; width: 100% }\n",
       "    .wandb-col { display: flex; flex-direction: column; flex-basis: 100%; flex: 1; padding: 10px; }\n",
       "    </style>\n",
       "<div class=\"wandb-row\"><div class=\"wandb-col\"><h3>Run history:</h3><br/><table class=\"wandb\"><tr><td>Test accuracy</td><td>▁</td></tr><tr><td>Test loss</td><td>▁</td></tr><tr><td>Test macro F1</td><td>▁</td></tr><tr><td>Test precision</td><td>▁</td></tr><tr><td>epoch</td><td>▁▁▁▁▂▂▂▂▂▃▃▃▃▃▃▄▄▄▄▄▅▅▅▅▅▅▆▆▆▆▆▇▇▇▇▇▇███</td></tr><tr><td>minibatch_acc</td><td>▁▄▃▃▆▄▄▅▆▆▇▇▇█▇████▇▇█▇▇▇▇████▇██▇▇████▇</td></tr><tr><td>minibatch_epoch</td><td>▁▁▁▁▂▂▂▂▂▃▃▃▃▃▃▄▄▄▄▄▅▅▅▅▅▅▆▆▆▆▆▇▇▇▇▇▇███</td></tr><tr><td>minibatch_f1</td><td>▁▄▄▄▇▅▆▆▇▇▇█▇█▇████▇██████████████▇█████</td></tr><tr><td>minibatch_loss</td><td>█▄▅▅▂▄▄▃▂▂▂▂▂▁▂▁▁▁▁▂▁▁▂▁▁▁▁▁▁▁▁▁▁▁▂▁▁▁▁▁</td></tr><tr><td>train_acc</td><td>▁▁▂▄▄▅▅▅▆▇▇▇████████████████████████████</td></tr><tr><td>train_f1</td><td>▁▁▃▅▆▆▆▆▇▇██████████████████████████████</td></tr><tr><td>train_loss</td><td>█▇▅▄▄▃▃▃▂▂▂▂▂▁▁▁▁▁▁▁▁▁▁▁▁▁▁▁▁▁▁▁▁▁▁▁▁▁▁▁</td></tr><tr><td>val_acc</td><td>▁▁▄▇████████▇█▇▇▇▇▇▇▇▇▇▆▆▇▇▇▇▇▇▇▇▇▇▇▇▇▇▇</td></tr><tr><td>val_f1</td><td>▁▁▄▇█▇████████▇▇█▇▇▇▇▇▇▇▇███▇▇▇▇▇▇▇▇▇███</td></tr><tr><td>val_loss</td><td>█▅▃▂▁▁▁▁▁▁▂▂▂▃▃▃▄▄▄▄▅▅▅▅▅▅▅▅▆▆▆▆▇▇▇▇▇▇▇▇</td></tr></table><br/></div><div class=\"wandb-col\"><h3>Run summary:</h3><br/><table class=\"wandb\"><tr><td>Test accuracy</td><td>0.96512</td></tr><tr><td>Test loss</td><td>2.59304</td></tr><tr><td>Test macro F1</td><td>0.6636</td></tr><tr><td>Test precision</td><td>0.96091</td></tr><tr><td>epoch</td><td>99</td></tr><tr><td>minibatch_acc</td><td>1.0</td></tr><tr><td>minibatch_epoch</td><td>2899</td></tr><tr><td>minibatch_f1</td><td>1.0</td></tr><tr><td>minibatch_loss</td><td>0.00276</td></tr><tr><td>train_acc</td><td>0.99739</td></tr><tr><td>train_f1</td><td>0.98052</td></tr><tr><td>train_loss</td><td>0.2643</td></tr><tr><td>val_acc</td><td>0.97711</td></tr><tr><td>val_f1</td><td>0.72763</td></tr><tr><td>val_loss</td><td>0.93883</td></tr></table><br/></div></div>"
      ],
      "text/plain": [
       "<IPython.core.display.HTML object>"
      ]
     },
     "metadata": {},
     "output_type": "display_data"
    },
    {
     "data": {
      "text/html": [
       " View run <strong style=\"color:#cdcd00\">fearless-water-10</strong> at: <a href='https://wandb.ai/nlp-assignments/assignment-2/runs/g2ta00e7' target=\"_blank\">https://wandb.ai/nlp-assignments/assignment-2/runs/g2ta00e7</a><br/>Synced 6 W&B file(s), 0 media file(s), 0 artifact file(s) and 0 other file(s)"
      ],
      "text/plain": [
       "<IPython.core.display.HTML object>"
      ]
     },
     "metadata": {},
     "output_type": "display_data"
    },
    {
     "data": {
      "text/html": [
       "Find logs at: <code>.\\wandb\\run-20240309_174559-g2ta00e7\\logs</code>"
      ],
      "text/plain": [
       "<IPython.core.display.HTML object>"
      ]
     },
     "metadata": {},
     "output_type": "display_data"
    }
   ],
   "source": [
    "wandb.finish()"
   ]
  },
  {
   "cell_type": "code",
   "execution_count": 51,
   "metadata": {},
   "outputs": [],
   "source": [
    "# saving the model\n",
    "torch.save(model.state_dict(), 'LSTM_GloVe_Task2_Exp1.pth')"
   ]
  },
  {
   "cell_type": "markdown",
   "metadata": {},
   "source": [
    "### Task 2: RNN + FastText"
   ]
  },
  {
   "cell_type": "markdown",
   "metadata": {},
   "source": [
    "#### Preparing the data"
   ]
  },
  {
   "cell_type": "code",
   "execution_count": 45,
   "metadata": {},
   "outputs": [],
   "source": [
    "train, val, test = [], [], []\n",
    "for i in train_data:\n",
    "    train.append([train_data[i]['text'], train_data[i]['labels']])\n",
    "for i in val_data:\n",
    "    val.append([val_data[i]['text'], val_data[i]['labels']])\n",
    "for i in test_data:\n",
    "    test.append([test_data[i]['text'], test_data[i]['labels']])"
   ]
  },
  {
   "cell_type": "code",
   "execution_count": 46,
   "metadata": {},
   "outputs": [
    {
     "name": "stdout",
     "output_type": "stream",
     "text": [
      "Training data size: 906\n",
      "Validation data size: 219\n",
      "Test data size: 328\n"
     ]
    }
   ],
   "source": [
    "print(f'Training data size: {len(train)}')\n",
    "print(f'Validation data size: {len(val)}')\n",
    "print(f'Test data size: {len(test)}')"
   ]
  },
  {
   "cell_type": "code",
   "execution_count": 47,
   "metadata": {},
   "outputs": [
    {
     "name": "stdout",
     "output_type": "stream",
     "text": [
      "Text: I charge it at night and skip taking the cord with me because of the good battery life .\n",
      "Labels: ['O', 'O', 'O', 'O', 'O', 'O', 'O', 'O', 'O', 'O', 'O', 'O', 'O', 'O', 'O', 'O', 'B', 'I', 'O']\n",
      "\n",
      "Text: it is of high quality , has a killer GUI , is extremely stable , is highly expandable , is bundled with lots of very good applications , is easy to use , and is absolutely gorgeous .\n",
      "Labels: ['O', 'O', 'O', 'O', 'B', 'O', 'O', 'O', 'O', 'B', 'O', 'O', 'O', 'O', 'O', 'O', 'O', 'O', 'O', 'O', 'O', 'O', 'O', 'O', 'O', 'O', 'B', 'O', 'O', 'O', 'O', 'B', 'O', 'O', 'O', 'O', 'O', 'O']\n",
      "\n",
      "Text: Easy to start up and does not overheat as much as other laptops .\n",
      "Labels: ['O', 'O', 'B', 'I', 'O', 'O', 'O', 'O', 'O', 'O', 'O', 'O', 'O', 'O']\n",
      "\n",
      "Text: Great laptop that offers many great features !\n",
      "Labels: ['O', 'O', 'O', 'O', 'O', 'O', 'B', 'O']\n",
      "\n",
      "Text: One night I turned the freaking thing off after using it , the next day I turn it on , no GUI , screen all dark , power light steady , hard drive light steady and not flashing as it usually does .\n",
      "Labels: ['O', 'O', 'O', 'O', 'O', 'O', 'O', 'O', 'O', 'O', 'O', 'O', 'O', 'O', 'O', 'O', 'O', 'O', 'O', 'O', 'O', 'B', 'O', 'B', 'O', 'O', 'O', 'B', 'I', 'O', 'O', 'B', 'I', 'I', 'O', 'O', 'O', 'O', 'O', 'O', 'O', 'O', 'O']\n",
      "\n"
     ]
    }
   ],
   "source": [
    "for i in range(5):\n",
    "    text, labels = train[i][0], train[i][1]\n",
    "    print(f\"Text: {text}\\nLabels: {labels}\\n\")"
   ]
  },
  {
   "cell_type": "code",
   "execution_count": 48,
   "metadata": {},
   "outputs": [
    {
     "name": "stdout",
     "output_type": "stream",
     "text": [
      "Number of unique words in the dataset: 3495\n",
      "Words and their counts: [('I', 637), ('charge', 10), ('it', 499), ('at', 70), ('night', 5)]\n"
     ]
    }
   ],
   "source": [
    "data = train + val + test\n",
    "# Finding number of unique words in the dataset\n",
    "word_count = {}\n",
    "for i in range(len(data)):\n",
    "    words = data[i][0].split()\n",
    "    for word in words:\n",
    "        if word not in word_count:\n",
    "            word_count[word] = 1\n",
    "        else:\n",
    "            word_count[word] += 1\n",
    "print(f\"Number of unique words in the dataset: {len(word_count)}\")\n",
    "print(f\"Words and their counts: {list(word_count.items())[:5]}\")"
   ]
  },
  {
   "cell_type": "code",
   "execution_count": 49,
   "metadata": {},
   "outputs": [
    {
     "name": "stdout",
     "output_type": "stream",
     "text": [
      "Number of unique words in the dataset after adding 'PAD' and 'UNK': 3497\n"
     ]
    }
   ],
   "source": [
    "word_list = list(word_count.keys())\n",
    "# adding 'PAD' and 'UNK' to the word list\n",
    "word_list.append('PAD')\n",
    "word_list.append('UNK')\n",
    "word_count['PAD'] = 0\n",
    "word_count['UNK'] = 0\n",
    "print(f\"Number of unique words in the dataset after adding 'PAD' and 'UNK': {len(word_list)}\")"
   ]
  },
  {
   "cell_type": "code",
   "execution_count": 50,
   "metadata": {},
   "outputs": [
    {
     "name": "stdout",
     "output_type": "stream",
     "text": [
      "Word-to-index: [('I', 0), ('charge', 1), ('it', 2), ('at', 3), ('night', 4)]\n",
      "Index-to-word: [(0, 'I'), (1, 'charge'), (2, 'it'), (3, 'at'), (4, 'night')]\n"
     ]
    }
   ],
   "source": [
    "# Word-to-index and index-to-word mapping from the dataset\n",
    "word_to_index = {word:idx for idx, word in enumerate(word_list)}\n",
    "index_to_word = {idx:word for word, idx in word_to_index.items()}\n",
    "label_to_idx = {'O': 0, 'B': 1, 'I': 2}\n",
    "print(f\"Word-to-index: {list(word_to_index.items())[:5]}\")\n",
    "print(f\"Index-to-word: {list(index_to_word.items())[:5]}\")"
   ]
  },
  {
   "cell_type": "code",
   "execution_count": 51,
   "metadata": {},
   "outputs": [
    {
     "name": "stdout",
     "output_type": "stream",
     "text": [
      "Shape of word_embeddings: (3497, 300)\n"
     ]
    }
   ],
   "source": [
    "from torchtext.vocab import FastText\n",
    "fasttext_vectors = FastText(language=\"en\")\n",
    "word_embeddings = np.zeros((len(word_list), 300))\n",
    "for i in range(len(word_list)):\n",
    "    word = word_list[i]\n",
    "    idx = word_to_index[word]\n",
    "    if word in glove_vectors.stoi:\n",
    "        word_embeddings[idx] = fasttext_vectors[word]\n",
    "    else:\n",
    "        word_embeddings[idx] = fasttext_vectors['unk']\n",
    "print(f\"Shape of word_embeddings: {word_embeddings.shape}\")"
   ]
  },
  {
   "cell_type": "code",
   "execution_count": 52,
   "metadata": {},
   "outputs": [
    {
     "name": "stdout",
     "output_type": "stream",
     "text": [
      "Shape of word vectors: (3497, 300)\n"
     ]
    }
   ],
   "source": [
    "# List of word vectors\n",
    "word_vectors = [word_embeddings[word_to_index[word]] for word in word_list]\n",
    "word_vectors = np.array(word_vectors)\n",
    "print(f\"Shape of word vectors: {word_vectors.shape}\")"
   ]
  },
  {
   "cell_type": "code",
   "execution_count": 53,
   "metadata": {},
   "outputs": [],
   "source": [
    "# constants\n",
    "vocab_size = len(word_to_index)\n",
    "embedding_size = 300"
   ]
  },
  {
   "cell_type": "code",
   "execution_count": 54,
   "metadata": {},
   "outputs": [],
   "source": [
    "train_dataset = LaptopReviewDataset(train, vocab_size, embedding_size, word_to_index, index_to_word, label_to_idx)\n",
    "val_dataset = LaptopReviewDataset(val, vocab_size, embedding_size, word_to_index, index_to_word, label_to_idx)\n",
    "test_dataset = LaptopReviewDataset(test, vocab_size, embedding_size, word_to_index, index_to_word, label_to_idx)"
   ]
  },
  {
   "cell_type": "code",
   "execution_count": 55,
   "metadata": {},
   "outputs": [],
   "source": [
    "train_dataloader = DataLoader(train_dataset, batch_size=32, shuffle=True, collate_fn=collate_fn)\n",
    "val_dataloader = DataLoader(val_dataset, batch_size=32, collate_fn=collate_fn)\n",
    "test_dataloader = DataLoader(test_dataset, batch_size=32, collate_fn=collate_fn)"
   ]
  },
  {
   "cell_type": "code",
   "execution_count": 56,
   "metadata": {},
   "outputs": [
    {
     "name": "stdout",
     "output_type": "stream",
     "text": [
      "Batch 1\n",
      "Text shape: torch.Size([32, 59])\n",
      "Labels shape: torch.Size([32, 59])\n",
      "\n",
      "Text: We carry the netbook around here and there , hence it 's kinda of irritating when the LCD just `` slide '' downwards . PAD PAD PAD PAD PAD PAD PAD PAD PAD PAD PAD PAD PAD PAD PAD PAD PAD PAD PAD PAD PAD PAD PAD PAD PAD PAD PAD PAD PAD PAD PAD PAD PAD PAD PAD\n",
      "Labels: O O O O O O O O O O O O O O O O O B O O O O O O O O O O O O O O O O O O O O O O O O O O O O O O O O O O O O O O O O O\n",
      "\n",
      "Text: The screen is framed by half- to a full-inch margin that is obviously unnecessary , reduces the screen size and increases the bulk . PAD PAD PAD PAD PAD PAD PAD PAD PAD PAD PAD PAD PAD PAD PAD PAD PAD PAD PAD PAD PAD PAD PAD PAD PAD PAD PAD PAD PAD PAD PAD PAD PAD PAD PAD\n",
      "Labels: O B O O O O O O O O O O O O O O O B I O O O B O O O O O O O O O O O O O O O O O O O O O O O O O O O O O O O O O O O O\n",
      "\n"
     ]
    }
   ],
   "source": [
    "for i, data in enumerate(train_dataloader, 0):\n",
    "    print(f\"Batch {i+1}\\nText shape: {data['text'].size()}\\nLabels shape: {data['labels'].size()}\\n\")\n",
    "    for j in range(2):\n",
    "        text = data['text'][j]\n",
    "        labels = data['labels'][j]\n",
    "        text_str = ' '.join([index_to_word[idx.item()] for idx in text])\n",
    "        labels_str = ' '.join([list(label_to_idx.keys())[idx.item()] for idx in labels])\n",
    "        print(f\"Text: {text_str}\\nLabels: {labels_str}\\n\")\n",
    "    break"
   ]
  },
  {
   "cell_type": "code",
   "execution_count": 57,
   "metadata": {},
   "outputs": [
    {
     "name": "stderr",
     "output_type": "stream",
     "text": [
      "Failed to detect the name of this notebook, you can set it manually with the WANDB_NOTEBOOK_NAME environment variable to enable code saving.\n",
      "\u001b[34m\u001b[1mwandb\u001b[0m: Logging into wandb.ai. (Learn how to deploy a W&B server locally: https://wandb.me/wandb-server)\n",
      "\u001b[34m\u001b[1mwandb\u001b[0m: You can find your API key in your browser here: https://wandb.ai/authorize\n",
      "\u001b[34m\u001b[1mwandb\u001b[0m: Paste an API key from your profile and hit enter, or press ctrl+c to quit:\u001b[34m\u001b[1mwandb\u001b[0m: Appending key for api.wandb.ai to your netrc file: C:\\Users\\prakh\\.netrc\n"
     ]
    },
    {
     "data": {
      "text/plain": [
       "True"
      ]
     },
     "execution_count": 57,
     "metadata": {},
     "output_type": "execute_result"
    }
   ],
   "source": [
    "import tqdm\n",
    "import wandb   \n",
    "wandb.login(relogin=True)"
   ]
  },
  {
   "cell_type": "code",
   "execution_count": 58,
   "metadata": {},
   "outputs": [],
   "source": [
    "model_config = dict(\n",
    "    task = 2, \n",
    "    model = 'RNN',\n",
    "    embed_size = 300,\n",
    "    embedding = 'FastText',\n",
    "    hidden_size = 128,\n",
    "    learning_rate = 0.001,\n",
    "    batch_size = 32,\n",
    "    epochs = 100, \n",
    "    padding = 'max_post', \n",
    "    loss = 'CrossEntropyLoss',\n",
    "    optimizer = 'Adam',\n",
    "    num_hidden = 1,\n",
    "    dropout = 0, \n",
    "    activation = 'tanh'\n",
    ")"
   ]
  },
  {
   "cell_type": "code",
   "execution_count": 59,
   "metadata": {},
   "outputs": [
    {
     "name": "stderr",
     "output_type": "stream",
     "text": [
      "\u001b[34m\u001b[1mwandb\u001b[0m: Currently logged in as: \u001b[33mprakhar432\u001b[0m (\u001b[33mnlp-assignments\u001b[0m). Use \u001b[1m`wandb login --relogin`\u001b[0m to force relogin\n"
     ]
    },
    {
     "data": {
      "application/vnd.jupyter.widget-view+json": {
       "model_id": "b5168dace51c4a3e88c20b7280ceeb12",
       "version_major": 2,
       "version_minor": 0
      },
      "text/plain": [
       "VBox(children=(Label(value='Waiting for wandb.init()...\\r'), FloatProgress(value=0.011111111111111112, max=1.0…"
      ]
     },
     "metadata": {},
     "output_type": "display_data"
    },
    {
     "data": {
      "text/html": [
       "wandb version 0.16.4 is available!  To upgrade, please run:\n",
       " $ pip install wandb --upgrade"
      ],
      "text/plain": [
       "<IPython.core.display.HTML object>"
      ]
     },
     "metadata": {},
     "output_type": "display_data"
    },
    {
     "data": {
      "text/html": [
       "Tracking run with wandb version 0.16.3"
      ],
      "text/plain": [
       "<IPython.core.display.HTML object>"
      ]
     },
     "metadata": {},
     "output_type": "display_data"
    },
    {
     "data": {
      "text/html": [
       "Run data is saved locally in <code>c:\\Users\\prakh\\Prakhar\\College\\Semester 6\\Natural Language Processing\\A2\\wandb\\run-20240309_204707-kc019wqr</code>"
      ],
      "text/plain": [
       "<IPython.core.display.HTML object>"
      ]
     },
     "metadata": {},
     "output_type": "display_data"
    },
    {
     "data": {
      "text/html": [
       "Syncing run <strong><a href='https://wandb.ai/nlp-assignments/assignment-2/runs/kc019wqr' target=\"_blank\">dutiful-breeze-12</a></strong> to <a href='https://wandb.ai/nlp-assignments/assignment-2' target=\"_blank\">Weights & Biases</a> (<a href='https://wandb.me/run' target=\"_blank\">docs</a>)<br/>"
      ],
      "text/plain": [
       "<IPython.core.display.HTML object>"
      ]
     },
     "metadata": {},
     "output_type": "display_data"
    },
    {
     "data": {
      "text/html": [
       " View project at <a href='https://wandb.ai/nlp-assignments/assignment-2' target=\"_blank\">https://wandb.ai/nlp-assignments/assignment-2</a>"
      ],
      "text/plain": [
       "<IPython.core.display.HTML object>"
      ]
     },
     "metadata": {},
     "output_type": "display_data"
    },
    {
     "data": {
      "text/html": [
       " View run at <a href='https://wandb.ai/nlp-assignments/assignment-2/runs/kc019wqr' target=\"_blank\">https://wandb.ai/nlp-assignments/assignment-2/runs/kc019wqr</a>"
      ],
      "text/plain": [
       "<IPython.core.display.HTML object>"
      ]
     },
     "metadata": {},
     "output_type": "display_data"
    },
    {
     "data": {
      "text/html": [
       "<button onClick=\"this.nextSibling.style.display='block';this.style.display='none';\">Display W&B run</button><iframe src='https://wandb.ai/nlp-assignments/assignment-2/runs/kc019wqr?jupyter=true' style='border:none;width:100%;height:420px;display:none;'></iframe>"
      ],
      "text/plain": [
       "<wandb.sdk.wandb_run.Run at 0x1dff9475910>"
      ]
     },
     "execution_count": 59,
     "metadata": {},
     "output_type": "execute_result"
    }
   ],
   "source": [
    "wandb.init(project=\"assignment-2\", entity=\"nlp-assignments\", config=model_config)"
   ]
  },
  {
   "cell_type": "code",
   "execution_count": 62,
   "metadata": {},
   "outputs": [
    {
     "name": "stdout",
     "output_type": "stream",
     "text": [
      "3497 3497 300 128\n",
      "Input shape: torch.Size([32, 50])\n",
      "Label shape: torch.Size([32, 50])\n",
      "Output shape: torch.Size([32, 50, 3])\n",
      "Hidden shape: torch.Size([1, 32, 128])\n",
      "\n"
     ]
    },
    {
     "name": "stderr",
     "output_type": "stream",
     "text": [
      "C:\\Users\\prakh\\AppData\\Local\\Temp\\ipykernel_25772\\532150329.py:5: UserWarning: To copy construct from a tensor, it is recommended to use sourceTensor.clone().detach() or sourceTensor.clone().detach().requires_grad_(True), rather than torch.tensor(sourceTensor).\n",
      "  word_vectors = torch.tensor(word_vectors)\n"
     ]
    }
   ],
   "source": [
    "# Initialize the model\n",
    "vocab_size = len(word_to_index)\n",
    "embed_size = model_config['embed_size'] # Size of the word embeddings\n",
    "hidden_size = model_config['hidden_size'] # Size of the hidden state\n",
    "word_vectors = torch.tensor(word_vectors)\n",
    "word_vectors = word_vectors.float()\n",
    "print(vocab_size, len(word_vectors), embed_size, hidden_size)\n",
    "model = RNNModel(vocab_size, embed_size, hidden_size, word_vectors, model_config)\n",
    "for i, data in enumerate(train_dataloader, 0):\n",
    "    text = data['text']\n",
    "    print(f\"Input shape: {text.size()}\")\n",
    "    print(f\"Label shape: {data['labels'].size()}\")\n",
    "    output, hidden = model(text)\n",
    "    print(f\"Output shape: {output.size()}\\nHidden shape: {hidden.size()}\\n\")\n",
    "    break"
   ]
  },
  {
   "cell_type": "code",
   "execution_count": 63,
   "metadata": {},
   "outputs": [],
   "source": [
    "# Loss function and optimizer\n",
    "criterion = nn.CrossEntropyLoss()\n",
    "optimizer = optim.Adam(model.parameters(), lr=0.001)"
   ]
  },
  {
   "cell_type": "code",
   "execution_count": 68,
   "metadata": {},
   "outputs": [
    {
     "name": "stderr",
     "output_type": "stream",
     "text": [
      "  0%|          | 0/100 [00:00<?, ?it/s]"
     ]
    },
    {
     "name": "stderr",
     "output_type": "stream",
     "text": [
      "100%|██████████| 100/100 [04:12<00:00,  2.53s/it]\n"
     ]
    }
   ],
   "source": [
    "model = train_model(model, train_dataloader, val_dataloader, criterion, optimizer, model_config)"
   ]
  },
  {
   "cell_type": "code",
   "execution_count": 69,
   "metadata": {},
   "outputs": [
    {
     "name": "stdout",
     "output_type": "stream",
     "text": [
      "Test accuracy: 0.9640\n",
      "Test precision: 0.9585\n",
      "Test macro F1: 0.6402\n",
      "Test loss: 2.4762\n",
      "\n",
      "Classification report:\n",
      "              precision    recall  f1-score   support\n",
      "\n",
      "           0       0.97      0.99      0.98     14774\n",
      "           1       0.63      0.48      0.54       463\n",
      "           2       0.58      0.30      0.40       243\n",
      "\n",
      "    accuracy                           0.96     15480\n",
      "   macro avg       0.73      0.59      0.64     15480\n",
      "weighted avg       0.96      0.96      0.96     15480\n",
      "\n"
     ]
    }
   ],
   "source": [
    "accuracy, precision, macro_f1, loss, classification_report = evaluation(model, test_dataloader, criterion)\n",
    "print(f\"Test accuracy: {accuracy:.4f}\\nTest precision: {precision:.4f}\\nTest macro F1: {macro_f1:.4f}\\nTest loss: {loss:.4f}\\n\")\n",
    "print(f\"Classification report:\\n{classification_report}\")\n",
    "wandb.log({\"Test accuracy\": accuracy, \"Test precision\": precision, \"Test macro F1\": macro_f1, \"Test loss\": loss})"
   ]
  },
  {
   "cell_type": "code",
   "execution_count": 70,
   "metadata": {},
   "outputs": [
    {
     "data": {
      "application/vnd.jupyter.widget-view+json": {
       "model_id": "37051617b0e24e7e8ae7c857bc2b8202",
       "version_major": 2,
       "version_minor": 0
      },
      "text/plain": [
       "VBox(children=(Label(value='0.001 MB of 0.001 MB uploaded\\r'), FloatProgress(value=1.0, max=1.0)))"
      ]
     },
     "metadata": {},
     "output_type": "display_data"
    },
    {
     "data": {
      "text/html": [
       "<style>\n",
       "    table.wandb td:nth-child(1) { padding: 0 10px; text-align: left ; width: auto;} td:nth-child(2) {text-align: left ; width: 100%}\n",
       "    .wandb-row { display: flex; flex-direction: row; flex-wrap: wrap; justify-content: flex-start; width: 100% }\n",
       "    .wandb-col { display: flex; flex-direction: column; flex-basis: 100%; flex: 1; padding: 10px; }\n",
       "    </style>\n",
       "<div class=\"wandb-row\"><div class=\"wandb-col\"><h3>Run history:</h3><br/><table class=\"wandb\"><tr><td>Test accuracy</td><td>▁</td></tr><tr><td>Test loss</td><td>▁</td></tr><tr><td>Test macro F1</td><td>▁</td></tr><tr><td>Test precision</td><td>▁</td></tr><tr><td>epoch</td><td>▁▁▁▁▂▂▂▂▂▃▃▃▃▃▃▄▄▄▄▄▅▅▅▅▅▅▆▆▆▆▆▇▇▇▇▇▇███</td></tr><tr><td>minibatch_acc</td><td>▁▃▅▆▄▂▄▆▅▆▆▇▇▆▇▇▇▇████▇▇▇▇█▇█▇▇▇█▆████▇█</td></tr><tr><td>minibatch_epoch</td><td>▁▁▁▁▂▂▂▂▂▃▃▃▃▃▃▄▄▄▄▄▅▅▅▅▅▅▆▆▆▆▆▇▇▇▇▇▇███</td></tr><tr><td>minibatch_f1</td><td>▁▄▆▆▅▄▅▆▆▆▇▇▇▇▇▇█▇████▇▇█▇█▇█████▇██████</td></tr><tr><td>minibatch_loss</td><td>█▄▃▃▄▅▃▃▃▃▂▂▂▂▂▂▂▂▁▁▁▁▂▂▂▂▁▁▁▁▁▁▁▂▁▁▁▁▁▁</td></tr><tr><td>train_acc</td><td>▁▁▃▃▄▄▅▅▅▅▆▆▆▇▇▇▇▇████████▆█████████████</td></tr><tr><td>train_f1</td><td>▁▂▅▅▆▆▆▆▇▇▇▇▇▇████████████▇█████████████</td></tr><tr><td>train_loss</td><td>█▆▅▄▄▄▃▃▃▃▃▂▂▂▂▂▂▂▁▁▁▁▁▁▁▁▂▁▁▁▁▁▁▁▁▁▁▁▁▁</td></tr><tr><td>val_acc</td><td>▁▂▆▇█▇█▇█▇▆▇▇▆▆▆▅▅▆▆▆▆▆▅▅▆▅▅▅▆▅▅▅▆▆▆▆▆▆▅</td></tr><tr><td>val_f1</td><td>▁▂▆▇█▇█▇████▇██▇██▇▇▇█▇▇▇▇▇█▇▇▇▇▇▇▇▇▇▇▇▇</td></tr><tr><td>val_loss</td><td>█▅▃▂▁▁▁▁▁▁▂▂▃▂▃▃▃▃▄▄▄▄▅▅▆▆▅▅▅▅▅▆▆▆▆▇▇▇▇▇</td></tr></table><br/></div><div class=\"wandb-col\"><h3>Run summary:</h3><br/><table class=\"wandb\"><tr><td>Test accuracy</td><td>0.96402</td></tr><tr><td>Test loss</td><td>2.47619</td></tr><tr><td>Test macro F1</td><td>0.64025</td></tr><tr><td>Test precision</td><td>0.95848</td></tr><tr><td>epoch</td><td>99</td></tr><tr><td>minibatch_acc</td><td>0.99643</td></tr><tr><td>minibatch_epoch</td><td>2899</td></tr><tr><td>minibatch_f1</td><td>0.99635</td></tr><tr><td>minibatch_loss</td><td>0.01415</td></tr><tr><td>train_acc</td><td>0.99689</td></tr><tr><td>train_f1</td><td>0.97567</td></tr><tr><td>train_loss</td><td>0.36378</td></tr><tr><td>val_acc</td><td>0.97438</td></tr><tr><td>val_f1</td><td>0.67163</td></tr><tr><td>val_loss</td><td>0.96429</td></tr></table><br/></div></div>"
      ],
      "text/plain": [
       "<IPython.core.display.HTML object>"
      ]
     },
     "metadata": {},
     "output_type": "display_data"
    },
    {
     "data": {
      "text/html": [
       " View run <strong style=\"color:#cdcd00\">dutiful-breeze-12</strong> at: <a href='https://wandb.ai/nlp-assignments/assignment-2/runs/kc019wqr' target=\"_blank\">https://wandb.ai/nlp-assignments/assignment-2/runs/kc019wqr</a><br/>Synced 6 W&B file(s), 0 media file(s), 0 artifact file(s) and 0 other file(s)"
      ],
      "text/plain": [
       "<IPython.core.display.HTML object>"
      ]
     },
     "metadata": {},
     "output_type": "display_data"
    },
    {
     "data": {
      "text/html": [
       "Find logs at: <code>.\\wandb\\run-20240309_204707-kc019wqr\\logs</code>"
      ],
      "text/plain": [
       "<IPython.core.display.HTML object>"
      ]
     },
     "metadata": {},
     "output_type": "display_data"
    }
   ],
   "source": [
    "wandb.finish()"
   ]
  },
  {
   "cell_type": "code",
   "execution_count": 71,
   "metadata": {},
   "outputs": [],
   "source": [
    "# saving the model\n",
    "torch.save(model.state_dict(), 'RNN_FastText_Task2_Exp1.pth')"
   ]
  },
  {
   "cell_type": "markdown",
   "metadata": {},
   "source": [
    "### Task 2: GRU + FastText"
   ]
  },
  {
   "cell_type": "code",
   "execution_count": 72,
   "metadata": {},
   "outputs": [
    {
     "name": "stderr",
     "output_type": "stream",
     "text": [
      "\u001b[34m\u001b[1mwandb\u001b[0m: Logging into wandb.ai. (Learn how to deploy a W&B server locally: https://wandb.me/wandb-server)\n",
      "\u001b[34m\u001b[1mwandb\u001b[0m: You can find your API key in your browser here: https://wandb.ai/authorize\n",
      "\u001b[34m\u001b[1mwandb\u001b[0m: Paste an API key from your profile and hit enter, or press ctrl+c to quit:\u001b[34m\u001b[1mwandb\u001b[0m: Appending key for api.wandb.ai to your netrc file: C:\\Users\\prakh\\.netrc\n"
     ]
    },
    {
     "data": {
      "text/plain": [
       "True"
      ]
     },
     "execution_count": 72,
     "metadata": {},
     "output_type": "execute_result"
    }
   ],
   "source": [
    "import tqdm\n",
    "import wandb\n",
    "wandb.login(relogin=True)"
   ]
  },
  {
   "cell_type": "code",
   "execution_count": 73,
   "metadata": {},
   "outputs": [],
   "source": [
    "model_config = dict(\n",
    "    task = 2, \n",
    "    model = 'GRU',\n",
    "    embed_size = 300,\n",
    "    embedding = 'FastText',\n",
    "    hidden_size = 128,\n",
    "    learning_rate = 0.001,\n",
    "    batch_size = 32,\n",
    "    epochs = 100, \n",
    "    padding = 'max_post', \n",
    "    loss = 'CrossEntropyLoss',\n",
    "    optimizer = 'Adam',\n",
    "    num_hidden = 1,\n",
    "    dropout = 0, \n",
    "    activation = 'tanh'\n",
    ")"
   ]
  },
  {
   "cell_type": "code",
   "execution_count": 74,
   "metadata": {},
   "outputs": [
    {
     "data": {
      "application/vnd.jupyter.widget-view+json": {
       "model_id": "86c66f4b185b4abca9fe609fb2b6effb",
       "version_major": 2,
       "version_minor": 0
      },
      "text/plain": [
       "VBox(children=(Label(value='Waiting for wandb.init()...\\r'), FloatProgress(value=0.011111111111111112, max=1.0…"
      ]
     },
     "metadata": {},
     "output_type": "display_data"
    },
    {
     "data": {
      "text/html": [
       "wandb version 0.16.4 is available!  To upgrade, please run:\n",
       " $ pip install wandb --upgrade"
      ],
      "text/plain": [
       "<IPython.core.display.HTML object>"
      ]
     },
     "metadata": {},
     "output_type": "display_data"
    },
    {
     "data": {
      "text/html": [
       "Tracking run with wandb version 0.16.3"
      ],
      "text/plain": [
       "<IPython.core.display.HTML object>"
      ]
     },
     "metadata": {},
     "output_type": "display_data"
    },
    {
     "data": {
      "text/html": [
       "Run data is saved locally in <code>c:\\Users\\prakh\\Prakhar\\College\\Semester 6\\Natural Language Processing\\A2\\wandb\\run-20240309_205313-s2wkk9ko</code>"
      ],
      "text/plain": [
       "<IPython.core.display.HTML object>"
      ]
     },
     "metadata": {},
     "output_type": "display_data"
    },
    {
     "data": {
      "text/html": [
       "Syncing run <strong><a href='https://wandb.ai/nlp-assignments/assignment-2/runs/s2wkk9ko' target=\"_blank\">sage-grass-13</a></strong> to <a href='https://wandb.ai/nlp-assignments/assignment-2' target=\"_blank\">Weights & Biases</a> (<a href='https://wandb.me/run' target=\"_blank\">docs</a>)<br/>"
      ],
      "text/plain": [
       "<IPython.core.display.HTML object>"
      ]
     },
     "metadata": {},
     "output_type": "display_data"
    },
    {
     "data": {
      "text/html": [
       " View project at <a href='https://wandb.ai/nlp-assignments/assignment-2' target=\"_blank\">https://wandb.ai/nlp-assignments/assignment-2</a>"
      ],
      "text/plain": [
       "<IPython.core.display.HTML object>"
      ]
     },
     "metadata": {},
     "output_type": "display_data"
    },
    {
     "data": {
      "text/html": [
       " View run at <a href='https://wandb.ai/nlp-assignments/assignment-2/runs/s2wkk9ko' target=\"_blank\">https://wandb.ai/nlp-assignments/assignment-2/runs/s2wkk9ko</a>"
      ],
      "text/plain": [
       "<IPython.core.display.HTML object>"
      ]
     },
     "metadata": {},
     "output_type": "display_data"
    },
    {
     "data": {
      "text/html": [
       "<button onClick=\"this.nextSibling.style.display='block';this.style.display='none';\">Display W&B run</button><iframe src='https://wandb.ai/nlp-assignments/assignment-2/runs/s2wkk9ko?jupyter=true' style='border:none;width:100%;height:420px;display:none;'></iframe>"
      ],
      "text/plain": [
       "<wandb.sdk.wandb_run.Run at 0x1dff94e54d0>"
      ]
     },
     "execution_count": 74,
     "metadata": {},
     "output_type": "execute_result"
    }
   ],
   "source": [
    "wandb.init(project=\"assignment-2\", entity=\"nlp-assignments\", config=model_config)"
   ]
  },
  {
   "cell_type": "code",
   "execution_count": 75,
   "metadata": {},
   "outputs": [
    {
     "name": "stdout",
     "output_type": "stream",
     "text": [
      "3497 3497 300 128\n",
      "Input shape: torch.Size([32, 66])\n",
      "Label shape: torch.Size([32, 66])\n",
      "Output shape: torch.Size([32, 66, 3])\n",
      "Hidden shape: torch.Size([1, 32, 128])\n",
      "\n"
     ]
    },
    {
     "name": "stderr",
     "output_type": "stream",
     "text": [
      "C:\\Users\\prakh\\AppData\\Local\\Temp\\ipykernel_25772\\532150329.py:5: UserWarning: To copy construct from a tensor, it is recommended to use sourceTensor.clone().detach() or sourceTensor.clone().detach().requires_grad_(True), rather than torch.tensor(sourceTensor).\n",
      "  word_vectors = torch.tensor(word_vectors)\n"
     ]
    }
   ],
   "source": [
    "# Initialize the model\n",
    "vocab_size = len(word_to_index)\n",
    "embed_size = model_config['embed_size'] # Size of the word embeddings\n",
    "hidden_size = model_config['hidden_size'] # Size of the hidden state\n",
    "word_vectors = torch.tensor(word_vectors)\n",
    "word_vectors = word_vectors.float()\n",
    "print(vocab_size, len(word_vectors), embed_size, hidden_size)\n",
    "model = RNNModel(vocab_size, embed_size, hidden_size, word_vectors, model_config)\n",
    "for i, data in enumerate(train_dataloader, 0):\n",
    "    text = data['text']\n",
    "    print(f\"Input shape: {text.size()}\")\n",
    "    print(f\"Label shape: {data['labels'].size()}\")\n",
    "    output, hidden = model(text)\n",
    "    print(f\"Output shape: {output.size()}\\nHidden shape: {hidden.size()}\\n\")\n",
    "    break"
   ]
  },
  {
   "cell_type": "code",
   "execution_count": 76,
   "metadata": {},
   "outputs": [],
   "source": [
    "# Loss function and optimizer\n",
    "criterion = nn.CrossEntropyLoss()\n",
    "optimizer = optim.Adam(model.parameters(), lr=0.001)"
   ]
  },
  {
   "cell_type": "code",
   "execution_count": 77,
   "metadata": {},
   "outputs": [
    {
     "name": "stderr",
     "output_type": "stream",
     "text": [
      "100%|██████████| 100/100 [08:34<00:00,  5.15s/it]\n"
     ]
    }
   ],
   "source": [
    "model = train_model(model, train_dataloader, val_dataloader, criterion, optimizer, model_config)"
   ]
  },
  {
   "cell_type": "code",
   "execution_count": 78,
   "metadata": {},
   "outputs": [
    {
     "name": "stdout",
     "output_type": "stream",
     "text": [
      "Test accuracy: 0.9686\n",
      "Test precision: 0.9650\n",
      "Test macro F1: 0.6925\n",
      "Test loss: 2.3416\n",
      "\n",
      "Classification report:\n",
      "              precision    recall  f1-score   support\n",
      "\n",
      "           0       0.98      0.99      0.98     14774\n",
      "           1       0.67      0.56      0.61       463\n",
      "           2       0.71      0.37      0.48       243\n",
      "\n",
      "    accuracy                           0.97     15480\n",
      "   macro avg       0.79      0.64      0.69     15480\n",
      "weighted avg       0.97      0.97      0.97     15480\n",
      "\n"
     ]
    }
   ],
   "source": [
    "accuracy, precision, macro_f1, loss, classification_report = evaluation(model, test_dataloader, criterion)\n",
    "print(f\"Test accuracy: {accuracy:.4f}\\nTest precision: {precision:.4f}\\nTest macro F1: {macro_f1:.4f}\\nTest loss: {loss:.4f}\\n\")\n",
    "print(f\"Classification report:\\n{classification_report}\")\n",
    "wandb.log({\"Test accuracy\": accuracy, \"Test precision\": precision, \"Test macro F1\": macro_f1, \"Test loss\": loss})"
   ]
  },
  {
   "cell_type": "code",
   "execution_count": 79,
   "metadata": {},
   "outputs": [
    {
     "data": {
      "application/vnd.jupyter.widget-view+json": {
       "model_id": "4603ad4938e04d0ca1cf0a3e28e38214",
       "version_major": 2,
       "version_minor": 0
      },
      "text/plain": [
       "VBox(children=(Label(value='0.001 MB of 0.001 MB uploaded\\r'), FloatProgress(value=1.0, max=1.0)))"
      ]
     },
     "metadata": {},
     "output_type": "display_data"
    },
    {
     "data": {
      "text/html": [
       "<style>\n",
       "    table.wandb td:nth-child(1) { padding: 0 10px; text-align: left ; width: auto;} td:nth-child(2) {text-align: left ; width: 100%}\n",
       "    .wandb-row { display: flex; flex-direction: row; flex-wrap: wrap; justify-content: flex-start; width: 100% }\n",
       "    .wandb-col { display: flex; flex-direction: column; flex-basis: 100%; flex: 1; padding: 10px; }\n",
       "    </style>\n",
       "<div class=\"wandb-row\"><div class=\"wandb-col\"><h3>Run history:</h3><br/><table class=\"wandb\"><tr><td>Test accuracy</td><td>▁</td></tr><tr><td>Test loss</td><td>▁</td></tr><tr><td>Test macro F1</td><td>▁</td></tr><tr><td>Test precision</td><td>▁</td></tr><tr><td>epoch</td><td>▁▁▁▁▂▂▂▂▂▃▃▃▃▃▃▄▄▄▄▄▅▅▅▅▅▅▆▆▆▆▆▇▇▇▇▇▇███</td></tr><tr><td>minibatch_acc</td><td>▂▁▁▄▄▄▅▅▇▆▇▆▆▆▇▇▇▇▇█▇█▇▇▇▇▇█▇████▇█▇████</td></tr><tr><td>minibatch_epoch</td><td>▁▁▁▁▂▂▂▂▂▃▃▃▃▃▃▄▄▄▄▄▅▅▅▅▅▅▆▆▆▆▆▇▇▇▇▇▇███</td></tr><tr><td>minibatch_f1</td><td>▂▁▂▅▅▅▆▆▇▇▇▆▇▇▇▇▇█▇█▇█▇█▇▇██▇██████▇████</td></tr><tr><td>minibatch_loss</td><td>██▇▄▄▄▃▃▂▃▂▃▃▃▂▂▂▁▂▁▂▁▂▂▂▂▂▁▂▁▁▁▁▁▁▂▁▁▁▁</td></tr><tr><td>train_acc</td><td>▁▁▃▃▄▄▅▅▅▆▆▆▇▇▇█████████████████████████</td></tr><tr><td>train_f1</td><td>▁▁▃▅▅▆▆▆▇▇▇▇████████████████████████████</td></tr><tr><td>train_loss</td><td>█▇▅▅▄▄▃▃▃▃▂▂▂▂▂▁▁▁▁▁▁▁▁▁▁▁▁▁▁▁▁▁▁▁▁▁▁▁▁▁</td></tr><tr><td>val_acc</td><td>▁▁▄▆██████▇▇▆▇▇▇▆▆▆▆▆▆▅▆▆▅▅▆▅▆▆▆▅▆▆▆▆▅▅▆</td></tr><tr><td>val_f1</td><td>▁▁▄▆███████▇█▇██▇▇▇▇▇▇▇▇▇▇▇▇▇▇▇▇▇▇▇▇▇▇▇▇</td></tr><tr><td>val_loss</td><td>▇▆▄▂▁▁▁▁▁▁▂▂▂▃▃▃▄▄▄▅▅▅▆▆▆▆▆▆▆▇▇▇▇██████▇</td></tr></table><br/></div><div class=\"wandb-col\"><h3>Run summary:</h3><br/><table class=\"wandb\"><tr><td>Test accuracy</td><td>0.9686</td></tr><tr><td>Test loss</td><td>2.34158</td></tr><tr><td>Test macro F1</td><td>0.69246</td></tr><tr><td>Test precision</td><td>0.96502</td></tr><tr><td>epoch</td><td>99</td></tr><tr><td>minibatch_acc</td><td>0.99355</td></tr><tr><td>minibatch_epoch</td><td>2899</td></tr><tr><td>minibatch_f1</td><td>0.99331</td></tr><tr><td>minibatch_loss</td><td>0.02451</td></tr><tr><td>train_acc</td><td>0.99662</td></tr><tr><td>train_f1</td><td>0.97301</td></tr><tr><td>train_loss</td><td>0.33865</td></tr><tr><td>val_acc</td><td>0.97633</td></tr><tr><td>val_f1</td><td>0.7114</td></tr><tr><td>val_loss</td><td>0.96742</td></tr></table><br/></div></div>"
      ],
      "text/plain": [
       "<IPython.core.display.HTML object>"
      ]
     },
     "metadata": {},
     "output_type": "display_data"
    },
    {
     "data": {
      "text/html": [
       " View run <strong style=\"color:#cdcd00\">sage-grass-13</strong> at: <a href='https://wandb.ai/nlp-assignments/assignment-2/runs/s2wkk9ko' target=\"_blank\">https://wandb.ai/nlp-assignments/assignment-2/runs/s2wkk9ko</a><br/>Synced 6 W&B file(s), 0 media file(s), 0 artifact file(s) and 0 other file(s)"
      ],
      "text/plain": [
       "<IPython.core.display.HTML object>"
      ]
     },
     "metadata": {},
     "output_type": "display_data"
    },
    {
     "data": {
      "text/html": [
       "Find logs at: <code>.\\wandb\\run-20240309_205313-s2wkk9ko\\logs</code>"
      ],
      "text/plain": [
       "<IPython.core.display.HTML object>"
      ]
     },
     "metadata": {},
     "output_type": "display_data"
    }
   ],
   "source": [
    "wandb.finish()"
   ]
  },
  {
   "cell_type": "code",
   "execution_count": 80,
   "metadata": {},
   "outputs": [],
   "source": [
    "# saving the model\n",
    "torch.save(model.state_dict(), 'GRU_FastText_Task2_Exp1.pth')"
   ]
  },
  {
   "cell_type": "markdown",
   "metadata": {},
   "source": [
    "### Task 2: LSTM + FastText"
   ]
  },
  {
   "cell_type": "code",
   "execution_count": 81,
   "metadata": {},
   "outputs": [
    {
     "name": "stderr",
     "output_type": "stream",
     "text": [
      "\u001b[34m\u001b[1mwandb\u001b[0m: Logging into wandb.ai. (Learn how to deploy a W&B server locally: https://wandb.me/wandb-server)\n",
      "\u001b[34m\u001b[1mwandb\u001b[0m: You can find your API key in your browser here: https://wandb.ai/authorize\n",
      "\u001b[34m\u001b[1mwandb\u001b[0m: Paste an API key from your profile and hit enter, or press ctrl+c to quit:\u001b[34m\u001b[1mwandb\u001b[0m: Appending key for api.wandb.ai to your netrc file: C:\\Users\\prakh\\.netrc\n"
     ]
    },
    {
     "data": {
      "text/plain": [
       "True"
      ]
     },
     "execution_count": 81,
     "metadata": {},
     "output_type": "execute_result"
    }
   ],
   "source": [
    "import tqdm\n",
    "import wandb\n",
    "wandb.login(relogin=True)"
   ]
  },
  {
   "cell_type": "code",
   "execution_count": 82,
   "metadata": {},
   "outputs": [],
   "source": [
    "model_config = dict(\n",
    "    task = 2, \n",
    "    model = 'LSTM',\n",
    "    embed_size = 300,\n",
    "    embedding = 'FastText',\n",
    "    hidden_size = 128,\n",
    "    learning_rate = 0.001,\n",
    "    batch_size = 32,\n",
    "    epochs = 100, \n",
    "    padding = 'max_post', \n",
    "    loss = 'CrossEntropyLoss',\n",
    "    optimizer = 'Adam',\n",
    "    num_hidden = 1,\n",
    "    dropout = 0, \n",
    "    activation = 'tanh'\n",
    ")"
   ]
  },
  {
   "cell_type": "code",
   "execution_count": 83,
   "metadata": {},
   "outputs": [
    {
     "data": {
      "text/html": [
       "wandb version 0.16.4 is available!  To upgrade, please run:\n",
       " $ pip install wandb --upgrade"
      ],
      "text/plain": [
       "<IPython.core.display.HTML object>"
      ]
     },
     "metadata": {},
     "output_type": "display_data"
    },
    {
     "data": {
      "text/html": [
       "Tracking run with wandb version 0.16.3"
      ],
      "text/plain": [
       "<IPython.core.display.HTML object>"
      ]
     },
     "metadata": {},
     "output_type": "display_data"
    },
    {
     "data": {
      "text/html": [
       "Run data is saved locally in <code>c:\\Users\\prakh\\Prakhar\\College\\Semester 6\\Natural Language Processing\\A2\\wandb\\run-20240309_210213-zm4zinnu</code>"
      ],
      "text/plain": [
       "<IPython.core.display.HTML object>"
      ]
     },
     "metadata": {},
     "output_type": "display_data"
    },
    {
     "data": {
      "text/html": [
       "Syncing run <strong><a href='https://wandb.ai/nlp-assignments/assignment-2/runs/zm4zinnu' target=\"_blank\">swift-night-14</a></strong> to <a href='https://wandb.ai/nlp-assignments/assignment-2' target=\"_blank\">Weights & Biases</a> (<a href='https://wandb.me/run' target=\"_blank\">docs</a>)<br/>"
      ],
      "text/plain": [
       "<IPython.core.display.HTML object>"
      ]
     },
     "metadata": {},
     "output_type": "display_data"
    },
    {
     "data": {
      "text/html": [
       " View project at <a href='https://wandb.ai/nlp-assignments/assignment-2' target=\"_blank\">https://wandb.ai/nlp-assignments/assignment-2</a>"
      ],
      "text/plain": [
       "<IPython.core.display.HTML object>"
      ]
     },
     "metadata": {},
     "output_type": "display_data"
    },
    {
     "data": {
      "text/html": [
       " View run at <a href='https://wandb.ai/nlp-assignments/assignment-2/runs/zm4zinnu' target=\"_blank\">https://wandb.ai/nlp-assignments/assignment-2/runs/zm4zinnu</a>"
      ],
      "text/plain": [
       "<IPython.core.display.HTML object>"
      ]
     },
     "metadata": {},
     "output_type": "display_data"
    },
    {
     "data": {
      "text/html": [
       "<button onClick=\"this.nextSibling.style.display='block';this.style.display='none';\">Display W&B run</button><iframe src='https://wandb.ai/nlp-assignments/assignment-2/runs/zm4zinnu?jupyter=true' style='border:none;width:100%;height:420px;display:none;'></iframe>"
      ],
      "text/plain": [
       "<wandb.sdk.wandb_run.Run at 0x1dff9581b90>"
      ]
     },
     "execution_count": 83,
     "metadata": {},
     "output_type": "execute_result"
    }
   ],
   "source": [
    "wandb.init(project=\"assignment-2\", entity=\"nlp-assignments\", config=model_config)"
   ]
  },
  {
   "cell_type": "code",
   "execution_count": 84,
   "metadata": {},
   "outputs": [
    {
     "name": "stdout",
     "output_type": "stream",
     "text": [
      "3497 3497 300 128\n",
      "Input shape: torch.Size([32, 51])\n",
      "Label shape: torch.Size([32, 51])\n",
      "Output shape: torch.Size([32, 51, 3])\n"
     ]
    },
    {
     "name": "stderr",
     "output_type": "stream",
     "text": [
      "C:\\Users\\prakh\\AppData\\Local\\Temp\\ipykernel_25772\\36252246.py:5: UserWarning: To copy construct from a tensor, it is recommended to use sourceTensor.clone().detach() or sourceTensor.clone().detach().requires_grad_(True), rather than torch.tensor(sourceTensor).\n",
      "  word_vectors = torch.tensor(word_vectors)\n"
     ]
    }
   ],
   "source": [
    "# Initialize the model\n",
    "vocab_size = len(word_to_index)\n",
    "embed_size = model_config['embed_size'] # Size of the word embeddings\n",
    "hidden_size = model_config['hidden_size'] # Size of the hidden state\n",
    "word_vectors = torch.tensor(word_vectors)\n",
    "word_vectors = word_vectors.float()\n",
    "print(vocab_size, len(word_vectors), embed_size, hidden_size)\n",
    "model = RNNModel(vocab_size, embed_size, hidden_size, word_vectors, model_config)\n",
    "for i, data in enumerate(train_dataloader, 0):\n",
    "    text = data['text']\n",
    "    print(f\"Input shape: {text.size()}\")\n",
    "    print(f\"Label shape: {data['labels'].size()}\")\n",
    "    output, hidden = model(text)\n",
    "    print(f\"Output shape: {output.size()}\")\n",
    "    break"
   ]
  },
  {
   "cell_type": "code",
   "execution_count": 85,
   "metadata": {},
   "outputs": [],
   "source": [
    "# Loss function and optimizer\n",
    "criterion = nn.CrossEntropyLoss()\n",
    "optimizer = optim.Adam(model.parameters(), lr=0.001)"
   ]
  },
  {
   "cell_type": "code",
   "execution_count": 86,
   "metadata": {},
   "outputs": [
    {
     "name": "stderr",
     "output_type": "stream",
     "text": [
      "100%|██████████| 100/100 [06:55<00:00,  4.15s/it]\n"
     ]
    }
   ],
   "source": [
    "model = train_model(model, train_dataloader, val_dataloader, criterion, optimizer, model_config)"
   ]
  },
  {
   "cell_type": "code",
   "execution_count": 87,
   "metadata": {},
   "outputs": [
    {
     "name": "stdout",
     "output_type": "stream",
     "text": [
      "Test accuracy: 0.9670\n",
      "Test precision: 0.9625\n",
      "Test macro F1: 0.6696\n",
      "Test loss: 2.5365\n",
      "\n",
      "Classification report:\n",
      "              precision    recall  f1-score   support\n",
      "\n",
      "           0       0.98      0.99      0.98     14774\n",
      "           1       0.67      0.53      0.59       463\n",
      "           2       0.64      0.33      0.43       243\n",
      "\n",
      "    accuracy                           0.97     15480\n",
      "   macro avg       0.76      0.62      0.67     15480\n",
      "weighted avg       0.96      0.97      0.96     15480\n",
      "\n"
     ]
    }
   ],
   "source": [
    "accuracy, precision, macro_f1, loss, classification_report = evaluation(model, test_dataloader, criterion)\n",
    "print(f\"Test accuracy: {accuracy:.4f}\\nTest precision: {precision:.4f}\\nTest macro F1: {macro_f1:.4f}\\nTest loss: {loss:.4f}\\n\")\n",
    "print(f\"Classification report:\\n{classification_report}\")\n",
    "wandb.log({\"Test accuracy\": accuracy, \"Test precision\": precision, \"Test macro F1\": macro_f1, \"Test loss\": loss})"
   ]
  },
  {
   "cell_type": "code",
   "execution_count": 88,
   "metadata": {},
   "outputs": [
    {
     "data": {
      "application/vnd.jupyter.widget-view+json": {
       "model_id": "306cef892a4140a3b4e04365df00a361",
       "version_major": 2,
       "version_minor": 0
      },
      "text/plain": [
       "VBox(children=(Label(value='0.001 MB of 0.001 MB uploaded\\r'), FloatProgress(value=1.0, max=1.0)))"
      ]
     },
     "metadata": {},
     "output_type": "display_data"
    },
    {
     "data": {
      "text/html": [
       "<style>\n",
       "    table.wandb td:nth-child(1) { padding: 0 10px; text-align: left ; width: auto;} td:nth-child(2) {text-align: left ; width: 100%}\n",
       "    .wandb-row { display: flex; flex-direction: row; flex-wrap: wrap; justify-content: flex-start; width: 100% }\n",
       "    .wandb-col { display: flex; flex-direction: column; flex-basis: 100%; flex: 1; padding: 10px; }\n",
       "    </style>\n",
       "<div class=\"wandb-row\"><div class=\"wandb-col\"><h3>Run history:</h3><br/><table class=\"wandb\"><tr><td>Test accuracy</td><td>▁</td></tr><tr><td>Test loss</td><td>▁</td></tr><tr><td>Test macro F1</td><td>▁</td></tr><tr><td>Test precision</td><td>▁</td></tr><tr><td>epoch</td><td>▁▁▁▁▂▂▂▂▂▃▃▃▃▃▃▄▄▄▄▄▅▅▅▅▅▅▆▆▆▆▆▇▇▇▇▇▇███</td></tr><tr><td>minibatch_acc</td><td>▃▃▁▄▅▅▅▆▆▅▅▆▆▇▇▇▇█▇█▇▇████▇▇▇▇█████▇▇▇█▇</td></tr><tr><td>minibatch_epoch</td><td>▁▁▁▁▂▂▂▂▂▃▃▃▃▃▃▄▄▄▄▄▅▅▅▅▅▅▆▆▆▆▆▇▇▇▇▇▇███</td></tr><tr><td>minibatch_f1</td><td>▂▃▁▄▆▆▆▇▇▆▅▇▇▇▇▇▇█▇█▇██████▇▇▇█████▇█▇██</td></tr><tr><td>minibatch_loss</td><td>█▇▇▄▃▄▄▂▃▃▄▃▂▂▂▂▂▁▂▁▂▂▁▁▁▁▂▂▂▂▁▁▁▁▁▂▂▂▁▁</td></tr><tr><td>train_acc</td><td>▁▁▂▃▄▄▄▅▅▅▆▆▆▇▇▇▇███████████████████████</td></tr><tr><td>train_f1</td><td>▁▁▂▄▅▅▆▆▆▆▇▇▇▇██████████████████████████</td></tr><tr><td>train_loss</td><td>█▇▆▅▄▄▃▃▃▃▂▂▂▂▂▂▂▁▁▁▁▁▁▁▁▁▁▁▁▁▁▁▁▁▁▁▁▁▁▁</td></tr><tr><td>val_acc</td><td>▁▁▃▆▇████████▇▇▆▇▇▆▇▆▆▆▆▆▆▆▆▆▆▆▆▆▆▆▆▆▆▆▆</td></tr><tr><td>val_f1</td><td>▁▁▃▆▇███████████████▇██▇▇▇▇▇▇▇▇▇▇▇▇▇▇▇▇▇</td></tr><tr><td>val_loss</td><td>█▇▄▃▂▁▁▁▁▁▁▁▁▂▂▂▂▃▃▃▄▄▄▄▅▅▅▅▆▅▅▅▆▆▆▆▆▆▆▆</td></tr></table><br/></div><div class=\"wandb-col\"><h3>Run summary:</h3><br/><table class=\"wandb\"><tr><td>Test accuracy</td><td>0.96699</td></tr><tr><td>Test loss</td><td>2.53652</td></tr><tr><td>Test macro F1</td><td>0.66959</td></tr><tr><td>Test precision</td><td>0.96254</td></tr><tr><td>epoch</td><td>99</td></tr><tr><td>minibatch_acc</td><td>0.99167</td></tr><tr><td>minibatch_epoch</td><td>2899</td></tr><tr><td>minibatch_f1</td><td>0.99114</td></tr><tr><td>minibatch_loss</td><td>0.02842</td></tr><tr><td>train_acc</td><td>0.99738</td></tr><tr><td>train_f1</td><td>0.9796</td></tr><tr><td>train_loss</td><td>0.27231</td></tr><tr><td>val_acc</td><td>0.97633</td></tr><tr><td>val_f1</td><td>0.71113</td></tr><tr><td>val_loss</td><td>0.93008</td></tr></table><br/></div></div>"
      ],
      "text/plain": [
       "<IPython.core.display.HTML object>"
      ]
     },
     "metadata": {},
     "output_type": "display_data"
    },
    {
     "data": {
      "text/html": [
       " View run <strong style=\"color:#cdcd00\">swift-night-14</strong> at: <a href='https://wandb.ai/nlp-assignments/assignment-2/runs/zm4zinnu' target=\"_blank\">https://wandb.ai/nlp-assignments/assignment-2/runs/zm4zinnu</a><br/>Synced 6 W&B file(s), 0 media file(s), 0 artifact file(s) and 0 other file(s)"
      ],
      "text/plain": [
       "<IPython.core.display.HTML object>"
      ]
     },
     "metadata": {},
     "output_type": "display_data"
    },
    {
     "data": {
      "text/html": [
       "Find logs at: <code>.\\wandb\\run-20240309_210213-zm4zinnu\\logs</code>"
      ],
      "text/plain": [
       "<IPython.core.display.HTML object>"
      ]
     },
     "metadata": {},
     "output_type": "display_data"
    }
   ],
   "source": [
    "wandb.finish()"
   ]
  },
  {
   "cell_type": "code",
   "execution_count": null,
   "metadata": {},
   "outputs": [],
   "source": [
    "# saving the model\n",
    "torch.save(model.state_dict(), 'LSTM_FastText_Task2_Exp1.pth')"
   ]
  },
  {
   "cell_type": "markdown",
   "metadata": {},
   "source": [
    "### Task 2: RNN + Word2Vec"
   ]
  },
  {
   "cell_type": "markdown",
   "metadata": {},
   "source": [
    "#### Preparing the data"
   ]
  },
  {
   "cell_type": "code",
   "execution_count": 63,
   "metadata": {},
   "outputs": [],
   "source": [
    "train, val, test = [], [], []\n",
    "for i in train_data:\n",
    "    train.append([train_data[i]['text'], train_data[i]['labels']])\n",
    "for i in val_data:\n",
    "    val.append([val_data[i]['text'], val_data[i]['labels']])\n",
    "for i in test_data:\n",
    "    test.append([test_data[i]['text'], test_data[i]['labels']])"
   ]
  },
  {
   "cell_type": "code",
   "execution_count": 64,
   "metadata": {},
   "outputs": [
    {
     "name": "stdout",
     "output_type": "stream",
     "text": [
      "Training data size: 906\n",
      "Validation data size: 219\n",
      "Test data size: 328\n"
     ]
    }
   ],
   "source": [
    "print(f'Training data size: {len(train)}')\n",
    "print(f'Validation data size: {len(val)}')\n",
    "print(f'Test data size: {len(test)}')"
   ]
  },
  {
   "cell_type": "code",
   "execution_count": 65,
   "metadata": {},
   "outputs": [
    {
     "name": "stdout",
     "output_type": "stream",
     "text": [
      "Text: I charge it at night and skip taking the cord with me because of the good battery life .\n",
      "Labels: ['O', 'O', 'O', 'O', 'O', 'O', 'O', 'O', 'O', 'O', 'O', 'O', 'O', 'O', 'O', 'O', 'B', 'I', 'O']\n",
      "\n",
      "Text: it is of high quality , has a killer GUI , is extremely stable , is highly expandable , is bundled with lots of very good applications , is easy to use , and is absolutely gorgeous .\n",
      "Labels: ['O', 'O', 'O', 'O', 'B', 'O', 'O', 'O', 'O', 'B', 'O', 'O', 'O', 'O', 'O', 'O', 'O', 'O', 'O', 'O', 'O', 'O', 'O', 'O', 'O', 'O', 'B', 'O', 'O', 'O', 'O', 'B', 'O', 'O', 'O', 'O', 'O', 'O']\n",
      "\n",
      "Text: Easy to start up and does not overheat as much as other laptops .\n",
      "Labels: ['O', 'O', 'B', 'I', 'O', 'O', 'O', 'O', 'O', 'O', 'O', 'O', 'O', 'O']\n",
      "\n",
      "Text: Great laptop that offers many great features !\n",
      "Labels: ['O', 'O', 'O', 'O', 'O', 'O', 'B', 'O']\n",
      "\n",
      "Text: One night I turned the freaking thing off after using it , the next day I turn it on , no GUI , screen all dark , power light steady , hard drive light steady and not flashing as it usually does .\n",
      "Labels: ['O', 'O', 'O', 'O', 'O', 'O', 'O', 'O', 'O', 'O', 'O', 'O', 'O', 'O', 'O', 'O', 'O', 'O', 'O', 'O', 'O', 'B', 'O', 'B', 'O', 'O', 'O', 'B', 'I', 'O', 'O', 'B', 'I', 'I', 'O', 'O', 'O', 'O', 'O', 'O', 'O', 'O', 'O']\n",
      "\n"
     ]
    }
   ],
   "source": [
    "for i in range(5):\n",
    "    text, labels = train[i][0], train[i][1]\n",
    "    print(f\"Text: {text}\\nLabels: {labels}\\n\")"
   ]
  },
  {
   "cell_type": "code",
   "execution_count": 66,
   "metadata": {},
   "outputs": [
    {
     "name": "stdout",
     "output_type": "stream",
     "text": [
      "Number of unique words in the dataset: 3495\n",
      "Words and their counts: [('I', 637), ('charge', 10), ('it', 499), ('at', 70), ('night', 5)]\n"
     ]
    }
   ],
   "source": [
    "data = train + val + test\n",
    "# Finding number of unique words in the dataset\n",
    "word_count = {}\n",
    "for i in range(len(data)):\n",
    "    words = data[i][0].split()\n",
    "    for word in words:\n",
    "        if word not in word_count:\n",
    "            word_count[word] = 1\n",
    "        else:\n",
    "            word_count[word] += 1\n",
    "print(f\"Number of unique words in the dataset: {len(word_count)}\")\n",
    "print(f\"Words and their counts: {list(word_count.items())[:5]}\")"
   ]
  },
  {
   "cell_type": "code",
   "execution_count": 67,
   "metadata": {},
   "outputs": [
    {
     "name": "stdout",
     "output_type": "stream",
     "text": [
      "Number of unique words in the dataset after adding 'PAD' and 'UNK': 3497\n"
     ]
    }
   ],
   "source": [
    "word_list = list(word_count.keys())\n",
    "# adding 'PAD' and 'UNK' to the word list\n",
    "word_list.append('PAD')\n",
    "word_list.append('UNK')\n",
    "word_count['PAD'] = 0\n",
    "word_count['UNK'] = 0\n",
    "print(f\"Number of unique words in the dataset after adding 'PAD' and 'UNK': {len(word_list)}\")"
   ]
  },
  {
   "cell_type": "code",
   "execution_count": 68,
   "metadata": {},
   "outputs": [
    {
     "name": "stdout",
     "output_type": "stream",
     "text": [
      "Word-to-index: [('I', 0), ('charge', 1), ('it', 2), ('at', 3), ('night', 4)]\n",
      "Index-to-word: [(0, 'I'), (1, 'charge'), (2, 'it'), (3, 'at'), (4, 'night')]\n"
     ]
    }
   ],
   "source": [
    "# Word-to-index and index-to-word mapping from the dataset\n",
    "word_to_index = {word:idx for idx, word in enumerate(word_list)}\n",
    "index_to_word = {idx:word for word, idx in word_to_index.items()}\n",
    "label_to_idx = {'O': 0, 'B': 1, 'I': 2}\n",
    "print(f\"Word-to-index: {list(word_to_index.items())[:5]}\")\n",
    "print(f\"Index-to-word: {list(index_to_word.items())[:5]}\")"
   ]
  },
  {
   "cell_type": "code",
   "execution_count": 70,
   "metadata": {},
   "outputs": [
    {
     "name": "stdout",
     "output_type": "stream",
     "text": [
      "Shape of word embeddings: (3497, 300)\n"
     ]
    }
   ],
   "source": [
    "import gensim\n",
    "import torch\n",
    "import gensim.downloader as api\n",
    "wv = api.load('word2vec-google-news-300')\n",
    "\n",
    "# Load word embeddings\n",
    "word_embeddings = []\n",
    "for word in word_list:\n",
    "    try:\n",
    "        word_embeddings.append(wv[word])\n",
    "    except:\n",
    "        word_embeddings.append(wv['unk'])\n",
    "word_embeddings = np.array(word_embeddings)\n",
    "print(f\"Shape of word embeddings: {word_embeddings.shape}\")\n"
   ]
  },
  {
   "cell_type": "code",
   "execution_count": 71,
   "metadata": {},
   "outputs": [
    {
     "name": "stdout",
     "output_type": "stream",
     "text": [
      "Shape of word vectors: (3497, 300)\n"
     ]
    }
   ],
   "source": [
    "# List of word vectors\n",
    "word_vectors = [word_embeddings[word_to_index[word]] for word in word_list]\n",
    "word_vectors = np.array(word_vectors)\n",
    "print(f\"Shape of word vectors: {word_vectors.shape}\")"
   ]
  },
  {
   "cell_type": "code",
   "execution_count": 72,
   "metadata": {},
   "outputs": [],
   "source": [
    "# constants\n",
    "vocab_size = len(word_to_index)\n",
    "embedding_size = 300"
   ]
  },
  {
   "cell_type": "code",
   "execution_count": 73,
   "metadata": {},
   "outputs": [],
   "source": [
    "train_dataset = LaptopReviewDataset(train, vocab_size, embedding_size, word_to_index, index_to_word, label_to_idx)\n",
    "val_dataset = LaptopReviewDataset(val, vocab_size, embedding_size, word_to_index, index_to_word, label_to_idx)\n",
    "test_dataset = LaptopReviewDataset(test, vocab_size, embedding_size, word_to_index, index_to_word, label_to_idx)"
   ]
  },
  {
   "cell_type": "code",
   "execution_count": 74,
   "metadata": {},
   "outputs": [],
   "source": [
    "train_dataloader = DataLoader(train_dataset, batch_size=32, shuffle=True, collate_fn=collate_fn)\n",
    "val_dataloader = DataLoader(val_dataset, batch_size=32, collate_fn=collate_fn)\n",
    "test_dataloader = DataLoader(test_dataset, batch_size=32, collate_fn=collate_fn)"
   ]
  },
  {
   "cell_type": "code",
   "execution_count": 75,
   "metadata": {},
   "outputs": [
    {
     "name": "stdout",
     "output_type": "stream",
     "text": [
      "Batch 1\n",
      "Text shape: torch.Size([32, 40])\n",
      "Labels shape: torch.Size([32, 40])\n",
      "\n",
      "Text: It is VERY easy to type on and feels great - besides the added feature that the keyboard is lighted . PAD PAD PAD PAD PAD PAD PAD PAD PAD PAD PAD PAD PAD PAD PAD PAD PAD PAD PAD\n",
      "Labels: O O O O O B O O O O O O O O B O O B O O O O O O O O O O O O O O O O O O O O O O\n",
      "\n",
      "Text: It 's fast and has excellent battery life . PAD PAD PAD PAD PAD PAD PAD PAD PAD PAD PAD PAD PAD PAD PAD PAD PAD PAD PAD PAD PAD PAD PAD PAD PAD PAD PAD PAD PAD PAD PAD\n",
      "Labels: O O O O O O B I O O O O O O O O O O O O O O O O O O O O O O O O O O O O O O O O\n",
      "\n"
     ]
    }
   ],
   "source": [
    "for i, data in enumerate(train_dataloader, 0):\n",
    "    print(f\"Batch {i+1}\\nText shape: {data['text'].size()}\\nLabels shape: {data['labels'].size()}\\n\")\n",
    "    for j in range(2):\n",
    "        text = data['text'][j]\n",
    "        labels = data['labels'][j]\n",
    "        text_str = ' '.join([index_to_word[idx.item()] for idx in text])\n",
    "        labels_str = ' '.join([list(label_to_idx.keys())[idx.item()] for idx in labels])\n",
    "        print(f\"Text: {text_str}\\nLabels: {labels_str}\\n\")\n",
    "    break"
   ]
  },
  {
   "cell_type": "code",
   "execution_count": 76,
   "metadata": {},
   "outputs": [
    {
     "name": "stderr",
     "output_type": "stream",
     "text": [
      "\u001b[34m\u001b[1mwandb\u001b[0m: Logging into wandb.ai. (Learn how to deploy a W&B server locally: https://wandb.me/wandb-server)\n",
      "\u001b[34m\u001b[1mwandb\u001b[0m: You can find your API key in your browser here: https://wandb.ai/authorize\n",
      "\u001b[34m\u001b[1mwandb\u001b[0m: Paste an API key from your profile and hit enter, or press ctrl+c to quit:"
     ]
    },
    {
     "name": "stderr",
     "output_type": "stream",
     "text": [
      "\u001b[34m\u001b[1mwandb\u001b[0m: Appending key for api.wandb.ai to your netrc file: C:\\Users\\saras\\.netrc\n"
     ]
    },
    {
     "data": {
      "text/plain": [
       "True"
      ]
     },
     "execution_count": 76,
     "metadata": {},
     "output_type": "execute_result"
    }
   ],
   "source": [
    "import tqdm\n",
    "import wandb   \n",
    "wandb.login(relogin=True)"
   ]
  },
  {
   "cell_type": "code",
   "execution_count": 77,
   "metadata": {},
   "outputs": [],
   "source": [
    "model_config = dict(\n",
    "    task = 2, \n",
    "    model = 'RNN',\n",
    "    embed_size = 300,\n",
    "    embedding = 'Word2Vec',\n",
    "    hidden_size = 128,\n",
    "    learning_rate = 0.001,\n",
    "    batch_size = 32,\n",
    "    epochs = 100, \n",
    "    padding = 'max_post', \n",
    "    loss = 'CrossEntropyLoss',\n",
    "    optimizer = 'Adam',\n",
    "    num_hidden = 1,\n",
    "    dropout = 0, \n",
    "    activation = 'tanh'\n",
    ")"
   ]
  },
  {
   "cell_type": "code",
   "execution_count": 78,
   "metadata": {},
   "outputs": [
    {
     "data": {
      "text/html": [
       "Tracking run with wandb version 0.16.4"
      ],
      "text/plain": [
       "<IPython.core.display.HTML object>"
      ]
     },
     "metadata": {},
     "output_type": "display_data"
    },
    {
     "data": {
      "text/html": [
       "Run data is saved locally in <code>c:\\Users\\saras\\NLP-Assignments\\A2\\wandb\\run-20240309_234257-u9xxwblf</code>"
      ],
      "text/plain": [
       "<IPython.core.display.HTML object>"
      ]
     },
     "metadata": {},
     "output_type": "display_data"
    },
    {
     "data": {
      "text/html": [
       "Syncing run <strong><a href='https://wandb.ai/nlp-assignments/assignment-2/runs/u9xxwblf' target=\"_blank\">helpful-flower-16</a></strong> to <a href='https://wandb.ai/nlp-assignments/assignment-2' target=\"_blank\">Weights & Biases</a> (<a href='https://wandb.me/run' target=\"_blank\">docs</a>)<br/>"
      ],
      "text/plain": [
       "<IPython.core.display.HTML object>"
      ]
     },
     "metadata": {},
     "output_type": "display_data"
    },
    {
     "data": {
      "text/html": [
       " View project at <a href='https://wandb.ai/nlp-assignments/assignment-2' target=\"_blank\">https://wandb.ai/nlp-assignments/assignment-2</a>"
      ],
      "text/plain": [
       "<IPython.core.display.HTML object>"
      ]
     },
     "metadata": {},
     "output_type": "display_data"
    },
    {
     "data": {
      "text/html": [
       " View run at <a href='https://wandb.ai/nlp-assignments/assignment-2/runs/u9xxwblf' target=\"_blank\">https://wandb.ai/nlp-assignments/assignment-2/runs/u9xxwblf</a>"
      ],
      "text/plain": [
       "<IPython.core.display.HTML object>"
      ]
     },
     "metadata": {},
     "output_type": "display_data"
    },
    {
     "data": {
      "text/html": [
       "<button onClick=\"this.nextSibling.style.display='block';this.style.display='none';\">Display W&B run</button><iframe src='https://wandb.ai/nlp-assignments/assignment-2/runs/u9xxwblf?jupyter=true' style='border:none;width:100%;height:420px;display:none;'></iframe>"
      ],
      "text/plain": [
       "<wandb.sdk.wandb_run.Run at 0x195ee2b1580>"
      ]
     },
     "execution_count": 78,
     "metadata": {},
     "output_type": "execute_result"
    }
   ],
   "source": [
    "wandb.init(project=\"assignment-2\", entity=\"nlp-assignments\", config=model_config)"
   ]
  },
  {
   "cell_type": "code",
   "execution_count": 79,
   "metadata": {},
   "outputs": [
    {
     "name": "stdout",
     "output_type": "stream",
     "text": [
      "3497 3497 300 128\n",
      "Input shape: torch.Size([32, 78])\n",
      "Label shape: torch.Size([32, 78])\n",
      "Output shape: torch.Size([32, 78, 3])\n",
      "Hidden shape: torch.Size([1, 32, 128])\n",
      "\n"
     ]
    }
   ],
   "source": [
    "# Initialize the model\n",
    "vocab_size = len(word_to_index)\n",
    "embed_size = model_config['embed_size'] # Size of the word embeddings\n",
    "hidden_size = model_config['hidden_size'] # Size of the hidden state\n",
    "word_vectors = torch.tensor(word_vectors)\n",
    "word_vectors = word_vectors.float()\n",
    "print(vocab_size, len(word_vectors), embed_size, hidden_size)\n",
    "model = RNNModel(vocab_size, embed_size, hidden_size, word_vectors, model_config)\n",
    "for i, data in enumerate(train_dataloader, 0):\n",
    "    text = data['text']\n",
    "    print(f\"Input shape: {text.size()}\")\n",
    "    print(f\"Label shape: {data['labels'].size()}\")\n",
    "    output, hidden = model(text)\n",
    "    print(f\"Output shape: {output.size()}\\nHidden shape: {hidden.size()}\\n\")\n",
    "    break"
   ]
  },
  {
   "cell_type": "code",
   "execution_count": 80,
   "metadata": {},
   "outputs": [],
   "source": [
    "# Loss function and optimizer\n",
    "criterion = nn.CrossEntropyLoss()\n",
    "optimizer = optim.Adam(model.parameters(), lr=0.001)"
   ]
  },
  {
   "cell_type": "code",
   "execution_count": 81,
   "metadata": {},
   "outputs": [
    {
     "name": "stderr",
     "output_type": "stream",
     "text": [
      "100%|██████████| 100/100 [02:25<00:00,  1.46s/it]\n"
     ]
    }
   ],
   "source": [
    "model = train_model(model, train_dataloader, val_dataloader, criterion, optimizer, model_config)"
   ]
  },
  {
   "cell_type": "code",
   "execution_count": 84,
   "metadata": {},
   "outputs": [
    {
     "name": "stdout",
     "output_type": "stream",
     "text": [
      "Test accuracy: 0.9661\n",
      "Test precision: 0.9633\n",
      "Test macro F1: 0.6907\n",
      "Test loss: 2.8735\n",
      "\n",
      "Classification report:\n",
      "              precision    recall  f1-score   support\n",
      "\n",
      "           0       0.98      0.99      0.98     14774\n",
      "           1       0.62      0.58      0.60       463\n",
      "           2       0.64      0.39      0.49       243\n",
      "\n",
      "    accuracy                           0.97     15480\n",
      "   macro avg       0.75      0.65      0.69     15480\n",
      "weighted avg       0.96      0.97      0.96     15480\n",
      "\n"
     ]
    }
   ],
   "source": [
    "accuracy, precision, macro_f1, loss, classification_report = evaluation(model, test_dataloader, criterion)\n",
    "print(f\"Test accuracy: {accuracy:.4f}\\nTest precision: {precision:.4f}\\nTest macro F1: {macro_f1:.4f}\\nTest loss: {loss:.4f}\\n\")\n",
    "print(f\"Classification report:\\n{classification_report}\")\n",
    "wandb.log({\"Test accuracy\": accuracy, \"Test precision\": precision, \"Test macro F1\": macro_f1, \"Test loss\": loss})"
   ]
  },
  {
   "cell_type": "code",
   "execution_count": 85,
   "metadata": {},
   "outputs": [
    {
     "data": {
      "text/html": [
       "<style>\n",
       "    table.wandb td:nth-child(1) { padding: 0 10px; text-align: left ; width: auto;} td:nth-child(2) {text-align: left ; width: 100%}\n",
       "    .wandb-row { display: flex; flex-direction: row; flex-wrap: wrap; justify-content: flex-start; width: 100% }\n",
       "    .wandb-col { display: flex; flex-direction: column; flex-basis: 100%; flex: 1; padding: 10px; }\n",
       "    </style>\n",
       "<div class=\"wandb-row\"><div class=\"wandb-col\"><h3>Run history:</h3><br/><table class=\"wandb\"><tr><td>Test accuracy</td><td>▁</td></tr><tr><td>Test loss</td><td>▁</td></tr><tr><td>Test macro F1</td><td>▁</td></tr><tr><td>Test precision</td><td>▁</td></tr><tr><td>epoch</td><td>▁▁▁▁▂▂▂▂▂▃▃▃▃▃▃▄▄▄▄▄▅▅▅▅▅▅▆▆▆▆▆▇▇▇▇▇▇███</td></tr><tr><td>minibatch_acc</td><td>▂▁▅▃▄▃▅▆▅▆▇▇▇▆▇▇▇▇▇██████▇██▇███████████</td></tr><tr><td>minibatch_epoch</td><td>▁▁▁▁▂▂▂▂▂▃▃▃▃▃▃▄▄▄▄▄▅▅▅▅▅▅▆▆▆▆▆▇▇▇▇▇▇███</td></tr><tr><td>minibatch_f1</td><td>▁▁▅▅▄▄▆▆▆▇▇▇▇▆▇█▇███████████████████████</td></tr><tr><td>minibatch_loss</td><td>█▇▄▅▅▄▃▃▃▃▂▂▂▃▂▂▂▁▂▁▁▁▁▁▁▂▁▁▁▁▁▁▁▁▁▁▁▁▁▁</td></tr><tr><td>train_acc</td><td>▁▂▃▄▅▅▅▆▆▆▇▆▇▇▇█████████████▇███████████</td></tr><tr><td>train_f1</td><td>▁▂▅▅▆▆▆▇▇▇▇▇████████████████████████████</td></tr><tr><td>train_loss</td><td>█▅▄▄▃▃▃▃▂▂▂▂▂▂▁▁▁▁▁▁▁▁▁▁▁▁▁▁▁▁▁▁▁▁▁▁▁▁▁▁</td></tr><tr><td>val_acc</td><td>▁▂▆▇█▇████▇▇▇▇▇▇▇▆▆▆▆▆▇▆▆▆▆▅▆▆▆▆▅▆▆▆▆▆▆▆</td></tr><tr><td>val_f1</td><td>▁▃▆▇▇██████▇█▇▇▇▇▇▇▇▇▇▇▇▇▇▇▇▇▇▇▇▇▇▇▇▇▇▇▇</td></tr><tr><td>val_loss</td><td>█▄▂▁▁▁▁▁▁▂▂▂▂▂▃▃▃▄▄▄▄▅▅▅▆▆▆▆▅▅▆▆▆▆▆▇▇▇██</td></tr></table><br/></div><div class=\"wandb-col\"><h3>Run summary:</h3><br/><table class=\"wandb\"><tr><td>Test accuracy</td><td>0.96609</td></tr><tr><td>Test loss</td><td>2.87347</td></tr><tr><td>Test macro F1</td><td>0.69067</td></tr><tr><td>Test precision</td><td>0.96333</td></tr><tr><td>epoch</td><td>99</td></tr><tr><td>minibatch_acc</td><td>1.0</td></tr><tr><td>minibatch_epoch</td><td>2899</td></tr><tr><td>minibatch_f1</td><td>1.0</td></tr><tr><td>minibatch_loss</td><td>0.00103</td></tr><tr><td>train_acc</td><td>0.99941</td></tr><tr><td>train_f1</td><td>0.99621</td></tr><tr><td>train_loss</td><td>0.05849</td></tr><tr><td>val_acc</td><td>0.97688</td></tr><tr><td>val_f1</td><td>0.72592</td></tr><tr><td>val_loss</td><td>0.9975</td></tr></table><br/></div></div>"
      ],
      "text/plain": [
       "<IPython.core.display.HTML object>"
      ]
     },
     "metadata": {},
     "output_type": "display_data"
    },
    {
     "data": {
      "text/html": [
       " View run <strong style=\"color:#cdcd00\">helpful-flower-16</strong> at: <a href='https://wandb.ai/nlp-assignments/assignment-2/runs/u9xxwblf' target=\"_blank\">https://wandb.ai/nlp-assignments/assignment-2/runs/u9xxwblf</a><br/>Synced 6 W&B file(s), 0 media file(s), 0 artifact file(s) and 0 other file(s)"
      ],
      "text/plain": [
       "<IPython.core.display.HTML object>"
      ]
     },
     "metadata": {},
     "output_type": "display_data"
    },
    {
     "data": {
      "text/html": [
       "Find logs at: <code>.\\wandb\\run-20240309_234257-u9xxwblf\\logs</code>"
      ],
      "text/plain": [
       "<IPython.core.display.HTML object>"
      ]
     },
     "metadata": {},
     "output_type": "display_data"
    }
   ],
   "source": [
    "wandb.finish()"
   ]
  },
  {
   "cell_type": "code",
   "execution_count": 87,
   "metadata": {},
   "outputs": [],
   "source": [
    "# saving the model\n",
    "torch.save(model.state_dict(), 'RNN_Word2Vec_Task2_Exp1.pth')"
   ]
  },
  {
   "cell_type": "markdown",
   "metadata": {},
   "source": [
    "#### Task 2: GRU + Word2Vec"
   ]
  },
  {
   "cell_type": "code",
   "execution_count": 88,
   "metadata": {},
   "outputs": [
    {
     "name": "stderr",
     "output_type": "stream",
     "text": [
      "\u001b[34m\u001b[1mwandb\u001b[0m: Logging into wandb.ai. (Learn how to deploy a W&B server locally: https://wandb.me/wandb-server)\n",
      "\u001b[34m\u001b[1mwandb\u001b[0m: You can find your API key in your browser here: https://wandb.ai/authorize\n",
      "\u001b[34m\u001b[1mwandb\u001b[0m: Paste an API key from your profile and hit enter, or press ctrl+c to quit:\u001b[34m\u001b[1mwandb\u001b[0m: Appending key for api.wandb.ai to your netrc file: C:\\Users\\saras\\.netrc\n"
     ]
    },
    {
     "data": {
      "text/plain": [
       "True"
      ]
     },
     "execution_count": 88,
     "metadata": {},
     "output_type": "execute_result"
    }
   ],
   "source": [
    "import tqdm\n",
    "import wandb\n",
    "wandb.login(relogin=True)"
   ]
  },
  {
   "cell_type": "code",
   "execution_count": 89,
   "metadata": {},
   "outputs": [],
   "source": [
    "model_config = dict(\n",
    "    task = 2, \n",
    "    model = 'GRU',\n",
    "    embed_size = 300,\n",
    "    embedding = 'Word2Vec',\n",
    "    hidden_size = 128,\n",
    "    learning_rate = 0.001,\n",
    "    batch_size = 32,\n",
    "    epochs = 100, \n",
    "    padding = 'max_post', \n",
    "    loss = 'CrossEntropyLoss',\n",
    "    optimizer = 'Adam',\n",
    "    num_hidden = 1,\n",
    "    dropout = 0, \n",
    "    activation = 'tanh'\n",
    ")"
   ]
  },
  {
   "cell_type": "code",
   "execution_count": 90,
   "metadata": {},
   "outputs": [
    {
     "data": {
      "text/html": [
       "Tracking run with wandb version 0.16.4"
      ],
      "text/plain": [
       "<IPython.core.display.HTML object>"
      ]
     },
     "metadata": {},
     "output_type": "display_data"
    },
    {
     "data": {
      "text/html": [
       "Run data is saved locally in <code>c:\\Users\\saras\\NLP-Assignments\\A2\\wandb\\run-20240310_012540-2fwxxnma</code>"
      ],
      "text/plain": [
       "<IPython.core.display.HTML object>"
      ]
     },
     "metadata": {},
     "output_type": "display_data"
    },
    {
     "data": {
      "text/html": [
       "Syncing run <strong><a href='https://wandb.ai/nlp-assignments/assignment-2/runs/2fwxxnma' target=\"_blank\">fragrant-lion-17</a></strong> to <a href='https://wandb.ai/nlp-assignments/assignment-2' target=\"_blank\">Weights & Biases</a> (<a href='https://wandb.me/run' target=\"_blank\">docs</a>)<br/>"
      ],
      "text/plain": [
       "<IPython.core.display.HTML object>"
      ]
     },
     "metadata": {},
     "output_type": "display_data"
    },
    {
     "data": {
      "text/html": [
       " View project at <a href='https://wandb.ai/nlp-assignments/assignment-2' target=\"_blank\">https://wandb.ai/nlp-assignments/assignment-2</a>"
      ],
      "text/plain": [
       "<IPython.core.display.HTML object>"
      ]
     },
     "metadata": {},
     "output_type": "display_data"
    },
    {
     "data": {
      "text/html": [
       " View run at <a href='https://wandb.ai/nlp-assignments/assignment-2/runs/2fwxxnma' target=\"_blank\">https://wandb.ai/nlp-assignments/assignment-2/runs/2fwxxnma</a>"
      ],
      "text/plain": [
       "<IPython.core.display.HTML object>"
      ]
     },
     "metadata": {},
     "output_type": "display_data"
    },
    {
     "data": {
      "text/html": [
       "<button onClick=\"this.nextSibling.style.display='block';this.style.display='none';\">Display W&B run</button><iframe src='https://wandb.ai/nlp-assignments/assignment-2/runs/2fwxxnma?jupyter=true' style='border:none;width:100%;height:420px;display:none;'></iframe>"
      ],
      "text/plain": [
       "<wandb.sdk.wandb_run.Run at 0x195ed046360>"
      ]
     },
     "execution_count": 90,
     "metadata": {},
     "output_type": "execute_result"
    }
   ],
   "source": [
    "wandb.init(project=\"assignment-2\", entity=\"nlp-assignments\", config=model_config)"
   ]
  },
  {
   "cell_type": "code",
   "execution_count": 91,
   "metadata": {},
   "outputs": [
    {
     "name": "stdout",
     "output_type": "stream",
     "text": [
      "3497 3497 300 128\n",
      "Input shape: torch.Size([32, 37])\n",
      "Label shape: torch.Size([32, 37])\n",
      "Output shape: torch.Size([32, 37, 3])\n",
      "Hidden shape: torch.Size([1, 32, 128])\n",
      "\n"
     ]
    },
    {
     "name": "stderr",
     "output_type": "stream",
     "text": [
      "C:\\Users\\saras\\AppData\\Local\\Temp\\ipykernel_18036\\532150329.py:5: UserWarning: To copy construct from a tensor, it is recommended to use sourceTensor.clone().detach() or sourceTensor.clone().detach().requires_grad_(True), rather than torch.tensor(sourceTensor).\n",
      "  word_vectors = torch.tensor(word_vectors)\n"
     ]
    }
   ],
   "source": [
    "# Initialize the model\n",
    "vocab_size = len(word_to_index)\n",
    "embed_size = model_config['embed_size'] # Size of the word embeddings\n",
    "hidden_size = model_config['hidden_size'] # Size of the hidden state\n",
    "word_vectors = torch.tensor(word_vectors)\n",
    "word_vectors = word_vectors.float()\n",
    "print(vocab_size, len(word_vectors), embed_size, hidden_size)\n",
    "model = RNNModel(vocab_size, embed_size, hidden_size, word_vectors, model_config)\n",
    "for i, data in enumerate(train_dataloader, 0):\n",
    "    text = data['text']\n",
    "    print(f\"Input shape: {text.size()}\")\n",
    "    print(f\"Label shape: {data['labels'].size()}\")\n",
    "    output, hidden = model(text)\n",
    "    print(f\"Output shape: {output.size()}\\nHidden shape: {hidden.size()}\\n\")\n",
    "    break"
   ]
  },
  {
   "cell_type": "code",
   "execution_count": 92,
   "metadata": {},
   "outputs": [],
   "source": [
    "# Loss function and optimizer\n",
    "criterion = nn.CrossEntropyLoss()\n",
    "optimizer = optim.Adam(model.parameters(), lr=0.001)"
   ]
  },
  {
   "cell_type": "code",
   "execution_count": 93,
   "metadata": {},
   "outputs": [
    {
     "name": "stderr",
     "output_type": "stream",
     "text": [
      "100%|██████████| 100/100 [07:22<00:00,  4.42s/it]\n"
     ]
    }
   ],
   "source": [
    "model = train_model(model, train_dataloader, val_dataloader, criterion, optimizer, model_config)"
   ]
  },
  {
   "cell_type": "code",
   "execution_count": 94,
   "metadata": {},
   "outputs": [
    {
     "name": "stdout",
     "output_type": "stream",
     "text": [
      "Test accuracy: 0.9705\n",
      "Test precision: 0.9680\n",
      "Test macro F1: 0.7259\n",
      "Test loss: 2.6822\n",
      "\n",
      "Classification report:\n",
      "              precision    recall  f1-score   support\n",
      "\n",
      "           0       0.98      0.99      0.99     14774\n",
      "           1       0.70      0.64      0.67       463\n",
      "           2       0.69      0.42      0.53       243\n",
      "\n",
      "    accuracy                           0.97     15480\n",
      "   macro avg       0.79      0.68      0.73     15480\n",
      "weighted avg       0.97      0.97      0.97     15480\n",
      "\n"
     ]
    }
   ],
   "source": [
    "accuracy, precision, macro_f1, loss, classification_report = evaluation(model, test_dataloader, criterion)\n",
    "print(f\"Test accuracy: {accuracy:.4f}\\nTest precision: {precision:.4f}\\nTest macro F1: {macro_f1:.4f}\\nTest loss: {loss:.4f}\\n\")\n",
    "print(f\"Classification report:\\n{classification_report}\")\n",
    "wandb.log({\"Test accuracy\": accuracy, \"Test precision\": precision, \"Test macro F1\": macro_f1, \"Test loss\": loss})"
   ]
  },
  {
   "cell_type": "code",
   "execution_count": 95,
   "metadata": {},
   "outputs": [
    {
     "data": {
      "text/html": [
       "<style>\n",
       "    table.wandb td:nth-child(1) { padding: 0 10px; text-align: left ; width: auto;} td:nth-child(2) {text-align: left ; width: 100%}\n",
       "    .wandb-row { display: flex; flex-direction: row; flex-wrap: wrap; justify-content: flex-start; width: 100% }\n",
       "    .wandb-col { display: flex; flex-direction: column; flex-basis: 100%; flex: 1; padding: 10px; }\n",
       "    </style>\n",
       "<div class=\"wandb-row\"><div class=\"wandb-col\"><h3>Run history:</h3><br/><table class=\"wandb\"><tr><td>Test accuracy</td><td>▁</td></tr><tr><td>Test loss</td><td>▁</td></tr><tr><td>Test macro F1</td><td>▁</td></tr><tr><td>Test precision</td><td>▁</td></tr><tr><td>epoch</td><td>▁▁▁▁▂▂▂▂▂▃▃▃▃▃▃▄▄▄▄▄▅▅▅▅▅▅▆▆▆▆▆▇▇▇▇▇▇███</td></tr><tr><td>minibatch_acc</td><td>▁▅▁▅▅▄▅▆▆▆▅▇▇█▇█████████████████████████</td></tr><tr><td>minibatch_epoch</td><td>▁▁▁▁▂▂▂▂▂▃▃▃▃▃▃▄▄▄▄▄▅▅▅▅▅▅▆▆▆▆▆▇▇▇▇▇▇███</td></tr><tr><td>minibatch_f1</td><td>▁▅▃▆▆▅▆▆▇▇▆▇▇███████████████████████████</td></tr><tr><td>minibatch_loss</td><td>█▃▅▃▄▄▃▃▂▂▃▂▂▂▁▁▁▁▁▁▁▁▁▁▁▁▁▁▁▁▁▁▁▁▁▁▁▁▁▁</td></tr><tr><td>train_acc</td><td>▁▁▃▄▄▅▅▆▆▆▇▇▇███████████████████████████</td></tr><tr><td>train_f1</td><td>▁▁▄▅▆▆▇▇▇▇▇█████████████████████████████</td></tr><tr><td>train_loss</td><td>█▆▅▄▄▃▃▃▂▂▂▂▂▁▁▁▁▁▁▁▁▁▁▁▁▁▁▁▁▁▁▁▁▁▁▁▁▁▁▁</td></tr><tr><td>val_acc</td><td>▁▁▅▆████▇█▇▇▇▇▇▇▇█▇▇▇▇▇▇▇▇▇▇▆▇▇▇▇▇▇▇▇▇▇▇</td></tr><tr><td>val_f1</td><td>▁▁▆▇█████████▇▇▇▇██▇▇▇▇▇▇▇▇▇▇▇▇▇▇▇▇▇▇▇▇▇</td></tr><tr><td>val_loss</td><td>█▅▃▂▁▁▁▁▁▁▂▂▂▃▃▃▃▄▄▅▅▅▅▅▆▆▆▆▆▆▆▆▆▆▇▇▇▇▇▇</td></tr></table><br/></div><div class=\"wandb-col\"><h3>Run summary:</h3><br/><table class=\"wandb\"><tr><td>Test accuracy</td><td>0.97048</td></tr><tr><td>Test loss</td><td>2.68217</td></tr><tr><td>Test macro F1</td><td>0.72587</td></tr><tr><td>Test precision</td><td>0.96802</td></tr><tr><td>epoch</td><td>99</td></tr><tr><td>minibatch_acc</td><td>1.0</td></tr><tr><td>minibatch_epoch</td><td>2899</td></tr><tr><td>minibatch_f1</td><td>1.0</td></tr><tr><td>minibatch_loss</td><td>0.00061</td></tr><tr><td>train_acc</td><td>0.99972</td></tr><tr><td>train_f1</td><td>0.99811</td></tr><tr><td>train_loss</td><td>0.03184</td></tr><tr><td>val_acc</td><td>0.98016</td></tr><tr><td>val_f1</td><td>0.75544</td></tr><tr><td>val_loss</td><td>0.91494</td></tr></table><br/></div></div>"
      ],
      "text/plain": [
       "<IPython.core.display.HTML object>"
      ]
     },
     "metadata": {},
     "output_type": "display_data"
    },
    {
     "data": {
      "text/html": [
       " View run <strong style=\"color:#cdcd00\">fragrant-lion-17</strong> at: <a href='https://wandb.ai/nlp-assignments/assignment-2/runs/2fwxxnma' target=\"_blank\">https://wandb.ai/nlp-assignments/assignment-2/runs/2fwxxnma</a><br/>Synced 6 W&B file(s), 0 media file(s), 0 artifact file(s) and 0 other file(s)"
      ],
      "text/plain": [
       "<IPython.core.display.HTML object>"
      ]
     },
     "metadata": {},
     "output_type": "display_data"
    },
    {
     "data": {
      "text/html": [
       "Find logs at: <code>.\\wandb\\run-20240310_012540-2fwxxnma\\logs</code>"
      ],
      "text/plain": [
       "<IPython.core.display.HTML object>"
      ]
     },
     "metadata": {},
     "output_type": "display_data"
    }
   ],
   "source": [
    "wandb.finish()"
   ]
  },
  {
   "cell_type": "code",
   "execution_count": 96,
   "metadata": {},
   "outputs": [],
   "source": [
    "# saving the model\n",
    "torch.save(model.state_dict(), 'GRU_Word2Vec_Task2_Exp1.pth')"
   ]
  },
  {
   "cell_type": "markdown",
   "metadata": {},
   "source": [
    "### Task 2: LSTM + Word2Vec"
   ]
  },
  {
   "cell_type": "code",
   "execution_count": 97,
   "metadata": {},
   "outputs": [
    {
     "name": "stderr",
     "output_type": "stream",
     "text": [
      "\u001b[34m\u001b[1mwandb\u001b[0m: Logging into wandb.ai. (Learn how to deploy a W&B server locally: https://wandb.me/wandb-server)\n",
      "\u001b[34m\u001b[1mwandb\u001b[0m: You can find your API key in your browser here: https://wandb.ai/authorize\n",
      "\u001b[34m\u001b[1mwandb\u001b[0m: Paste an API key from your profile and hit enter, or press ctrl+c to quit:\u001b[34m\u001b[1mwandb\u001b[0m: \u001b[32m\u001b[41mERROR\u001b[0m API key must be 40 characters long, yours was 81\n",
      "\u001b[34m\u001b[1mwandb\u001b[0m: Logging into wandb.ai. (Learn how to deploy a W&B server locally: https://wandb.me/wandb-server)\n",
      "\u001b[34m\u001b[1mwandb\u001b[0m: You can find your API key in your browser here: https://wandb.ai/authorize\n",
      "\u001b[34m\u001b[1mwandb\u001b[0m: Paste an API key from your profile and hit enter, or press ctrl+c to quit:\u001b[34m\u001b[1mwandb\u001b[0m: Appending key for api.wandb.ai to your netrc file: C:\\Users\\saras\\.netrc\n"
     ]
    },
    {
     "data": {
      "text/plain": [
       "True"
      ]
     },
     "execution_count": 97,
     "metadata": {},
     "output_type": "execute_result"
    }
   ],
   "source": [
    "import tqdm\n",
    "import wandb\n",
    "wandb.login(relogin=True)"
   ]
  },
  {
   "cell_type": "code",
   "execution_count": 98,
   "metadata": {},
   "outputs": [],
   "source": [
    "model_config = dict(\n",
    "    task = 2, \n",
    "    model = 'LSTM',\n",
    "    embed_size = 300,\n",
    "    embedding = 'Word2Vec',\n",
    "    hidden_size = 128,\n",
    "    learning_rate = 0.001,\n",
    "    batch_size = 32,\n",
    "    epochs = 100, \n",
    "    padding = 'max_post', \n",
    "    loss = 'CrossEntropyLoss',\n",
    "    optimizer = 'Adam',\n",
    "    num_hidden = 1,\n",
    "    dropout = 0, \n",
    "    activation = 'tanh'\n",
    ")"
   ]
  },
  {
   "cell_type": "code",
   "execution_count": 99,
   "metadata": {},
   "outputs": [
    {
     "data": {
      "text/html": [
       "Tracking run with wandb version 0.16.4"
      ],
      "text/plain": [
       "<IPython.core.display.HTML object>"
      ]
     },
     "metadata": {},
     "output_type": "display_data"
    },
    {
     "data": {
      "text/html": [
       "Run data is saved locally in <code>c:\\Users\\saras\\NLP-Assignments\\A2\\wandb\\run-20240310_013559-72kh58p7</code>"
      ],
      "text/plain": [
       "<IPython.core.display.HTML object>"
      ]
     },
     "metadata": {},
     "output_type": "display_data"
    },
    {
     "data": {
      "text/html": [
       "Syncing run <strong><a href='https://wandb.ai/nlp-assignments/assignment-2/runs/72kh58p7' target=\"_blank\">firm-energy-18</a></strong> to <a href='https://wandb.ai/nlp-assignments/assignment-2' target=\"_blank\">Weights & Biases</a> (<a href='https://wandb.me/run' target=\"_blank\">docs</a>)<br/>"
      ],
      "text/plain": [
       "<IPython.core.display.HTML object>"
      ]
     },
     "metadata": {},
     "output_type": "display_data"
    },
    {
     "data": {
      "text/html": [
       " View project at <a href='https://wandb.ai/nlp-assignments/assignment-2' target=\"_blank\">https://wandb.ai/nlp-assignments/assignment-2</a>"
      ],
      "text/plain": [
       "<IPython.core.display.HTML object>"
      ]
     },
     "metadata": {},
     "output_type": "display_data"
    },
    {
     "data": {
      "text/html": [
       " View run at <a href='https://wandb.ai/nlp-assignments/assignment-2/runs/72kh58p7' target=\"_blank\">https://wandb.ai/nlp-assignments/assignment-2/runs/72kh58p7</a>"
      ],
      "text/plain": [
       "<IPython.core.display.HTML object>"
      ]
     },
     "metadata": {},
     "output_type": "display_data"
    },
    {
     "data": {
      "text/html": [
       "<button onClick=\"this.nextSibling.style.display='block';this.style.display='none';\">Display W&B run</button><iframe src='https://wandb.ai/nlp-assignments/assignment-2/runs/72kh58p7?jupyter=true' style='border:none;width:100%;height:420px;display:none;'></iframe>"
      ],
      "text/plain": [
       "<wandb.sdk.wandb_run.Run at 0x1958c479400>"
      ]
     },
     "execution_count": 99,
     "metadata": {},
     "output_type": "execute_result"
    }
   ],
   "source": [
    "wandb.init(project=\"assignment-2\", entity=\"nlp-assignments\", config=model_config)"
   ]
  },
  {
   "cell_type": "code",
   "execution_count": 100,
   "metadata": {},
   "outputs": [
    {
     "name": "stdout",
     "output_type": "stream",
     "text": [
      "3497 3497 300 128\n",
      "Input shape: torch.Size([32, 56])\n",
      "Label shape: torch.Size([32, 56])\n",
      "Output shape: torch.Size([32, 56, 3])\n"
     ]
    },
    {
     "name": "stderr",
     "output_type": "stream",
     "text": [
      "C:\\Users\\saras\\AppData\\Local\\Temp\\ipykernel_18036\\36252246.py:5: UserWarning: To copy construct from a tensor, it is recommended to use sourceTensor.clone().detach() or sourceTensor.clone().detach().requires_grad_(True), rather than torch.tensor(sourceTensor).\n",
      "  word_vectors = torch.tensor(word_vectors)\n"
     ]
    }
   ],
   "source": [
    "# Initialize the model\n",
    "vocab_size = len(word_to_index)\n",
    "embed_size = model_config['embed_size'] # Size of the word embeddings\n",
    "hidden_size = model_config['hidden_size'] # Size of the hidden state\n",
    "word_vectors = torch.tensor(word_vectors)\n",
    "word_vectors = word_vectors.float()\n",
    "print(vocab_size, len(word_vectors), embed_size, hidden_size)\n",
    "model = RNNModel(vocab_size, embed_size, hidden_size, word_vectors, model_config)\n",
    "for i, data in enumerate(train_dataloader, 0):\n",
    "    text = data['text']\n",
    "    print(f\"Input shape: {text.size()}\")\n",
    "    print(f\"Label shape: {data['labels'].size()}\")\n",
    "    output, hidden = model(text)\n",
    "    print(f\"Output shape: {output.size()}\")\n",
    "    break"
   ]
  },
  {
   "cell_type": "code",
   "execution_count": 101,
   "metadata": {},
   "outputs": [],
   "source": [
    "# Loss function and optimizer\n",
    "criterion = nn.CrossEntropyLoss()\n",
    "optimizer = optim.Adam(model.parameters(), lr=0.001)"
   ]
  },
  {
   "cell_type": "code",
   "execution_count": 102,
   "metadata": {},
   "outputs": [
    {
     "name": "stderr",
     "output_type": "stream",
     "text": [
      "100%|██████████| 100/100 [05:39<00:00,  3.39s/it]\n"
     ]
    }
   ],
   "source": [
    "model = train_model(model, train_dataloader, val_dataloader, criterion, optimizer, model_config)"
   ]
  },
  {
   "cell_type": "code",
   "execution_count": 103,
   "metadata": {},
   "outputs": [
    {
     "name": "stdout",
     "output_type": "stream",
     "text": [
      "Test accuracy: 0.9702\n",
      "Test precision: 0.9681\n",
      "Test macro F1: 0.7210\n",
      "Test loss: 2.3645\n",
      "\n",
      "Classification report:\n",
      "              precision    recall  f1-score   support\n",
      "\n",
      "           0       0.98      0.99      0.99     14774\n",
      "           1       0.67      0.65      0.66       463\n",
      "           2       0.71      0.40      0.51       243\n",
      "\n",
      "    accuracy                           0.97     15480\n",
      "   macro avg       0.79      0.68      0.72     15480\n",
      "weighted avg       0.97      0.97      0.97     15480\n",
      "\n"
     ]
    }
   ],
   "source": [
    "accuracy, precision, macro_f1, loss, classification_report = evaluation(model, test_dataloader, criterion)\n",
    "print(f\"Test accuracy: {accuracy:.4f}\\nTest precision: {precision:.4f}\\nTest macro F1: {macro_f1:.4f}\\nTest loss: {loss:.4f}\\n\")\n",
    "print(f\"Classification report:\\n{classification_report}\")\n",
    "wandb.log({\"Test accuracy\": accuracy, \"Test precision\": precision, \"Test macro F1\": macro_f1, \"Test loss\": loss})"
   ]
  },
  {
   "cell_type": "code",
   "execution_count": 104,
   "metadata": {},
   "outputs": [
    {
     "data": {
      "text/html": [
       "<style>\n",
       "    table.wandb td:nth-child(1) { padding: 0 10px; text-align: left ; width: auto;} td:nth-child(2) {text-align: left ; width: 100%}\n",
       "    .wandb-row { display: flex; flex-direction: row; flex-wrap: wrap; justify-content: flex-start; width: 100% }\n",
       "    .wandb-col { display: flex; flex-direction: column; flex-basis: 100%; flex: 1; padding: 10px; }\n",
       "    </style>\n",
       "<div class=\"wandb-row\"><div class=\"wandb-col\"><h3>Run history:</h3><br/><table class=\"wandb\"><tr><td>Test accuracy</td><td>▁</td></tr><tr><td>Test loss</td><td>▁</td></tr><tr><td>Test macro F1</td><td>▁</td></tr><tr><td>Test precision</td><td>▁</td></tr><tr><td>epoch</td><td>▁▁▁▁▂▂▂▂▂▃▃▃▃▃▃▄▄▄▄▄▅▅▅▅▅▅▆▆▆▆▆▇▇▇▇▇▇███</td></tr><tr><td>minibatch_acc</td><td>▃▂▁▅▄▄▇▆▆▅▇▇█▇▇█▇███████████████████████</td></tr><tr><td>minibatch_epoch</td><td>▁▁▁▁▂▂▂▂▂▃▃▃▃▃▃▄▄▄▄▄▅▅▅▅▅▅▆▆▆▆▆▇▇▇▇▇▇███</td></tr><tr><td>minibatch_f1</td><td>▃▂▁▆▅▅▇▇▆▆▇██▇▇█████████████████████████</td></tr><tr><td>minibatch_loss</td><td>███▄▄▄▂▃▃▃▂▂▂▂▂▁▂▁▁▁▁▁▁▁▁▁▁▁▁▁▁▁▁▁▁▁▁▁▁▁</td></tr><tr><td>train_acc</td><td>▁▁▂▃▄▄▅▅▆▆▇▇▇█▇█████████████████████████</td></tr><tr><td>train_f1</td><td>▁▁▂▄▆▆▆▆▇▇▇▇████████████████████████████</td></tr><tr><td>train_loss</td><td>█▆▅▄▄▃▃▃▂▂▂▂▂▁▁▁▁▁▁▁▁▁▁▁▁▁▁▁▁▁▁▁▁▁▁▁▁▁▁▁</td></tr><tr><td>val_acc</td><td>▁▁▂▅▇▇█▇██████▇▇▇█▇█▇▇▇▇▇█▇▇▇▇█▇▇▇▇▇▇▇▇▇</td></tr><tr><td>val_f1</td><td>▁▁▃▅▇███████████████▇█▇████▇█▇█▇██▇▇▇▇▇█</td></tr><tr><td>val_loss</td><td>█▆▃▂▁▁▁▁▁▁▁▁▂▂▂▂▃▃▃▃▄▄▄▄▄▄▄▄▄▅▄▅▄▄▅▅▅▅▅▅</td></tr></table><br/></div><div class=\"wandb-col\"><h3>Run summary:</h3><br/><table class=\"wandb\"><tr><td>Test accuracy</td><td>0.97016</td></tr><tr><td>Test loss</td><td>2.36452</td></tr><tr><td>Test macro F1</td><td>0.72098</td></tr><tr><td>Test precision</td><td>0.96807</td></tr><tr><td>epoch</td><td>99</td></tr><tr><td>minibatch_acc</td><td>1.0</td></tr><tr><td>minibatch_epoch</td><td>2899</td></tr><tr><td>minibatch_f1</td><td>1.0</td></tr><tr><td>minibatch_loss</td><td>0.00146</td></tr><tr><td>train_acc</td><td>0.99969</td></tr><tr><td>train_f1</td><td>0.99797</td></tr><tr><td>train_loss</td><td>0.03573</td></tr><tr><td>val_acc</td><td>0.98227</td></tr><tr><td>val_f1</td><td>0.78481</td></tr><tr><td>val_loss</td><td>0.79025</td></tr></table><br/></div></div>"
      ],
      "text/plain": [
       "<IPython.core.display.HTML object>"
      ]
     },
     "metadata": {},
     "output_type": "display_data"
    },
    {
     "data": {
      "text/html": [
       " View run <strong style=\"color:#cdcd00\">firm-energy-18</strong> at: <a href='https://wandb.ai/nlp-assignments/assignment-2/runs/72kh58p7' target=\"_blank\">https://wandb.ai/nlp-assignments/assignment-2/runs/72kh58p7</a><br/>Synced 6 W&B file(s), 0 media file(s), 0 artifact file(s) and 0 other file(s)"
      ],
      "text/plain": [
       "<IPython.core.display.HTML object>"
      ]
     },
     "metadata": {},
     "output_type": "display_data"
    },
    {
     "data": {
      "text/html": [
       "Find logs at: <code>.\\wandb\\run-20240310_013559-72kh58p7\\logs</code>"
      ],
      "text/plain": [
       "<IPython.core.display.HTML object>"
      ]
     },
     "metadata": {},
     "output_type": "display_data"
    }
   ],
   "source": [
    "wandb.finish()"
   ]
  },
  {
   "cell_type": "code",
   "execution_count": 105,
   "metadata": {},
   "outputs": [],
   "source": [
    "# saving the model\n",
    "torch.save(model.state_dict(), 'LSTM_Word2Vec_Task2_Exp1.pth')"
   ]
  }
 ],
 "metadata": {
  "kernelspec": {
   "display_name": "visiongpu",
   "language": "python",
   "name": "python3"
  },
  "language_info": {
   "codemirror_mode": {
    "name": "ipython",
    "version": 3
   },
   "file_extension": ".py",
   "mimetype": "text/x-python",
   "name": "python",
   "nbconvert_exporter": "python",
   "pygments_lexer": "ipython3",
   "version": "3.12.2"
  }
 },
 "nbformat": 4,
 "nbformat_minor": 2
}
