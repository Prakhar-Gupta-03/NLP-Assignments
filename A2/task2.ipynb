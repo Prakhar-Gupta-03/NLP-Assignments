{
 "cells": [
  {
   "cell_type": "markdown",
   "metadata": {},
   "source": [
    "#### Importing required libraries"
   ]
  },
  {
   "cell_type": "code",
   "execution_count": 54,
   "metadata": {},
   "outputs": [],
   "source": [
    "import json"
   ]
  },
  {
   "cell_type": "code",
   "execution_count": null,
   "metadata": {},
   "outputs": [],
   "source": [
    "with open('Laptop_Review_Train.json') as f:\n",
    "    train_data = json.load(f)"
   ]
  },
  {
   "cell_type": "code",
   "execution_count": 23,
   "metadata": {},
   "outputs": [],
   "source": [
    "with open('Laptop_Review_Val.json') as f:\n",
    "    val_data = json.load(f)"
   ]
  },
  {
   "cell_type": "code",
   "execution_count": 24,
   "metadata": {},
   "outputs": [],
   "source": [
    "with open('Laptop_Review_Test.json') as f:\n",
    "    test_data = json.load(f)"
   ]
  },
  {
   "cell_type": "markdown",
   "metadata": {},
   "source": [
    "#### BIO Encoding of data"
   ]
  },
  {
   "cell_type": "code",
   "execution_count": 55,
   "metadata": {},
   "outputs": [],
   "source": [
    "def bio_label_encoding(tokens, aspects):\n",
    "    labels = ['O'] * len(tokens)\n",
    "    for aspect in aspects: \n",
    "        start = aspect['from']\n",
    "        end = aspect['to']\n",
    "        labels[start] = 'B'\n",
    "        for i in range(start+1, end):\n",
    "            labels[i] = 'I'\n",
    "    return labels"
   ]
  },
  {
   "cell_type": "markdown",
   "metadata": {},
   "source": [
    "#### Iterating over each sentence and encoding it "
   ]
  },
  {
   "cell_type": "code",
   "execution_count": 56,
   "metadata": {},
   "outputs": [],
   "source": [
    "def convert_to_bio(data):\n",
    "    processed_data = {}\n",
    "    for i in range(len(data)):\n",
    "        words = data[i]['words']\n",
    "        text = data[i]['raw_words']\n",
    "        aspects = data[i]['aspects']\n",
    "        labels = bio_label_encoding(words, aspects)\n",
    "        processed_data[i] = {\n",
    "            'text': text,\n",
    "            'labels': labels\n",
    "        }\n",
    "    return processed_data"
   ]
  },
  {
   "cell_type": "code",
   "execution_count": 27,
   "metadata": {},
   "outputs": [],
   "source": [
    "processed_train_data = convert_to_bio(train_data)\n",
    "processed_val_data = convert_to_bio(val_data)\n",
    "processed_test_data = convert_to_bio(test_data)"
   ]
  },
  {
   "cell_type": "code",
   "execution_count": 28,
   "metadata": {},
   "outputs": [],
   "source": [
    "# dumping the processed data\n",
    "with open('Laptop_Review_Train_Processed.json', 'w') as f:\n",
    "    json.dump(processed_train_data, f, indent=4)\n",
    "with open('Laptop_Review_Val_Processed.json', 'w') as f:\n",
    "    json.dump(processed_val_data, f, indent=4)\n",
    "with open('Laptop_Review_Test_Processed.json', 'w') as f:\n",
    "    json.dump(processed_test_data, f, indent=4) "
   ]
  },
  {
   "cell_type": "code",
   "execution_count": 58,
   "metadata": {},
   "outputs": [],
   "source": [
    "with open('Laptop_Review_Train_Processed.json') as f:\n",
    "    train_data = json.load(f)\n",
    "with open('Laptop_Review_Val_Processed.json') as f:\n",
    "    val_data = json.load(f)\n",
    "with open('Laptop_Review_Test_Processed.json') as f:\n",
    "    test_data = json.load(f)"
   ]
  },
  {
   "cell_type": "code",
   "execution_count": 59,
   "metadata": {},
   "outputs": [
    {
     "name": "stdout",
     "output_type": "stream",
     "text": [
      "{'text': 'I charge it at night and skip taking the cord with me because of the good battery life .', 'labels': ['O', 'O', 'O', 'O', 'O', 'O', 'O', 'O', 'O', 'O', 'O', 'O', 'O', 'O', 'O', 'O', 'B', 'I', 'O']}\n"
     ]
    }
   ],
   "source": [
    "keys = list(train_data.keys())\n",
    "for key in keys:\n",
    "    print(train_data[key])\n",
    "    break"
   ]
  },
  {
   "cell_type": "code",
   "execution_count": 60,
   "metadata": {},
   "outputs": [],
   "source": [
    "from torchtext.transforms import BERTTokenizer"
   ]
  },
  {
   "cell_type": "code",
   "execution_count": 61,
   "metadata": {},
   "outputs": [
    {
     "name": "stderr",
     "output_type": "stream",
     "text": [
      "100%|██████████| 232k/232k [00:00<00:00, 538kB/s] \n"
     ]
    },
    {
     "data": {
      "text/plain": [
       "['hello', 'world']"
      ]
     },
     "execution_count": 61,
     "metadata": {},
     "output_type": "execute_result"
    }
   ],
   "source": [
    "tokenizer = BERTTokenizer(vocab_path='https://huggingface.co/bert-base-uncased/resolve/main/vocab.txt', do_lower_case=True, return_tokens=True)\n",
    "tokenizer('hello world')"
   ]
  },
  {
   "cell_type": "code",
   "execution_count": 62,
   "metadata": {},
   "outputs": [
    {
     "name": "stdout",
     "output_type": "stream",
     "text": [
      "[['i'], ['charge'], ['it'], ['at'], ['night'], ['and'], ['skip'], ['taking'], ['the'], ['cord'], ['with'], ['me'], ['because'], ['of'], ['the'], ['good'], ['battery'], ['life'], ['.']]\n",
      "19\n"
     ]
    }
   ],
   "source": [
    "tokenized = tokenizer(train_data['0']['text'].split(' '))\n",
    "print(tokenized)\n",
    "print(len(tokenized))"
   ]
  },
  {
   "cell_type": "code",
   "execution_count": 63,
   "metadata": {},
   "outputs": [],
   "source": [
    "import torchtext"
   ]
  },
  {
   "cell_type": "code",
   "execution_count": 64,
   "metadata": {},
   "outputs": [],
   "source": [
    "from torchtext.vocab import GloVe, FastText"
   ]
  },
  {
   "cell_type": "code",
   "execution_count": 65,
   "metadata": {},
   "outputs": [
    {
     "data": {
      "text/plain": [
       "['hello', ',', 'how', 'are', 'you', '?']"
      ]
     },
     "execution_count": 65,
     "metadata": {},
     "output_type": "execute_result"
    }
   ],
   "source": [
    "from torchtext.data import get_tokenizer\n",
    "\n",
    "tokenizer = get_tokenizer(\"basic_english\") ## We'll use tokenizer available from PyTorch\n",
    "\n",
    "tokenizer(\"Hello, How are you?\")\n"
   ]
  },
  {
   "cell_type": "code",
   "execution_count": 66,
   "metadata": {},
   "outputs": [],
   "source": [
    "from torchtext.vocab import GloVe\n",
    "\n",
    "glove = GloVe(name='6B', dim=100)"
   ]
  },
  {
   "cell_type": "code",
   "execution_count": 67,
   "metadata": {},
   "outputs": [
    {
     "data": {
      "text/plain": [
       "torch.Size([22, 100])"
      ]
     },
     "execution_count": 67,
     "metadata": {},
     "output_type": "execute_result"
    }
   ],
   "source": [
    "global_vectors = GloVe(name='6B', dim=100)\n",
    "\n",
    "embeddings = global_vectors.get_vecs_by_tokens(train_data['5']['text'].split(' '), lower_case_backup=True)\n",
    "\n",
    "embeddings.shape"
   ]
  },
  {
   "cell_type": "code",
   "execution_count": 68,
   "metadata": {},
   "outputs": [
    {
     "name": "stdout",
     "output_type": "stream",
     "text": [
      "['However', ',', 'the', 'multi-touch', 'gestures', 'and', 'large', 'tracking', 'area', 'make', 'having', 'an', 'external', 'mouse', 'unnecessary', '(', 'unless', 'you', \"'re\", 'gaming', ')', '.']\n",
      "22\n",
      "torch.Size([22, 100])\n",
      "['O', 'O', 'O', 'O', 'O', 'O', 'O', 'O', 'O', 'O', 'O', 'O', 'B', 'I', 'O', 'O', 'O', 'O', 'O', 'O', 'O', 'O']\n",
      "22\n"
     ]
    }
   ],
   "source": [
    "print(train_data['5']['text'].split(' '))\n",
    "print(len(train_data['5']['text'].split(' ')))\n",
    "print(embeddings.shape)\n",
    "print(train_data['5']['labels'])\n",
    "print(len(train_data['5']['labels']))"
   ]
  },
  {
   "cell_type": "code",
   "execution_count": 73,
   "metadata": {},
   "outputs": [
    {
     "data": {
      "image/png": "[encoded data removed]",
      "text/plain": [
       "<Figure size 640x480 with 1 Axes>"
      ]
     },
     "metadata": {},
     "output_type": "display_data"
    }
   ],
   "source": [
    "# plot data distribution of number of tokens in each sentence\n",
    "import matplotlib.pyplot as plt\n",
    "label_counts = []\n",
    "for key in train_data.keys():\n",
    "    label_counts.append(len(train_data[key]['labels']))\n",
    "plt.hist(label_counts, bins=30, alpha=0.5, color='b', edgecolor='black', linewidth=1.2, histtype='bar', align='mid', orientation='vertical', rwidth=0.8, label='Number of tokens')\n",
    "plt.title('Distribution of number of tokens in each sentence')\n",
    "plt.xlabel('Number of tokens')\n",
    "plt.ylabel('Count')\n",
    "plt.show()"
   ]
  },
  {
   "cell_type": "code",
   "execution_count": null,
   "metadata": {},
   "outputs": [],
   "source": []
  }
 ],
 "metadata": {
  "kernelspec": {
   "display_name": "visiongpu",
   "language": "python",
   "name": "python3"
  },
  "language_info": {
   "codemirror_mode": {
    "name": "ipython",
    "version": 3
   },
   "file_extension": ".py",
   "mimetype": "text/x-python",
   "name": "python",
   "nbconvert_exporter": "python",
   "pygments_lexer": "ipython3",
   "version": "3.11.7"
  }
 },
 "nbformat": 4,
 "nbformat_minor": 2
}
