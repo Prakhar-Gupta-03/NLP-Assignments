{
 "cells": [
  {
   "cell_type": "markdown",
   "metadata": {},
   "source": [
    "#### Importing required libraries"
   ]
  },
  {
   "cell_type": "code",
   "execution_count": 60,
   "metadata": {},
   "outputs": [],
   "source": [
    "import json\n",
    "from sklearn.model_selection import train_test_split"
   ]
  },
  {
   "cell_type": "code",
   "execution_count": 61,
   "metadata": {},
   "outputs": [],
   "source": [
    "with open('NER_TRAIN_JUDGEMENT.json') as file:\n",
    "    data = json.load(file)"
   ]
  },
  {
   "cell_type": "code",
   "execution_count": 66,
   "metadata": {},
   "outputs": [],
   "source": [
    "with open('NER_TEST_JUDGEMENT.json') as file:\n",
    "    test_data = json.load(file)"
   ]
  },
  {
   "cell_type": "code",
   "execution_count": 63,
   "metadata": {},
   "outputs": [],
   "source": [
    "train, val = train_test_split(data, test_size=0.15, random_state=42)"
   ]
  },
  {
   "cell_type": "markdown",
   "metadata": {},
   "source": [
    "#### BIO Encoding of data"
   ]
  },
  {
   "cell_type": "code",
   "execution_count": 64,
   "metadata": {},
   "outputs": [],
   "source": [
    "def bio_label_encoding(text, annotations):\n",
    "    tokens = text.split(' ')\n",
    "    labels = ['O'] * len(tokens)\n",
    "    for annotation in annotations[0]['result']: \n",
    "        start = annotation['value']['start']\n",
    "        end = annotation['value']['end']\n",
    "        label = annotation['value']['labels'][0]\n",
    "        label = label.upper()\n",
    "        label_start_token = None\n",
    "        label_end_token = None\n",
    "        curr_token_index = 0\n",
    "        for i, token in enumerate(tokens):\n",
    "            curr_token_index += len(token) + 1\n",
    "            if curr_token_index > start and label_start_token is None:\n",
    "                label_start_token = i\n",
    "            if curr_token_index > end and label_end_token is None: \n",
    "                label_end_token = i\n",
    "                break\n",
    "        if label_end_token is None:\n",
    "            label_end_token = len(tokens) - 1\n",
    "        for i in range(label_start_token, label_end_token + 1):\n",
    "            if i == label_start_token:\n",
    "                labels[i] = 'B_' + label\n",
    "            else:\n",
    "                labels[i] = 'I_' + label\n",
    "    return labels"
   ]
  },
  {
   "cell_type": "markdown",
   "metadata": {},
   "source": [
    "#### Iterating over each sentence and encoding it"
   ]
  },
  {
   "cell_type": "code",
   "execution_count": 65,
   "metadata": {},
   "outputs": [],
   "source": [
    "def convert_to_bio(data):\n",
    "    processed_data = {}\n",
    "    for i in range(len(data)):\n",
    "        id = data[i]['id']\n",
    "        annotations = data[i]['annotations']\n",
    "        text = data[i]['data']['text']\n",
    "        labels = bio_label_encoding(text, annotations)\n",
    "        processed_data[id] = {'text': text, 'labels': labels}\n",
    "    return processed_data"
   ]
  },
  {
   "cell_type": "code",
   "execution_count": 68,
   "metadata": {},
   "outputs": [],
   "source": [
    "processed_train = convert_to_bio(train)\n",
    "processed_val = convert_to_bio(val)\n",
    "processed_test = convert_to_bio(test_data)"
   ]
  },
  {
   "cell_type": "code",
   "execution_count": 69,
   "metadata": {},
   "outputs": [],
   "source": [
    "# dumping the processed data\n",
    "with open('NER_TRAIN_JUDGEMENT_PROCESSED.json', 'w') as file:\n",
    "    json.dump(processed_train, file, indent=4)\n",
    "with open('NER_VAL_JUDGEMENT_PROCESSED.json', 'w') as file:\n",
    "    json.dump(processed_val, file, indent=4)\n",
    "with open('NER_TEST_JUDGEMENT_PROCESSED.json', 'w') as file:\n",
    "    json.dump(processed_test, file, indent=4)"
   ]
  }
 ],
 "metadata": {
  "kernelspec": {
   "display_name": "visiongpu",
   "language": "python",
   "name": "python3"
  },
  "language_info": {
   "codemirror_mode": {
    "name": "ipython",
    "version": 3
   },
   "file_extension": ".py",
   "mimetype": "text/x-python",
   "name": "python",
   "nbconvert_exporter": "python",
   "pygments_lexer": "ipython3",
   "version": "3.11.7"
  }
 },
 "nbformat": 4,
 "nbformat_minor": 2
}
