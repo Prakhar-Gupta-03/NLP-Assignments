{
 "cells": [
  {
   "cell_type": "markdown",
   "metadata": {},
   "source": [
    "#### Importing required libraries"
   ]
  },
  {
   "cell_type": "code",
   "execution_count": 150,
   "metadata": {},
   "outputs": [],
   "source": [
    "import json\n",
    "import os\n",
    "import torch\n",
    "import pandas as pd\n",
    "import numpy as np\n",
    "from PIL import Image as im\n",
    "import matplotlib.pyplot as plt\n",
    "from torch.utils.data import Dataset, DataLoader, random_split, Subset, SubsetRandomSampler\n",
    "import torch.nn as nn\n",
    "import torch.nn.functional as F\n",
    "import torch.optim as optim\n",
    "from sklearn.model_selection import train_test_split\n",
    "from sklearn.metrics import classification_report\n",
    "from sklearn.metrics import f1_score, precision_score, recall_score, confusion_matrix\n",
    "from sklearn.manifold import TSNE\n",
    "from sklearn.model_selection import train_test_split\n",
    "from torchtext.vocab import GloVe"
   ]
  },
  {
   "cell_type": "code",
   "execution_count": 151,
   "metadata": {},
   "outputs": [],
   "source": [
    "with open('NER_TRAIN_JUDGEMENT.json') as file:\n",
    "    data = json.load(file)"
   ]
  },
  {
   "cell_type": "code",
   "execution_count": 152,
   "metadata": {},
   "outputs": [],
   "source": [
    "with open('NER_TEST_JUDGEMENT.json') as file:\n",
    "    test_data = json.load(file)"
   ]
  },
  {
   "cell_type": "code",
   "execution_count": 153,
   "metadata": {},
   "outputs": [],
   "source": [
    "train, val = train_test_split(data, test_size=0.15, random_state=42)"
   ]
  },
  {
   "cell_type": "markdown",
   "metadata": {},
   "source": [
    "#### BIO Encoding of data"
   ]
  },
  {
   "cell_type": "code",
   "execution_count": 154,
   "metadata": {},
   "outputs": [
    {
     "name": "stdout",
     "output_type": "stream",
     "text": [
      "{'OTHER_PERSON', 'JUDGE', 'RESPONDENT', 'PRECEDENT', 'DATE', 'PROVISION', 'STATUTE', 'WITNESS', 'PETITIONER', 'GPE', 'CASE_NUMBER', 'ORG', 'COURT'}\n",
      "13\n"
     ]
    }
   ],
   "source": [
    "unique_labels = set()\n",
    "for i in range(len(data)):\n",
    "    for annotation in data[i]['annotations'][0]['result']:\n",
    "        label = annotation['value']['labels'][0]\n",
    "        unique_labels.add(label)\n",
    "print(unique_labels)\n",
    "print(len(unique_labels))"
   ]
  },
  {
   "cell_type": "markdown",
   "metadata": {},
   "source": [
    "#### Cleaning Data - Replacing escape sequences with spaces"
   ]
  },
  {
   "cell_type": "code",
   "execution_count": 155,
   "metadata": {},
   "outputs": [],
   "source": [
    "def clean_text(text):\n",
    "    special_chars = ['\\x05', '\\t', '\\n', '\\x0c', '\\x11', '\\x12', '\\x13', '\\x14', '\\x16', '\\x1a', '\\x80', '\\x9d', '\\xa0', '\\xad', '\\uf076']\n",
    "    for char in special_chars:\n",
    "        text = text.replace(char, ' ')\n",
    "    return text"
   ]
  },
  {
   "cell_type": "markdown",
   "metadata": {},
   "source": [
    "#### Storing all the label boundaries in a list"
   ]
  },
  {
   "cell_type": "code",
   "execution_count": 156,
   "metadata": {},
   "outputs": [],
   "source": [
    "def border_index(annotations):\n",
    "    border_indices = []\n",
    "    for annotation in annotations[0]['result']:\n",
    "        start = annotation['value']['start']\n",
    "        end = annotation['value']['end']\n",
    "        label = annotation['value']['labels'][0]\n",
    "        label = label.upper()\n",
    "        border_indices.append([start, end, label])\n",
    "    border_indices.sort(key=lambda x: x[0])\n",
    "    return border_indices"
   ]
  },
  {
   "cell_type": "markdown",
   "metadata": {},
   "source": [
    "#### Adding spaces on the boundaries of labels where there is no space"
   ]
  },
  {
   "cell_type": "code",
   "execution_count": 157,
   "metadata": {},
   "outputs": [],
   "source": [
    "def border_spacing(text, border_indices):\n",
    "    i = 0\n",
    "    while i < len(text):\n",
    "        for border in border_indices:\n",
    "            if (i==border[0] or i==border[1]):\n",
    "                index = border_indices.index(border)\n",
    "                if (i==border[0] and i!=0 and text[i-1]!=' '):\n",
    "                    text = text[:i] + ' ' + text[i:]\n",
    "                    for j in range(index, len(border_indices)):\n",
    "                        if border_indices[j][0] >= i:\n",
    "                            border_indices[j][0] += 1\n",
    "                        if border_indices[j][1] >= i:\n",
    "                            border_indices[j][1] += 1\n",
    "                if (i==border[1] and i!=len(text)-1 and text[i]!=' '):\n",
    "                    text = text[:i] + ' ' + text[i:]\n",
    "                    for j in range(index, len(border_indices)):\n",
    "                        if border_indices[j][0] >= i:\n",
    "                            border_indices[j][0] += 1\n",
    "                        if border_indices[j][1] >= i:\n",
    "                            border_indices[j][1] += 1\n",
    "                i += 1\n",
    "        i += 1\n",
    "    return text, border_indices"
   ]
  },
  {
   "cell_type": "markdown",
   "metadata": {},
   "source": [
    "#### Performing Tokenization by space and BIO Encoding"
   ]
  },
  {
   "cell_type": "code",
   "execution_count": 158,
   "metadata": {},
   "outputs": [],
   "source": [
    "def bio_encoding(text, border_indices):\n",
    "    tokens = text.split()\n",
    "    labels = ['O'] * len(tokens)\n",
    "    for annotation in border_indices:\n",
    "        start = annotation[0]\n",
    "        end = annotation[1]\n",
    "        label = annotation[2]\n",
    "        label = label.upper()\n",
    "        label_start_token = None\n",
    "        label_end_token = None\n",
    "        curr_token_index = 0\n",
    "        i = 0\n",
    "        while (i < len(text)):\n",
    "            if (text[i] == ' '):\n",
    "                i += 1\n",
    "            else:\n",
    "                curr_word = ''\n",
    "                if (i == start):\n",
    "                    label_start_token = curr_token_index\n",
    "                    while (i < end):\n",
    "                        current_word = ''\n",
    "                        if (text[i] == ' '):\n",
    "                            while (text[i] == ' '):\n",
    "                                i += 1\n",
    "                        else: \n",
    "                            while (i < len(text) and text[i] != ' '):\n",
    "                                current_word += text[i]\n",
    "                                i += 1\n",
    "                            if (tokens[curr_token_index] == current_word):\n",
    "                                curr_token_index += 1\n",
    "                    label_end_token = curr_token_index\n",
    "                else: \n",
    "                    while (i < len(text) and text[i] != ' '):\n",
    "                        curr_word += text[i]\n",
    "                        i += 1\n",
    "                    if (tokens[curr_token_index] == curr_word):\n",
    "                        curr_token_index += 1\n",
    "        if (label_end_token == None):\n",
    "            label_end_token = len(tokens) - 1\n",
    "        if (label_start_token == None):\n",
    "            continue\n",
    "        for i in range(label_start_token, label_end_token):\n",
    "            if i == label_start_token:\n",
    "                labels[i] = 'B_' + label\n",
    "            else:\n",
    "                labels[i] = 'I_' + label\n",
    "    return labels"
   ]
  },
  {
   "cell_type": "markdown",
   "metadata": {},
   "source": [
    "#### BIO Encoding of data"
   ]
  },
  {
   "cell_type": "code",
   "execution_count": 159,
   "metadata": {},
   "outputs": [],
   "source": [
    "def convert_to_bio(data):\n",
    "    processed_data = {}\n",
    "    for i in range(len(data)):\n",
    "        id = data[i]['id']\n",
    "        annotations = data[i]['annotations']\n",
    "        text = data[i]['data']['text']\n",
    "        text = clean_text(text)\n",
    "        border_indices = border_index(annotations)\n",
    "        text, border_indices = border_spacing(text, border_indices)\n",
    "        labels = bio_encoding(text, border_indices)\n",
    "        processed_data[id] = {'text': text, 'labels': labels}\n",
    "    return processed_data"
   ]
  },
  {
   "cell_type": "markdown",
   "metadata": {},
   "source": [
    "#### Saving the data"
   ]
  },
  {
   "cell_type": "code",
   "execution_count": 160,
   "metadata": {},
   "outputs": [],
   "source": [
    "processed_train = convert_to_bio(train)\n",
    "processed_val = convert_to_bio(val)\n",
    "processed_test = convert_to_bio(test_data)"
   ]
  },
  {
   "cell_type": "code",
   "execution_count": 161,
   "metadata": {},
   "outputs": [],
   "source": [
    "# dumping the processed data\n",
    "with open('NER_TRAIN_JUDGEMENT_PROCESSED.json', 'w') as file:\n",
    "    json.dump(processed_train, file, indent=4)\n",
    "with open('NER_VAL_JUDGEMENT_PROCESSED.json', 'w') as file:\n",
    "    json.dump(processed_val, file, indent=4)\n",
    "with open('NER_TEST_JUDGEMENT_PROCESSED.json', 'w') as file:\n",
    "    json.dump(processed_test, file, indent=4)"
   ]
  },
  {
   "cell_type": "markdown",
   "metadata": {},
   "source": [
    "#### Preparing the data\n"
   ]
  },
  {
   "cell_type": "code",
   "execution_count": 162,
   "metadata": {},
   "outputs": [
    {
     "data": {
      "image/png": "[encoded data removed]",
      "text/plain": [
       "<Figure size 640x480 with 1 Axes>"
      ]
     },
     "metadata": {},
     "output_type": "display_data"
    }
   ],
   "source": [
    "# plotting data distribution of number of tokens in each sentence\n",
    "import matplotlib.pyplot as plt\n",
    "label_counts = []\n",
    "for key in processed_train.keys():\n",
    "    label_counts.append(len(processed_train[key]['labels']))\n",
    "plt.hist(label_counts, bins=30, alpha=0.5, color='b', edgecolor='black', linewidth=1.2, histtype='bar', align='mid', orientation='vertical', rwidth=0.8, label='Number of tokens')\n",
    "plt.title('Distribution of number of tokens in each sentence')\n",
    "plt.xlabel('Number of tokens')\n",
    "plt.ylabel('Count')\n",
    "plt.show()"
   ]
  },
  {
   "cell_type": "code",
   "execution_count": 163,
   "metadata": {},
   "outputs": [],
   "source": [
    "train, val, test = [], [], []\n",
    "for i in processed_train:\n",
    "    train.append([processed_train[i]['text'], processed_train[i]['labels']])\n",
    "for i in processed_val:\n",
    "    val.append([processed_val[i]['text'], processed_val[i]['labels']])\n",
    "for i in processed_test:\n",
    "    test.append([processed_test[i]['text'], processed_test[i]['labels']])"
   ]
  },
  {
   "cell_type": "code",
   "execution_count": 164,
   "metadata": {},
   "outputs": [
    {
     "name": "stdout",
     "output_type": "stream",
     "text": [
      "Training data size: 8019\n",
      "Validation data size: 1416\n",
      "Test data size: 949\n"
     ]
    }
   ],
   "source": [
    "print(f'Training data size: {len(train)}')\n",
    "print(f'Validation data size: {len(val)}')\n",
    "print(f'Test data size: {len(test)}')"
   ]
  },
  {
   "cell_type": "code",
   "execution_count": 165,
   "metadata": {},
   "outputs": [
    {
     "name": "stdout",
     "output_type": "stream",
     "text": [
      "Text: Therefore, while interpreting statutory provisions, the courts should keep in mind the objectives or purpose for which statute has been enacted.\n",
      "Labels: ['O', 'O', 'O', 'O', 'O', 'O', 'O', 'O', 'O', 'O', 'O', 'O', 'O', 'O', 'O', 'O', 'O', 'O', 'O', 'O', 'O']\n",
      "\n",
      "Text: The petitioner in W.P.No.15821 of 2008 was never considered for appointment under the National Rural Employment Guarantee Scheme either through Employment Exchange sponsorship or by Outsourcing Agencies.\n",
      "Labels: ['O', 'O', 'O', 'B_CASE_NUMBER', 'I_CASE_NUMBER', 'I_CASE_NUMBER', 'O', 'O', 'O', 'O', 'O', 'O', 'O', 'B_ORG', 'I_ORG', 'I_ORG', 'I_ORG', 'I_ORG', 'O', 'O', 'O', 'O', 'O', 'O', 'O', 'O', 'O']\n",
      "\n",
      "Text: The factum of accident, allegation of rash and negligent driving causing death of Sukendra Pal Singh were denied.\n",
      "Labels: ['O', 'O', 'O', 'O', 'O', 'O', 'O', 'O', 'O', 'O', 'O', 'O', 'O', 'B_OTHER_PERSON', 'I_OTHER_PERSON', 'I_OTHER_PERSON', 'O', 'O']\n",
      "\n",
      "Text: ..36..    W.A.No.655/2012 & others Meaning thereby that except interview by the Commission, entire procedure for recruitment as emergency appointment was followed.\n",
      "Labels: ['O', 'B_CASE_NUMBER', 'O', 'O', 'O', 'O', 'O', 'O', 'O', 'O', 'O', 'O', 'O', 'O', 'O', 'O', 'O', 'O', 'O', 'O', 'O']\n",
      "\n",
      "Text: The law on this issue is well settled and the law is that though the provisions of Evidence Act are not applicable, but in a given situation the help of the principles of Evidence Act in the proceedings before the assessing authorities can be taken.\n",
      "Labels: ['O', 'O', 'O', 'O', 'O', 'O', 'O', 'O', 'O', 'O', 'O', 'O', 'O', 'O', 'O', 'O', 'O', 'B_STATUTE', 'I_STATUTE', 'O', 'O', 'O', 'O', 'O', 'O', 'O', 'O', 'O', 'O', 'O', 'O', 'O', 'O', 'B_STATUTE', 'I_STATUTE', 'O', 'O', 'O', 'O', 'O', 'O', 'O', 'O', 'O', 'O']\n",
      "\n"
     ]
    }
   ],
   "source": [
    "for i in range(5):\n",
    "    text, labels = train[i][0], train[i][1]\n",
    "    print(f\"Text: {text}\\nLabels: {labels}\\n\")"
   ]
  },
  {
   "cell_type": "code",
   "execution_count": 166,
   "metadata": {},
   "outputs": [
    {
     "name": "stdout",
     "output_type": "stream",
     "text": [
      "Number of unique words in the dataset: 37866\n",
      "Words and their counts: [('Therefore,', 97), ('while', 164), ('interpreting', 6), ('statutory', 76), ('provisions,', 10)]\n"
     ]
    }
   ],
   "source": [
    "data = train + val + test\n",
    "# Finding number of unique words in the dataset\n",
    "word_count = {}\n",
    "for i in range(len(data)):\n",
    "    words = data[i][0].split()\n",
    "    for word in words:\n",
    "        if word not in word_count:\n",
    "            word_count[word] = 1\n",
    "        else:\n",
    "            word_count[word] += 1\n",
    "print(f\"Number of unique words in the dataset: {len(word_count)}\")\n",
    "print(f\"Words and their counts: {list(word_count.items())[:5]}\")"
   ]
  },
  {
   "cell_type": "code",
   "execution_count": 167,
   "metadata": {},
   "outputs": [
    {
     "name": "stdout",
     "output_type": "stream",
     "text": [
      "Number of unique words in the dataset after adding 'PAD' and 'UNK': 37868\n"
     ]
    }
   ],
   "source": [
    "word_list = list(word_count.keys())\n",
    "# adding 'PAD' and 'UNK' to the word list\n",
    "word_list.append('PAD')\n",
    "word_list.append('UNK')\n",
    "word_count['PAD'] = 0\n",
    "word_count['UNK'] = 0\n",
    "print(f\"Number of unique words in the dataset after adding 'PAD' and 'UNK': {len(word_list)}\")"
   ]
  },
  {
   "cell_type": "code",
   "execution_count": 168,
   "metadata": {},
   "outputs": [
    {
     "name": "stdout",
     "output_type": "stream",
     "text": [
      "{'O': 0, 'B_OTHER_PERSON': 1, 'I_OTHER_PERSON': 2, 'B_JUDGE': 3, 'I_JUDGE': 4, 'B_RESPONDENT': 5, 'I_RESPONDENT': 6, 'B_PRECEDENT': 7, 'I_PRECEDENT': 8, 'B_DATE': 9, 'I_DATE': 10, 'B_PROVISION': 11, 'I_PROVISION': 12, 'B_STATUTE': 13, 'I_STATUTE': 14, 'B_WITNESS': 15, 'I_WITNESS': 16, 'B_PETITIONER': 17, 'I_PETITIONER': 18, 'B_GPE': 19, 'I_GPE': 20, 'B_CASE_NUMBER': 21, 'I_CASE_NUMBER': 22, 'B_ORG': 23, 'I_ORG': 24, 'B_COURT': 25, 'I_COURT': 26}\n",
      "Word-to-index: [('Therefore,', 0), ('while', 1), ('interpreting', 2), ('statutory', 3), ('provisions,', 4)]\n",
      "Index-to-word: [(0, 'Therefore,'), (1, 'while'), (2, 'interpreting'), (3, 'statutory'), (4, 'provisions,')]\n"
     ]
    }
   ],
   "source": [
    "# Word-to-index and index-to-word mapping from the dataset\n",
    "word_to_index = {word:idx for idx, word in enumerate(word_list)}\n",
    "index_to_word = {idx:word for word, idx in word_to_index.items()}\n",
    "label_to_idx = {\"O\": 0}\n",
    "idx = 1\n",
    "for i in unique_labels:\n",
    "    label_to_idx[\"B_\" + i] = idx\n",
    "    label_to_idx[\"I_\" + i] = idx + 1\n",
    "    idx += 2\n",
    "print(label_to_idx)\n",
    "print(f\"Word-to-index: {list(word_to_index.items())[:5]}\")\n",
    "print(f\"Index-to-word: {list(index_to_word.items())[:5]}\")"
   ]
  },
  {
   "cell_type": "code",
   "execution_count": 169,
   "metadata": {},
   "outputs": [
    {
     "name": "stdout",
     "output_type": "stream",
     "text": [
      "Shape of word_embeddings: (37868, 300)\n"
     ]
    }
   ],
   "source": [
    "glove_vectors = GloVe(name='6B', dim=300)\n",
    "word_embeddings = np.zeros((len(word_list), 300))\n",
    "for i in range(len(word_list)):\n",
    "    word = word_list[i]\n",
    "    idx = word_to_index[word]\n",
    "    if word in glove_vectors.stoi:\n",
    "        word_embeddings[idx] = glove_vectors[word]\n",
    "    else:\n",
    "        word_embeddings[idx] = glove_vectors['unk']\n",
    "print(f\"Shape of word_embeddings: {word_embeddings.shape}\")"
   ]
  },
  {
   "cell_type": "code",
   "execution_count": 170,
   "metadata": {},
   "outputs": [
    {
     "name": "stdout",
     "output_type": "stream",
     "text": [
      "Shape of word vectors: (37868, 300)\n"
     ]
    }
   ],
   "source": [
    "# List of word vectors\n",
    "word_vectors = [word_embeddings[word_to_index[word]] for word in word_list]\n",
    "word_vectors = np.array(word_vectors)\n",
    "print(f\"Shape of word vectors: {word_vectors.shape}\")"
   ]
  },
  {
   "cell_type": "markdown",
   "metadata": {},
   "source": [
    "#### Setting up DataLoaders"
   ]
  },
  {
   "cell_type": "code",
   "execution_count": 171,
   "metadata": {},
   "outputs": [],
   "source": [
    "def collate_fn(batch):\n",
    "    \"\"\"\n",
    "        Padding the sequences to the maximum length sequence in the batch\n",
    "        Args:\n",
    "            batch: list of individual elements of the dataset\n",
    "        Returns:\n",
    "            {'text' : padded_texts, 'labels' : padded_labels}\n",
    "    \"\"\"\n",
    "    texts, labels = [item['text'] for item in batch], [item['labels'] for item in batch]\n",
    "    max_len = max([len(text) for text in texts])\n",
    "    padded_texts, padded_labels = [], []\n",
    "    for i in range(len(texts)):\n",
    "        text, label = texts[i], labels[i]\n",
    "        # padding text and label sequences\n",
    "        text = text + [word_to_index['PAD']] * (max_len - len(text))\n",
    "        label = label + [label_to_idx['O']] * (max_len - len(label))\n",
    "        padded_texts.append(text)\n",
    "        padded_labels.append(label)\n",
    "    return {'text': torch.tensor(padded_texts), 'labels': torch.tensor(padded_labels)}"
   ]
  },
  {
   "cell_type": "code",
   "execution_count": 172,
   "metadata": {},
   "outputs": [],
   "source": [
    "class LegalDataset(Dataset):\n",
    "    \"\"\"\n",
    "        Custom Dataset to load the Laptop Review dataset\n",
    "        Args:\n",
    "            data: list of tuples (text, labels)\n",
    "            vocab_size: size of the vocabulary\n",
    "            embedding_size: size of the word embeddings\n",
    "            word_to_index: word-to-index mapping\n",
    "            index_to_word: index-to-word mapping\n",
    "            label_to_idx: label-to-index mapping\n",
    "    \"\"\"\n",
    "    def __init__(self, data, vocab_size, embedding_size, word_to_index, index_to_word, label_to_idx):\n",
    "        self.data = data\n",
    "        self.vocab_size = vocab_size\n",
    "        self.embedding_size = embedding_size\n",
    "        self.word_to_index = word_to_index\n",
    "        self.index_to_word = index_to_word\n",
    "        self.label_to_idx = label_to_idx\n",
    "\n",
    "    def __len__(self):\n",
    "        return len(self.data)\n",
    "    \n",
    "    def __getitem__(self, idx):\n",
    "        text, labels = self.data[idx]\n",
    "        words = text.split()\n",
    "        #converting words to indices\n",
    "        word_indices = [self.word_to_index[word] if word in self.word_to_index else self.word_to_index['UNK'] for word in words]\n",
    "        label_indices = [self.label_to_idx[label] for label in labels]\n",
    "        sample = {'text': word_indices, 'labels': label_indices}\n",
    "        return sample"
   ]
  },
  {
   "cell_type": "code",
   "execution_count": 173,
   "metadata": {},
   "outputs": [],
   "source": [
    "# constants\n",
    "vocab_size = len(word_to_index)\n",
    "embedding_size = 300"
   ]
  },
  {
   "cell_type": "code",
   "execution_count": 174,
   "metadata": {},
   "outputs": [],
   "source": [
    "train_dataset = LegalDataset(data=train, vocab_size=vocab_size, embedding_size=embedding_size, word_to_index=word_to_index, index_to_word=index_to_word, label_to_idx=label_to_idx)\n",
    "val_dataset = LegalDataset(data=val, vocab_size=vocab_size, embedding_size=embedding_size, word_to_index=word_to_index, index_to_word=index_to_word, label_to_idx=label_to_idx)\n",
    "test_dataset = LegalDataset(data=test, vocab_size=vocab_size, embedding_size=embedding_size, word_to_index=word_to_index, index_to_word=index_to_word, label_to_idx=label_to_idx)"
   ]
  },
  {
   "cell_type": "code",
   "execution_count": 175,
   "metadata": {},
   "outputs": [],
   "source": [
    "train_dataloader = DataLoader(train_dataset, batch_size=32, shuffle=True, collate_fn=collate_fn)\n",
    "val_dataloader = DataLoader(val_dataset, batch_size=32, collate_fn=collate_fn)\n",
    "test_dataloader = DataLoader(test_dataset, batch_size=32, collate_fn=collate_fn)"
   ]
  },
  {
   "cell_type": "code",
   "execution_count": 176,
   "metadata": {},
   "outputs": [
    {
     "name": "stdout",
     "output_type": "stream",
     "text": [
      "Batch 1\n",
      "Text shape: torch.Size([32, 72])\n",
      "Labels shape: torch.Size([32, 72])\n",
      "\n",
      "Text: On same night at about 10:00 PM, at the instance of accused Pushpender , the police team reached Ekdil police station at Etawah in search of co-accused Kuldeep and on next morning at around 07:00 AM co-accused Kuldeep was arrested from his village at the instance of accused Pushpender. PAD PAD PAD PAD PAD PAD PAD PAD PAD PAD PAD PAD PAD PAD PAD PAD PAD PAD PAD PAD PAD PAD PAD\n",
      "Labels: O O O O O O O O O O O O B_OTHER_PERSON O O O O O B_ORG I_ORG I_ORG O B_GPE O O O O B_OTHER_PERSON O O O O O O O O O B_OTHER_PERSON O O O O O O O O O O B_OTHER_PERSON O O O O O O O O O O O O O O O O O O O O O O O\n",
      "\n",
      "Text: Zahira was the main eye-witness who lost family members including helpless women and innocent children in the gruesome incident. PAD PAD PAD PAD PAD PAD PAD PAD PAD PAD PAD PAD PAD PAD PAD PAD PAD PAD PAD PAD PAD PAD PAD PAD PAD PAD PAD PAD PAD PAD PAD PAD PAD PAD PAD PAD PAD PAD PAD PAD PAD PAD PAD PAD PAD PAD PAD PAD PAD PAD PAD PAD PAD\n",
      "Labels: B_WITNESS O O O O O O O O O O O O O O O O O O O O O O O O O O O O O O O O O O O O O O O O O O O O O O O O O O O O O O O O O O O O O O O O O O O O O O O\n",
      "\n"
     ]
    }
   ],
   "source": [
    "for i, data in enumerate(train_dataloader, 0):\n",
    "    print(f\"Batch {i+1}\\nText shape: {data['text'].size()}\\nLabels shape: {data['labels'].size()}\\n\")\n",
    "    for j in range(2):\n",
    "        text = data['text'][j]\n",
    "        labels = data['labels'][j]\n",
    "        text_str = ' '.join([index_to_word[idx.item()] for idx in text])\n",
    "        labels_str = ' '.join([list(label_to_idx.keys())[idx.item()] for idx in labels])\n",
    "        print(f\"Text: {text_str}\\nLabels: {labels_str}\\n\")\n",
    "    break"
   ]
  },
  {
   "cell_type": "markdown",
   "metadata": {},
   "source": [
    "### Task 2: RNN + GloVe"
   ]
  },
  {
   "cell_type": "markdown",
   "metadata": {},
   "source": [
    "#### WandB Setup"
   ]
  },
  {
   "cell_type": "code",
   "execution_count": 186,
   "metadata": {},
   "outputs": [
    {
     "name": "stderr",
     "output_type": "stream",
     "text": [
      "\u001b[34m\u001b[1mwandb\u001b[0m: Logging into wandb.ai. (Learn how to deploy a W&B server locally: https://wandb.me/wandb-server)\n",
      "\u001b[34m\u001b[1mwandb\u001b[0m: You can find your API key in your browser here: https://wandb.ai/authorize\n",
      "\u001b[34m\u001b[1mwandb\u001b[0m: Paste an API key from your profile and hit enter, or press ctrl+c to quit:\u001b[34m\u001b[1mwandb\u001b[0m: Paste an API key from your profile and hit enter, or press ctrl+c to quit:\u001b[34m\u001b[1mwandb\u001b[0m: Paste an API key from your profile and hit enter, or press ctrl+c to quit:\u001b[34m\u001b[1mwandb\u001b[0m: Appending key for api.wandb.ai to your netrc file: C:\\Users\\saras\\.netrc\n"
     ]
    },
    {
     "data": {
      "text/plain": [
       "True"
      ]
     },
     "execution_count": 186,
     "metadata": {},
     "output_type": "execute_result"
    }
   ],
   "source": [
    "import tqdm\n",
    "import wandb   \n",
    "wandb.login(relogin=True)"
   ]
  },
  {
   "cell_type": "code",
   "execution_count": 187,
   "metadata": {},
   "outputs": [],
   "source": [
    "model_config = dict(\n",
    "    task = 1, \n",
    "    model = 'RNN',\n",
    "    embed_size = 300,\n",
    "    embedding = 'GloVe',\n",
    "    hidden_size = 128,\n",
    "    learning_rate = 0.001,\n",
    "    batch_size = 32,\n",
    "    epochs = 100, \n",
    "    padding = 'max_post', \n",
    "    loss = 'CrossEntropyLoss',\n",
    "    optimizer = 'Adam',\n",
    "    num_hidden = 1,\n",
    "    dropout = 0, \n",
    "    activation = 'tanh'\n",
    ")"
   ]
  },
  {
   "cell_type": "code",
   "execution_count": 188,
   "metadata": {},
   "outputs": [
    {
     "data": {
      "text/html": [
       "Tracking run with wandb version 0.16.4"
      ],
      "text/plain": [
       "<IPython.core.display.HTML object>"
      ]
     },
     "metadata": {},
     "output_type": "display_data"
    },
    {
     "data": {
      "text/html": [
       "Run data is saved locally in <code>c:\\Users\\saras\\NLP-Assignments\\A2\\wandb\\run-20240310_022221-f0z7yo2y</code>"
      ],
      "text/plain": [
       "<IPython.core.display.HTML object>"
      ]
     },
     "metadata": {},
     "output_type": "display_data"
    },
    {
     "data": {
      "text/html": [
       "Syncing run <strong><a href='https://wandb.ai/nlp-assignments/assignment-2/runs/f0z7yo2y' target=\"_blank\">vibrant-lake-22</a></strong> to <a href='https://wandb.ai/nlp-assignments/assignment-2' target=\"_blank\">Weights & Biases</a> (<a href='https://wandb.me/run' target=\"_blank\">docs</a>)<br/>"
      ],
      "text/plain": [
       "<IPython.core.display.HTML object>"
      ]
     },
     "metadata": {},
     "output_type": "display_data"
    },
    {
     "data": {
      "text/html": [
       " View project at <a href='https://wandb.ai/nlp-assignments/assignment-2' target=\"_blank\">https://wandb.ai/nlp-assignments/assignment-2</a>"
      ],
      "text/plain": [
       "<IPython.core.display.HTML object>"
      ]
     },
     "metadata": {},
     "output_type": "display_data"
    },
    {
     "data": {
      "text/html": [
       " View run at <a href='https://wandb.ai/nlp-assignments/assignment-2/runs/f0z7yo2y' target=\"_blank\">https://wandb.ai/nlp-assignments/assignment-2/runs/f0z7yo2y</a>"
      ],
      "text/plain": [
       "<IPython.core.display.HTML object>"
      ]
     },
     "metadata": {},
     "output_type": "display_data"
    },
    {
     "data": {
      "text/html": [
       "<button onClick=\"this.nextSibling.style.display='block';this.style.display='none';\">Display W&B run</button><iframe src='https://wandb.ai/nlp-assignments/assignment-2/runs/f0z7yo2y?jupyter=true' style='border:none;width:100%;height:420px;display:none;'></iframe>"
      ],
      "text/plain": [
       "<wandb.sdk.wandb_run.Run at 0x22393ff21b0>"
      ]
     },
     "execution_count": 188,
     "metadata": {},
     "output_type": "execute_result"
    }
   ],
   "source": [
    "wandb.init(project=\"assignment-2\", entity=\"nlp-assignments\", config=model_config)"
   ]
  },
  {
   "cell_type": "code",
   "execution_count": 189,
   "metadata": {},
   "outputs": [
    {
     "name": "stdout",
     "output_type": "stream",
     "text": [
      "37868 37868 300 128\n",
      "Input shape: torch.Size([32, 67])\n",
      "Label shape: torch.Size([32, 67])\n",
      "Output shape: torch.Size([32, 67, 27])\n",
      "Hidden shape: torch.Size([1, 32, 128])\n",
      "\n"
     ]
    },
    {
     "name": "stderr",
     "output_type": "stream",
     "text": [
      "C:\\Users\\saras\\AppData\\Local\\Temp\\ipykernel_5548\\1076253624.py:31: UserWarning: To copy construct from a tensor, it is recommended to use sourceTensor.clone().detach() or sourceTensor.clone().detach().requires_grad_(True), rather than torch.tensor(sourceTensor).\n",
      "  word_vectors = torch.tensor(word_vectors)\n"
     ]
    }
   ],
   "source": [
    "class RNNModel(nn.Module):\n",
    "    \"\"\"\n",
    "        Model architecture to perform Sequence Labeling on the Laptop Review dataset. RNN, LSTM or GRU model is initialized based on the model configuration parameters.\n",
    "        Args: \n",
    "            vocab_size: size of the vocabulary\n",
    "            embed_size: size of the word embeddings\n",
    "            hidden_size: size of the hidden state\n",
    "            pretrained_embeddings: pre-trained word embeddings\n",
    "            model_config: dictionary containing model configuration parameters\n",
    "    \"\"\"\n",
    "    def __init__(self, vocab_size, embed_size, hidden_size, pretrained_embeddings, model_config):\n",
    "        super(RNNModel, self).__init__()\n",
    "        self.embedding = nn.Embedding.from_pretrained(embeddings=pretrained_embeddings, freeze=True)\n",
    "        self.rnn = nn.RNN(input_size=embed_size, hidden_size=hidden_size, num_layers=model_config['num_hidden'], nonlinearity=model_config['activation'], batch_first=True, dropout=model_config['dropout'])\n",
    "        if (model_config['model'] == 'LSTM'):\n",
    "            self.rnn = nn.LSTM(input_size=embed_size, hidden_size=hidden_size, num_layers=model_config['num_hidden'], batch_first=True, dropout=model_config['dropout'])\n",
    "        if (model_config['model'] == 'GRU'):\n",
    "            self.rnn = nn.GRU(input_size=embed_size, hidden_size=hidden_size, num_layers=model_config['num_hidden'], batch_first=True, dropout=model_config['dropout'])\n",
    "        self.fc = nn.Linear(hidden_size, 27)\n",
    "        \n",
    "    def forward(self, x):\n",
    "        x = self.embedding(x)\n",
    "        output, hidden = self.rnn(x)\n",
    "        output = self.fc(output)\n",
    "        return output, hidden\n",
    "\n",
    "# Initialize the model\n",
    "vocab_size = len(word_to_index)\n",
    "embed_size = model_config['embed_size'] # Size of the word embeddings\n",
    "hidden_size = model_config['hidden_size'] # Size of the hidden state\n",
    "word_vectors = torch.tensor(word_vectors)\n",
    "word_vectors = word_vectors.float()\n",
    "print(vocab_size, len(word_vectors), embed_size, hidden_size)\n",
    "model = RNNModel(vocab_size, embed_size, hidden_size, word_vectors, model_config)\n",
    "for i, data in enumerate(train_dataloader, 0):\n",
    "    text = data['text']\n",
    "    print(f\"Input shape: {text.size()}\")\n",
    "    print(f\"Label shape: {data['labels'].size()}\")\n",
    "    output, hidden = model(text)\n",
    "    print(f\"Output shape: {output.size()}\\nHidden shape: {hidden.size()}\\n\")\n",
    "    break"
   ]
  },
  {
   "cell_type": "code",
   "execution_count": 190,
   "metadata": {},
   "outputs": [],
   "source": [
    "# Loss function and optimizer\n",
    "criterion = nn.CrossEntropyLoss()\n",
    "optimizer = optim.Adam(model.parameters(), lr=0.001)"
   ]
  },
  {
   "cell_type": "markdown",
   "metadata": {},
   "source": [
    "#### Model Training and Evaluation"
   ]
  },
  {
   "cell_type": "code",
   "execution_count": 191,
   "metadata": {},
   "outputs": [],
   "source": [
    "def evaluate_model(model, dataloader, criterion):\n",
    "    model.eval()\n",
    "    loss = 0\n",
    "    y_true = []\n",
    "    y_pred = []\n",
    "    with torch.no_grad():\n",
    "        for i, data in enumerate(dataloader, 0):\n",
    "            text, labels = data['text'], data['labels']\n",
    "            output, hidden = model(text)\n",
    "            output = output.view(-1, 27)\n",
    "            labels = labels.view(-1)\n",
    "            loss += criterion(output, labels).item()\n",
    "            y_true += labels.tolist()\n",
    "            y_pred += torch.argmax(output, 1).tolist()\n",
    "    accuracy = (np.array(y_true) == np.array(y_pred)).mean()\n",
    "    macro_f1 = f1_score(y_true, y_pred, average='macro')\n",
    "    return accuracy, macro_f1, loss"
   ]
  },
  {
   "cell_type": "code",
   "execution_count": 192,
   "metadata": {},
   "outputs": [],
   "source": [
    "def train_model(model, train_dataloader, val_dataloader, criterion, optimizer, model_config):\n",
    "    wandb.define_metric('epoch')\n",
    "    wandb.define_metric('minibatch_epoch')\n",
    "    wandb.define_metric('train_loss', step_metric='epoch')\n",
    "    wandb.define_metric('val_loss', step_metric='epoch')    \n",
    "    wandb.define_metric('train_f1', step_metric='epoch')\n",
    "    wandb.define_metric('val_f1', step_metric='epoch')\n",
    "    wandb.define_metric('train_acc', step_metric='epoch')\n",
    "    wandb.define_metric('val_acc', step_metric='epoch')\n",
    "    wandb.define_metric('minibatch_loss', step_metric='minibatch_epoch')\n",
    "    wandb.define_metric('minibatch_acc', step_metric='minibatch_epoch')\n",
    "    wandb.define_metric('minibatch_f1', step_metric='minibatch_epoch')\n",
    "    minibatch = 0\n",
    "    for epoch in tqdm.tqdm(range(model_config['epochs'])):\n",
    "        model.train()\n",
    "        for i, data in enumerate(train_dataloader, 0):\n",
    "            text, labels = data['text'], data['labels']\n",
    "            optimizer.zero_grad()\n",
    "            outputs, hidden = model(text)\n",
    "            outputs = outputs.view(-1, 27)\n",
    "            labels = labels.view(-1)\n",
    "            loss = criterion(outputs, labels)\n",
    "            loss.backward()\n",
    "            optimizer.step()\n",
    "            y_true = labels.tolist()\n",
    "            y_pred = torch.argmax(outputs, 1).tolist()\n",
    "            minibatch_acc = (np.array(y_true) == np.array(y_pred)).mean()\n",
    "            minibatch_f1 = f1_score(y_true, y_pred, average='weighted')\n",
    "            # logging\n",
    "            log = {}\n",
    "            log[\"minibatch_epoch\"] = minibatch\n",
    "            log[\"minibatch_loss\"] = loss.item()\n",
    "            log[\"minibatch_acc\"] = minibatch_acc\n",
    "            log[\"minibatch_f1\"] = minibatch_f1\n",
    "            wandb.log(log)\n",
    "            minibatch += 1\n",
    "        # logging\n",
    "        accuracy, f1, loss = evaluate_model(model, train_dataloader, criterion)\n",
    "        epoch_log = {}\n",
    "        epoch_log[\"epoch\"] = epoch\n",
    "        epoch_log[\"train_loss\"] = loss\n",
    "        epoch_log[\"train_f1\"] = f1\n",
    "        epoch_log[\"train_acc\"] = accuracy\n",
    "        accuracy, f1, loss = evaluate_model(model, val_dataloader, criterion)\n",
    "        epoch_log[\"val_loss\"] = loss\n",
    "        epoch_log[\"val_f1\"] = f1\n",
    "        epoch_log[\"val_acc\"] = accuracy\n",
    "        wandb.log(epoch_log)\n",
    "    return model"
   ]
  },
  {
   "cell_type": "code",
   "execution_count": 193,
   "metadata": {},
   "outputs": [
    {
     "name": "stderr",
     "output_type": "stream",
     "text": [
      "100%|██████████| 100/100 [41:15<00:00, 24.75s/it]\n"
     ]
    }
   ],
   "source": [
    "model = train_model(model, train_dataloader, val_dataloader, criterion, optimizer, model_config)"
   ]
  },
  {
   "cell_type": "code",
   "execution_count": 196,
   "metadata": {},
   "outputs": [],
   "source": [
    "def evaluation(model, dataloader, criterion):\n",
    "    model.eval()\n",
    "    loss = 0\n",
    "    y_true = []\n",
    "    y_pred = []\n",
    "    with torch.no_grad():\n",
    "        for i, data in enumerate(dataloader, 0):\n",
    "            text, labels = data['text'], data['labels']\n",
    "            outputs, hidden = model(text)\n",
    "            outputs = outputs.view(-1, 27)\n",
    "            labels = labels.view(-1)\n",
    "            loss += criterion(outputs, labels).item()\n",
    "            y_true += labels.tolist()\n",
    "            y_pred += torch.argmax(outputs, 1).tolist()\n",
    "    accuracy = (np.array(y_true) == np.array(y_pred)).mean()\n",
    "    precision = precision_score(y_true, y_pred, average='weighted')\n",
    "    macro_f1 = f1_score(y_true, y_pred, average='macro')\n",
    "    from sklearn.metrics import classification_report\n",
    "    classification_report = classification_report(y_true, y_pred)\n",
    "    return accuracy, precision, macro_f1, loss, classification_report"
   ]
  },
  {
   "cell_type": "code",
   "execution_count": 197,
   "metadata": {},
   "outputs": [
    {
     "name": "stdout",
     "output_type": "stream",
     "text": [
      "Test accuracy: 0.9339\n",
      "Test precision: 0.9246\n",
      "Test macro F1: 0.3470\n",
      "Test loss: 8.9133\n",
      "\n",
      "Classification report:\n",
      "              precision    recall  f1-score   support\n",
      "\n",
      "           0       0.96      0.98      0.97     57483\n",
      "           1       0.38      0.17      0.23       276\n",
      "           2       0.29      0.22      0.25       195\n",
      "           3       0.04      0.12      0.06         8\n",
      "           4       0.04      0.14      0.06         7\n",
      "           5       0.20      0.20      0.20         5\n",
      "           6       0.12      0.22      0.15         9\n",
      "           7       0.55      0.42      0.48       177\n",
      "           8       0.82      0.66      0.73      1793\n",
      "           9       0.86      0.75      0.80       222\n",
      "          10       0.63      0.76      0.69       102\n",
      "          11       0.68      0.62      0.65       258\n",
      "          12       0.71      0.66      0.68       439\n",
      "          13       0.66      0.58      0.62       222\n",
      "          14       0.60      0.50      0.54       383\n",
      "          15       0.22      0.07      0.11        58\n",
      "          16       0.20      0.19      0.19        54\n",
      "          17       0.00      0.00      0.00         9\n",
      "          18       0.06      0.09      0.07        11\n",
      "          19       0.68      0.21      0.33       183\n",
      "          20       0.00      0.00      0.00        47\n",
      "          21       0.41      0.17      0.24       121\n",
      "          22       0.51      0.35      0.42       344\n",
      "          23       0.17      0.05      0.08       159\n",
      "          24       0.17      0.14      0.15       310\n",
      "          25       0.34      0.22      0.27       178\n",
      "          26       0.47      0.36      0.40       326\n",
      "\n",
      "    accuracy                           0.93     63379\n",
      "   macro avg       0.40      0.33      0.35     63379\n",
      "weighted avg       0.92      0.93      0.93     63379\n",
      "\n"
     ]
    },
    {
     "name": "stderr",
     "output_type": "stream",
     "text": [
      "c:\\Users\\saras\\miniconda3\\envs\\nlp\\Lib\\site-packages\\sklearn\\metrics\\_classification.py:1509: UndefinedMetricWarning: Precision is ill-defined and being set to 0.0 in labels with no predicted samples. Use `zero_division` parameter to control this behavior.\n",
      "  _warn_prf(average, modifier, f\"{metric.capitalize()} is\", len(result))\n",
      "c:\\Users\\saras\\miniconda3\\envs\\nlp\\Lib\\site-packages\\sklearn\\metrics\\_classification.py:1509: UndefinedMetricWarning: Precision is ill-defined and being set to 0.0 in labels with no predicted samples. Use `zero_division` parameter to control this behavior.\n",
      "  _warn_prf(average, modifier, f\"{metric.capitalize()} is\", len(result))\n",
      "c:\\Users\\saras\\miniconda3\\envs\\nlp\\Lib\\site-packages\\sklearn\\metrics\\_classification.py:1509: UndefinedMetricWarning: Precision is ill-defined and being set to 0.0 in labels with no predicted samples. Use `zero_division` parameter to control this behavior.\n",
      "  _warn_prf(average, modifier, f\"{metric.capitalize()} is\", len(result))\n",
      "c:\\Users\\saras\\miniconda3\\envs\\nlp\\Lib\\site-packages\\sklearn\\metrics\\_classification.py:1509: UndefinedMetricWarning: Precision is ill-defined and being set to 0.0 in labels with no predicted samples. Use `zero_division` parameter to control this behavior.\n",
      "  _warn_prf(average, modifier, f\"{metric.capitalize()} is\", len(result))\n"
     ]
    }
   ],
   "source": [
    "accuracy, precision, macro_f1, loss, classification_report = evaluation(model, test_dataloader, criterion)\n",
    "print(f\"Test accuracy: {accuracy:.4f}\\nTest precision: {precision:.4f}\\nTest macro F1: {macro_f1:.4f}\\nTest loss: {loss:.4f}\\n\")\n",
    "print(f\"Classification report:\\n{classification_report}\")\n",
    "wandb.log({\"Test accuracy\": accuracy, \"Test precision\": precision, \"Test macro F1\": macro_f1, \"Test loss\": loss})"
   ]
  },
  {
   "cell_type": "code",
   "execution_count": 198,
   "metadata": {},
   "outputs": [
    {
     "data": {
      "text/html": [
       "<style>\n",
       "    table.wandb td:nth-child(1) { padding: 0 10px; text-align: left ; width: auto;} td:nth-child(2) {text-align: left ; width: 100%}\n",
       "    .wandb-row { display: flex; flex-direction: row; flex-wrap: wrap; justify-content: flex-start; width: 100% }\n",
       "    .wandb-col { display: flex; flex-direction: column; flex-basis: 100%; flex: 1; padding: 10px; }\n",
       "    </style>\n",
       "<div class=\"wandb-row\"><div class=\"wandb-col\"><h3>Run history:</h3><br/><table class=\"wandb\"><tr><td>Test accuracy</td><td>▁</td></tr><tr><td>Test loss</td><td>▁</td></tr><tr><td>Test macro F1</td><td>▁</td></tr><tr><td>Test precision</td><td>▁</td></tr><tr><td>epoch</td><td>▁▁▁▁▂▂▂▂▂▃▃▃▃▃▃▄▄▄▄▄▅▅▅▅▅▅▆▆▆▆▆▇▇▇▇▇▇███</td></tr><tr><td>minibatch_acc</td><td>▂▁▄▃▄▆▅▃▅▄▅▇▃▆▆▄▄▄▅▆▅▆▅▅▅▆▅▆▇█▁▇▅▆▃▆▆▇▆▆</td></tr><tr><td>minibatch_epoch</td><td>▁▁▁▂▂▂▂▂▂▃▃▃▃▃▃▄▄▄▄▄▅▅▅▅▅▅▆▆▆▆▆▇▇▇▇▇▇███</td></tr><tr><td>minibatch_f1</td><td>▂▁▄▃▅▆▅▄▆▅▅▇▄▇▆▅▅▅▆▇▆▆▆▆▅▇▅▆▇█▂▇▆▇▅▇▇▇▇▆</td></tr><tr><td>minibatch_loss</td><td>█▇▅▅▄▃▄▄▄▅▄▂▅▃▂▄▃▄▃▂▃▃▃▃▃▃▃▂▂▁▇▂▃▃▃▂▂▂▂▂</td></tr><tr><td>train_acc</td><td>▁▂▃▄▄▅▅▃▅▅▅▆▆▆▆▆▆▆▇▇▇▇▇▇▇█▇▆██▅▆▆▇▇▇▇███</td></tr><tr><td>train_f1</td><td>▁▂▃▃▄▄▅▄▄▅▅▆▅▆▆▆▆▇▇▇▇▇▇▇▇█▇▆██▅▆▇▇▇▇████</td></tr><tr><td>train_loss</td><td>█▆▄▄▄▄▃▅▃▃▃▃▂▂▂▂▂▂▂▂▂▂▂▁▂▁▁▃▁▁▃▂▂▂▁▁▁▁▁▁</td></tr><tr><td>val_acc</td><td>▁▄▆▆▇▇▇▅▇████████▇▇▇▇▇▇▇▆▇▆▇▇▆▇▇▆▇▆▇▆▆▆▆</td></tr><tr><td>val_f1</td><td>▁▂▄▄▅▅▆▅▆▇▇█▇██▇██████▇████▆██▇▇▇██▇████</td></tr><tr><td>val_loss</td><td>█▄▃▃▂▂▁▃▂▁▁▁▁▁▁▁▁▁▁▁▂▂▂▂▂▂▂▄▂▂▂▂▂▂▂▃▃▃▃▃</td></tr></table><br/></div><div class=\"wandb-col\"><h3>Run summary:</h3><br/><table class=\"wandb\"><tr><td>Test accuracy</td><td>0.93391</td></tr><tr><td>Test loss</td><td>8.91332</td></tr><tr><td>Test macro F1</td><td>0.347</td></tr><tr><td>Test precision</td><td>0.92459</td></tr><tr><td>epoch</td><td>99</td></tr><tr><td>minibatch_acc</td><td>0.96491</td></tr><tr><td>minibatch_epoch</td><td>25099</td></tr><tr><td>minibatch_f1</td><td>0.95909</td></tr><tr><td>minibatch_loss</td><td>0.13203</td></tr><tr><td>train_acc</td><td>0.96692</td></tr><tr><td>train_f1</td><td>0.58321</td></tr><tr><td>train_loss</td><td>29.30154</td></tr><tr><td>val_acc</td><td>0.93904</td></tr><tr><td>val_f1</td><td>0.38179</td></tr><tr><td>val_loss</td><td>12.36043</td></tr></table><br/></div></div>"
      ],
      "text/plain": [
       "<IPython.core.display.HTML object>"
      ]
     },
     "metadata": {},
     "output_type": "display_data"
    },
    {
     "data": {
      "text/html": [
       " View run <strong style=\"color:#cdcd00\">vibrant-lake-22</strong> at: <a href='https://wandb.ai/nlp-assignments/assignment-2/runs/f0z7yo2y' target=\"_blank\">https://wandb.ai/nlp-assignments/assignment-2/runs/f0z7yo2y</a><br/>Synced 6 W&B file(s), 0 media file(s), 0 artifact file(s) and 0 other file(s)"
      ],
      "text/plain": [
       "<IPython.core.display.HTML object>"
      ]
     },
     "metadata": {},
     "output_type": "display_data"
    },
    {
     "data": {
      "text/html": [
       "Find logs at: <code>.\\wandb\\run-20240310_022221-f0z7yo2y\\logs</code>"
      ],
      "text/plain": [
       "<IPython.core.display.HTML object>"
      ]
     },
     "metadata": {},
     "output_type": "display_data"
    }
   ],
   "source": [
    "wandb.finish()"
   ]
  },
  {
   "cell_type": "code",
   "execution_count": 199,
   "metadata": {},
   "outputs": [],
   "source": [
    "# saving the model\n",
    "torch.save(model.state_dict(), 'RNN_GloVe_Task1_Exp1.pth')"
   ]
  },
  {
   "cell_type": "code",
   "execution_count": null,
   "metadata": {},
   "outputs": [],
   "source": []
  }
 ],
 "metadata": {
  "kernelspec": {
   "display_name": "visiongpu",
   "language": "python",
   "name": "python3"
  },
  "language_info": {
   "codemirror_mode": {
    "name": "ipython",
    "version": 3
   },
   "file_extension": ".py",
   "mimetype": "text/x-python",
   "name": "python",
   "nbconvert_exporter": "python",
   "pygments_lexer": "ipython3",
   "version": "3.12.2"
  }
 },
 "nbformat": 4,
 "nbformat_minor": 2
}
